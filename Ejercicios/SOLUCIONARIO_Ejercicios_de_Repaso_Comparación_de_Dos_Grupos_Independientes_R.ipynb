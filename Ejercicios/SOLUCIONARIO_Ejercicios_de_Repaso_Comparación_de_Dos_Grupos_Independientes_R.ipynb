{
  "nbformat": 4,
  "nbformat_minor": 0,
  "metadata": {
    "colab": {
      "provenance": [],
      "toc_visible": true
    },
    "kernelspec": {
      "name": "ir",
      "display_name": "R"
    },
    "language_info": {
      "name": "R"
    }
  },
  "cells": [
    {
      "cell_type": "markdown",
      "source": [
        "# **Ejercicios de Repaso**\n",
        "## Comparación de Dos Grupos Independientes"
      ],
      "metadata": {
        "id": "9bLRxwBsFoHf"
      }
    },
    {
      "cell_type": "markdown",
      "source": [
        "Un grupo de investigación en desarrollo integral está interesado en trabajar la relación entre la motivación intrínseca y la autoeficacia académica. Para ello, encuestan a un grupo de estudiantes de cuarto a quinto de secundaria de un colegio privado en Jesús María."
      ],
      "metadata": {
        "id": "_EnleOqfF2e6"
      }
    },
    {
      "cell_type": "code",
      "execution_count": null,
      "metadata": {
        "colab": {
          "base_uri": "https://localhost:8080/"
        },
        "id": "ZOJ1lxdgFaOz",
        "outputId": "2e642b4b-a8b6-4bba-f128-05fcece75d7d",
        "cellView": "form"
      },
      "outputs": [
        {
          "output_type": "stream",
          "name": "stderr",
          "text": [
            "Installing packages into ‘/usr/local/lib/R/site-library’\n",
            "(as ‘lib’ is unspecified)\n",
            "\n"
          ]
        }
      ],
      "source": [
        "# @title Instalar y cargar librerías\n",
        "install.packages(c(\"rstatix\", \"skimr\", \"coin\"))\n",
        "\n",
        "library(tidyverse)\n",
        "library(rstatix)"
      ]
    },
    {
      "cell_type": "code",
      "source": [
        "# @title Cargar conjunto de datos\n",
        "library(haven)\n",
        "\n",
        "df = read_sav(\"https://github.com/renatoparedes/INEE/raw/main/Ejercicios/Base%20-%20Ejercicios%20Comparaci%C3%B3n%20de%202%20grupos.sav\")\n",
        "\n",
        "#print(\"Ten en cuenta que la base de datos de este ejercicio se denomina 'df'\")\n",
        "#df %>% print(n = 10)"
      ],
      "metadata": {
        "cellView": "form",
        "id": "5sL7cK9mHCjs"
      },
      "execution_count": null,
      "outputs": []
    },
    {
      "cell_type": "markdown",
      "source": [
        "La base de datos se llama \"df\". Esta conformada por las siguientes variables:\n",
        "\n",
        "|Variables|Nombre|Tipo|Etiquetas\n",
        "|---|---|---|---\n",
        "Caso|-|-|-\n",
        "TipoDoc|Tipo de Docente|Cualitativa Nominal|Docente con clases ordinales (1), Docente con clases gamificadas (2)\n",
        "NSE|Nive Socioeconómico|Cualitativa Ordinal|C (1) y A (2)\n",
        "Salón|Salón de clases|Cualitativa Ordinal|4to (1) y 5to (2)\n",
        "MoInt|Motivación Intrínseca|Cuantitativa Continua|-\n",
        "AutoAc|Autoeficacia Aadémica|Cuantitativa Continua|-"
      ],
      "metadata": {
        "id": "N3rovM8zkuTl"
      }
    },
    {
      "cell_type": "code",
      "source": [
        "df %>% print(n = 10) # Veamos los primeros 10 casos"
      ],
      "metadata": {
        "colab": {
          "base_uri": "https://localhost:8080/"
        },
        "id": "932Lvk9Fl6vm",
        "outputId": "99a1cbd6-8c60-4a07-9604-5c4def614077"
      },
      "execution_count": null,
      "outputs": [
        {
          "output_type": "stream",
          "name": "stdout",
          "text": [
            "\u001b[90m# A tibble: 640 × 6\u001b[39m\n",
            "    Caso TipoDoc                            NSE       Salón     MotInt AutoAc\n",
            "   \u001b[3m\u001b[90m<dbl>\u001b[39m\u001b[23m \u001b[3m\u001b[90m<dbl+lbl>\u001b[39m\u001b[23m                          \u001b[3m\u001b[90m<dbl+lbl>\u001b[39m\u001b[23m \u001b[3m\u001b[90m<dbl+lbl>\u001b[39m\u001b[23m  \u001b[3m\u001b[90m<dbl>\u001b[39m\u001b[23m  \u001b[3m\u001b[90m<dbl>\u001b[39m\u001b[23m\n",
            "\u001b[90m 1\u001b[39m     1 1\u001b[90m [Docente con clases ordinales]\u001b[39m   1\u001b[90m [C]\u001b[39m     1\u001b[90m [4to]\u001b[39m       19     21\n",
            "\u001b[90m 2\u001b[39m     2 2\u001b[90m [Docente con clases gamificadas]\u001b[39m 1\u001b[90m [C]\u001b[39m     1\u001b[90m [4to]\u001b[39m       19     20\n",
            "\u001b[90m 3\u001b[39m     3 1\u001b[90m [Docente con clases ordinales]\u001b[39m   2\u001b[90m [A]\u001b[39m     1\u001b[90m [4to]\u001b[39m       21     22\n",
            "\u001b[90m 4\u001b[39m     4 2\u001b[90m [Docente con clases gamificadas]\u001b[39m 2\u001b[90m [A]\u001b[39m     1\u001b[90m [4to]\u001b[39m       20     21\n",
            "\u001b[90m 5\u001b[39m     5 1\u001b[90m [Docente con clases ordinales]\u001b[39m   1\u001b[90m [C]\u001b[39m     2\u001b[90m [5to]\u001b[39m       17     21\n",
            "\u001b[90m 6\u001b[39m     6 2\u001b[90m [Docente con clases gamificadas]\u001b[39m 1\u001b[90m [C]\u001b[39m     2\u001b[90m [5to]\u001b[39m       19     20\n",
            "\u001b[90m 7\u001b[39m     7 1\u001b[90m [Docente con clases ordinales]\u001b[39m   2\u001b[90m [A]\u001b[39m     2\u001b[90m [5to]\u001b[39m       18     21\n",
            "\u001b[90m 8\u001b[39m     8 2\u001b[90m [Docente con clases gamificadas]\u001b[39m 2\u001b[90m [A]\u001b[39m     2\u001b[90m [5to]\u001b[39m       21     20\n",
            "\u001b[90m 9\u001b[39m     9 1\u001b[90m [Docente con clases ordinales]\u001b[39m   1\u001b[90m [C]\u001b[39m     1\u001b[90m [4to]\u001b[39m       17     21\n",
            "\u001b[90m10\u001b[39m    10 2\u001b[90m [Docente con clases gamificadas]\u001b[39m 1\u001b[90m [C]\u001b[39m     1\u001b[90m [4to]\u001b[39m       20     22\n",
            "\u001b[90m# ℹ 630 more rows\u001b[39m\n"
          ]
        }
      ]
    },
    {
      "cell_type": "markdown",
      "source": [
        "## Ejercicio 1"
      ],
      "metadata": {
        "id": "jvpZn3WfydfA"
      }
    },
    {
      "cell_type": "markdown",
      "source": [
        "A partir de la revisión bibliográfica, que da soporte a sus objetivos específicos, los integrantes del grupo de investigación creen que podría haber diferencias en el nivel de motivación intrínseca según las estrategias de dictado de los docentes. Así, creen que aquellos estudiantes que trabajen con un docente que fomenta el uso de actividades gamificadas en clase tendrán un mayor nivel de motivación intrínseca que aquellos que no cursan con estos docentes."
      ],
      "metadata": {
        "id": "tM5HWEWnGr1K"
      }
    },
    {
      "cell_type": "markdown",
      "source": [
        "1. En primer lugar, tenemos que definir las variables de estudio.\n",
        "\n",
        "Variables|Tipo|Grupos\n",
        "---|---|---\n",
        "Motivación Intrínseca|Cuantitativa|-\n",
        "Estrategias de dictado|Cualitativa|Gamificado (G) y No Gamificado (NG)\n",
        "\n",
        "2. Luego de entender las variables que tenemos en el estudio, necesitamos plantear las hipótesis.\n",
        "\n",
        "$HT$: Se cree que aquellos estudiantes que trabajen con un docente que fomente el uso de actividades gamificadas en clase tendrán un mayor nivel de motivación intrínseca que aquellos que no cursan con estos docentes.\n",
        "\n",
        "- $H_{0}: \\mu_{G} = \\mu_{NG}$\n",
        "- $H_{1}: \\mu_{G} > \\mu_{NG} (unilateral)$\n",
        "\n",
        "3. Ahora que tenemos estos elementos, necesitamos evaluar la normalidad a fin de determinar si vamos ha hacer una prueba t de Student o U de Mann-Whitney."
      ],
      "metadata": {
        "id": "8NcGvKV_Lor6"
      }
    },
    {
      "cell_type": "code",
      "source": [
        "df %>%\n",
        "group_by(TipoDoc) %>%\n",
        "shapiro_test(MotInt)"
      ],
      "metadata": {
        "id": "3os53BOhG7I3",
        "colab": {
          "base_uri": "https://localhost:8080/",
          "height": 161
        },
        "outputId": "d68edf20-e873-420c-d010-2ab6a18f5f00"
      },
      "execution_count": null,
      "outputs": [
        {
          "output_type": "display_data",
          "data": {
            "text/html": [
              "<table class=\"dataframe\">\n",
              "<caption>A tibble: 2 × 4</caption>\n",
              "<thead>\n",
              "\t<tr><th scope=col>TipoDoc</th><th scope=col>variable</th><th scope=col>statistic</th><th scope=col>p</th></tr>\n",
              "\t<tr><th scope=col>&lt;dbl+lbl&gt;</th><th scope=col>&lt;chr&gt;</th><th scope=col>&lt;dbl&gt;</th><th scope=col>&lt;dbl&gt;</th></tr>\n",
              "</thead>\n",
              "<tbody>\n",
              "\t<tr><td>1</td><td>MotInt</td><td>0.95294</td><td>0.000000013294</td></tr>\n",
              "\t<tr><td>2</td><td>MotInt</td><td>0.96658</td><td>0.000000983946</td></tr>\n",
              "</tbody>\n",
              "</table>\n"
            ],
            "text/markdown": "\nA tibble: 2 × 4\n\n| TipoDoc &lt;dbl+lbl&gt; | variable &lt;chr&gt; | statistic &lt;dbl&gt; | p &lt;dbl&gt; |\n|---|---|---|---|\n| 1 | MotInt | 0.95294 | 0.000000013294 |\n| 2 | MotInt | 0.96658 | 0.000000983946 |\n\n",
            "text/latex": "A tibble: 2 × 4\n\\begin{tabular}{llll}\n TipoDoc & variable & statistic & p\\\\\n <dbl+lbl> & <chr> & <dbl> & <dbl>\\\\\n\\hline\n\t 1 & MotInt & 0.95294 & 0.000000013294\\\\\n\t 2 & MotInt & 0.96658 & 0.000000983946\\\\\n\\end{tabular}\n",
            "text/plain": [
              "  TipoDoc variable statistic p             \n",
              "1 1       MotInt   0.95294   0.000000013294\n",
              "2 2       MotInt   0.96658   0.000000983946"
            ]
          },
          "metadata": {}
        }
      ]
    },
    {
      "cell_type": "markdown",
      "source": [
        "$Hipótesis\\ de\\ normalidad$\n",
        "\n",
        "- $H_{0}: hay\\ normalidad$\n",
        "- $H_{1}: No\\ hay\\ normalidad$\n",
        "\n",
        "**Regla de decisión: Si el valor *p* es menor a .05, se rechaza la H0.**\n",
        "\n",
        "Todos los valores *p* son menores a .05, por lo que se rechaza la H0.\n",
        "\n",
        "***Conclusión:***\n",
        "A partir de la prueba de normalidad de Shapiro-Wilk, se observa que no existe una distribución normal tanto en el grupo de docentes que no gamifica su clase, $SW = .95, p < .001 $, como en el grupo donde se gamifica la clase, $SW = .97, p < .001 $. Por todo ello, se realizará la prueba no paramétrica para comparación de dos grupos de U de Mann-Whitney."
      ],
      "metadata": {
        "id": "rzQIIuM5m7li"
      }
    },
    {
      "cell_type": "markdown",
      "source": [
        "4. Luego de determinar la normalidad, pasamos a evaluar las diferencias entre los grupos por medio del análisis correspondiente."
      ],
      "metadata": {
        "id": "IYzEuDsxq9RM"
      }
    },
    {
      "cell_type": "code",
      "source": [
        "df %>%\n",
        "  wilcox_test(MotInt ~ TipoDoc, paired = F)"
      ],
      "metadata": {
        "colab": {
          "base_uri": "https://localhost:8080/",
          "height": 129
        },
        "id": "VK8pQvHcmoTU",
        "outputId": "a8fc865e-5f44-462d-bc6f-6e8b143adccf"
      },
      "execution_count": null,
      "outputs": [
        {
          "output_type": "display_data",
          "data": {
            "text/html": [
              "<table class=\"dataframe\">\n",
              "<caption>A rstatix_test: 1 × 7</caption>\n",
              "<thead>\n",
              "\t<tr><th></th><th scope=col>.y.</th><th scope=col>group1</th><th scope=col>group2</th><th scope=col>n1</th><th scope=col>n2</th><th scope=col>statistic</th><th scope=col>p</th></tr>\n",
              "\t<tr><th></th><th scope=col>&lt;chr&gt;</th><th scope=col>&lt;chr&gt;</th><th scope=col>&lt;chr&gt;</th><th scope=col>&lt;int&gt;</th><th scope=col>&lt;int&gt;</th><th scope=col>&lt;dbl&gt;</th><th scope=col>&lt;dbl&gt;</th></tr>\n",
              "</thead>\n",
              "<tbody>\n",
              "\t<tr><th scope=row>1</th><td>MotInt</td><td>1</td><td>2</td><td>320</td><td>320</td><td>21346</td><td>0.0000000000000000000000000000000000000271</td></tr>\n",
              "</tbody>\n",
              "</table>\n"
            ],
            "text/markdown": "\nA rstatix_test: 1 × 7\n\n| <!--/--> | .y. &lt;chr&gt; | group1 &lt;chr&gt; | group2 &lt;chr&gt; | n1 &lt;int&gt; | n2 &lt;int&gt; | statistic &lt;dbl&gt; | p &lt;dbl&gt; |\n|---|---|---|---|---|---|---|---|\n| 1 | MotInt | 1 | 2 | 320 | 320 | 21346 | 0.0000000000000000000000000000000000000271 |\n\n",
            "text/latex": "A rstatix\\_test: 1 × 7\n\\begin{tabular}{r|lllllll}\n  & .y. & group1 & group2 & n1 & n2 & statistic & p\\\\\n  & <chr> & <chr> & <chr> & <int> & <int> & <dbl> & <dbl>\\\\\n\\hline\n\t1 & MotInt & 1 & 2 & 320 & 320 & 21346 & 0.0000000000000000000000000000000000000271\\\\\n\\end{tabular}\n",
            "text/plain": [
              "  .y.    group1 group2 n1  n2  statistic\n",
              "1 MotInt 1      2      320 320 21346    \n",
              "  p                                         \n",
              "1 0.0000000000000000000000000000000000000271"
            ]
          },
          "metadata": {}
        }
      ]
    },
    {
      "cell_type": "markdown",
      "source": [
        "**Dado que es un contraste unilateral. Tenemos que dividir entre 2 el valor *p*.** Dicho esto, dado que el valor *p* es tan pequeño podemos concluir lo siguiente .000/2 = .000.\n",
        "\n",
        "Así, se observa que el valor *p* es menor que .05 por lo que se rechaza la H0 del ejercicio.\n",
        "\n",
        "5. Ahora, es necesario determinar <u>*que grupo tiene el mayor nivel de la variable*</u>. Para esto, y dado que estamos en el contexto de un contraste paramétrico, observaremos las medianas."
      ],
      "metadata": {
        "id": "6VUqnfTisnwp"
      }
    },
    {
      "cell_type": "code",
      "source": [
        "df %>%\n",
        "  group_by(TipoDoc) %>%\n",
        "  summarise(median = median(MotInt),\n",
        "            IQR = IQR(MotInt))"
      ],
      "metadata": {
        "colab": {
          "base_uri": "https://localhost:8080/",
          "height": 161
        },
        "id": "o-RM89URq8lj",
        "outputId": "54bb763f-aaa1-4337-fadd-dbbdb5d0ca4c"
      },
      "execution_count": null,
      "outputs": [
        {
          "output_type": "display_data",
          "data": {
            "text/html": [
              "<table class=\"dataframe\">\n",
              "<caption>A tibble: 2 × 3</caption>\n",
              "<thead>\n",
              "\t<tr><th scope=col>TipoDoc</th><th scope=col>median</th><th scope=col>IQR</th></tr>\n",
              "\t<tr><th scope=col>&lt;dbl+lbl&gt;</th><th scope=col>&lt;dbl&gt;</th><th scope=col>&lt;dbl&gt;</th></tr>\n",
              "</thead>\n",
              "<tbody>\n",
              "\t<tr><td>1</td><td>18.5</td><td>2</td></tr>\n",
              "\t<tr><td>2</td><td>20.0</td><td>3</td></tr>\n",
              "</tbody>\n",
              "</table>\n"
            ],
            "text/markdown": "\nA tibble: 2 × 3\n\n| TipoDoc &lt;dbl+lbl&gt; | median &lt;dbl&gt; | IQR &lt;dbl&gt; |\n|---|---|---|\n| 1 | 18.5 | 2 |\n| 2 | 20.0 | 3 |\n\n",
            "text/latex": "A tibble: 2 × 3\n\\begin{tabular}{lll}\n TipoDoc & median & IQR\\\\\n <dbl+lbl> & <dbl> & <dbl>\\\\\n\\hline\n\t 1 & 18.5 & 2\\\\\n\t 2 & 20.0 & 3\\\\\n\\end{tabular}\n",
            "text/plain": [
              "  TipoDoc median IQR\n",
              "1 1       18.5   2  \n",
              "2 2       20.0   3  "
            ]
          },
          "metadata": {}
        }
      ]
    },
    {
      "cell_type": "markdown",
      "source": [
        "Según las medianas, el grupo de mayor nivel es el 2 que, según lo mencionado previamente, sería el grupo que tuvo las clases gamificadas. Dado que esto va de acorde a lo planteado en la H1 podemos inferir que aceptamos esta hipótesis alterna."
      ],
      "metadata": {
        "id": "9-xDF-klvjzs"
      }
    },
    {
      "cell_type": "markdown",
      "source": [
        "6. Determinar la magnitud del efecto.\n",
        "\n",
        "Si bien ya conocemos que existen diferencias y el grupo de mayor nivel, es importante poder determinar si estas diferencias son relevantes. Para el caso de la prueba no paramétrica de U de Mann-Whitney se debe usar el estadístico de $r\\ de\\ Rosenthal$ para evaluar la magnitud."
      ],
      "metadata": {
        "id": "Oj2jJRXVxdoh"
      }
    },
    {
      "cell_type": "code",
      "source": [
        "df %>%\n",
        "  wilcox_effsize(MotInt ~ TipoDoc, paired = F)"
      ],
      "metadata": {
        "colab": {
          "base_uri": "https://localhost:8080/",
          "height": 129
        },
        "id": "TF1KQ_qRxxEC",
        "outputId": "e5067869-1da4-4469-a66b-f3d81bcc1043"
      },
      "execution_count": null,
      "outputs": [
        {
          "output_type": "display_data",
          "data": {
            "text/html": [
              "<table class=\"dataframe\">\n",
              "<caption>A rstatix_test: 1 × 7</caption>\n",
              "<thead>\n",
              "\t<tr><th></th><th scope=col>.y.</th><th scope=col>group1</th><th scope=col>group2</th><th scope=col>effsize</th><th scope=col>n1</th><th scope=col>n2</th><th scope=col>magnitude</th></tr>\n",
              "\t<tr><th></th><th scope=col>&lt;chr&gt;</th><th scope=col>&lt;chr&gt;</th><th scope=col>&lt;chr&gt;</th><th scope=col>&lt;dbl&gt;</th><th scope=col>&lt;int&gt;</th><th scope=col>&lt;int&gt;</th><th scope=col>&lt;ord&gt;</th></tr>\n",
              "</thead>\n",
              "<tbody>\n",
              "\t<tr><th scope=row>1</th><td>MotInt</td><td>1</td><td>2</td><td>0.51147</td><td>320</td><td>320</td><td>large</td></tr>\n",
              "</tbody>\n",
              "</table>\n"
            ],
            "text/markdown": "\nA rstatix_test: 1 × 7\n\n| <!--/--> | .y. &lt;chr&gt; | group1 &lt;chr&gt; | group2 &lt;chr&gt; | effsize &lt;dbl&gt; | n1 &lt;int&gt; | n2 &lt;int&gt; | magnitude &lt;ord&gt; |\n|---|---|---|---|---|---|---|---|\n| 1 | MotInt | 1 | 2 | 0.51147 | 320 | 320 | large |\n\n",
            "text/latex": "A rstatix\\_test: 1 × 7\n\\begin{tabular}{r|lllllll}\n  & .y. & group1 & group2 & effsize & n1 & n2 & magnitude\\\\\n  & <chr> & <chr> & <chr> & <dbl> & <int> & <int> & <ord>\\\\\n\\hline\n\t1 & MotInt & 1 & 2 & 0.51147 & 320 & 320 & large\\\\\n\\end{tabular}\n",
            "text/plain": [
              "  .y.    group1 group2 effsize n1  n2  magnitude\n",
              "1 MotInt 1      2      0.51147 320 320 large    "
            ]
          },
          "metadata": {}
        }
      ]
    },
    {
      "cell_type": "markdown",
      "source": [
        "A partir del criterio para evaluar la $r\\ de\\ Rosenthal$ se observa que existe una magnitud de la diferencia grande."
      ],
      "metadata": {
        "id": "AHnQiQBryD4z"
      }
    },
    {
      "cell_type": "markdown",
      "source": [
        "7. Conclusión\n",
        "\n",
        "A partir de la prueba U de Mann-Whitney, se observa que existen diferencias estadísticamente significas en el nivel de motivación intrínseca según las estrategias de dictado, $U = 21346, p < .001$. Específicamente, se encontró que el grupo cuyas clases eran gamificadas ($Mdn = 20$) tenían un mayor nivel de motivación que el grupo que no tenía clases gamificadas ($Mdn = 18.5$). La magnitud de esta diferencia es grande, $r\\ de\\ Rosenthal = .51$."
      ],
      "metadata": {
        "id": "OgvJbq9-wXRQ"
      }
    },
    {
      "cell_type": "markdown",
      "source": [
        "## Ejercicio 2"
      ],
      "metadata": {
        "id": "GA1VkU0Nyhz9"
      }
    },
    {
      "cell_type": "markdown",
      "source": [
        "Paralelamente, la literatura no es muy clara en tanto a si la motivación intrínseca varía según el nivel socioeconómico. Si bien se han encontrado diferencias en algunos trabajos, estas diferencias parecen tenues y contradichas con estudios mas recientes. No obstante, el grupo de investigación desea indagar en sí habría algún tipo de diferencias en el grupo encuestado."
      ],
      "metadata": {
        "id": "GOkCYNiwGyWS"
      }
    },
    {
      "cell_type": "markdown",
      "source": [
        "1. En primer lugar, tenemos que definir las variables de estudio.\n",
        "\n",
        "Variables|Tipo|Grupos\n",
        "---|---|---\n",
        "Motivación Intrínseca|Cuantitativa|-\n",
        "Nivel Socioeconómico|Cualitativa|A y C\n",
        "\n",
        "2. Luego de entender las variables que tenemos en el estudio, necesitamos plantear las hipótesis.\n",
        "\n",
        "$HT$: Se cree que habrían diferencias en el nivel de motivación intrínseca según el nivel socioeconómico.\n",
        "\n",
        "- $H_{0}: \\mu_{A} = \\mu_{C}$\n",
        "- $H_{1}: \\mu_{A} \\neq \\mu_{C} (bilateral)$\n",
        "\n",
        "3. Ahora que tenemos estos elementos, necesitamos evaluar la normalidad a fin de determinar si vamos ha hacer una prueba t de Student o U de Mann-Whitney."
      ],
      "metadata": {
        "id": "UR48h-P0LNMK"
      }
    },
    {
      "cell_type": "code",
      "source": [
        "df %>%\n",
        "  group_by(NSE) %>%\n",
        "  shapiro_test(MotInt)"
      ],
      "metadata": {
        "id": "L7k2rMn0Wviy",
        "outputId": "f07ae648-ce0d-4305-fade-f90cc380dd56",
        "colab": {
          "base_uri": "https://localhost:8080/",
          "height": 161
        }
      },
      "execution_count": null,
      "outputs": [
        {
          "output_type": "display_data",
          "data": {
            "text/html": [
              "<table class=\"dataframe\">\n",
              "<caption>A tibble: 2 × 4</caption>\n",
              "<thead>\n",
              "\t<tr><th scope=col>NSE</th><th scope=col>variable</th><th scope=col>statistic</th><th scope=col>p</th></tr>\n",
              "\t<tr><th scope=col>&lt;dbl+lbl&gt;</th><th scope=col>&lt;chr&gt;</th><th scope=col>&lt;dbl&gt;</th><th scope=col>&lt;dbl&gt;</th></tr>\n",
              "</thead>\n",
              "<tbody>\n",
              "\t<tr><td>1</td><td>MotInt</td><td>0.96503</td><td>0.00000057646</td></tr>\n",
              "\t<tr><td>2</td><td>MotInt</td><td>0.95905</td><td>0.00000008229</td></tr>\n",
              "</tbody>\n",
              "</table>\n"
            ],
            "text/markdown": "\nA tibble: 2 × 4\n\n| NSE &lt;dbl+lbl&gt; | variable &lt;chr&gt; | statistic &lt;dbl&gt; | p &lt;dbl&gt; |\n|---|---|---|---|\n| 1 | MotInt | 0.96503 | 0.00000057646 |\n| 2 | MotInt | 0.95905 | 0.00000008229 |\n\n",
            "text/latex": "A tibble: 2 × 4\n\\begin{tabular}{llll}\n NSE & variable & statistic & p\\\\\n <dbl+lbl> & <chr> & <dbl> & <dbl>\\\\\n\\hline\n\t 1 & MotInt & 0.96503 & 0.00000057646\\\\\n\t 2 & MotInt & 0.95905 & 0.00000008229\\\\\n\\end{tabular}\n",
            "text/plain": [
              "  NSE variable statistic p            \n",
              "1 1   MotInt   0.96503   0.00000057646\n",
              "2 2   MotInt   0.95905   0.00000008229"
            ]
          },
          "metadata": {}
        }
      ]
    },
    {
      "cell_type": "markdown",
      "source": [
        "$Hipótesis\\ de\\ normalidad$\n",
        "\n",
        "- $H_{0}: hay\\ normalidad$\n",
        "- $H_{1}: No\\ hay\\ normalidad$\n",
        "\n",
        "**Regla de decisión: Si el valor *p* es menor a .05, se rechaza la H0.**\n",
        "\n",
        "Todos los valores *p* son menores a .05, por lo que se rechaza la H0.\n",
        "\n",
        "***Conclusión:***\n",
        "A partir de la prueba de normalidad de Shapiro-Wilk, se observa que no existe una distribución normal tanto en el grupo que está en el nivel socioeconómico C, $SW = .97, p < .001 $, como en el grupo que se encuentra en el nivel A, $SW = .96, p < .001 $. Por todo ello, se realizará la prueba no paramétrica para comparación de dos grupos de U de Mann-Whitney."
      ],
      "metadata": {
        "id": "p5lHq6ruLNML"
      }
    },
    {
      "cell_type": "markdown",
      "source": [
        "4. Luego de determinar la normalidad, pasamos a evaluar las diferencias entre los grupos por medio del análisis correspondiente."
      ],
      "metadata": {
        "id": "LiZUCTtdLNML"
      }
    },
    {
      "cell_type": "code",
      "source": [
        "df %>%\n",
        "  wilcox_test(MotInt ~ NSE, paired = F)"
      ],
      "metadata": {
        "id": "1gQ_aKQSXzev",
        "outputId": "ad4fb381-0790-44e7-f366-2aa46ee95cec",
        "colab": {
          "base_uri": "https://localhost:8080/",
          "height": 129
        }
      },
      "execution_count": null,
      "outputs": [
        {
          "output_type": "display_data",
          "data": {
            "text/html": [
              "<table class=\"dataframe\">\n",
              "<caption>A rstatix_test: 1 × 7</caption>\n",
              "<thead>\n",
              "\t<tr><th></th><th scope=col>.y.</th><th scope=col>group1</th><th scope=col>group2</th><th scope=col>n1</th><th scope=col>n2</th><th scope=col>statistic</th><th scope=col>p</th></tr>\n",
              "\t<tr><th></th><th scope=col>&lt;chr&gt;</th><th scope=col>&lt;chr&gt;</th><th scope=col>&lt;chr&gt;</th><th scope=col>&lt;int&gt;</th><th scope=col>&lt;int&gt;</th><th scope=col>&lt;dbl&gt;</th><th scope=col>&lt;dbl&gt;</th></tr>\n",
              "</thead>\n",
              "<tbody>\n",
              "\t<tr><th scope=row>1</th><td>MotInt</td><td>1</td><td>2</td><td>320</td><td>320</td><td>35669</td><td>0.0000000000168</td></tr>\n",
              "</tbody>\n",
              "</table>\n"
            ],
            "text/markdown": "\nA rstatix_test: 1 × 7\n\n| <!--/--> | .y. &lt;chr&gt; | group1 &lt;chr&gt; | group2 &lt;chr&gt; | n1 &lt;int&gt; | n2 &lt;int&gt; | statistic &lt;dbl&gt; | p &lt;dbl&gt; |\n|---|---|---|---|---|---|---|---|\n| 1 | MotInt | 1 | 2 | 320 | 320 | 35669 | 0.0000000000168 |\n\n",
            "text/latex": "A rstatix\\_test: 1 × 7\n\\begin{tabular}{r|lllllll}\n  & .y. & group1 & group2 & n1 & n2 & statistic & p\\\\\n  & <chr> & <chr> & <chr> & <int> & <int> & <dbl> & <dbl>\\\\\n\\hline\n\t1 & MotInt & 1 & 2 & 320 & 320 & 35669 & 0.0000000000168\\\\\n\\end{tabular}\n",
            "text/plain": [
              "  .y.    group1 group2 n1  n2  statistic p              \n",
              "1 MotInt 1      2      320 320 35669     0.0000000000168"
            ]
          },
          "metadata": {}
        }
      ]
    },
    {
      "cell_type": "markdown",
      "source": [
        " **Dado que es un contraste bilateral. NO tenemos que dividir entre 2 el valor *p*.** Así, se observa que el valor *p* es menor que .05 por lo que se rechaza la H0 del ejercicio y se acepta la H1, de que existen diferencias entre los grupos.\n",
        "\n",
        "5. Ahora, es necesario determinar <u>*que grupo tiene el mayor nivel de la variable*</u>. Para esto, y dado que estamos en el contexto de un contraste paramétrico, observaremos las medianas."
      ],
      "metadata": {
        "id": "P_GBTQWZLNML"
      }
    },
    {
      "cell_type": "code",
      "source": [
        "df %>%\n",
        "  group_by(NSE) %>%\n",
        "  summarise(median = median(MotInt),\n",
        "            IQR = IQR(MotInt))"
      ],
      "metadata": {
        "id": "5thO606NYpSb",
        "outputId": "f48e68be-c079-4b8e-c84e-c653189d92fe",
        "colab": {
          "base_uri": "https://localhost:8080/",
          "height": 161
        }
      },
      "execution_count": null,
      "outputs": [
        {
          "output_type": "display_data",
          "data": {
            "text/html": [
              "<table class=\"dataframe\">\n",
              "<caption>A tibble: 2 × 3</caption>\n",
              "<thead>\n",
              "\t<tr><th scope=col>NSE</th><th scope=col>median</th><th scope=col>IQR</th></tr>\n",
              "\t<tr><th scope=col>&lt;dbl+lbl&gt;</th><th scope=col>&lt;dbl&gt;</th><th scope=col>&lt;dbl&gt;</th></tr>\n",
              "</thead>\n",
              "<tbody>\n",
              "\t<tr><td>1</td><td>19</td><td>2</td></tr>\n",
              "\t<tr><td>2</td><td>20</td><td>2</td></tr>\n",
              "</tbody>\n",
              "</table>\n"
            ],
            "text/markdown": "\nA tibble: 2 × 3\n\n| NSE &lt;dbl+lbl&gt; | median &lt;dbl&gt; | IQR &lt;dbl&gt; |\n|---|---|---|\n| 1 | 19 | 2 |\n| 2 | 20 | 2 |\n\n",
            "text/latex": "A tibble: 2 × 3\n\\begin{tabular}{lll}\n NSE & median & IQR\\\\\n <dbl+lbl> & <dbl> & <dbl>\\\\\n\\hline\n\t 1 & 19 & 2\\\\\n\t 2 & 20 & 2\\\\\n\\end{tabular}\n",
            "text/plain": [
              "  NSE median IQR\n",
              "1 1   19     2  \n",
              "2 2   20     2  "
            ]
          },
          "metadata": {}
        }
      ]
    },
    {
      "cell_type": "markdown",
      "source": [
        "Según las medianas, el grupo de mayor nivel es el 2 que, según lo mencionado previamente, sería el grupo que pertenece al nivel socioeconómico A."
      ],
      "metadata": {
        "id": "8m2PYLWDLNMM"
      }
    },
    {
      "cell_type": "markdown",
      "source": [
        "6. Determinar la magnitud del efecto.\n",
        "\n",
        "Si bien ya conocemos que existen diferencias y el grupo de mayor nivel, es importante poder determinar si estas diferencias son relevantes. Para el caso de la prueba no paramétrica de U de Mann-Whitney se debe usar el estadístico de $r\\ de\\ Rosenthal$ para evaluar la magnitud."
      ],
      "metadata": {
        "id": "S4PkwjVDLNMM"
      }
    },
    {
      "cell_type": "code",
      "source": [
        "df %>%\n",
        "  wilcox_effsize(MotInt ~ NSE, paired = F)"
      ],
      "metadata": {
        "id": "vDfv8yKKY-eQ",
        "outputId": "796d6f21-aae1-441d-df7f-9826e8f5c579",
        "colab": {
          "base_uri": "https://localhost:8080/",
          "height": 129
        }
      },
      "execution_count": null,
      "outputs": [
        {
          "output_type": "display_data",
          "data": {
            "text/html": [
              "<table class=\"dataframe\">\n",
              "<caption>A rstatix_test: 1 × 7</caption>\n",
              "<thead>\n",
              "\t<tr><th></th><th scope=col>.y.</th><th scope=col>group1</th><th scope=col>group2</th><th scope=col>effsize</th><th scope=col>n1</th><th scope=col>n2</th><th scope=col>magnitude</th></tr>\n",
              "\t<tr><th></th><th scope=col>&lt;chr&gt;</th><th scope=col>&lt;chr&gt;</th><th scope=col>&lt;chr&gt;</th><th scope=col>&lt;dbl&gt;</th><th scope=col>&lt;int&gt;</th><th scope=col>&lt;int&gt;</th><th scope=col>&lt;ord&gt;</th></tr>\n",
              "</thead>\n",
              "<tbody>\n",
              "\t<tr><th scope=row>1</th><td>MotInt</td><td>1</td><td>2</td><td>0.26608</td><td>320</td><td>320</td><td>small</td></tr>\n",
              "</tbody>\n",
              "</table>\n"
            ],
            "text/markdown": "\nA rstatix_test: 1 × 7\n\n| <!--/--> | .y. &lt;chr&gt; | group1 &lt;chr&gt; | group2 &lt;chr&gt; | effsize &lt;dbl&gt; | n1 &lt;int&gt; | n2 &lt;int&gt; | magnitude &lt;ord&gt; |\n|---|---|---|---|---|---|---|---|\n| 1 | MotInt | 1 | 2 | 0.26608 | 320 | 320 | small |\n\n",
            "text/latex": "A rstatix\\_test: 1 × 7\n\\begin{tabular}{r|lllllll}\n  & .y. & group1 & group2 & effsize & n1 & n2 & magnitude\\\\\n  & <chr> & <chr> & <chr> & <dbl> & <int> & <int> & <ord>\\\\\n\\hline\n\t1 & MotInt & 1 & 2 & 0.26608 & 320 & 320 & small\\\\\n\\end{tabular}\n",
            "text/plain": [
              "  .y.    group1 group2 effsize n1  n2  magnitude\n",
              "1 MotInt 1      2      0.26608 320 320 small    "
            ]
          },
          "metadata": {}
        }
      ]
    },
    {
      "cell_type": "markdown",
      "source": [
        "A partir del criterio para evaluar la $r\\ de\\ Rosenthal$ se observa que existe una magnitud de la diferencia pequeña."
      ],
      "metadata": {
        "id": "DDFyj0aYLNMM"
      }
    },
    {
      "cell_type": "markdown",
      "source": [
        "7. Conclusión\n",
        "\n",
        "A partir de la prueba U de Mann-Whitney, se observa que existen diferencias estadísticamente significas en el nivel de motivación intrínseca según el nivel socio económico, $U = 35669, p < .001$. Específicamente, se encontró que el grupo que pertence al nivel socio económico A ($Mdn = 20$) tiene un mayor nivel de motivación que el grupo que pertenece al nivel socio económico C ($Mdn = 19$). La magnitud de esta diferencia es pequeña, $r\\ de\\ Rosenthal = .27$."
      ],
      "metadata": {
        "id": "KkJqiYcALNMM"
      }
    },
    {
      "cell_type": "markdown",
      "source": [
        "## Ejercicio 3"
      ],
      "metadata": {
        "id": "_2nuXVERykbJ"
      }
    },
    {
      "cell_type": "markdown",
      "source": [
        "Finalmente, creen que aquellos estudiantes que tienen un grado mayor en el colegio, tendrían un mejor nivel de motivación intríseca. Distintos estudios apuntan a que el éxito y el logro escolar va de la mano con una mayor interiorización de las tareas y trabajos realizados en el aula. De esta forma, el encontrarse en un grado mayor, los estudiantes estarían evidenciando cierto nivel de autonomía y motivación propia para realizar sus distintos trabajos."
      ],
      "metadata": {
        "id": "4POTAaY_G20O"
      }
    },
    {
      "cell_type": "markdown",
      "source": [
        "1. En primer lugar, tenemos que definir las variables de estudio.\n",
        "\n",
        "Variables|Tipo|Grupos\n",
        "---|---|---\n",
        "Motivación Intrínseca|Cuantitativa|-\n",
        "Salón|Cualitativa|4to y 5to\n",
        "\n",
        "2. Luego de entender las variables que tenemos en el estudio, necesitamos plantear las hipótesis.\n",
        "\n",
        "$HT$: Se cree que aquellos estudiantes que se encuentran en un grado mayor mostrarían un mayor nivel de motivación intrínseca que aquellos que se encuentrnan en un grado menor.\n",
        "\n",
        "- $H_{0}: \\mu_{4to} = \\mu_{5to}$\n",
        "- $H_{1}: \\mu_{4to} < \\mu_{5to} (unilateral)$\n",
        "\n",
        "3. Ahora que tenemos estos elementos, necesitamos evaluar la normalidad a fin de determinar si vamos ha hacer una prueba t de Student o U de Mann-Whitney."
      ],
      "metadata": {
        "id": "9_66mAwnUGrc"
      }
    },
    {
      "cell_type": "code",
      "source": [
        "df %>%\n",
        "  group_by(Salón) %>%\n",
        "  shapiro_test(MotInt)"
      ],
      "metadata": {
        "id": "hjXqS-BPadh8",
        "outputId": "a23475b2-62ee-4d66-d36e-bc778ae6ea69",
        "colab": {
          "base_uri": "https://localhost:8080/",
          "height": 161
        }
      },
      "execution_count": null,
      "outputs": [
        {
          "output_type": "display_data",
          "data": {
            "text/html": [
              "<table class=\"dataframe\">\n",
              "<caption>A tibble: 2 × 4</caption>\n",
              "<thead>\n",
              "\t<tr><th scope=col>Salón</th><th scope=col>variable</th><th scope=col>statistic</th><th scope=col>p</th></tr>\n",
              "\t<tr><th scope=col>&lt;dbl+lbl&gt;</th><th scope=col>&lt;chr&gt;</th><th scope=col>&lt;dbl&gt;</th><th scope=col>&lt;dbl&gt;</th></tr>\n",
              "</thead>\n",
              "<tbody>\n",
              "\t<tr><td>1</td><td>MotInt</td><td>0.93656</td><td>0.00000000018516</td></tr>\n",
              "\t<tr><td>2</td><td>MotInt</td><td>0.95652</td><td>0.00000003800312</td></tr>\n",
              "</tbody>\n",
              "</table>\n"
            ],
            "text/markdown": "\nA tibble: 2 × 4\n\n| Salón &lt;dbl+lbl&gt; | variable &lt;chr&gt; | statistic &lt;dbl&gt; | p &lt;dbl&gt; |\n|---|---|---|---|\n| 1 | MotInt | 0.93656 | 0.00000000018516 |\n| 2 | MotInt | 0.95652 | 0.00000003800312 |\n\n",
            "text/latex": "A tibble: 2 × 4\n\\begin{tabular}{llll}\n Salón & variable & statistic & p\\\\\n <dbl+lbl> & <chr> & <dbl> & <dbl>\\\\\n\\hline\n\t 1 & MotInt & 0.93656 & 0.00000000018516\\\\\n\t 2 & MotInt & 0.95652 & 0.00000003800312\\\\\n\\end{tabular}\n",
            "text/plain": [
              "  Salón variable statistic p               \n",
              "1 1     MotInt   0.93656   0.00000000018516\n",
              "2 2     MotInt   0.95652   0.00000003800312"
            ]
          },
          "metadata": {}
        }
      ]
    },
    {
      "cell_type": "markdown",
      "source": [
        "$Hipótesis\\ de\\ normalidad$\n",
        "\n",
        "- $H_{0}: hay\\ normalidad$\n",
        "- $H_{1}: No\\ hay\\ normalidad$\n",
        "\n",
        "**Regla de decisión: Si el valor *p* es menor a .05, se rechaza la H0.**\n",
        "\n",
        "Todos los valores *p* son menores a .05, por lo que se rechaza la H0.\n",
        "\n",
        "***Conclusión:***\n",
        "A partir de la prueba de normalidad de Shapiro-Wilk, se observa que no existe una distribución normal tanto en los estudiantes que pertenecen a 4to, $SW = .94, p < .001 $, como los que pertenecen a 5to de secundaria, $SW = .96, p < .001 $. Por todo ello, se realizará la prueba no paramétrica para comparación de dos grupos de U de Mann-Whitney."
      ],
      "metadata": {
        "id": "iydKeU9EUGrd"
      }
    },
    {
      "cell_type": "markdown",
      "source": [
        "4. Luego de determinar la normalidad, pasamos a evaluar las diferencias entre los grupos por medio del análisis correspondiente."
      ],
      "metadata": {
        "id": "E6ICGKGdUGre"
      }
    },
    {
      "cell_type": "code",
      "source": [
        "df %>%\n",
        "  wilcox_test(MotInt ~ Salón, paired = F)"
      ],
      "metadata": {
        "id": "mPxWty3Ud7UI",
        "outputId": "5a9ee632-481d-400c-c6ad-d2ca98771d15",
        "colab": {
          "base_uri": "https://localhost:8080/",
          "height": 147
        }
      },
      "execution_count": null,
      "outputs": [
        {
          "output_type": "display_data",
          "data": {
            "text/html": [
              "<table class=\"dataframe\">\n",
              "<caption>A rstatix_test: 1 × 7</caption>\n",
              "<thead>\n",
              "\t<tr><th></th><th scope=col>.y.</th><th scope=col>group1</th><th scope=col>group2</th><th scope=col>n1</th><th scope=col>n2</th><th scope=col>statistic</th><th scope=col>p</th></tr>\n",
              "\t<tr><th></th><th scope=col>&lt;chr&gt;</th><th scope=col>&lt;chr&gt;</th><th scope=col>&lt;chr&gt;</th><th scope=col>&lt;int&gt;</th><th scope=col>&lt;int&gt;</th><th scope=col>&lt;dbl&gt;</th><th scope=col>&lt;dbl&gt;</th></tr>\n",
              "</thead>\n",
              "<tbody>\n",
              "\t<tr><th scope=row>1</th><td>MotInt</td><td>1</td><td>2</td><td>320</td><td>320</td><td>46688</td><td>0.0505</td></tr>\n",
              "</tbody>\n",
              "</table>\n"
            ],
            "text/markdown": "\nA rstatix_test: 1 × 7\n\n| <!--/--> | .y. &lt;chr&gt; | group1 &lt;chr&gt; | group2 &lt;chr&gt; | n1 &lt;int&gt; | n2 &lt;int&gt; | statistic &lt;dbl&gt; | p &lt;dbl&gt; |\n|---|---|---|---|---|---|---|---|\n| 1 | MotInt | 1 | 2 | 320 | 320 | 46688 | 0.0505 |\n\n",
            "text/latex": "A rstatix\\_test: 1 × 7\n\\begin{tabular}{r|lllllll}\n  & .y. & group1 & group2 & n1 & n2 & statistic & p\\\\\n  & <chr> & <chr> & <chr> & <int> & <int> & <dbl> & <dbl>\\\\\n\\hline\n\t1 & MotInt & 1 & 2 & 320 & 320 & 46688 & 0.0505\\\\\n\\end{tabular}\n",
            "text/plain": [
              "  .y.    group1 group2 n1  n2  statistic p     \n",
              "1 MotInt 1      2      320 320 46688     0.0505"
            ]
          },
          "metadata": {}
        },
        {
          "output_type": "display_data",
          "data": {
            "text/html": [
              "0.02525"
            ],
            "text/markdown": "0.02525",
            "text/latex": "0.02525",
            "text/plain": [
              "[1] 0.02525"
            ]
          },
          "metadata": {}
        }
      ]
    },
    {
      "cell_type": "markdown",
      "source": [
        "**Dado que es un contraste unilateral. Tenemos que dividir entre 2 el valor *p*.** El resultado de dicha división sería el siguiente: .0505/2 = .0253.\n",
        "\n",
        "Así, se observa que el valor *p* es menor que .05 por lo que se rechaza la H0 del ejercicio.\n",
        "\n",
        "5. Ahora, es necesario determinar <u>*que grupo tiene el mayor nivel de la variable*</u>. Para esto, y dado que estamos en el contexto de un contraste paramétrico, observaremos las medianas."
      ],
      "metadata": {
        "id": "EuncqhdXUGre"
      }
    },
    {
      "cell_type": "code",
      "source": [
        "df %>%\n",
        "  group_by(Salón) %>%\n",
        "  summarise(median = median(MotInt),\n",
        "            IQR = IQR(MotInt))"
      ],
      "metadata": {
        "id": "Y9jYQD-Fe8Qj",
        "outputId": "7c767768-65ae-4572-f2a1-cb12b73dd114",
        "colab": {
          "base_uri": "https://localhost:8080/",
          "height": 161
        }
      },
      "execution_count": null,
      "outputs": [
        {
          "output_type": "display_data",
          "data": {
            "text/html": [
              "<table class=\"dataframe\">\n",
              "<caption>A tibble: 2 × 3</caption>\n",
              "<thead>\n",
              "\t<tr><th scope=col>Salón</th><th scope=col>median</th><th scope=col>IQR</th></tr>\n",
              "\t<tr><th scope=col>&lt;dbl+lbl&gt;</th><th scope=col>&lt;dbl&gt;</th><th scope=col>&lt;dbl&gt;</th></tr>\n",
              "</thead>\n",
              "<tbody>\n",
              "\t<tr><td>1</td><td>19.0</td><td>2</td></tr>\n",
              "\t<tr><td>2</td><td>19.5</td><td>4</td></tr>\n",
              "</tbody>\n",
              "</table>\n"
            ],
            "text/markdown": "\nA tibble: 2 × 3\n\n| Salón &lt;dbl+lbl&gt; | median &lt;dbl&gt; | IQR &lt;dbl&gt; |\n|---|---|---|\n| 1 | 19.0 | 2 |\n| 2 | 19.5 | 4 |\n\n",
            "text/latex": "A tibble: 2 × 3\n\\begin{tabular}{lll}\n Salón & median & IQR\\\\\n <dbl+lbl> & <dbl> & <dbl>\\\\\n\\hline\n\t 1 & 19.0 & 2\\\\\n\t 2 & 19.5 & 4\\\\\n\\end{tabular}\n",
            "text/plain": [
              "  Salón median IQR\n",
              "1 1     19.0   2  \n",
              "2 2     19.5   4  "
            ]
          },
          "metadata": {}
        }
      ]
    },
    {
      "cell_type": "markdown",
      "source": [
        "Según las medianas, el grupo de mayor nivel es el de quinto de media. Dado que esto va de acorde a lo planteado en la H1 podemos inferir que aceptamos esta hipótesis alterna."
      ],
      "metadata": {
        "id": "mB2Qnmo_UGre"
      }
    },
    {
      "cell_type": "markdown",
      "source": [
        "6. Determinar la magnitud del efecto.\n",
        "\n",
        "Si bien ya conocemos que existen diferencias y el grupo de mayor nivel, es importante poder determinar si estas diferencias son relevantes. Para el caso de la prueba no paramétrica de U de Mann-Whitney se debe usar el estadístico de $r\\ de\\ Rosenthal$ para evaluar la magnitud."
      ],
      "metadata": {
        "id": "eRz47ZAFUGre"
      }
    },
    {
      "cell_type": "code",
      "source": [
        "df %>%\n",
        "  wilcox_effsize(MotInt ~ Salón, paired = F)"
      ],
      "metadata": {
        "id": "DLyhcC1IfLdk",
        "outputId": "d8341032-1b91-4868-d988-52daaa493a19",
        "colab": {
          "base_uri": "https://localhost:8080/",
          "height": 129
        }
      },
      "execution_count": null,
      "outputs": [
        {
          "output_type": "display_data",
          "data": {
            "text/html": [
              "<table class=\"dataframe\">\n",
              "<caption>A rstatix_test: 1 × 7</caption>\n",
              "<thead>\n",
              "\t<tr><th></th><th scope=col>.y.</th><th scope=col>group1</th><th scope=col>group2</th><th scope=col>effsize</th><th scope=col>n1</th><th scope=col>n2</th><th scope=col>magnitude</th></tr>\n",
              "\t<tr><th></th><th scope=col>&lt;chr&gt;</th><th scope=col>&lt;chr&gt;</th><th scope=col>&lt;chr&gt;</th><th scope=col>&lt;dbl&gt;</th><th scope=col>&lt;int&gt;</th><th scope=col>&lt;int&gt;</th><th scope=col>&lt;ord&gt;</th></tr>\n",
              "</thead>\n",
              "<tbody>\n",
              "\t<tr><th scope=row>1</th><td>MotInt</td><td>1</td><td>2</td><td>0.0773</td><td>320</td><td>320</td><td>small</td></tr>\n",
              "</tbody>\n",
              "</table>\n"
            ],
            "text/markdown": "\nA rstatix_test: 1 × 7\n\n| <!--/--> | .y. &lt;chr&gt; | group1 &lt;chr&gt; | group2 &lt;chr&gt; | effsize &lt;dbl&gt; | n1 &lt;int&gt; | n2 &lt;int&gt; | magnitude &lt;ord&gt; |\n|---|---|---|---|---|---|---|---|\n| 1 | MotInt | 1 | 2 | 0.0773 | 320 | 320 | small |\n\n",
            "text/latex": "A rstatix\\_test: 1 × 7\n\\begin{tabular}{r|lllllll}\n  & .y. & group1 & group2 & effsize & n1 & n2 & magnitude\\\\\n  & <chr> & <chr> & <chr> & <dbl> & <int> & <int> & <ord>\\\\\n\\hline\n\t1 & MotInt & 1 & 2 & 0.0773 & 320 & 320 & small\\\\\n\\end{tabular}\n",
            "text/plain": [
              "  .y.    group1 group2 effsize n1  n2  magnitude\n",
              "1 MotInt 1      2      0.0773  320 320 small    "
            ]
          },
          "metadata": {}
        }
      ]
    },
    {
      "cell_type": "markdown",
      "source": [
        "A partir del criterio para evaluar la $r\\ de\\ Rosenthal$ se observa que existe una magnitud de la diferencia pequeña."
      ],
      "metadata": {
        "id": "EbKPdYBsUGrf"
      }
    },
    {
      "cell_type": "markdown",
      "source": [
        "7. Conclusión\n",
        "\n",
        "A partir de la prueba U de Mann-Whitney, se observa que existen diferencias estadísticamente significas en el nivel de motivación intrínseca según las estrategias de dictado, $U = 46688, p < .001$. Específicamente, se encontró que los estudiantes de quinto de media ($Mdn = 19.5$) tienen un mayor nivel de motivación que el los estudiantes de cuarto de secundaria ($Mdn = 19$). La magnitud de esta diferencia es pequeña, $r\\ de\\ Rosenthal = .08$."
      ],
      "metadata": {
        "id": "wsu8p-LHUGrf"
      }
    }
  ]
}
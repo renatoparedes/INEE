{
  "nbformat": 4,
  "nbformat_minor": 0,
  "metadata": {
    "colab": {
      "provenance": []
    },
    "kernelspec": {
      "name": "ir",
      "display_name": "R"
    },
    "language_info": {
      "name": "R"
    }
  },
  "cells": [
    {
      "cell_type": "markdown",
      "source": [
        "# Análisis de regresión lineal multiple"
      ],
      "metadata": {
        "id": "ci1HKsyO0MAZ"
      }
    },
    {
      "cell_type": "code",
      "source": [
        "# Instala librerias\n",
        "\n",
        "pkg = c(\"tidyverse\", \"rstatix\", \"skimr\", \"psych\", \"ggpubr\", \"e1071\")\n",
        "\n",
        "for (i in pkg) {\n",
        "  if(eval(bquote(!require(.(i))))) eval(bquote(install.packages(.(i))))\n",
        "}"
      ],
      "metadata": {
        "colab": {
          "base_uri": "https://localhost:8080/"
        },
        "id": "w1gDY7nU0K96",
        "outputId": "20de7cf2-126d-4e9e-94ac-fe384e83eac1"
      },
      "execution_count": 1,
      "outputs": [
        {
          "output_type": "stream",
          "name": "stderr",
          "text": [
            "Loading required package: tidyverse\n",
            "\n",
            "Warning message in system(\"timedatectl\", intern = TRUE):\n",
            "“running command 'timedatectl' had status 1”\n",
            "── \u001b[1mAttaching packages\u001b[22m ─────────────────────────────────────── tidyverse 1.3.1 ──\n",
            "\n",
            "\u001b[32m✔\u001b[39m \u001b[34mggplot2\u001b[39m 3.4.1     \u001b[32m✔\u001b[39m \u001b[34mpurrr  \u001b[39m 1.0.1\n",
            "\u001b[32m✔\u001b[39m \u001b[34mtibble \u001b[39m 3.2.1     \u001b[32m✔\u001b[39m \u001b[34mdplyr  \u001b[39m 1.1.1\n",
            "\u001b[32m✔\u001b[39m \u001b[34mtidyr  \u001b[39m 1.3.0     \u001b[32m✔\u001b[39m \u001b[34mstringr\u001b[39m 1.4.1\n",
            "\u001b[32m✔\u001b[39m \u001b[34mreadr  \u001b[39m 2.1.4     \u001b[32m✔\u001b[39m \u001b[34mforcats\u001b[39m 1.0.0\n",
            "\n",
            "── \u001b[1mConflicts\u001b[22m ────────────────────────────────────────── tidyverse_conflicts() ──\n",
            "\u001b[31m✖\u001b[39m \u001b[34mdplyr\u001b[39m::\u001b[32mfilter()\u001b[39m masks \u001b[34mstats\u001b[39m::filter()\n",
            "\u001b[31m✖\u001b[39m \u001b[34mdplyr\u001b[39m::\u001b[32mlag()\u001b[39m    masks \u001b[34mstats\u001b[39m::lag()\n",
            "\n",
            "Loading required package: rstatix\n",
            "\n",
            "Warning message in library(package, lib.loc = lib.loc, character.only = TRUE, logical.return = TRUE, :\n",
            "“there is no package called ‘rstatix’”\n",
            "Installing package into ‘/usr/local/lib/R/site-library’\n",
            "(as ‘lib’ is unspecified)\n",
            "\n",
            "also installing the dependencies ‘numDeriv’, ‘SparseM’, ‘MatrixModels’, ‘minqa’, ‘nloptr’, ‘Rcpp’, ‘RcppEigen’, ‘carData’, ‘abind’, ‘pbkrtest’, ‘quantreg’, ‘lme4’, ‘corrplot’, ‘car’\n",
            "\n",
            "\n",
            "Loading required package: skimr\n",
            "\n",
            "Warning message in library(package, lib.loc = lib.loc, character.only = TRUE, logical.return = TRUE, :\n",
            "“there is no package called ‘skimr’”\n",
            "Installing package into ‘/usr/local/lib/R/site-library’\n",
            "(as ‘lib’ is unspecified)\n",
            "\n",
            "Loading required package: psych\n",
            "\n",
            "Warning message in library(package, lib.loc = lib.loc, character.only = TRUE, logical.return = TRUE, :\n",
            "“there is no package called ‘psych’”\n",
            "Installing package into ‘/usr/local/lib/R/site-library’\n",
            "(as ‘lib’ is unspecified)\n",
            "\n",
            "also installing the dependency ‘mnormt’\n",
            "\n",
            "\n",
            "Loading required package: ggpubr\n",
            "\n",
            "Warning message in library(package, lib.loc = lib.loc, character.only = TRUE, logical.return = TRUE, :\n",
            "“there is no package called ‘ggpubr’”\n",
            "Installing package into ‘/usr/local/lib/R/site-library’\n",
            "(as ‘lib’ is unspecified)\n",
            "\n",
            "also installing the dependencies ‘ggrepel’, ‘ggsci’, ‘cowplot’, ‘ggsignif’, ‘gridExtra’, ‘polynom’\n",
            "\n",
            "\n",
            "Loading required package: e1071\n",
            "\n",
            "Warning message in library(package, lib.loc = lib.loc, character.only = TRUE, logical.return = TRUE, :\n",
            "“there is no package called ‘e1071’”\n",
            "Installing package into ‘/usr/local/lib/R/site-library’\n",
            "(as ‘lib’ is unspecified)\n",
            "\n",
            "also installing the dependency ‘proxy’\n",
            "\n",
            "\n"
          ]
        }
      ]
    },
    {
      "cell_type": "markdown",
      "source": [
        "# Ejercicio"
      ],
      "metadata": {
        "id": "AwQQXASf0P3u"
      }
    },
    {
      "cell_type": "markdown",
      "source": [
        "Estudio con 72 estudiantes: se plantea que tanto el afrontamiento centrado en el problema como el centrado en la emoción predicen el estrés académico percibido.\n",
        "\n",
        "Hipótesis de estudio: el afrontamiento centrado en el problema predice un menor estrés académico mientras que el centrado en la emoción predice un mayor estrés."
      ],
      "metadata": {
        "id": "xJRJo1vh0S3F"
      }
    },
    {
      "cell_type": "markdown",
      "source": [
        "HT: el afrontamiento centrado en el problema es un predictor negativo y el afrontamiento centrado en la emoción es un predictor positivo del estrés académico.\n",
        "\n",
        "- $H_{0}$: $β_{problema} = 0$, $β_{emocion} = 0$\n",
        "- $H_{1}$: $β_{problema} < 0$, $β_{emocion} > 0$\n",
        "\n",
        "Ecuación del modelo de regresión lineal múltiple:\n",
        "\n",
        "Estrés académico = $β_{0} - β_{1}ACP + β_{2}ACE \\pm \\epsilon$ "
      ],
      "metadata": {
        "id": "E-x8E___0biF"
      }
    },
    {
      "cell_type": "markdown",
      "source": [
        "# Visualización de datos"
      ],
      "metadata": {
        "id": "Hz65oFjn0ch7"
      }
    },
    {
      "cell_type": "code",
      "source": [
        "data <- haven::read_sav(\"https://github.com/renatoparedes/EstadisticaYPsicologiaMatematica/raw/main/INEE/Clase9_BaseRegresionLinealSimpleYMultiple.sav\")\n",
        "data"
      ],
      "metadata": {
        "colab": {
          "base_uri": "https://localhost:8080/",
          "height": 1000
        },
        "id": "zLgsyZK60eLc",
        "outputId": "0d2e2ab4-ed92-4487-accd-aedddb08e71a"
      },
      "execution_count": 2,
      "outputs": [
        {
          "output_type": "display_data",
          "data": {
            "text/html": [
              "<table class=\"dataframe\">\n",
              "<caption>A tibble: 72 × 8</caption>\n",
              "<thead>\n",
              "\t<tr><th scope=col>Código</th><th scope=col>Sexo</th><th scope=col>Relación</th><th scope=col>HistVinc</th><th scope=col>Afroproblema</th><th scope=col>Afroemoción</th><th scope=col>Estrés_académico</th><th scope=col>ZRE_1</th></tr>\n",
              "\t<tr><th scope=col>&lt;chr&gt;</th><th scope=col>&lt;dbl+lbl&gt;</th><th scope=col>&lt;dbl+lbl&gt;</th><th scope=col>&lt;dbl&gt;</th><th scope=col>&lt;dbl&gt;</th><th scope=col>&lt;dbl&gt;</th><th scope=col>&lt;dbl&gt;</th><th scope=col>&lt;dbl&gt;</th></tr>\n",
              "</thead>\n",
              "<tbody>\n",
              "\t<tr><td>001</td><td>2</td><td>1</td><td> 6</td><td>29.23077</td><td>38</td><td>45</td><td> 1.051546027</td></tr>\n",
              "\t<tr><td>002</td><td>2</td><td>0</td><td> 7</td><td>23.84615</td><td>45</td><td>45</td><td>-0.554502312</td></tr>\n",
              "\t<tr><td>003</td><td>2</td><td>0</td><td> 8</td><td>24.61538</td><td>50</td><td>45</td><td>-1.437566240</td></tr>\n",
              "\t<tr><td>004</td><td>2</td><td>0</td><td> 5</td><td>21.53846</td><td>45</td><td>45</td><td>-0.686559040</td></tr>\n",
              "\t<tr><td>005</td><td>2</td><td>1</td><td> 8</td><td>30.00000</td><td>49</td><td>44</td><td>-1.224418179</td></tr>\n",
              "\t<tr><td>006</td><td>2</td><td>1</td><td> 6</td><td>33.07692</td><td>48</td><td>44</td><td>-0.862925974</td></tr>\n",
              "\t<tr><td>007</td><td>1</td><td>0</td><td> 6</td><td>31.53846</td><td>44</td><td>43</td><td>-0.489698396</td></tr>\n",
              "\t<tr><td>008</td><td>1</td><td>1</td><td>11</td><td>21.53846</td><td>36</td><td>43</td><td> 0.421388322</td></tr>\n",
              "\t<tr><td>009</td><td>2</td><td>0</td><td> 8</td><td>22.30769</td><td>35</td><td>43</td><td> 0.650823799</td></tr>\n",
              "\t<tr><td>010</td><td>2</td><td>1</td><td> 8</td><td>23.84615</td><td>32</td><td>42</td><td> 1.014710448</td></tr>\n",
              "\t<tr><td>011</td><td>2</td><td>1</td><td> 7</td><td>25.38462</td><td>38</td><td>42</td><td>-0.009751139</td></tr>\n",
              "\t<tr><td>012</td><td>2</td><td>1</td><td> 9</td><td>16.15385</td><td>39</td><td>42</td><td>-0.723394619</td></tr>\n",
              "\t<tr><td>013</td><td>1</td><td>0</td><td>13</td><td>20.00000</td><td>30</td><td>42</td><td> 1.165449036</td></tr>\n",
              "\t<tr><td>014</td><td>1</td><td>0</td><td> 6</td><td>16.92308</td><td>34</td><td>42</td><td> 0.247707128</td></tr>\n",
              "\t<tr><td>015</td><td>1</td><td>0</td><td>10</td><td>16.92308</td><td>37</td><td>42</td><td>-0.308542574</td></tr>\n",
              "\t<tr><td>016</td><td>2</td><td>1</td><td> 8</td><td>30.00000</td><td>37</td><td>42</td><td> 0.439778885</td></tr>\n",
              "\t<tr><td>017</td><td>2</td><td>0</td><td>12</td><td>28.46154</td><td>38</td><td>41</td><td>-0.114076374</td></tr>\n",
              "\t<tr><td>018</td><td>1</td><td>0</td><td> 8</td><td>12.30769</td><td>39</td><td>41</td><td>-1.223890039</td></tr>\n",
              "\t<tr><td>019</td><td>1</td><td>1</td><td>15</td><td>16.15385</td><td>32</td><td>41</td><td> 0.294120481</td></tr>\n",
              "\t<tr><td>020</td><td>1</td><td>0</td><td>13</td><td>12.30769</td><td>30</td><td>40</td><td> 0.164458196</td></tr>\n",
              "\t<tr><td>021</td><td>1</td><td>1</td><td>10</td><td>22.30769</td><td>28</td><td>40</td><td> 1.107537153</td></tr>\n",
              "\t<tr><td>022</td><td>2</td><td>0</td><td>11</td><td>11.53846</td><td>29</td><td>40</td><td> 0.305855854</td></tr>\n",
              "\t<tr><td>023</td><td>2</td><td>1</td><td>12</td><td>23.07692</td><td>27</td><td>40</td><td> 1.336972630</td></tr>\n",
              "\t<tr><td>024</td><td>2</td><td>0</td><td>15</td><td>17.69231</td><td>28</td><td>40</td><td> 0.843423697</td></tr>\n",
              "\t<tr><td>025</td><td>1</td><td>0</td><td>15</td><td>10.00000</td><td>28</td><td>39</td><td> 0.122833730</td></tr>\n",
              "\t<tr><td>026</td><td>2</td><td>1</td><td>14</td><td>13.84615</td><td>27</td><td>39</td><td> 0.528344845</td></tr>\n",
              "\t<tr><td>027</td><td>1</td><td>1</td><td>20</td><td>16.15385</td><td>29</td><td>39</td><td> 0.289568438</td></tr>\n",
              "\t<tr><td>028</td><td>2</td><td>0</td><td>16</td><td>32.30769</td><td>28</td><td>39</td><td> 1.399382103</td></tr>\n",
              "\t<tr><td>029</td><td>1</td><td>0</td><td>16</td><td>22.30769</td><td>28</td><td>38</td><td> 0.546735408</td></tr>\n",
              "\t<tr><td>030</td><td>1</td><td>1</td><td>13</td><td>30.76923</td><td>20</td><td>38</td><td> 2.514275951</td></tr>\n",
              "\t<tr><td>⋮</td><td>⋮</td><td>⋮</td><td>⋮</td><td>⋮</td><td>⋮</td><td>⋮</td><td>⋮</td></tr>\n",
              "\t<tr><td>043</td><td>2</td><td>0</td><td>12</td><td>25.38462</td><td>24</td><td>33</td><td> 0.062472951</td></tr>\n",
              "\t<tr><td>044</td><td>1</td><td>1</td><td>11</td><td>13.07692</td><td>21</td><td>33</td><td>-0.085579897</td></tr>\n",
              "\t<tr><td>045</td><td>2</td><td>0</td><td>18</td><td>22.30769</td><td>19</td><td>33</td><td> 0.813480151</td></tr>\n",
              "\t<tr><td>046</td><td>2</td><td>1</td><td>20</td><td>31.53846</td><td>17</td><td>33</td><td> 1.712540199</td></tr>\n",
              "\t<tr><td>047</td><td>2</td><td>0</td><td>14</td><td>26.92308</td><td>18</td><td>33</td><td> 1.263010175</td></tr>\n",
              "\t<tr><td>048</td><td>1</td><td>1</td><td>17</td><td>25.38462</td><td>19</td><td>31</td><td> 0.428754043</td></tr>\n",
              "\t<tr><td>049</td><td>2</td><td>0</td><td>13</td><td>22.30769</td><td>18</td><td>31</td><td> 0.438094973</td></tr>\n",
              "\t<tr><td>050</td><td>2</td><td>1</td><td>24</td><td>28.46154</td><td>19</td><td>31</td><td> 0.604829681</td></tr>\n",
              "\t<tr><td>051</td><td>1</td><td>0</td><td>10</td><td>26.92308</td><td>19</td><td>31</td><td> 0.516791862</td></tr>\n",
              "\t<tr><td>052</td><td>2</td><td>0</td><td>24</td><td>21.53846</td><td>26</td><td>30</td><td>-1.369657349</td></tr>\n",
              "\t<tr><td>053</td><td>2</td><td>0</td><td>16</td><td>26.15385</td><td>22</td><td>29</td><td>-0.644278496</td></tr>\n",
              "\t<tr><td>054</td><td>1</td><td>0</td><td>20</td><td>27.69231</td><td>24</td><td>28</td><td>-1.207474685</td></tr>\n",
              "\t<tr><td>055</td><td>2</td><td>1</td><td>22</td><td>26.92308</td><td>25</td><td>28</td><td>-1.436910161</td></tr>\n",
              "\t<tr><td>056</td><td>2</td><td>1</td><td>19</td><td>12.30769</td><td>25</td><td>28</td><td>-2.273269440</td></tr>\n",
              "\t<tr><td>057</td><td>2</td><td>1</td><td>22</td><td>34.61538</td><td>20</td><td>28</td><td>-0.069638230</td></tr>\n",
              "\t<tr><td>058</td><td>1</td><td>0</td><td>16</td><td>26.15385</td><td>16</td><td>27</td><td>-0.092580836</td></tr>\n",
              "\t<tr><td>059</td><td>2</td><td>1</td><td>21</td><td>23.07692</td><td>18</td><td>27</td><td>-0.639489609</td></tr>\n",
              "\t<tr><td>060</td><td>1</td><td>0</td><td>17</td><td>26.15385</td><td>14</td><td>26</td><td>-0.002148574</td></tr>\n",
              "\t<tr><td>061</td><td>1</td><td>0</td><td>23</td><td>25.38462</td><td>15</td><td>26</td><td>-0.231584051</td></tr>\n",
              "\t<tr><td>062</td><td>1</td><td>1</td><td>21</td><td>26.92308</td><td>16</td><td>26</td><td>-0.328962800</td></tr>\n",
              "\t<tr><td>063</td><td>2</td><td>0</td><td>21</td><td>24.61538</td><td>11</td><td>25</td><td> 0.185662437</td></tr>\n",
              "\t<tr><td>064</td><td>1</td><td>1</td><td>19</td><td>32.30769</td><td>12</td><td>22</td><td>-0.400767655</td></tr>\n",
              "\t<tr><td>065</td><td>1</td><td>0</td><td>23</td><td>29.23077</td><td>12</td><td>21</td><td>-0.857244165</td></tr>\n",
              "\t<tr><td>066</td><td>2</td><td>1</td><td>19</td><td>34.61538</td><td>15</td><td>20</td><td>-1.385762375</td></tr>\n",
              "\t<tr><td>067</td><td>2</td><td>0</td><td>22</td><td>36.15385</td><td>12</td><td>20</td><td>-0.741474854</td></tr>\n",
              "\t<tr><td>068</td><td>1</td><td>1</td><td>21</td><td>33.84615</td><td>11</td><td>20</td><td>-0.688115014</td></tr>\n",
              "\t<tr><td>069</td><td>1</td><td>0</td><td>18</td><td>34.61538</td><td>11</td><td>20</td><td>-0.644096105</td></tr>\n",
              "\t<tr><td>070</td><td>1</td><td>1</td><td>23</td><td>35.38462</td><td> 9</td><td>18</td><td>-0.790045806</td></tr>\n",
              "\t<tr><td>071</td><td>2</td><td>0</td><td>24</td><td>28.46154</td><td> 8</td><td>17</td><td>-1.281200296</td></tr>\n",
              "\t<tr><td>072</td><td>1</td><td>1</td><td>25</td><td>23.84615</td><td> 8</td><td>11</td><td>-3.227718989</td></tr>\n",
              "</tbody>\n",
              "</table>\n"
            ],
            "text/markdown": "\nA tibble: 72 × 8\n\n| Código &lt;chr&gt; | Sexo &lt;dbl+lbl&gt; | Relación &lt;dbl+lbl&gt; | HistVinc &lt;dbl&gt; | Afroproblema &lt;dbl&gt; | Afroemoción &lt;dbl&gt; | Estrés_académico &lt;dbl&gt; | ZRE_1 &lt;dbl&gt; |\n|---|---|---|---|---|---|---|---|\n| 001 | 2 | 1 |  6 | 29.23077 | 38 | 45 |  1.051546027 |\n| 002 | 2 | 0 |  7 | 23.84615 | 45 | 45 | -0.554502312 |\n| 003 | 2 | 0 |  8 | 24.61538 | 50 | 45 | -1.437566240 |\n| 004 | 2 | 0 |  5 | 21.53846 | 45 | 45 | -0.686559040 |\n| 005 | 2 | 1 |  8 | 30.00000 | 49 | 44 | -1.224418179 |\n| 006 | 2 | 1 |  6 | 33.07692 | 48 | 44 | -0.862925974 |\n| 007 | 1 | 0 |  6 | 31.53846 | 44 | 43 | -0.489698396 |\n| 008 | 1 | 1 | 11 | 21.53846 | 36 | 43 |  0.421388322 |\n| 009 | 2 | 0 |  8 | 22.30769 | 35 | 43 |  0.650823799 |\n| 010 | 2 | 1 |  8 | 23.84615 | 32 | 42 |  1.014710448 |\n| 011 | 2 | 1 |  7 | 25.38462 | 38 | 42 | -0.009751139 |\n| 012 | 2 | 1 |  9 | 16.15385 | 39 | 42 | -0.723394619 |\n| 013 | 1 | 0 | 13 | 20.00000 | 30 | 42 |  1.165449036 |\n| 014 | 1 | 0 |  6 | 16.92308 | 34 | 42 |  0.247707128 |\n| 015 | 1 | 0 | 10 | 16.92308 | 37 | 42 | -0.308542574 |\n| 016 | 2 | 1 |  8 | 30.00000 | 37 | 42 |  0.439778885 |\n| 017 | 2 | 0 | 12 | 28.46154 | 38 | 41 | -0.114076374 |\n| 018 | 1 | 0 |  8 | 12.30769 | 39 | 41 | -1.223890039 |\n| 019 | 1 | 1 | 15 | 16.15385 | 32 | 41 |  0.294120481 |\n| 020 | 1 | 0 | 13 | 12.30769 | 30 | 40 |  0.164458196 |\n| 021 | 1 | 1 | 10 | 22.30769 | 28 | 40 |  1.107537153 |\n| 022 | 2 | 0 | 11 | 11.53846 | 29 | 40 |  0.305855854 |\n| 023 | 2 | 1 | 12 | 23.07692 | 27 | 40 |  1.336972630 |\n| 024 | 2 | 0 | 15 | 17.69231 | 28 | 40 |  0.843423697 |\n| 025 | 1 | 0 | 15 | 10.00000 | 28 | 39 |  0.122833730 |\n| 026 | 2 | 1 | 14 | 13.84615 | 27 | 39 |  0.528344845 |\n| 027 | 1 | 1 | 20 | 16.15385 | 29 | 39 |  0.289568438 |\n| 028 | 2 | 0 | 16 | 32.30769 | 28 | 39 |  1.399382103 |\n| 029 | 1 | 0 | 16 | 22.30769 | 28 | 38 |  0.546735408 |\n| 030 | 1 | 1 | 13 | 30.76923 | 20 | 38 |  2.514275951 |\n| ⋮ | ⋮ | ⋮ | ⋮ | ⋮ | ⋮ | ⋮ | ⋮ |\n| 043 | 2 | 0 | 12 | 25.38462 | 24 | 33 |  0.062472951 |\n| 044 | 1 | 1 | 11 | 13.07692 | 21 | 33 | -0.085579897 |\n| 045 | 2 | 0 | 18 | 22.30769 | 19 | 33 |  0.813480151 |\n| 046 | 2 | 1 | 20 | 31.53846 | 17 | 33 |  1.712540199 |\n| 047 | 2 | 0 | 14 | 26.92308 | 18 | 33 |  1.263010175 |\n| 048 | 1 | 1 | 17 | 25.38462 | 19 | 31 |  0.428754043 |\n| 049 | 2 | 0 | 13 | 22.30769 | 18 | 31 |  0.438094973 |\n| 050 | 2 | 1 | 24 | 28.46154 | 19 | 31 |  0.604829681 |\n| 051 | 1 | 0 | 10 | 26.92308 | 19 | 31 |  0.516791862 |\n| 052 | 2 | 0 | 24 | 21.53846 | 26 | 30 | -1.369657349 |\n| 053 | 2 | 0 | 16 | 26.15385 | 22 | 29 | -0.644278496 |\n| 054 | 1 | 0 | 20 | 27.69231 | 24 | 28 | -1.207474685 |\n| 055 | 2 | 1 | 22 | 26.92308 | 25 | 28 | -1.436910161 |\n| 056 | 2 | 1 | 19 | 12.30769 | 25 | 28 | -2.273269440 |\n| 057 | 2 | 1 | 22 | 34.61538 | 20 | 28 | -0.069638230 |\n| 058 | 1 | 0 | 16 | 26.15385 | 16 | 27 | -0.092580836 |\n| 059 | 2 | 1 | 21 | 23.07692 | 18 | 27 | -0.639489609 |\n| 060 | 1 | 0 | 17 | 26.15385 | 14 | 26 | -0.002148574 |\n| 061 | 1 | 0 | 23 | 25.38462 | 15 | 26 | -0.231584051 |\n| 062 | 1 | 1 | 21 | 26.92308 | 16 | 26 | -0.328962800 |\n| 063 | 2 | 0 | 21 | 24.61538 | 11 | 25 |  0.185662437 |\n| 064 | 1 | 1 | 19 | 32.30769 | 12 | 22 | -0.400767655 |\n| 065 | 1 | 0 | 23 | 29.23077 | 12 | 21 | -0.857244165 |\n| 066 | 2 | 1 | 19 | 34.61538 | 15 | 20 | -1.385762375 |\n| 067 | 2 | 0 | 22 | 36.15385 | 12 | 20 | -0.741474854 |\n| 068 | 1 | 1 | 21 | 33.84615 | 11 | 20 | -0.688115014 |\n| 069 | 1 | 0 | 18 | 34.61538 | 11 | 20 | -0.644096105 |\n| 070 | 1 | 1 | 23 | 35.38462 |  9 | 18 | -0.790045806 |\n| 071 | 2 | 0 | 24 | 28.46154 |  8 | 17 | -1.281200296 |\n| 072 | 1 | 1 | 25 | 23.84615 |  8 | 11 | -3.227718989 |\n\n",
            "text/latex": "A tibble: 72 × 8\n\\begin{tabular}{llllllll}\n Código & Sexo & Relación & HistVinc & Afroproblema & Afroemoción & Estrés\\_académico & ZRE\\_1\\\\\n <chr> & <dbl+lbl> & <dbl+lbl> & <dbl> & <dbl> & <dbl> & <dbl> & <dbl>\\\\\n\\hline\n\t 001 & 2 & 1 &  6 & 29.23077 & 38 & 45 &  1.051546027\\\\\n\t 002 & 2 & 0 &  7 & 23.84615 & 45 & 45 & -0.554502312\\\\\n\t 003 & 2 & 0 &  8 & 24.61538 & 50 & 45 & -1.437566240\\\\\n\t 004 & 2 & 0 &  5 & 21.53846 & 45 & 45 & -0.686559040\\\\\n\t 005 & 2 & 1 &  8 & 30.00000 & 49 & 44 & -1.224418179\\\\\n\t 006 & 2 & 1 &  6 & 33.07692 & 48 & 44 & -0.862925974\\\\\n\t 007 & 1 & 0 &  6 & 31.53846 & 44 & 43 & -0.489698396\\\\\n\t 008 & 1 & 1 & 11 & 21.53846 & 36 & 43 &  0.421388322\\\\\n\t 009 & 2 & 0 &  8 & 22.30769 & 35 & 43 &  0.650823799\\\\\n\t 010 & 2 & 1 &  8 & 23.84615 & 32 & 42 &  1.014710448\\\\\n\t 011 & 2 & 1 &  7 & 25.38462 & 38 & 42 & -0.009751139\\\\\n\t 012 & 2 & 1 &  9 & 16.15385 & 39 & 42 & -0.723394619\\\\\n\t 013 & 1 & 0 & 13 & 20.00000 & 30 & 42 &  1.165449036\\\\\n\t 014 & 1 & 0 &  6 & 16.92308 & 34 & 42 &  0.247707128\\\\\n\t 015 & 1 & 0 & 10 & 16.92308 & 37 & 42 & -0.308542574\\\\\n\t 016 & 2 & 1 &  8 & 30.00000 & 37 & 42 &  0.439778885\\\\\n\t 017 & 2 & 0 & 12 & 28.46154 & 38 & 41 & -0.114076374\\\\\n\t 018 & 1 & 0 &  8 & 12.30769 & 39 & 41 & -1.223890039\\\\\n\t 019 & 1 & 1 & 15 & 16.15385 & 32 & 41 &  0.294120481\\\\\n\t 020 & 1 & 0 & 13 & 12.30769 & 30 & 40 &  0.164458196\\\\\n\t 021 & 1 & 1 & 10 & 22.30769 & 28 & 40 &  1.107537153\\\\\n\t 022 & 2 & 0 & 11 & 11.53846 & 29 & 40 &  0.305855854\\\\\n\t 023 & 2 & 1 & 12 & 23.07692 & 27 & 40 &  1.336972630\\\\\n\t 024 & 2 & 0 & 15 & 17.69231 & 28 & 40 &  0.843423697\\\\\n\t 025 & 1 & 0 & 15 & 10.00000 & 28 & 39 &  0.122833730\\\\\n\t 026 & 2 & 1 & 14 & 13.84615 & 27 & 39 &  0.528344845\\\\\n\t 027 & 1 & 1 & 20 & 16.15385 & 29 & 39 &  0.289568438\\\\\n\t 028 & 2 & 0 & 16 & 32.30769 & 28 & 39 &  1.399382103\\\\\n\t 029 & 1 & 0 & 16 & 22.30769 & 28 & 38 &  0.546735408\\\\\n\t 030 & 1 & 1 & 13 & 30.76923 & 20 & 38 &  2.514275951\\\\\n\t ⋮ & ⋮ & ⋮ & ⋮ & ⋮ & ⋮ & ⋮ & ⋮\\\\\n\t 043 & 2 & 0 & 12 & 25.38462 & 24 & 33 &  0.062472951\\\\\n\t 044 & 1 & 1 & 11 & 13.07692 & 21 & 33 & -0.085579897\\\\\n\t 045 & 2 & 0 & 18 & 22.30769 & 19 & 33 &  0.813480151\\\\\n\t 046 & 2 & 1 & 20 & 31.53846 & 17 & 33 &  1.712540199\\\\\n\t 047 & 2 & 0 & 14 & 26.92308 & 18 & 33 &  1.263010175\\\\\n\t 048 & 1 & 1 & 17 & 25.38462 & 19 & 31 &  0.428754043\\\\\n\t 049 & 2 & 0 & 13 & 22.30769 & 18 & 31 &  0.438094973\\\\\n\t 050 & 2 & 1 & 24 & 28.46154 & 19 & 31 &  0.604829681\\\\\n\t 051 & 1 & 0 & 10 & 26.92308 & 19 & 31 &  0.516791862\\\\\n\t 052 & 2 & 0 & 24 & 21.53846 & 26 & 30 & -1.369657349\\\\\n\t 053 & 2 & 0 & 16 & 26.15385 & 22 & 29 & -0.644278496\\\\\n\t 054 & 1 & 0 & 20 & 27.69231 & 24 & 28 & -1.207474685\\\\\n\t 055 & 2 & 1 & 22 & 26.92308 & 25 & 28 & -1.436910161\\\\\n\t 056 & 2 & 1 & 19 & 12.30769 & 25 & 28 & -2.273269440\\\\\n\t 057 & 2 & 1 & 22 & 34.61538 & 20 & 28 & -0.069638230\\\\\n\t 058 & 1 & 0 & 16 & 26.15385 & 16 & 27 & -0.092580836\\\\\n\t 059 & 2 & 1 & 21 & 23.07692 & 18 & 27 & -0.639489609\\\\\n\t 060 & 1 & 0 & 17 & 26.15385 & 14 & 26 & -0.002148574\\\\\n\t 061 & 1 & 0 & 23 & 25.38462 & 15 & 26 & -0.231584051\\\\\n\t 062 & 1 & 1 & 21 & 26.92308 & 16 & 26 & -0.328962800\\\\\n\t 063 & 2 & 0 & 21 & 24.61538 & 11 & 25 &  0.185662437\\\\\n\t 064 & 1 & 1 & 19 & 32.30769 & 12 & 22 & -0.400767655\\\\\n\t 065 & 1 & 0 & 23 & 29.23077 & 12 & 21 & -0.857244165\\\\\n\t 066 & 2 & 1 & 19 & 34.61538 & 15 & 20 & -1.385762375\\\\\n\t 067 & 2 & 0 & 22 & 36.15385 & 12 & 20 & -0.741474854\\\\\n\t 068 & 1 & 1 & 21 & 33.84615 & 11 & 20 & -0.688115014\\\\\n\t 069 & 1 & 0 & 18 & 34.61538 & 11 & 20 & -0.644096105\\\\\n\t 070 & 1 & 1 & 23 & 35.38462 &  9 & 18 & -0.790045806\\\\\n\t 071 & 2 & 0 & 24 & 28.46154 &  8 & 17 & -1.281200296\\\\\n\t 072 & 1 & 1 & 25 & 23.84615 &  8 & 11 & -3.227718989\\\\\n\\end{tabular}\n",
            "text/plain": [
              "   Código Sexo Relación HistVinc Afroproblema Afroemoción Estrés_académico\n",
              "1  001    2    1         6       29.23077     38          45              \n",
              "2  002    2    0         7       23.84615     45          45              \n",
              "3  003    2    0         8       24.61538     50          45              \n",
              "4  004    2    0         5       21.53846     45          45              \n",
              "5  005    2    1         8       30.00000     49          44              \n",
              "6  006    2    1         6       33.07692     48          44              \n",
              "7  007    1    0         6       31.53846     44          43              \n",
              "8  008    1    1        11       21.53846     36          43              \n",
              "9  009    2    0         8       22.30769     35          43              \n",
              "10 010    2    1         8       23.84615     32          42              \n",
              "11 011    2    1         7       25.38462     38          42              \n",
              "12 012    2    1         9       16.15385     39          42              \n",
              "13 013    1    0        13       20.00000     30          42              \n",
              "14 014    1    0         6       16.92308     34          42              \n",
              "15 015    1    0        10       16.92308     37          42              \n",
              "16 016    2    1         8       30.00000     37          42              \n",
              "17 017    2    0        12       28.46154     38          41              \n",
              "18 018    1    0         8       12.30769     39          41              \n",
              "19 019    1    1        15       16.15385     32          41              \n",
              "20 020    1    0        13       12.30769     30          40              \n",
              "21 021    1    1        10       22.30769     28          40              \n",
              "22 022    2    0        11       11.53846     29          40              \n",
              "23 023    2    1        12       23.07692     27          40              \n",
              "24 024    2    0        15       17.69231     28          40              \n",
              "25 025    1    0        15       10.00000     28          39              \n",
              "26 026    2    1        14       13.84615     27          39              \n",
              "27 027    1    1        20       16.15385     29          39              \n",
              "28 028    2    0        16       32.30769     28          39              \n",
              "29 029    1    0        16       22.30769     28          38              \n",
              "30 030    1    1        13       30.76923     20          38              \n",
              "⋮  ⋮      ⋮    ⋮        ⋮        ⋮            ⋮           ⋮               \n",
              "43 043    2    0        12       25.38462     24          33              \n",
              "44 044    1    1        11       13.07692     21          33              \n",
              "45 045    2    0        18       22.30769     19          33              \n",
              "46 046    2    1        20       31.53846     17          33              \n",
              "47 047    2    0        14       26.92308     18          33              \n",
              "48 048    1    1        17       25.38462     19          31              \n",
              "49 049    2    0        13       22.30769     18          31              \n",
              "50 050    2    1        24       28.46154     19          31              \n",
              "51 051    1    0        10       26.92308     19          31              \n",
              "52 052    2    0        24       21.53846     26          30              \n",
              "53 053    2    0        16       26.15385     22          29              \n",
              "54 054    1    0        20       27.69231     24          28              \n",
              "55 055    2    1        22       26.92308     25          28              \n",
              "56 056    2    1        19       12.30769     25          28              \n",
              "57 057    2    1        22       34.61538     20          28              \n",
              "58 058    1    0        16       26.15385     16          27              \n",
              "59 059    2    1        21       23.07692     18          27              \n",
              "60 060    1    0        17       26.15385     14          26              \n",
              "61 061    1    0        23       25.38462     15          26              \n",
              "62 062    1    1        21       26.92308     16          26              \n",
              "63 063    2    0        21       24.61538     11          25              \n",
              "64 064    1    1        19       32.30769     12          22              \n",
              "65 065    1    0        23       29.23077     12          21              \n",
              "66 066    2    1        19       34.61538     15          20              \n",
              "67 067    2    0        22       36.15385     12          20              \n",
              "68 068    1    1        21       33.84615     11          20              \n",
              "69 069    1    0        18       34.61538     11          20              \n",
              "70 070    1    1        23       35.38462      9          18              \n",
              "71 071    2    0        24       28.46154      8          17              \n",
              "72 072    1    1        25       23.84615      8          11              \n",
              "   ZRE_1       \n",
              "1   1.051546027\n",
              "2  -0.554502312\n",
              "3  -1.437566240\n",
              "4  -0.686559040\n",
              "5  -1.224418179\n",
              "6  -0.862925974\n",
              "7  -0.489698396\n",
              "8   0.421388322\n",
              "9   0.650823799\n",
              "10  1.014710448\n",
              "11 -0.009751139\n",
              "12 -0.723394619\n",
              "13  1.165449036\n",
              "14  0.247707128\n",
              "15 -0.308542574\n",
              "16  0.439778885\n",
              "17 -0.114076374\n",
              "18 -1.223890039\n",
              "19  0.294120481\n",
              "20  0.164458196\n",
              "21  1.107537153\n",
              "22  0.305855854\n",
              "23  1.336972630\n",
              "24  0.843423697\n",
              "25  0.122833730\n",
              "26  0.528344845\n",
              "27  0.289568438\n",
              "28  1.399382103\n",
              "29  0.546735408\n",
              "30  2.514275951\n",
              "⋮  ⋮           \n",
              "43  0.062472951\n",
              "44 -0.085579897\n",
              "45  0.813480151\n",
              "46  1.712540199\n",
              "47  1.263010175\n",
              "48  0.428754043\n",
              "49  0.438094973\n",
              "50  0.604829681\n",
              "51  0.516791862\n",
              "52 -1.369657349\n",
              "53 -0.644278496\n",
              "54 -1.207474685\n",
              "55 -1.436910161\n",
              "56 -2.273269440\n",
              "57 -0.069638230\n",
              "58 -0.092580836\n",
              "59 -0.639489609\n",
              "60 -0.002148574\n",
              "61 -0.231584051\n",
              "62 -0.328962800\n",
              "63  0.185662437\n",
              "64 -0.400767655\n",
              "65 -0.857244165\n",
              "66 -1.385762375\n",
              "67 -0.741474854\n",
              "68 -0.688115014\n",
              "69 -0.644096105\n",
              "70 -0.790045806\n",
              "71 -1.281200296\n",
              "72 -3.227718989"
            ]
          },
          "metadata": {}
        }
      ]
    },
    {
      "cell_type": "code",
      "source": [
        "data |> \n",
        "  ggplot(aes(x = Afroemoción, y = Estrés_académico)) + \n",
        "  geom_point() +\n",
        "  geom_smooth(method = lm) +\n",
        "  labs(x = \"Afrontamiento centrado en la emoción\",\n",
        "       y = \"Estrés Académico\") +\n",
        "  theme_minimal()"
      ],
      "metadata": {
        "colab": {
          "base_uri": "https://localhost:8080/",
          "height": 454
        },
        "id": "fQ3vuBnc0i7I",
        "outputId": "b33ff891-18c0-4184-bf67-f18a1b1b7429"
      },
      "execution_count": 3,
      "outputs": [
        {
          "output_type": "stream",
          "name": "stderr",
          "text": [
            "\u001b[1m\u001b[22m`geom_smooth()` using formula = 'y ~ x'\n"
          ]
        },
        {
          "output_type": "display_data",
          "data": {
            "text/plain": [
              "plot without title"
            ],
            "image/png": "[encoded data removed]"
          },
          "metadata": {
            "image/png": {
              "width": 420,
              "height": 420
            }
          }
        }
      ]
    },
    {
      "cell_type": "code",
      "source": [
        "data |> \n",
        "  ggplot(aes(x = Afroproblema, y = Estrés_académico)) + \n",
        "  geom_point() +\n",
        "  geom_smooth(method = lm) +\n",
        "  labs(x = \"Afrontamiento centrado en la emoción\",\n",
        "       y = \"Estrés Académico\") +\n",
        "  theme_minimal()"
      ],
      "metadata": {
        "colab": {
          "base_uri": "https://localhost:8080/",
          "height": 454
        },
        "id": "CmjS3XDX0l9L",
        "outputId": "578b636b-a7e0-4aa7-cf25-1655bf87be92"
      },
      "execution_count": 4,
      "outputs": [
        {
          "output_type": "stream",
          "name": "stderr",
          "text": [
            "\u001b[1m\u001b[22m`geom_smooth()` using formula = 'y ~ x'\n"
          ]
        },
        {
          "output_type": "display_data",
          "data": {
            "text/plain": [
              "plot without title"
            ],
            "image/png": "[encoded data removed]"
          },
          "metadata": {
            "image/png": {
              "width": 420,
              "height": 420
            }
          }
        }
      ]
    },
    {
      "cell_type": "markdown",
      "source": [
        "# Verificación de supuestos"
      ],
      "metadata": {
        "id": "zzdDdauZ0o9C"
      }
    },
    {
      "cell_type": "markdown",
      "source": [
        "## Evaluar normalidad de distribuciones"
      ],
      "metadata": {
        "id": "5mM45fWN0q6s"
      }
    },
    {
      "cell_type": "code",
      "source": [
        "library(rstatix)\n",
        "\n",
        "data |> \n",
        "  shapiro_test(Estrés_académico, Afroemoción, Afroproblema) |> \n",
        "  mutate(normal = case_when(p < .05 ~ F, T ~ T))"
      ],
      "metadata": {
        "colab": {
          "base_uri": "https://localhost:8080/",
          "height": 348
        },
        "id": "GWmMHmIT0t9p",
        "outputId": "19c2a3bd-0366-4fbc-ecf6-efd35e7765a5"
      },
      "execution_count": 6,
      "outputs": [
        {
          "output_type": "stream",
          "name": "stderr",
          "text": [
            "\n",
            "Attaching package: ‘rstatix’\n",
            "\n",
            "\n",
            "The following object is masked from ‘package:stats’:\n",
            "\n",
            "    filter\n",
            "\n",
            "\n"
          ]
        },
        {
          "output_type": "display_data",
          "data": {
            "text/html": [
              "<table class=\"dataframe\">\n",
              "<caption>A tibble: 3 × 4</caption>\n",
              "<thead>\n",
              "\t<tr><th scope=col>variable</th><th scope=col>statistic</th><th scope=col>p</th><th scope=col>normal</th></tr>\n",
              "\t<tr><th scope=col>&lt;chr&gt;</th><th scope=col>&lt;dbl&gt;</th><th scope=col>&lt;dbl&gt;</th><th scope=col>&lt;lgl&gt;</th></tr>\n",
              "</thead>\n",
              "<tbody>\n",
              "\t<tr><td>Afroemoción     </td><td>0.9712212</td><td>0.097620243</td><td> TRUE</td></tr>\n",
              "\t<tr><td>Afroproblema    </td><td>0.9741042</td><td>0.143365606</td><td> TRUE</td></tr>\n",
              "\t<tr><td>Estrés_académico</td><td>0.9359159</td><td>0.001187091</td><td>FALSE</td></tr>\n",
              "</tbody>\n",
              "</table>\n"
            ],
            "text/markdown": "\nA tibble: 3 × 4\n\n| variable &lt;chr&gt; | statistic &lt;dbl&gt; | p &lt;dbl&gt; | normal &lt;lgl&gt; |\n|---|---|---|---|\n| Afroemoción      | 0.9712212 | 0.097620243 |  TRUE |\n| Afroproblema     | 0.9741042 | 0.143365606 |  TRUE |\n| Estrés_académico | 0.9359159 | 0.001187091 | FALSE |\n\n",
            "text/latex": "A tibble: 3 × 4\n\\begin{tabular}{llll}\n variable & statistic & p & normal\\\\\n <chr> & <dbl> & <dbl> & <lgl>\\\\\n\\hline\n\t Afroemoción      & 0.9712212 & 0.097620243 &  TRUE\\\\\n\t Afroproblema     & 0.9741042 & 0.143365606 &  TRUE\\\\\n\t Estrés\\_académico & 0.9359159 & 0.001187091 & FALSE\\\\\n\\end{tabular}\n",
            "text/plain": [
              "  variable         statistic p           normal\n",
              "1 Afroemoción      0.9712212 0.097620243  TRUE \n",
              "2 Afroproblema     0.9741042 0.143365606  TRUE \n",
              "3 Estrés_académico 0.9359159 0.001187091 FALSE "
            ]
          },
          "metadata": {}
        }
      ]
    },
    {
      "cell_type": "code",
      "source": [
        "data |> \n",
        "  summarise(Asimetría = e1071::skewness(Estrés_académico, type = 2),\n",
        "            Kurtosis = e1071::kurtosis(Estrés_académico, type = 2))"
      ],
      "metadata": {
        "colab": {
          "base_uri": "https://localhost:8080/",
          "height": 129
        },
        "id": "1Emaf6RG0v49",
        "outputId": "52dd33f7-83cf-4d42-d5e0-0a0c6a59206a"
      },
      "execution_count": 7,
      "outputs": [
        {
          "output_type": "display_data",
          "data": {
            "text/html": [
              "<table class=\"dataframe\">\n",
              "<caption>A tibble: 1 × 2</caption>\n",
              "<thead>\n",
              "\t<tr><th scope=col>Asimetría</th><th scope=col>Kurtosis</th></tr>\n",
              "\t<tr><th scope=col>&lt;dbl&gt;</th><th scope=col>&lt;dbl&gt;</th></tr>\n",
              "</thead>\n",
              "<tbody>\n",
              "\t<tr><td>-0.7121525</td><td>-0.2086931</td></tr>\n",
              "</tbody>\n",
              "</table>\n"
            ],
            "text/markdown": "\nA tibble: 1 × 2\n\n| Asimetría &lt;dbl&gt; | Kurtosis &lt;dbl&gt; |\n|---|---|\n| -0.7121525 | -0.2086931 |\n\n",
            "text/latex": "A tibble: 1 × 2\n\\begin{tabular}{ll}\n Asimetría & Kurtosis\\\\\n <dbl> & <dbl>\\\\\n\\hline\n\t -0.7121525 & -0.2086931\\\\\n\\end{tabular}\n",
            "text/plain": [
              "  Asimetría  Kurtosis  \n",
              "1 -0.7121525 -0.2086931"
            ]
          },
          "metadata": {}
        }
      ]
    },
    {
      "cell_type": "markdown",
      "source": [
        "El análisis de normalidad indica que las distribuciones de afrontamiento centrado en el problema, SW = .974, p = .143, y de afrontamiento centrado en la emoción, SW = .971, p = .098, son normales. Si bien la distribución de estrés académico no es normal, SW = .936, p = .001, de acuerdo a la asimetría y curtosis estandarizadas se puede considerar no problemática, por lo que se usará el índice de correlación paramétrico de Pearson."
      ],
      "metadata": {
        "id": "6mAzMZWs0zkH"
      }
    },
    {
      "cell_type": "markdown",
      "source": [
        "https://www.ibm.com/support/pages/node/421769"
      ],
      "metadata": {
        "id": "mimg-lA700gN"
      }
    },
    {
      "cell_type": "markdown",
      "source": [
        "# Evaluar evidencias de relación"
      ],
      "metadata": {
        "id": "-bNYBqeI02nR"
      }
    },
    {
      "cell_type": "code",
      "source": [
        "data |> \n",
        "  select(Afroproblema, Afroemoción, Estrés_académico) |> \n",
        "  psych::corr.test()"
      ],
      "metadata": {
        "colab": {
          "base_uri": "https://localhost:8080/",
          "height": 503
        },
        "id": "FdneDWr604v4",
        "outputId": "2e528fe3-ae9f-4539-ec0f-4624233a1543"
      },
      "execution_count": 8,
      "outputs": [
        {
          "output_type": "stream",
          "name": "stderr",
          "text": [
            "Warning message in abbreviate(rownames(r), minlength = minlength):\n",
            "“abbreviate used with non-ASCII chars”\n",
            "Warning message in abbreviate(colnames(r), minlength = minlength):\n",
            "“abbreviate used with non-ASCII chars”\n",
            "Warning message in abbreviate(dimnames(ans)[[2L]], minlength = abbr.colnames):\n",
            "“abbreviate used with non-ASCII chars”\n",
            "Warning message in abbreviate(dimnames(ans)[[2L]], minlength = abbr.colnames):\n",
            "“abbreviate used with non-ASCII chars”\n",
            "Warning message in abbreviate(dimnames(ans)[[2L]], minlength = abbr.colnames):\n",
            "“abbreviate used with non-ASCII chars”\n",
            "Warning message in abbreviate(dimnames(ans)[[2L]], minlength = abbr.colnames):\n",
            "“abbreviate used with non-ASCII chars”\n"
          ]
        },
        {
          "output_type": "display_data",
          "data": {
            "text/plain": [
              "Call:psych::corr.test(x = select(data, Afroproblema, Afroemoción, \n",
              "    Estrés_académico))\n",
              "Correlation matrix \n",
              "                 Afroproblema Afroemoción Estrés_académico\n",
              "Afroproblema             1.00       -0.30            -0.41\n",
              "Afroemoción             -0.30        1.00             0.89\n",
              "Estrés_académico        -0.41        0.89             1.00\n",
              "Sample Size \n",
              "[1] 72\n",
              "Probability values (Entries above the diagonal are adjusted for multiple tests.) \n",
              "                 Afroproblema Afroemoción Estrés_académico\n",
              "Afroproblema             0.00        0.01                0\n",
              "Afroemoción              0.01        0.00                0\n",
              "Estrés_académico         0.00        0.00                0\n",
              "\n",
              " To see confidence intervals of the correlations, print with the short=FALSE option"
            ]
          },
          "metadata": {}
        }
      ]
    },
    {
      "cell_type": "markdown",
      "source": [
        "Los resultados del análisis de correlación muestran una relación estadísticamente significativa, negativa y mediana, según el criterio de Cohen (1988), entre afrontamiento centrado en el problema y estrés académico, r(70) = -.41, p < .001 (unilateral).\n",
        "\n",
        "A su vez, se observa una relación estadísticamente significativa, positiva y grande, según el criterio de Cohen (1988), entre afrontamiento centrado en la emoción y estrés académico, r(70) = .89, p< .001 (unilateral).\n",
        "\n",
        "Así, se cumple con el supuesto de linealidad entre las variables de estudio."
      ],
      "metadata": {
        "id": "vF1FS9rk06xa"
      }
    },
    {
      "cell_type": "markdown",
      "source": [
        "# Análisis del modelo"
      ],
      "metadata": {
        "id": "7kJGWV8y09Np"
      }
    },
    {
      "cell_type": "code",
      "source": [
        "data %>%\n",
        "  lm(\"Estrés_académico ~ Afroproblema + Afroemoción\", data = .) -> model3\n",
        "\n",
        "summary(model3)"
      ],
      "metadata": {
        "colab": {
          "base_uri": "https://localhost:8080/",
          "height": 364
        },
        "id": "FpwQUld-0-ww",
        "outputId": "cb57a794-8482-4c7d-e10b-4b2252c4aa9a"
      },
      "execution_count": 9,
      "outputs": [
        {
          "output_type": "display_data",
          "data": {
            "text/plain": [
              "\n",
              "Call:\n",
              "lm(formula = \"Estrés_académico ~ Afroproblema + Afroemoción\", \n",
              "    data = .)\n",
              "\n",
              "Residuals:\n",
              "     Min       1Q   Median       3Q      Max \n",
              "-11.5111  -2.3226   0.1076   1.9249   8.9667 \n",
              "\n",
              "Coefficients:\n",
              "             Estimate Std. Error t value Pr(>|t|)    \n",
              "(Intercept)  22.08760    2.33471   9.461 4.36e-14 ***\n",
              "Afroproblema -0.20408    0.07022  -2.907  0.00491 ** \n",
              "Afroemoción   0.66126    0.04306  15.358  < 2e-16 ***\n",
              "---\n",
              "Signif. codes:  0 ‘***’ 0.001 ‘**’ 0.01 ‘*’ 0.05 ‘.’ 0.1 ‘ ’ 1\n",
              "\n",
              "Residual standard error: 3.566 on 69 degrees of freedom\n",
              "Multiple R-squared:  0.8115,\tAdjusted R-squared:  0.8061 \n",
              "F-statistic: 148.6 on 2 and 69 DF,  p-value: < 2.2e-16\n"
            ]
          },
          "metadata": {}
        }
      ]
    },
    {
      "cell_type": "markdown",
      "source": [
        "# Verificación de supuestos"
      ],
      "metadata": {
        "id": "whIQEheU1CnH"
      }
    },
    {
      "cell_type": "markdown",
      "source": [
        "## Normalidad de residuos"
      ],
      "metadata": {
        "id": "hUO5uad91Em_"
      }
    },
    {
      "cell_type": "code",
      "source": [
        "tibble(residuals = model3$residuals) |> \n",
        "  ggpubr::ggqqplot(x = \"residuals\")"
      ],
      "metadata": {
        "colab": {
          "base_uri": "https://localhost:8080/",
          "height": 437
        },
        "id": "OQb0OBoJ1GYt",
        "outputId": "9f931dd3-a5ee-4031-eb74-b4debe91d9fd"
      },
      "execution_count": 10,
      "outputs": [
        {
          "output_type": "display_data",
          "data": {
            "text/plain": [
              "plot without title"
            ],
            "image/png": "[encoded data removed]"
          },
          "metadata": {
            "image/png": {
              "width": 420,
              "height": 420
            }
          }
        }
      ]
    },
    {
      "cell_type": "code",
      "source": [
        "model3$residuals |> \n",
        "  shapiro_test()"
      ],
      "metadata": {
        "colab": {
          "base_uri": "https://localhost:8080/",
          "height": 129
        },
        "id": "c6smO0pY1Iow",
        "outputId": "909ab209-a5a0-4d51-92e2-2b145ae73b39"
      },
      "execution_count": 11,
      "outputs": [
        {
          "output_type": "display_data",
          "data": {
            "text/html": [
              "<table class=\"dataframe\">\n",
              "<caption>A tibble: 1 × 3</caption>\n",
              "<thead>\n",
              "\t<tr><th scope=col>variable</th><th scope=col>statistic</th><th scope=col>p.value</th></tr>\n",
              "\t<tr><th scope=col>&lt;chr&gt;</th><th scope=col>&lt;dbl&gt;</th><th scope=col>&lt;dbl&gt;</th></tr>\n",
              "</thead>\n",
              "<tbody>\n",
              "\t<tr><td>model3$residuals</td><td>0.9848906</td><td>0.5430686</td></tr>\n",
              "</tbody>\n",
              "</table>\n"
            ],
            "text/markdown": "\nA tibble: 1 × 3\n\n| variable &lt;chr&gt; | statistic &lt;dbl&gt; | p.value &lt;dbl&gt; |\n|---|---|---|\n| model3$residuals | 0.9848906 | 0.5430686 |\n\n",
            "text/latex": "A tibble: 1 × 3\n\\begin{tabular}{lll}\n variable & statistic & p.value\\\\\n <chr> & <dbl> & <dbl>\\\\\n\\hline\n\t model3\\$residuals & 0.9848906 & 0.5430686\\\\\n\\end{tabular}\n",
            "text/plain": [
              "  variable         statistic p.value  \n",
              "1 model3$residuals 0.9848906 0.5430686"
            ]
          },
          "metadata": {}
        }
      ]
    },
    {
      "cell_type": "markdown",
      "source": [
        "La prueba de Shapiro-Wilk fue de SW = .985, p = .543, por lo que se puede decir que los residuos del modelo presentan distribución normal."
      ],
      "metadata": {
        "id": "pg75wqNh1L_d"
      }
    },
    {
      "cell_type": "markdown",
      "source": [
        "# Independencia o no multicolinealidad"
      ],
      "metadata": {
        "id": "jPVUsC8v1NCK"
      }
    },
    {
      "cell_type": "code",
      "source": [
        "car::vif(model3) %>% enframe()"
      ],
      "metadata": {
        "colab": {
          "base_uri": "https://localhost:8080/",
          "height": 161
        },
        "id": "In_9bJJO1PtD",
        "outputId": "141458e6-b855-49fd-deed-20a1b2a8a37b"
      },
      "execution_count": 14,
      "outputs": [
        {
          "output_type": "display_data",
          "data": {
            "text/html": [
              "<table class=\"dataframe\">\n",
              "<caption>A tibble: 2 × 2</caption>\n",
              "<thead>\n",
              "\t<tr><th scope=col>name</th><th scope=col>value</th></tr>\n",
              "\t<tr><th scope=col>&lt;chr&gt;</th><th scope=col>&lt;dbl&gt;</th></tr>\n",
              "</thead>\n",
              "<tbody>\n",
              "\t<tr><td>Afroproblema</td><td>1.096982</td></tr>\n",
              "\t<tr><td>Afroemoción </td><td>1.096982</td></tr>\n",
              "</tbody>\n",
              "</table>\n"
            ],
            "text/markdown": "\nA tibble: 2 × 2\n\n| name &lt;chr&gt; | value &lt;dbl&gt; |\n|---|---|\n| Afroproblema | 1.096982 |\n| Afroemoción  | 1.096982 |\n\n",
            "text/latex": "A tibble: 2 × 2\n\\begin{tabular}{ll}\n name & value\\\\\n <chr> & <dbl>\\\\\n\\hline\n\t Afroproblema & 1.096982\\\\\n\t Afroemoción  & 1.096982\\\\\n\\end{tabular}\n",
            "text/plain": [
              "  name         value   \n",
              "1 Afroproblema 1.096982\n",
              "2 Afroemoción  1.096982"
            ]
          },
          "metadata": {}
        }
      ]
    },
    {
      "cell_type": "markdown",
      "source": [
        "- Afrontamiento centrado en problemas: Tolerancia = .91 (> .20), VIF = 1.10 (< 3)\n",
        "- Afrontamiento centrado en emoción:    Tolerancia = .91 (> .20), VIF = 1.10  (< 3)\n",
        "\n",
        "Los resultados sugieren que ambas variables predictoras, afrontamiento centrado en el problema y centrado en la emoción, no tienen una relación lineal entre sí, por lo que se cumple con el supuesto de independencia de variables."
      ],
      "metadata": {
        "id": "l3uuhz6_1Tet"
      }
    },
    {
      "cell_type": "markdown",
      "source": [
        "# Evaluación del modelo de regresión"
      ],
      "metadata": {
        "id": "7pcvLjvj1Uii"
      }
    },
    {
      "cell_type": "code",
      "source": [
        "summary(model3)"
      ],
      "metadata": {
        "colab": {
          "base_uri": "https://localhost:8080/",
          "height": 364
        },
        "id": "_wkkt9WE1Yx9",
        "outputId": "af804f18-8743-4158-d23f-ddf67ac3bb23"
      },
      "execution_count": 15,
      "outputs": [
        {
          "output_type": "display_data",
          "data": {
            "text/plain": [
              "\n",
              "Call:\n",
              "lm(formula = \"Estrés_académico ~ Afroproblema + Afroemoción\", \n",
              "    data = .)\n",
              "\n",
              "Residuals:\n",
              "     Min       1Q   Median       3Q      Max \n",
              "-11.5111  -2.3226   0.1076   1.9249   8.9667 \n",
              "\n",
              "Coefficients:\n",
              "             Estimate Std. Error t value Pr(>|t|)    \n",
              "(Intercept)  22.08760    2.33471   9.461 4.36e-14 ***\n",
              "Afroproblema -0.20408    0.07022  -2.907  0.00491 ** \n",
              "Afroemoción   0.66126    0.04306  15.358  < 2e-16 ***\n",
              "---\n",
              "Signif. codes:  0 ‘***’ 0.001 ‘**’ 0.01 ‘*’ 0.05 ‘.’ 0.1 ‘ ’ 1\n",
              "\n",
              "Residual standard error: 3.566 on 69 degrees of freedom\n",
              "Multiple R-squared:  0.8115,\tAdjusted R-squared:  0.8061 \n",
              "F-statistic: 148.6 on 2 and 69 DF,  p-value: < 2.2e-16\n"
            ]
          },
          "metadata": {}
        }
      ]
    },
    {
      "cell_type": "markdown",
      "source": [
        "El coeficiente de determinación ajustado fue R2= .806, es decir, el 80.6% de la variación que se observa en estrés académico es explicado por el afrontamiento centrado en el problema y el centrado en la emoción. Según el criterio de Cohen (1988) el R2 es grande."
      ],
      "metadata": {
        "id": "yQLEKRSG1i2D"
      }
    },
    {
      "cell_type": "markdown",
      "source": [
        "El resultado del análisis ANOVA fue F(2,69) = 148.56, p < .001, por lo que se puede decir que el modelo es adecuado. Al menos una de las VI es un predictor significativo del estrés académico."
      ],
      "metadata": {
        "id": "40RtU-fJ1keX"
      }
    },
    {
      "cell_type": "markdown",
      "source": [
        "El análisis de regresión lineal múltiple indica que el $β_{0}=22.09$, $β_{afront.problema}= -0.204$, $p=.002$ (unilateral) y $β_{afront.emoción}=0.661$, $p<.001$ (unilateral). \n",
        "\n",
        "En el caso del afrontamiento centrado en el problema se encontró que predice de manera inversa y significativa al estrés académico. A cada incremento de una unidad en afrontamiento problema se observa una disminución de 0.204 en estrés académico.\n",
        "\n",
        "Por su parte, el afrontamiento centrado en la emoción predice de manera directa y significativa al estrés académico. Por cada unidad adicional de afrontamiento emoción, se observa un aumento de 0.661 en estrés académico. Por todo ello se concluye que se cumple la HT de las investigadoras."
      ],
      "metadata": {
        "id": "-cNIf70Q1oQj"
      }
    },
    {
      "cell_type": "markdown",
      "source": [
        "Estrés académico = 22.09 - 0.204(afrontamiento problema) + 0.661(afrontamiento emoción) + 3.57"
      ],
      "metadata": {
        "id": "wf6kWnNO1qq1"
      }
    },
    {
      "cell_type": "code",
      "source": [
        "data |> \n",
        "  select(Afroproblema, Afroemoción, Estrés_académico) |> \n",
        "  mutate(across(everything(), scale)) %>%\n",
        "  lm(\"Estrés_académico ~ Afroproblema + Afroemoción\", data = .) -> model3_std\n",
        "\n",
        "model3_std %>% summary()"
      ],
      "metadata": {
        "colab": {
          "base_uri": "https://localhost:8080/",
          "height": 364
        },
        "id": "a7dOlvOW1rZ0",
        "outputId": "b6266097-fa77-4cb3-cdbd-7568538ef7a2"
      },
      "execution_count": 16,
      "outputs": [
        {
          "output_type": "display_data",
          "data": {
            "text/plain": [
              "\n",
              "Call:\n",
              "lm(formula = \"Estrés_académico ~ Afroproblema + Afroemoción\", \n",
              "    data = .)\n",
              "\n",
              "Residuals:\n",
              "     Min       1Q   Median       3Q      Max \n",
              "-1.42138 -0.28680  0.01328  0.23768  1.10720 \n",
              "\n",
              "Coefficients:\n",
              "               Estimate Std. Error t value Pr(>|t|)    \n",
              "(Intercept)   2.964e-16  5.190e-02   0.000  1.00000    \n",
              "Afroproblema -1.591e-01  5.474e-02  -2.907  0.00491 ** \n",
              "Afroemoción   8.407e-01  5.474e-02  15.358  < 2e-16 ***\n",
              "---\n",
              "Signif. codes:  0 ‘***’ 0.001 ‘**’ 0.01 ‘*’ 0.05 ‘.’ 0.1 ‘ ’ 1\n",
              "\n",
              "Residual standard error: 0.4404 on 69 degrees of freedom\n",
              "Multiple R-squared:  0.8115,\tAdjusted R-squared:  0.8061 \n",
              "F-statistic: 148.6 on 2 and 69 DF,  p-value: < 2.2e-16\n"
            ]
          },
          "metadata": {}
        }
      ]
    },
    {
      "cell_type": "markdown",
      "source": [
        "De acuerdo a los betas estandarizados, el afrontamiento centrado en la emoción es más importante que el afrontamiento centrado en el problema en el modelo de predicción del estrés académico. \n",
        "\n",
        "$β_{afront.emoción} = .841 > β_{afront.problema} = .159$ "
      ],
      "metadata": {
        "id": "raFlu2b810uu"
      }
    }
  ]
}
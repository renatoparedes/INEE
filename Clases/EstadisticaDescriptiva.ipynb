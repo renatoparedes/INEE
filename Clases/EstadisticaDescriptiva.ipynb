{
  "nbformat": 4,
  "nbformat_minor": 0,
  "metadata": {
    "colab": {
      "provenance": []
    },
    "kernelspec": {
      "name": "ir",
      "display_name": "R"
    },
    "language_info": {
      "name": "R"
    }
  },
  "cells": [
    {
      "cell_type": "markdown",
      "metadata": {
        "id": "ayGZt6vo-yNS"
      },
      "source": [
        "# Estadística Descriptiva\n",
        "\n",
        ">Este tutorial es una adaptación al español del material [Statistical Thinking for the 21st Century](https://statsthinking21.github.io/statsthinking21-core-site/) desarrollado por Russell Poldrack. "
      ]
    },
    {
      "cell_type": "markdown",
      "metadata": {
        "id": "3A-SMGcy-yNl"
      },
      "source": [
        "- Mediante la estadística descriptiva se agrupan datos numéricos: se pierde información detallada pero se gana en síntesis.\n",
        "- Permite describir a un conjunto de datos correspondientes a una característica o propiedad de un conjunto de objetos indicando la tendencia central y la dispersión de los datos.\n",
        "- La tendencia central permite representar al conjunto de datos.\n",
        "- La dispersión permite representar la variabilidad de los datos."
      ]
    },
    {
      "cell_type": "markdown",
      "metadata": {
        "id": "1pj8JEGk-yNo"
      },
      "source": [
        "## Resumiendo datos con la media\n",
        "\n",
        "Ya nos hemos encontrado con la media (o el promedio) anteriormente y, de hecho, la mayoría de las personas conocen el promedio incluso si nunca han tomado una clase de estadística. \n",
        "\n",
        "Se usa comúnmente para describir lo que llamamos la \"tendencia central\" de un conjunto de datos, es decir, ¿en qué valor se centran los datos? **La mayoría de la gente no piensa en calcular una media como ajustar un modelo a los datos**. Sin embargo, eso es exactamente lo que estamos haciendo cuando calculamos la media."
      ]
    },
    {
      "cell_type": "markdown",
      "metadata": {
        "id": "-eVtMW13-yNz"
      },
      "source": [
        "Repasemos la fórmula para calcular la media de una muestra de datos:\n",
        "\n",
        "$$ \\bar{X}=\\frac{\\sum_{i=1}^{n}x_{i}}{n} $$\n",
        "\n",
        "Tenga en cuenta que dije que esta fórmula era específicamente para una **muestra de datos**, que es un conjunto de puntos de datos seleccionados de una población más grande. \n",
        "\n",
        "**Utilizando una muestra, deseamos caracterizar una población más grande**: el conjunto completo de individuos que nos interesan. Por ejemplo, si somos encuestadores políticos, nuestra población de interés podría ser todos votantes registrados, mientras que nuestra muestra podría incluir solo unos pocos miles de personas muestreadas de esta población. "
      ]
    },
    {
      "cell_type": "markdown",
      "metadata": {
        "id": "YF7WjLXy-yN2"
      },
      "source": [
        "De momento no cubriremos a detalle sobre el muestreo, pero por ahora el punto importante es que **a los estadísticos generalmente les gusta usar diferentes símbolos para diferenciar las estadísticas que describen los valores de una muestra de los parámetros que describen los valores verdaderos de una población**; en este caso, la fórmula para la media poblacional (denotada como $\\mu$) es:\n",
        "\n",
        "$$ \\mu=\\frac{\\sum_{i=1}^{n}x_{i}}{N} $$\n",
        "\n",
        "donde N es el tamaño de toda la población."
      ]
    },
    {
      "cell_type": "markdown",
      "metadata": {
        "id": "Kai35AZv-yN5"
      },
      "source": [
        "La mayoría de las medidas de tendencia central se pueden calcular utilizando alguna función de Python, pero mostraremos cómo hacerlo manualmente para dar algo de intuición sobre cómo funcionan. Primero carguemos los datos de NHANES que usaremos para nuestros ejemplos:"
      ]
    },
    {
      "cell_type": "code",
      "source": [
        "install.packages(\"NHANES\")\n",
        "install.packages(\"tidyverse\")\n",
        "install.packages(\"sn\")\n",
        "install.packages(\"e1071\")\n",
        "install.packages(\"rstatix\")\n",
        "\n",
        "library(tidyverse)\n",
        "library(NHANES)\n",
        "library(sn)\n",
        "library(e1071)\n",
        "library(rstatix)"
      ],
      "metadata": {
        "colab": {
          "base_uri": "https://localhost:8080/"
        },
        "id": "n2SnwxvdHcOy",
        "outputId": "f30970af-7d59-48aa-bb23-1762ff0ff87f"
      },
      "execution_count": 110,
      "outputs": [
        {
          "output_type": "stream",
          "name": "stderr",
          "text": [
            "Installing package into ‘/usr/local/lib/R/site-library’\n",
            "(as ‘lib’ is unspecified)\n",
            "\n",
            "Installing package into ‘/usr/local/lib/R/site-library’\n",
            "(as ‘lib’ is unspecified)\n",
            "\n",
            "also installing the dependencies ‘textshaping’, ‘ragg’\n",
            "\n",
            "\n",
            "Warning message in install.packages(\"tidyverse\"):\n",
            "“installation of package ‘textshaping’ had non-zero exit status”\n",
            "Warning message in install.packages(\"tidyverse\"):\n",
            "“installation of package ‘ragg’ had non-zero exit status”\n",
            "Warning message in install.packages(\"tidyverse\"):\n",
            "“installation of package ‘tidyverse’ had non-zero exit status”\n",
            "Installing package into ‘/usr/local/lib/R/site-library’\n",
            "(as ‘lib’ is unspecified)\n",
            "\n",
            "Installing package into ‘/usr/local/lib/R/site-library’\n",
            "(as ‘lib’ is unspecified)\n",
            "\n",
            "Installing package into ‘/usr/local/lib/R/site-library’\n",
            "(as ‘lib’ is unspecified)\n",
            "\n",
            "also installing the dependencies ‘minqa’, ‘nloptr’, ‘Rcpp’, ‘RcppEigen’, ‘carData’, ‘abind’, ‘pbkrtest’, ‘lme4’, ‘corrplot’, ‘car’\n",
            "\n",
            "\n",
            "\n",
            "Attaching package: ‘rstatix’\n",
            "\n",
            "\n",
            "The following object is masked from ‘package:stats’:\n",
            "\n",
            "    filter\n",
            "\n",
            "\n"
          ]
        }
      ]
    },
    {
      "cell_type": "code",
      "source": [
        "data(NHANES)\n",
        "\n",
        "NHANES %>%\n",
        "  filter(Age > 17) -> dt"
      ],
      "metadata": {
        "id": "WSPa887CIKYO"
      },
      "execution_count": 66,
      "outputs": []
    },
    {
      "cell_type": "markdown",
      "metadata": {
        "id": "oUV2-4sZ-yOL"
      },
      "source": [
        "La media se define como la suma de valores dividida por el número de valores que se suman. Supongamos que queremos obtener la altura media de los adultos en la base de datos de NHANES (contenida en los datos de Altura que generamos anteriormente). Sumaríamos las alturas individuales (usando el operador `.sum()`) y luego dividiríamos por el número de valores:"
      ]
    },
    {
      "cell_type": "code",
      "source": [
        "sum(dt$Height, na.rm = T) / length(na.omit(dt$Height))"
      ],
      "metadata": {
        "colab": {
          "base_uri": "https://localhost:8080/",
          "height": 34
        },
        "id": "Oh5dMl9BJMSA",
        "outputId": "075f687c-486b-4ebc-8924-bfabcc7a40ae"
      },
      "execution_count": 7,
      "outputs": [
        {
          "output_type": "display_data",
          "data": {
            "text/html": [
              "168.862957974138"
            ],
            "text/markdown": "168.862957974138",
            "text/latex": "168.862957974138",
            "text/plain": [
              "[1] 168.863"
            ]
          },
          "metadata": {}
        }
      ]
    },
    {
      "cell_type": "markdown",
      "metadata": {
        "id": "Y5AtKH7j-yON"
      },
      "source": [
        "Por supuesto, hay un operador incorporado en el Data Frame llamado `.mean()` que calculará la media:"
      ]
    },
    {
      "cell_type": "code",
      "source": [
        "mean(dt$Height, na.rm = T)"
      ],
      "metadata": {
        "colab": {
          "base_uri": "https://localhost:8080/",
          "height": 34
        },
        "id": "qdBi795AJ1RA",
        "outputId": "1eeaec28-2588-4357-89b1-d3266804553b"
      },
      "execution_count": 8,
      "outputs": [
        {
          "output_type": "display_data",
          "data": {
            "text/html": [
              "168.862957974138"
            ],
            "text/markdown": "168.862957974138",
            "text/latex": "168.862957974138",
            "text/plain": [
              "[1] 168.863"
            ]
          },
          "metadata": {}
        }
      ]
    },
    {
      "cell_type": "markdown",
      "metadata": {
        "id": "VOqPwLpa-yOQ"
      },
      "source": [
        "Ya hemos visto que la media es el estimador que está garantizado para darnos un error promedio de cero, pero también aprendimos que el error promedio no es el mejor criterio; en cambio, **queremos un estimador que nos dé la suma más baja de errores al cuadrado (SSE), que también lo hace la media**. \n",
        "\n",
        "Podríamos probar esto usando cálculo, pero en su lugar lo demostraremos gráficamente:"
      ]
    },
    {
      "cell_type": "code",
      "source": [
        "# Creamos una función para calcular el SSE\n",
        "sse <- function(pred, data) {\n",
        "  squared_errors = (data - pred) ^ 2\n",
        "  sum(squared_errors, na.rm = T)\n",
        "}\n",
        "\n",
        "# Generaos los valores a someter a prueba\n",
        "vals = seq(min(dt$Height, na.rm = T),\n",
        "           max(dt$Height, na.rm = T) + 1)\n",
        "\n",
        "# Calculamos el SSE para cada uno de los valores\n",
        "sse_sweep = vals %>% map_dbl(~ sse(.x, dt$Height))\n",
        "\n",
        "# Graficamos nuestros resultados\n",
        "tibble(vals, sse_sweep) %>%\n",
        "  ggplot(aes(vals, sse_sweep)) +\n",
        "  geom_line(colour = \"blue\") +\n",
        "  labs(x = \"Valor de prueba\",\n",
        "       y = \"SSE\") +\n",
        "  geom_vline(xintercept = mean(dt$Height, na.rm = T), colour = \"red\") +\n",
        "  theme_classic()"
      ],
      "metadata": {
        "colab": {
          "base_uri": "https://localhost:8080/",
          "height": 437
        },
        "id": "4EVHgc3qKS3-",
        "outputId": "31a5df49-52eb-4fc3-b02d-fec1da0976c7"
      },
      "execution_count": 9,
      "outputs": [
        {
          "output_type": "display_data",
          "data": {
            "text/plain": [
              "plot without title"
            ],
            "image/png": "[encoded data removed]"
          },
          "metadata": {
            "image/png": {
              "width": 420,
              "height": 420
            }
          }
        }
      ]
    },
    {
      "cell_type": "markdown",
      "metadata": {
        "id": "ogwZb66u-yOT"
      },
      "source": [
        "El gráfico muestra cómo **la media es un estadístico que minimiza la suma de errores cuadrados**. Utilizando los datos de altura de los adultos de NHANES, calculamos la media (barra roja). Luego, probamos un rango de posibles estimaciones de parámetros, y para cada uno calculamos la suma de los errores al cuadrado (curva azul). Vemos que la media cae al mínimo de la gráfica de error al cuadrado."
      ]
    },
    {
      "cell_type": "markdown",
      "metadata": {
        "id": "ekSv8GLe-yOU"
      },
      "source": [
        "Esta minimización de SSE es una buena característica y es por eso que **la media es la estadística más utilizada para resumir datos**. Sin embargo, la media también tiene un lado oscuro. Supongamos que hay cinco personas en un bar y examinamos los ingresos de cada uno:\n",
        "\n",
        "| Ingresos \t| Persona  \t|\n",
        "|----------\t|----------\t|\n",
        "| 48000    \t| Juan     \t|\n",
        "| 64000    \t| Karen    \t|\n",
        "| 58000    \t| Marco    \t|\n",
        "| 72000    \t| Andrea   \t|\n",
        "| 66000    \t| Patricio \t|\n",
        "\n",
        "La media (6160,00) parece ser un resumen bastante bueno de los ingresos de esas cinco personas. Ahora veamos qué sucede si César Amuña entra al bar."
      ]
    },
    {
      "cell_type": "markdown",
      "metadata": {
        "id": "J4ar8Ds9-yOW"
      },
      "source": [
        "\n",
        "| Ingresos \t| Persona  \t|\n",
        "|----------\t|----------\t|\n",
        "| 48000    \t| Juan     \t|\n",
        "| 64000    \t| Karen    \t|\n",
        "| 58000    \t| Marco    \t|\n",
        "| 72000    \t| Andrea   \t|\n",
        "| 66000    \t| Patricio \t|\n",
        "| 54000000 \t| César    \t|\n",
        "\n",
        "La media ahora es de casi 10 millones, que no es realmente representativa de ninguna de las personas en el bar; en particular, está fuertemente impulsada por el valor periférico de César. En general, **la media es muy sensible a los valores extremos, por lo que siempre es importante asegurarse de que no haya valores extremos cuando se utiliza la media para resumir los datos**."
      ]
    },
    {
      "cell_type": "markdown",
      "metadata": {
        "id": "GgdWb1I9-yOX"
      },
      "source": [
        "## Resumiendo datos de manera robusta utilizando la mediana\n",
        "\n",
        "Si queremos **resumir los datos de una manera que sea menos sensible a los valores atípicos**, podemos usar otra estadística llamada mediana. \n",
        "\n",
        "Si tuviéramos que ordenar todos los valores en orden de magnitud, entonces **la mediana es el valor en el medio**. Si hay un número par de valores, habrá dos valores empatados para el lugar medio, en cuyo caso tomamos la media (es decir, el punto medio) de esos dos números."
      ]
    },
    {
      "cell_type": "markdown",
      "metadata": {
        "id": "HUAwWSqz-yOZ"
      },
      "source": [
        "Procedamos a implementar la mediana. Primero ordenamos los datos según sus valores:"
      ]
    },
    {
      "cell_type": "code",
      "source": [
        "height_sorted = na.omit(dt$Height) %>% sort()"
      ],
      "metadata": {
        "id": "-H-jh38Pb6la"
      },
      "execution_count": 10,
      "outputs": []
    },
    {
      "cell_type": "markdown",
      "metadata": {
        "id": "F2qYLhMm-yOc"
      },
      "source": [
        "A continuación, encontramos el valor mediano. Si hay un número impar de valores en la lista, entonces este es solo el valor del medio, mientras que si el número de valores es par, tomamos el promedio de los dos valores del medio. Podemos determinar si el número de elementos es par dividiendo la longitud por dos y viendo si queda un resto:"
      ]
    },
    {
      "cell_type": "code",
      "source": [
        "height_length_mod_2 = length(height_sorted) %% 2\n",
        "\n",
        "height_length_mod_2"
      ],
      "metadata": {
        "colab": {
          "base_uri": "https://localhost:8080/",
          "height": 34
        },
        "id": "Ai8jo1D1edRF",
        "outputId": "24663205-a66f-4315-f5a3-3260694f426e"
      },
      "execution_count": 11,
      "outputs": [
        {
          "output_type": "display_data",
          "data": {
            "text/html": [
              "0"
            ],
            "text/markdown": "0",
            "text/latex": "0",
            "text/plain": [
              "[1] 0"
            ]
          },
          "metadata": {}
        }
      ]
    },
    {
      "cell_type": "markdown",
      "metadata": {
        "id": "28-Y7xkZ-yOd"
      },
      "source": [
        "Aquí probaremos si el resto es igual a uno; si es así, tomaremos el valor medio, de lo contrario, tomaremos el promedio de los dos valores medios. Podemos hacer esto usando una estructura if/else, que ejecuta diferentes procesos dependiendo de cuál de los argumentos sea verdadero. A continuación, se muestra un ejemplo sencillo:"
      ]
    },
    {
      "cell_type": "code",
      "source": [
        "if (1 > 2) {\n",
        "  print(\"1 > 2\")\n",
        "} else {\n",
        "  print(\"1 no es mayor a dos 2!\")\n",
        "}"
      ],
      "metadata": {
        "colab": {
          "base_uri": "https://localhost:8080/"
        },
        "id": "Th8aQGbLexcN",
        "outputId": "1970a271-0ab2-4847-b5a9-5e820e66bd85"
      },
      "execution_count": 12,
      "outputs": [
        {
          "output_type": "stream",
          "name": "stdout",
          "text": [
            "[1] \"1 no es mayor a dos 2!\"\n"
          ]
        }
      ]
    },
    {
      "cell_type": "markdown",
      "metadata": {
        "id": "2tL671Kn-yOf"
      },
      "source": [
        "Para nuestro ejemplo, podemos usar una declaración if para determinar cómo calcular la mediana, dependiendo de si hay un número par o impar de puntos de datos."
      ]
    },
    {
      "cell_type": "code",
      "source": [
        "if (height_length_mod_2 == 1) {\n",
        "  # valores impares - toma el punto medio unico\n",
        "  midpoint = ceiling(length(height_sorted) / 2)\n",
        "  height_sorted[midpoint]\n",
        "} else {\n",
        "  # valores pares - necesita promediar los dos puntos medios\n",
        "  midpoint1 = length(height_sorted) / 2\n",
        "  midpoint2 = midpoint1 + 1\n",
        "  mean(height_sorted[midpoint1], height_sorted[midpoint2])\n",
        "}"
      ],
      "metadata": {
        "colab": {
          "base_uri": "https://localhost:8080/",
          "height": 34
        },
        "id": "_v3hejxDfHuH",
        "outputId": "eeec8a8a-67f2-4f49-8ad9-43b4d4eb2e98"
      },
      "execution_count": 13,
      "outputs": [
        {
          "output_type": "display_data",
          "data": {
            "text/html": [
              "168.8"
            ],
            "text/markdown": "168.8",
            "text/latex": "168.8",
            "text/plain": [
              "[1] 168.8"
            ]
          },
          "metadata": {}
        }
      ]
    },
    {
      "cell_type": "markdown",
      "metadata": {
        "id": "qBJfpcJg-yOh"
      },
      "source": [
        "Están sucediendo muchas cosas allí, así que vamos a desmenuzarlo. La primera línea de la instrucción `if` pregunta si el resto es igual a uno; si es así, ejecuta las líneas que están  debajo. \n",
        "\n",
        "Si el resto es uno, eso significa que el número de observaciones es impar y, por lo tanto, podemos simplemente tomar el punto medio. Determinamos esto dividiendo el número de observaciones por dos y luego redondeando hacia arriba (que es lo que hace la función `ceiling()`). \n",
        "\n",
        "Si la primera prueba es falsa, es decir, si el resto es cero, la segunda sección de código (después de la instrucción `else`) se ejecutará en su lugar. Aquí necesitamos encontrar los dos puntos medios y promediarlos, por lo que creamos una dos variables que contienen esos dos puntos, y luego usamos ese índice de nuestros datos y luego tomamos la media.\n",
        "\n",
        "Por supuesto, también hay una función llamada `median()` que calculará la media:"
      ]
    },
    {
      "cell_type": "code",
      "execution_count": 14,
      "metadata": {
        "id": "l5zZ8piy-yOi",
        "outputId": "7e083ef3-9b67-45d3-9192-e833857150b3",
        "colab": {
          "base_uri": "https://localhost:8080/",
          "height": 34
        }
      },
      "outputs": [
        {
          "output_type": "display_data",
          "data": {
            "text/html": [
              "168.8"
            ],
            "text/markdown": "168.8",
            "text/latex": "168.8",
            "text/plain": [
              "[1] 168.8"
            ]
          },
          "metadata": {}
        }
      ],
      "source": [
        "median(dt$Height, na.rm = T)"
      ]
    },
    {
      "cell_type": "markdown",
      "metadata": {
        "id": "mElBzGjr-yOj"
      },
      "source": [
        "Mientras que la media minimiza la suma de los errores cuadrados, **la mediana minimiza una cantidad ligeramente diferente: la suma del valor absoluto de los errores**. \n",
        "\n",
        "Esto explica por qué es menos sensible a los valores atípicos: **la cuadratura exacerbará el efecto de los errores grandes en comparación con tomar el valor absoluto**. \n",
        "\n",
        "Podemos ver esto en el caso del ejemplo de los ingresos: el ingreso mediano (65,000) es mucho más representativo del grupo en su conjunto que la media (9,051,333) y menos sensible al valor atípico grande."
      ]
    },
    {
      "cell_type": "markdown",
      "metadata": {
        "id": "ZJOmwRAj-yOl"
      },
      "source": [
        "Dado esto, ¿por qué usaríamos la media? La media es el \"mejor\" estimador en el sentido de que variará menos de una muestra a otra en comparación con otros estimadores. Depende de nosotros decidir si vale la pena la sensibilidad a posibles valores atípicos: las estadísticas se tratan de compensaciones (tradeoffs)."
      ]
    },
    {
      "cell_type": "markdown",
      "metadata": {
        "id": "9PB6jF5i-yOm"
      },
      "source": [
        "## La moda\n",
        "\n",
        "La moda es el valor más frecuente que ocurre en una variable."
      ]
    },
    {
      "cell_type": "markdown",
      "metadata": {
        "id": "CxRIKnJe-yOo"
      },
      "source": [
        "Por ejemplo, digamos que tenemos los siguientes datos:"
      ]
    },
    {
      "cell_type": "code",
      "source": [
        "toy_data = tibble(myvar = c(\"a\", \"a\", \"b\", \"c\"))"
      ],
      "metadata": {
        "id": "_FFYvQqTptcQ"
      },
      "execution_count": 15,
      "outputs": []
    },
    {
      "cell_type": "markdown",
      "metadata": {
        "id": "LF2n9sWe-yOp"
      },
      "source": [
        "Podemos ver a simple vista que el modo es “a” ya que ocurre con más frecuencia que los demás. Para encontrarlo computacionalmente, usemos la función `count()` para encontrar la frecuencia de cada valor:"
      ]
    },
    {
      "cell_type": "code",
      "execution_count": 16,
      "metadata": {
        "id": "gLCTpEPn-yOq",
        "outputId": "9977ddb6-51e8-4476-912f-4c398e3c333f",
        "colab": {
          "base_uri": "https://localhost:8080/",
          "height": 192
        }
      },
      "outputs": [
        {
          "output_type": "display_data",
          "data": {
            "text/html": [
              "<table class=\"dataframe\">\n",
              "<caption>A tibble: 3 × 2</caption>\n",
              "<thead>\n",
              "\t<tr><th scope=col>myvar</th><th scope=col>n</th></tr>\n",
              "\t<tr><th scope=col>&lt;chr&gt;</th><th scope=col>&lt;int&gt;</th></tr>\n",
              "</thead>\n",
              "<tbody>\n",
              "\t<tr><td>a</td><td>2</td></tr>\n",
              "\t<tr><td>b</td><td>1</td></tr>\n",
              "\t<tr><td>c</td><td>1</td></tr>\n",
              "</tbody>\n",
              "</table>\n"
            ],
            "text/markdown": "\nA tibble: 3 × 2\n\n| myvar &lt;chr&gt; | n &lt;int&gt; |\n|---|---|\n| a | 2 |\n| b | 1 |\n| c | 1 |\n\n",
            "text/latex": "A tibble: 3 × 2\n\\begin{tabular}{ll}\n myvar & n\\\\\n <chr> & <int>\\\\\n\\hline\n\t a & 2\\\\\n\t b & 1\\\\\n\t c & 1\\\\\n\\end{tabular}\n",
            "text/plain": [
              "  myvar n\n",
              "1 a     2\n",
              "2 b     1\n",
              "3 c     1"
            ]
          },
          "metadata": {}
        }
      ],
      "source": [
        "myvar_frequencies = toy_data %>% count(myvar)\n",
        "myvar_frequencies"
      ]
    },
    {
      "cell_type": "markdown",
      "metadata": {
        "id": "40UkBjfr-yOr"
      },
      "source": [
        "Ahora busquemos la frecuencia más alta, usando la función `max()`:"
      ]
    },
    {
      "cell_type": "code",
      "execution_count": 17,
      "metadata": {
        "id": "Kg2BZtC2-yOs",
        "outputId": "5568e45d-dca7-4989-edf1-1d646ae3a2d1",
        "colab": {
          "base_uri": "https://localhost:8080/",
          "height": 34
        }
      },
      "outputs": [
        {
          "output_type": "display_data",
          "data": {
            "text/html": [
              "2"
            ],
            "text/markdown": "2",
            "text/latex": "2",
            "text/plain": [
              "[1] 2"
            ]
          },
          "metadata": {}
        }
      ],
      "source": [
        "max_frequency = max(myvar_frequencies$n)\n",
        "max_frequency"
      ]
    },
    {
      "cell_type": "markdown",
      "metadata": {
        "id": "HFDfKRTd-yOt"
      },
      "source": [
        "Ahora podemos encontrar los valores que tienen la frecuencia máxima:"
      ]
    },
    {
      "cell_type": "code",
      "source": [
        "myvar_frequencies %>%\n",
        "  filter(n == max_frequency)"
      ],
      "metadata": {
        "colab": {
          "base_uri": "https://localhost:8080/",
          "height": 129
        },
        "id": "nM48E-7PqThv",
        "outputId": "b7a71e37-545f-4ef6-9bc4-431a980baf8d"
      },
      "execution_count": 18,
      "outputs": [
        {
          "output_type": "display_data",
          "data": {
            "text/html": [
              "<table class=\"dataframe\">\n",
              "<caption>A tibble: 1 × 2</caption>\n",
              "<thead>\n",
              "\t<tr><th scope=col>myvar</th><th scope=col>n</th></tr>\n",
              "\t<tr><th scope=col>&lt;chr&gt;</th><th scope=col>&lt;int&gt;</th></tr>\n",
              "</thead>\n",
              "<tbody>\n",
              "\t<tr><td>a</td><td>2</td></tr>\n",
              "</tbody>\n",
              "</table>\n"
            ],
            "text/markdown": "\nA tibble: 1 × 2\n\n| myvar &lt;chr&gt; | n &lt;int&gt; |\n|---|---|\n| a | 2 |\n\n",
            "text/latex": "A tibble: 1 × 2\n\\begin{tabular}{ll}\n myvar & n\\\\\n <chr> & <int>\\\\\n\\hline\n\t a & 2\\\\\n\\end{tabular}\n",
            "text/plain": [
              "  myvar n\n",
              "1 a     2"
            ]
          },
          "metadata": {}
        }
      ]
    },
    {
      "cell_type": "markdown",
      "metadata": {
        "id": "4HSNNIzD-yOv"
      },
      "source": [
        "No hay una función en R que calcule la moda, pero podemos crear una sin problema:"
      ]
    },
    {
      "cell_type": "code",
      "source": [
        "getmode <- function(v) {\n",
        "   uniqv <- unique(v)\n",
        "   uniqv[which.max(tabulate(match(v, uniqv)))]\n",
        "}\n",
        "\n",
        "getmode(toy_data$myvar)"
      ],
      "metadata": {
        "colab": {
          "base_uri": "https://localhost:8080/",
          "height": 34
        },
        "id": "HRazBEpjrjLc",
        "outputId": "ec4dd605-573f-4968-c22e-80a0b515bef3"
      },
      "execution_count": 19,
      "outputs": [
        {
          "output_type": "display_data",
          "data": {
            "text/html": [
              "'a'"
            ],
            "text/markdown": "'a'",
            "text/latex": "'a'",
            "text/plain": [
              "[1] \"a\""
            ]
          },
          "metadata": {}
        }
      ]
    },
    {
      "cell_type": "code",
      "execution_count": 20,
      "metadata": {
        "id": "Smgtivuq-yOw",
        "outputId": "c3842614-0425-4910-8509-7a2bb2244991",
        "colab": {
          "base_uri": "https://localhost:8080/",
          "height": 34
        }
      },
      "outputs": [
        {
          "output_type": "display_data",
          "data": {
            "text/html": [
              "173.2"
            ],
            "text/markdown": "173.2",
            "text/latex": "173.2",
            "text/plain": [
              "[1] 173.2"
            ]
          },
          "metadata": {}
        }
      ],
      "source": [
        "na.omit(dt$Height) %>% getmode()"
      ]
    },
    {
      "cell_type": "markdown",
      "metadata": {
        "id": "l9rYZ5Jw-yOx"
      },
      "source": [
        "## Variabilidad: ¿Qué tan bien se ajusta la media a los datos?\n",
        "\n",
        "Una vez que hemos descrito la tendencia central de los datos, a menudo **también queremos describir cuán variables son los datos**; esto a veces también se denomina \"dispersión\", lo que refleja el hecho de que describe cuán ampliamente dispersos están los datos.\n",
        "\n",
        "Ya hemos encontrado la suma de los errores cuadrados arriba, que es la base para las medidas de variabilidad más comúnmente utilizadas: **la varianza y la desviación estándar**. "
      ]
    },
    {
      "cell_type": "markdown",
      "metadata": {
        "id": "Aie0Kj7K-yOy"
      },
      "source": [
        "La **varianza de una población** (a la que se hace referencia como $\\sigma^{2}$) es simplemente la suma de los errores cuadrados dividida por el número de observaciones. Es decir, **es exactamente igual que el error cuadrático medio** que revisamos anteriormente:\n",
        "\n",
        "$$ \\sigma^{2} = \\frac{SSE}{N} = \\frac{\\sum_{i=1}^{n}(x_{i}-\\mu)^{2}}{N} $$\n",
        "\n",
        "donde $\\mu$ es la media de la población. \n",
        "\n",
        "La **desviación estándar de la población** es simplemente la raíz cuadrada de esto. Es decir, **la raíz del error cuadrático medio** que vimos antes. La desviación estándar es útil porque los errores están en las mismas unidades que los datos originales (deshaciendo el cuadrado que aplicamos a los errores)."
      ]
    },
    {
      "cell_type": "markdown",
      "metadata": {
        "id": "oGQkw8jq-yOz"
      },
      "source": [
        "Por lo general, no tenemos acceso a toda la población, por lo que tenemos que **calcular la varianza utilizando una muestra**, a la que nos referimos como $\\hat\\sigma^{2}$, donde el \"sombrero\" representa el hecho de que se trata de una estimación basada en una muestra. La ecuación para $\\hat\\sigma^{2}$ es similar a la de $\\sigma^{2}$:\n",
        "\n",
        "$$ \\hat\\sigma^{2}=\\frac{\\sum_{i=1}^{n}(x_{i}-\\bar{X})^{2}}{n-1} $$\n",
        "\n",
        "La única diferencia entre las dos ecuaciones es que **dividimos por $n-1$ en lugar de $N$**. Esto se relaciona con un concepto estadístico fundamental: **grados de libertad**. Recuerde que para calcular la varianza muestral, primero tuvimos que estimar la media muestral $\\bar{X}$. Habiendo estimado esto, un valor en los datos ya no puede **variar libremente**. "
      ]
    },
    {
      "cell_type": "markdown",
      "metadata": {
        "id": "fzSeza87-yO0"
      },
      "source": [
        "Por ejemplo, digamos que tenemos los siguientes puntos de datos para una variable `x:[3, 5, 7, 9, 11]`, cuya media es 7. Como sabemos que la media de este conjunto de datos es 7, podemos calcular cuál sería cualquier valor específico si faltara. Por ejemplo, digamos que ocultáramos el primer valor (3). Una vez hecho esto, todavía sabemos que su valor debe ser 3, porque la media de 7 implica que la suma de todos los valores es `7 ∗ n = 35` y `35 − (5 + 7 + 9 + 11) = 3`.\n",
        "\n",
        "Entonces, **cuando decimos que hemos “perdido” un grado de libertad, significa que hay un valor que no puede variar libremente después de ajustar el modelo**. En el contexto de la varianza de la muestra, si no tenemos en cuenta el grado de libertad perdido, entonces nuestra estimación de la varianza de la muestra estará sesgada, lo que nos hará subestimar la incertidumbre de nuestra estimación de la media."
      ]
    },
    {
      "cell_type": "markdown",
      "metadata": {
        "id": "LP2UDE8q-yO1"
      },
      "source": [
        "### Usemos simulaciones para entender estos conceptos\n",
        "\n",
        "Primero calculemos la varianza, que es la diferencia cuadrática promedio entre cada valor y la media. Hagamos esto con nuestra versión limpia de los datos de altura, pero en lugar de trabajar con el conjunto de datos completo, tomemos una muestra aleatoria de 150 personas:"
      ]
    },
    {
      "cell_type": "code",
      "source": [
        "sample_size = 150\n",
        "height_sample = na.omit(dt$Height) %>% sample(sample_size)"
      ],
      "metadata": {
        "id": "iQtrDeKTppMS"
      },
      "execution_count": 31,
      "outputs": []
    },
    {
      "cell_type": "markdown",
      "metadata": {
        "id": "7JfwHcYz-yO3"
      },
      "source": [
        "Para calcular la varianza que necesitamos, primero debemos calcular la suma de los errores cuadrados a partir de la media:"
      ]
    },
    {
      "cell_type": "code",
      "source": [
        "sum_of_squared_errors = sum((height_sample - mean(height_sample)) ^ 2)"
      ],
      "metadata": {
        "id": "bgrYHZYvrQyw"
      },
      "execution_count": 36,
      "outputs": []
    },
    {
      "cell_type": "markdown",
      "metadata": {
        "id": "fVCv54ob-yO4"
      },
      "source": [
        "Luego dividimos por N - 1 para obtener la varianza estimada:"
      ]
    },
    {
      "cell_type": "code",
      "execution_count": 37,
      "metadata": {
        "hidePrompt": true,
        "id": "VPygWcBg-yO4",
        "outputId": "112d5e1b-c0f4-418e-93c6-eea8a52d6f3a",
        "colab": {
          "base_uri": "https://localhost:8080/",
          "height": 34
        }
      },
      "outputs": [
        {
          "output_type": "display_data",
          "data": {
            "text/html": [
              "118.861387472036"
            ],
            "text/markdown": "118.861387472036",
            "text/latex": "118.861387472036",
            "text/plain": [
              "[1] 118.8614"
            ]
          },
          "metadata": {}
        }
      ],
      "source": [
        "variance_estimate = sum_of_squared_errors / (length(na.omit(height_sample)) - 1)\n",
        "variance_estimate"
      ]
    },
    {
      "cell_type": "markdown",
      "metadata": {
        "id": "kpdgBA8g-yO5"
      },
      "source": [
        "Tratemos la muestra completa de adultos de los datos de NHANES como nuestra \"población\", y veamos qué tan bien los cálculos de la varianza de la muestra usando $n$ o $n−1$ en el denominador estimarán la varianza de esta población, a través de una gran cantidad de muestras aleatorias simuladas a partir de los datos:"
      ]
    },
    {
      "cell_type": "code",
      "source": [
        "# Definimos los parámetros para nuestra simulación\n",
        "n_sims = 1000\n",
        "estimates = matrix(rep(0, 2000), ncol = 2)\n",
        "sample_size = 75\n",
        "\n",
        "# Simulamos muestreos y para cada uno calculamos nuestras estimaciones\n",
        "var_sim <- function(x) {\n",
        "  height_sample = na.omit(dt$Height) %>% sample(sample_size)\n",
        "  sum_of_squared_errors = sum((height_sample - mean(height_sample)) ^ 2)\n",
        "    # usando n\n",
        "    variance_estimate_n = sum_of_squared_errors / length(height_sample)\n",
        "    # usando n - 1\n",
        "    variance_estimate_n1 = sum_of_squared_errors / (length(height_sample) - 1)\n",
        "    tibble(sims = x, \n",
        "           variance_estimate_n = variance_estimate_n,\n",
        "           variance_estimate_n1 = variance_estimate_n1)\n",
        "    }\n",
        "\n",
        "1:n_sims %>%\n",
        "  map_dfr(~var_sim(.x)) -> estimates\n",
        "\n",
        "# mostramos los resultados de nuestra simulación\n",
        "paste0(\"Estimación de la varianza utilzandon: \", mean(estimates$variance_estimate_n))\n",
        "paste0(\"Estimación de la varianza utilizando n-1: \", mean(estimates$variance_estimate_n1))\n"
      ],
      "metadata": {
        "colab": {
          "base_uri": "https://localhost:8080/",
          "height": 52
        },
        "id": "f0JR9PUlUKBC",
        "outputId": "4188d479-521b-4513-b6a1-629f125177a9"
      },
      "execution_count": 53,
      "outputs": [
        {
          "output_type": "display_data",
          "data": {
            "text/html": [
              "'Estimación de la varianza utilzandon: 100.843507754667'"
            ],
            "text/markdown": "'Estimación de la varianza utilzandon: 100.843507754667'",
            "text/latex": "'Estimación de la varianza utilzandon: 100.843507754667'",
            "text/plain": [
              "[1] \"Estimación de la varianza utilzandon: 100.843507754667\""
            ]
          },
          "metadata": {}
        },
        {
          "output_type": "display_data",
          "data": {
            "text/html": [
              "'Estimación de la varianza utilizando n-1: 102.206257859459'"
            ],
            "text/markdown": "'Estimación de la varianza utilizando n-1: 102.206257859459'",
            "text/latex": "'Estimación de la varianza utilizando n-1: 102.206257859459'",
            "text/plain": [
              "[1] \"Estimación de la varianza utilizando n-1: 102.206257859459\""
            ]
          },
          "metadata": {}
        }
      ]
    },
    {
      "cell_type": "markdown",
      "metadata": {
        "id": "MAfcbXac-yO7"
      },
      "source": [
        "Ahora comparemos estos valores con la varianza de la población:"
      ]
    },
    {
      "cell_type": "code",
      "source": [
        "height_population = na.omit(dt$Height)\n",
        "sum_of_squared_errors = sum((height_population - mean(height_population)) ^ 2)\n",
        "variance = sum_of_squared_errors / length(height_population)\n",
        "variance"
      ],
      "metadata": {
        "colab": {
          "base_uri": "https://localhost:8080/",
          "height": 34
        },
        "id": "AEBAHjvgdb8Q",
        "outputId": "a29b6929-04b2-4dd0-fb99-ac04a62cce91"
      },
      "execution_count": 55,
      "outputs": [
        {
          "output_type": "display_data",
          "data": {
            "text/html": [
              "102.114137047803"
            ],
            "text/markdown": "102.114137047803",
            "text/latex": "102.114137047803",
            "text/plain": [
              "[1] 102.1141"
            ]
          },
          "metadata": {}
        }
      ]
    },
    {
      "cell_type": "markdown",
      "metadata": {
        "id": "945Ev-8M-yO8"
      },
      "source": [
        "Los resultados de la simulación nos muestran que la teoría descrita anteriormente era correcta: la estimación de la varianza usando $n−1$ como denominador está muy cerca de la varianza calculada sobre los datos completos (es decir, la población), mientras que la varianza calculada usando $n$ como el denominador está sesgado (más pequeño) en comparación con el valor real."
      ]
    },
    {
      "cell_type": "markdown",
      "metadata": {
        "id": "-r5fDjo5-yO9"
      },
      "source": [
        "Podemos hacer los cálculos de la varianza y la desviación estándar de manera más sencilla con funciones integradas:"
      ]
    },
    {
      "cell_type": "code",
      "source": [
        "paste0(\"Varianza: \", var(height_population))\n",
        "paste0(\"Desviación estándar: \", sd(height_population))\n"
      ],
      "metadata": {
        "colab": {
          "base_uri": "https://localhost:8080/",
          "height": 52
        },
        "id": "KVWeRa7Td5wZ",
        "outputId": "4f770230-9a3d-4fd3-fd3b-42fb2c3d06c0"
      },
      "execution_count": 58,
      "outputs": [
        {
          "output_type": "display_data",
          "data": {
            "text/html": [
              "'Varianza: 102.127893498975'"
            ],
            "text/markdown": "'Varianza: 102.127893498975'",
            "text/latex": "'Varianza: 102.127893498975'",
            "text/plain": [
              "[1] \"Varianza: 102.127893498975\""
            ]
          },
          "metadata": {}
        },
        {
          "output_type": "display_data",
          "data": {
            "text/html": [
              "'Desviación estándar: 10.10583462654'"
            ],
            "text/markdown": "'Desviación estándar: 10.10583462654'",
            "text/latex": "'Desviación estándar: 10.10583462654'",
            "text/plain": [
              "[1] \"Desviación estándar: 10.10583462654\""
            ]
          },
          "metadata": {}
        }
      ]
    },
    {
      "cell_type": "markdown",
      "metadata": {
        "id": "x7h9njEo-yO-"
      },
      "source": [
        "## Rango intercuartílico\n",
        "\n",
        "Una medida de dispersión especialmente robusta a los valores extremos es el rango intercuartílico (IQR). Para calcularlo, primero encuentra la mediana (valor medio) de la mitad inferior y de la mitad superior de los datos. Estos valores son el primer cuartil (Q1 o percentil 25) y el tercer cuartil (Q3 o percentil 75). El IQR es la diferencia entre Q3 y Q1."
      ]
    },
    {
      "cell_type": "markdown",
      "metadata": {
        "id": "_gVaYnPx-yO-"
      },
      "source": [
        "En nuestro ejemplo, podemos implementarlo de la siguiente manera:"
      ]
    },
    {
      "cell_type": "code",
      "source": [
        "iqr = quantile(height_population, .75) - quantile(height_population, .25)\n",
        "paste0(\"Rango intercuartílico: \", iqr)"
      ],
      "metadata": {
        "colab": {
          "base_uri": "https://localhost:8080/",
          "height": 34
        },
        "id": "oR1GjjqLelA_",
        "outputId": "c5f3ce9b-4a86-4bff-ce08-43f0a1a734db"
      },
      "execution_count": 63,
      "outputs": [
        {
          "output_type": "display_data",
          "data": {
            "text/html": [
              "'Rango intercuartílico: 14.625'"
            ],
            "text/markdown": "'Rango intercuartílico: 14.625'",
            "text/latex": "'Rango intercuartílico: 14.625'",
            "text/plain": [
              "[1] \"Rango intercuartílico: 14.625\""
            ]
          },
          "metadata": {}
        }
      ]
    },
    {
      "cell_type": "markdown",
      "metadata": {
        "id": "Yw8zgwLU-yPA"
      },
      "source": [
        "## Forma de la distribución\n",
        "\n",
        "La asimetría es un parámetro para medir la simetría de un conjunto de datos. Por su parte, la curtosis sirve para medir qué tan pesadas son sus colas en comparación con una distribución normal. Veamos un ejemplo a partir de una simulación:"
      ]
    },
    {
      "cell_type": "code",
      "source": [
        "# Definimos los parámetros de la simulación\n",
        "n = 10000\n",
        "start = 0\n",
        "width = 20\n",
        "\n",
        "# Simulamos distribuciones con diferentes parámetros e asimetría \"a\"\n",
        "a = 0\n",
        "data_normal = sn::rsn(n = n, alpha = a, xi = start, omega = width)\n",
        "\n",
        "a = 3\n",
        "data_skew = sn::rsn(n = n, alpha = a, xi = start, omega = width)\n",
        "\n",
        "# Generamos los gráficos\n",
        "\n",
        "tibble(\"a=0\" = data_normal,\n",
        "       \"a=3\"   = data_skew) %>%\n",
        "pivot_longer(everything(), names_to = \"dist\", values_to = \"value\") %>%\n",
        "ggplot(aes(x = value)) +\n",
        "geom_histogram() +\n",
        "facet_wrap(~dist) +\n",
        "theme_classic() +\n",
        "labs(x = NULL, y = NULL)\n",
        "\n",
        "tibble(\"a=0\" = data_normal,\n",
        "       \"a=3\"   = data_skew) %>%\n",
        "pivot_longer(everything(), names_to = \"dist\", values_to = \"value\") %>%\n",
        "group_by(dist) %>%\n",
        "summarise(media = mean(value),\n",
        "          varianza = var(value),\n",
        "          asimetría = skewness(value, type = 2),\n",
        "          curtosis = kurtosis(value, type = 2))\n",
        "\n",
        "\n"
      ],
      "metadata": {
        "colab": {
          "base_uri": "https://localhost:8080/",
          "height": 598
        },
        "id": "ZIbzE_1de4KT",
        "outputId": "547c34ce-5bea-40a4-ce36-d4bc2f22e761"
      },
      "execution_count": 95,
      "outputs": [
        {
          "output_type": "stream",
          "name": "stderr",
          "text": [
            "\u001b[1m\u001b[22m`stat_bin()` using `bins = 30`. Pick better value with `binwidth`.\n"
          ]
        },
        {
          "output_type": "display_data",
          "data": {
            "text/html": [
              "<table class=\"dataframe\">\n",
              "<caption>A tibble: 2 × 5</caption>\n",
              "<thead>\n",
              "\t<tr><th scope=col>dist</th><th scope=col>media</th><th scope=col>varianza</th><th scope=col>asimetría</th><th scope=col>curtosis</th></tr>\n",
              "\t<tr><th scope=col>&lt;chr&gt;</th><th scope=col>&lt;dbl&gt;</th><th scope=col>&lt;dbl&gt;</th><th scope=col>&lt;dbl&gt;</th><th scope=col>&lt;dbl&gt;</th></tr>\n",
              "</thead>\n",
              "<tbody>\n",
              "\t<tr><td>a=0</td><td> 0.1508701</td><td>399.6172</td><td>-0.005942583</td><td>-0.07617556</td></tr>\n",
              "\t<tr><td>a=3</td><td>15.2265278</td><td>168.2682</td><td> 0.689104553</td><td> 0.64326188</td></tr>\n",
              "</tbody>\n",
              "</table>\n"
            ],
            "text/markdown": "\nA tibble: 2 × 5\n\n| dist &lt;chr&gt; | media &lt;dbl&gt; | varianza &lt;dbl&gt; | asimetría &lt;dbl&gt; | curtosis &lt;dbl&gt; |\n|---|---|---|---|---|\n| a=0 |  0.1508701 | 399.6172 | -0.005942583 | -0.07617556 |\n| a=3 | 15.2265278 | 168.2682 |  0.689104553 |  0.64326188 |\n\n",
            "text/latex": "A tibble: 2 × 5\n\\begin{tabular}{lllll}\n dist & media & varianza & asimetría & curtosis\\\\\n <chr> & <dbl> & <dbl> & <dbl> & <dbl>\\\\\n\\hline\n\t a=0 &  0.1508701 & 399.6172 & -0.005942583 & -0.07617556\\\\\n\t a=3 & 15.2265278 & 168.2682 &  0.689104553 &  0.64326188\\\\\n\\end{tabular}\n",
            "text/plain": [
              "  dist media      varianza asimetría    curtosis   \n",
              "1 a=0   0.1508701 399.6172 -0.005942583 -0.07617556\n",
              "2 a=3  15.2265278 168.2682  0.689104553  0.64326188"
            ]
          },
          "metadata": {}
        },
        {
          "output_type": "display_data",
          "data": {
            "text/plain": [
              "plot without title"
            ],
            "image/png": "[encoded data removed]"
          },
          "metadata": {
            "image/png": {
              "width": 420,
              "height": 420
            }
          }
        }
      ]
    },
    {
      "cell_type": "markdown",
      "metadata": {
        "id": "OMTsa6nA-yPC"
      },
      "source": [
        "# Estadística Inferencial \n",
        "\n",
        "## ¿Qué es la estadística inferencial?\n",
        "\n",
        "- Permite **obtener información de características de una población a partir de muestras**.\n",
        "- Muestra debe ser lo suficientemente grande y representativa."
      ]
    },
    {
      "cell_type": "markdown",
      "metadata": {
        "id": "zH1GVEEk-yPD"
      },
      "source": [
        "- Por población nos referimos a la **población de valores un atributo** (p.e. población de tallas, población de pesos, población de coeficiente intelectual, etc.)\n",
        "- En investigaciones psicológicas con seres humanos, usualmente **un individuo de una población alberga múltiples atributos de interés**.\n",
        "- Población de valores de un atributo ≠ Población de personas."
      ]
    },
    {
      "cell_type": "markdown",
      "metadata": {
        "id": "de4qdB1c-yPE"
      },
      "source": [
        "## Prueba de hipótesis\n",
        "\n",
        "Podemos dividir el proceso de prueba de hipótesis en varios pasos:\n",
        "\n",
        "1. Formular una hipótesis que encarne nuestra predicción (antes de ver los datos)\n",
        "2. Especificar hipótesis nulas y alternas"
      ]
    },
    {
      "cell_type": "markdown",
      "metadata": {
        "id": "5509TcBy-yPE"
      },
      "source": [
        "\n",
        "3. Recopilar algunos datos relevantes para la hipótesis.\n",
        "4. Ajustar un modelo a los datos que representan la hipótesis alternativa y calcular una estadística de prueba\n",
        "5. Calcular la probabilidad del valor observado de ese estadístico asumiendo que la hipótesis nula es verdadera\n",
        "6. Evaluar la \"significación estadística\" del resultado"
      ]
    },
    {
      "cell_type": "markdown",
      "metadata": {
        "id": "ZDkfrCK0-yPF"
      },
      "source": [
        "Por ejemplo, usemos los datos de NHANES para hacer la siguiente pregunta: ¿La actividad física está relacionada con el índice de masa corporal? \n",
        "\n",
        "En el conjunto de datos de NHANES, se preguntó a los participantes si participaban regularmente en deportes, fitness o actividades recreativas de intensidad moderada o vigorosa (almacenados en la variable `WalkOrBicycle`). \n",
        "\n",
        "Los investigadores también midieron la altura y el peso y los utilizaron para calcular el índice de masa corporal (IMC):\n",
        "\n",
        "$$ IMC = \\frac{Peso (kg)}{Altura (m)^{2}} $$"
      ]
    },
    {
      "cell_type": "markdown",
      "metadata": {
        "id": "OB2Hl0Zu-yPG"
      },
      "source": [
        "### Paso 1: Formular una hipótesis de interés\n",
        "\n",
        "Planteamos la hipótesis de que el IMC es mayor para las personas que no realizan actividad física, en comparación con las que sí hacen."
      ]
    },
    {
      "cell_type": "markdown",
      "metadata": {
        "id": "Y0nMEZD_-yPH"
      },
      "source": [
        "### Paso 2: Especificar hipótesis nulas y alternas\n",
        "\n",
        "Para el paso 2, necesitamos especificar nuestra hipótesis nula (que llamamos $H_{0}$) y nuestra hipótesis alternativa (que llamamos $H_{1}$).\n",
        "\n",
        "**$H_{0}$ es la línea de base** contra la cual probamos nuestra hipótesis de interés: es decir, ¿cómo esperaríamos que se vean los datos si no hubiera ningún efecto? La hipótesis nula siempre **implica algún tipo de igualdad** (=, ≤ o ≥).\n",
        "\n",
        "**$H_{1}$ describe lo que esperamos** si realmente hay un efecto. La hipótesis alternativa siempre **implica algún tipo de desigualdad** (≠, > o <). "
      ]
    },
    {
      "cell_type": "markdown",
      "metadata": {
        "id": "CxeYzrOz-yPI"
      },
      "source": [
        "Es importante destacar que la prueba de hipótesis opera bajo el supuesto de que **la hipótesis nula es verdadera a menos que la evidencia demuestre lo contrario**."
      ]
    },
    {
      "cell_type": "markdown",
      "metadata": {
        "id": "5_4nn0hx-yPJ"
      },
      "source": [
        "También tenemos que decidir si queremos probar una hipótesis direccional o no direccional. \n",
        "\n",
        "Una **hipótesis no direccional simplemente predice que habrá una diferencia**, sin predecir en qué dirección irá. Para el ejemplo de IMC/actividad, una hipótesis nula no direccional sería:\n",
        "\n",
        "$$ H_{0}: IMC_{activo} = IMC_{inactivo} $$\n",
        "\n",
        "y la hipótesis alternativa no direccional correspondiente sería:\n",
        "\n",
        "$$ H_{1}: IMC_{activo} \\neq  IMC_{inactivo} $$"
      ]
    },
    {
      "cell_type": "markdown",
      "metadata": {
        "id": "Ta6ytNil-yPJ"
      },
      "source": [
        "Una **hipótesis direccional predice en qué dirección iría la diferencia.** \n",
        "\n",
        "Por ejemplo, tenemos un conocimiento previo sólido para predecir que las personas que realizan actividad física deben pesar menos que las que no, por lo que propondríamos la siguiente hipótesis nula direccional:\n",
        "\n",
        "$$ H_{0}: IMC_{activo} \\geq IMC_{inactivo} $$\n",
        "\n",
        "y la alterna direccional:\n",
        "\n",
        "$$ H_{1}: IMC_{activo} < IMC_{inactivo} $$"
      ]
    },
    {
      "cell_type": "markdown",
      "metadata": {
        "id": "kgGZn60e-yPK"
      },
      "source": [
        "**Probar una hipótesis no direccional** es más conservador, por lo que **generalmente se prefiere a menos que exista una fuerte razón a priori para hipotetizar un efecto en una dirección particular**. \n",
        "\n",
        "Las hipótesis, sean direccionales o no, **siempre deben especificarse antes de mirar los datos.**"
      ]
    },
    {
      "cell_type": "markdown",
      "metadata": {
        "id": "k_PSaVcH-yPK"
      },
      "source": [
        "\n",
        "### Paso 3: Recolectar algunos datos\n",
        "\n",
        "En este caso, muestrearemos 150 individuos del conjunto de datos de NHANES. El gráfico muestra un ejemplo de tal muestra, con el IMC mostrado por separado para individuos activos e inactivos, y la tabla muestra estadísticas resumidas para cada grupo:"
      ]
    },
    {
      "cell_type": "code",
      "source": [
        "sample_size = 150\n",
        "set.seed(100)\n",
        "\n",
        "bmi_sample = dt %>% sample_n(sample_size) %>% select(BMI, PhysActive)\n",
        "\n",
        "bmi_sample %>%\n",
        "  group_by(PhysActive) %>%\n",
        "  summarise(count = n(),\n",
        "            mean  = mean(BMI, na.rm = T),\n",
        "            std   = sd(BMI, na.rm = T))"
      ],
      "metadata": {
        "colab": {
          "base_uri": "https://localhost:8080/",
          "height": 161
        },
        "id": "XQ3JWjSPK641",
        "outputId": "2360bdad-2121-423a-f982-ab54ac0cc0c1"
      },
      "execution_count": 105,
      "outputs": [
        {
          "output_type": "display_data",
          "data": {
            "text/html": [
              "<table class=\"dataframe\">\n",
              "<caption>A tibble: 2 × 4</caption>\n",
              "<thead>\n",
              "\t<tr><th scope=col>PhysActive</th><th scope=col>count</th><th scope=col>mean</th><th scope=col>std</th></tr>\n",
              "\t<tr><th scope=col>&lt;fct&gt;</th><th scope=col>&lt;int&gt;</th><th scope=col>&lt;dbl&gt;</th><th scope=col>&lt;dbl&gt;</th></tr>\n",
              "</thead>\n",
              "<tbody>\n",
              "\t<tr><td>No </td><td>73</td><td>29.79945</td><td>6.658464</td></tr>\n",
              "\t<tr><td>Yes</td><td>77</td><td>26.93342</td><td>6.175536</td></tr>\n",
              "</tbody>\n",
              "</table>\n"
            ],
            "text/markdown": "\nA tibble: 2 × 4\n\n| PhysActive &lt;fct&gt; | count &lt;int&gt; | mean &lt;dbl&gt; | std &lt;dbl&gt; |\n|---|---|---|---|\n| No  | 73 | 29.79945 | 6.658464 |\n| Yes | 77 | 26.93342 | 6.175536 |\n\n",
            "text/latex": "A tibble: 2 × 4\n\\begin{tabular}{llll}\n PhysActive & count & mean & std\\\\\n <fct> & <int> & <dbl> & <dbl>\\\\\n\\hline\n\t No  & 73 & 29.79945 & 6.658464\\\\\n\t Yes & 77 & 26.93342 & 6.175536\\\\\n\\end{tabular}\n",
            "text/plain": [
              "  PhysActive count mean     std     \n",
              "1 No         73    29.79945 6.658464\n",
              "2 Yes        77    26.93342 6.175536"
            ]
          },
          "metadata": {}
        }
      ]
    },
    {
      "cell_type": "code",
      "source": [
        "bmi_sample %>%\n",
        "  na.omit() %>%\n",
        "  ggplot(aes(x = PhysActive, y = BMI)) +\n",
        "  geom_boxplot() +\n",
        "  labs(x = \"¿Activo físicamente?\",\n",
        "      y = \"IMC\") +\n",
        "  theme_bw()"
      ],
      "metadata": {
        "colab": {
          "base_uri": "https://localhost:8080/",
          "height": 437
        },
        "id": "lxoqhjy7NR2C",
        "outputId": "b31f5c78-2d15-4d0c-b6e1-fc24c513bb36"
      },
      "execution_count": 109,
      "outputs": [
        {
          "output_type": "display_data",
          "data": {
            "text/plain": [
              "plot without title"
            ],
            "image/png": "[encoded data removed]"
          },
          "metadata": {
            "image/png": {
              "width": 420,
              "height": 420
            }
          }
        }
      ]
    },
    {
      "cell_type": "markdown",
      "metadata": {
        "id": "2XzRzPH_-yPN"
      },
      "source": [
        "### Paso 4: Ajustar un modelo a los datos y calcular un estadístico de prueba\n",
        "\n",
        "A continuación, **queremos usar los datos para calcular una estadística que finalmente nos permitirá decidir si la hipótesis nula se rechaza o no**. \n",
        "\n",
        "Para hacer esto, el modelo necesita cuantificar la cantidad de evidencia a favor de la hipótesis alterna, en relación con la variabilidad de los datos. "
      ]
    },
    {
      "cell_type": "markdown",
      "metadata": {
        "id": "RWWvNGWb-yPN"
      },
      "source": [
        "Por tanto, **podemos pensar en el estadístico de prueba como una medida del tamaño del efecto en comparación con la variabilidad de los datos**. \n",
        "\n",
        "En general, este estadístico de prueba tendrá una distribución de probabilidad asociada, porque eso **nos permite determinar qué tan probable es nuestro valor observado del estadístico bajo la hipótesis nula**."
      ]
    },
    {
      "cell_type": "markdown",
      "metadata": {
        "id": "HOns5WFx-yPO"
      },
      "source": [
        "**Para el ejemplo del IMC, necesitamos un estadístico de prueba que nos permita probar la diferencia entre dos medias**, ya que las hipótesis se expresan en términos del IMC medio de cada grupo. \n",
        "\n",
        "Una estadística que se utiliza a menudo para comparar dos medias es la estadística $t$, desarrollada por primera vez por el estadístico William Sealy Gossett, quien trabajó para Guiness Brewery en Dublín y escribió bajo el seudónimo \"Student\"; por lo tanto, a menudo se llama *estadístico t de Student*. \n",
        "\n",
        "**El estadístico t es apropiado para comparar las medias de dos grupos cuando los tamaños de muestra son relativamente pequeños y se desconoce la desviación estándar de la población.** "
      ]
    },
    {
      "cell_type": "markdown",
      "metadata": {
        "id": "y9GCaHd2-yPP"
      },
      "source": [
        "El estadístico t para la comparación de dos grupos independientes se calcula como:\n",
        "\n",
        "$$ t=\\frac{\\bar{X}_{1}-\\bar{X}_{2}}{\\frac{S^{2}_{1}}{n_{1}} + \\frac{S^{2}_{2}}{n_{2}}} $$\n",
        "\n",
        "donde $\\bar{X}_{1}$ y $\\bar{X}_{2}$ son las medias de ambos grupos, $S^{2}_{1}$ y $S^{2}_{2}$ son las varianzas estimadas de los grupos, y $n_{1}$ y $n_{2}$ son los tamaños de ambos grupos. "
      ]
    },
    {
      "cell_type": "markdown",
      "metadata": {
        "id": "VftIQVgj-yPP"
      },
      "source": [
        "Porque la varianza de una diferencia entre dos variables es la suma de las varianzas de cada variable individual $ (var(A-B))=var(A) + var(B))$, sumamos las varianzas para cada grupo divididas por sus tamaños de muestra para calcular el error estándar de la diferencia. \n",
        "\n",
        "Por lo tanto, **se puede ver el estadístico $t$ como una forma de cuantificar qué tan grande es la diferencia entre grupos en relación con la variabilidad muestral de la diferencia entre medias.**"
      ]
    },
    {
      "cell_type": "markdown",
      "metadata": {
        "id": "MCNENZdf-yPQ"
      },
      "source": [
        "El estadístico $t$ se distribuye de acuerdo con una distribución de probabilidad conocida como **distribución t**. La distribución t se parece bastante a una distribución normal, pero difiere según el número de grados de libertad. \n",
        "\n",
        "Cuando los grados de libertad son grandes (digamos 1000), la distribución t se parece esencialmente a la distribución normal. Cuando son pequeños, la distribución t tiene colas más largas que la normal. "
      ]
    },
    {
      "cell_type": "markdown",
      "metadata": {
        "id": "1aAf1ac_-yPQ"
      },
      "source": [
        "**En el caso más simple**, donde los grupos son del mismo tamaño y tienen la misma varianza, **los grados de libertad para la prueba t son el número de observaciones menos 2**, ya que hemos calculado dos medias y, por lo tanto, hemos renunciado a dos grados de libertad. \n",
        "\n",
        "**En nuestro ejemplo**, está bastante claro a partir del diagrama de caja que el grupo inactivo es más variable que el grupo activo, y los números en cada grupo difieren, por lo que **debemos usar una fórmula un poco más compleja para los grados de libertad**, que a menudo se denomina como una \"prueba t de Welch\". "
      ]
    },
    {
      "cell_type": "markdown",
      "metadata": {
        "id": "G3rmAcNk-yPR"
      },
      "source": [
        "La formula es:\n",
        "\n",
        "$$ d.f. = \\frac{ \\left(\\frac{S^{2}_{1}}{n_{1}}+\\frac{S^{2}_{2}}{n_{2}}\\right)^{2} }{\\frac{\\left ( \\frac{S^{2}_{1}}{n_{1}} \\right )^{2} }{n_{1}-1} +  \\frac{\\left ( \\frac{S^{2}_{2}}{n_{2}} \\right )^{2} }{n_{2}-1}                 } $$\n",
        "\n",
        "\n",
        "Esto será igual a $ n_{1}+n_{2}-2 $ cuando las varianzas y los tamaños de la muestra sean iguales. De lo contrario será más pequeño, imponiendo de hecho una **penalización en la prueba por diferencias en el tamaño o varianza de la muestra**."
      ]
    },
    {
      "cell_type": "markdown",
      "metadata": {
        "id": "MwJqd1sJ-yPR"
      },
      "source": [
        "### Paso 5: Determinar la probabilidad del resultado observado bajo la hipótesis nula\n",
        "\n",
        "Este es el paso en el que la prueba de hipótesis comienza a violar nuestra intuición. \n",
        "\n",
        "En lugar de determinar la probabilidad de que la hipótesis nula sea verdadera dados los datos, en cambio, **determinamos la probabilidad de observar una estadística al menos tan extrema como la que hemos observado bajo la hipótesis nula** - ¡porque comenzamos asumiendo que la hipótesis nula es cierta! "
      ]
    },
    {
      "cell_type": "markdown",
      "metadata": {
        "id": "1xtaOOsH-yPS"
      },
      "source": [
        "Para hacer esto, necesitamos **conocer la distribución de probabilidad esperada para el estadístico bajo la hipótesis nula**, de modo que podamos preguntarnos **qué tan probable sería el resultado bajo esa distribución**. \n",
        "\n",
        "Ten en cuenta que cuando decimos \"qué tan probable sería el resultado\", lo que realmente queremos decir es **\"qué tan probable sería el resultado observado o uno más extremo\"**.  "
      ]
    },
    {
      "cell_type": "markdown",
      "metadata": {
        "id": "RzSdD5Uw-yPS"
      },
      "source": [
        "Hay (al menos) dos razones por las que necesitamos agregar esta advertencia. La primera es que **cuando hablamos de valores continuos, la probabilidad de cualquier valor en particular es cero** (como recordará si has tomado una clase de cálculo). \n",
        "\n",
        "Más importante aún, estamos tratando de determinar qué tan extraño sería nuestro resultado si la hipótesis nula fuera cierta -y cualquier resultado que sea más extremo sería aún más extraño- por lo que **queremos contar todas esas posibilidades más extrañas cuando calculamos la probabilidad de nuestro resultado bajo la hipótesis nula**."
      ]
    },
    {
      "cell_type": "markdown",
      "metadata": {
        "id": "vqLHF8nm-yPT"
      },
      "source": [
        "\n",
        "Podemos obtener esta \"distribución nula\" utilizando una distribución teórica (como la distribución t) o utilizando la aleatorización. Ahora implementemos una prueba t de student de Welch:"
      ]
    },
    {
      "cell_type": "code",
      "source": [
        "bmi_sample %>%\n",
        "  t_test(BMI ~ PhysActive, var.equal = F)"
      ],
      "metadata": {
        "colab": {
          "base_uri": "https://localhost:8080/",
          "height": 129
        },
        "id": "dMrKimEzO59r",
        "outputId": "802fa41f-c01f-4729-8b27-ac0ca023d435"
      },
      "execution_count": 112,
      "outputs": [
        {
          "output_type": "display_data",
          "data": {
            "text/html": [
              "<table class=\"dataframe\">\n",
              "<caption>A rstatix_test: 1 × 8</caption>\n",
              "<thead>\n",
              "\t<tr><th></th><th scope=col>.y.</th><th scope=col>group1</th><th scope=col>group2</th><th scope=col>n1</th><th scope=col>n2</th><th scope=col>statistic</th><th scope=col>df</th><th scope=col>p</th></tr>\n",
              "\t<tr><th></th><th scope=col>&lt;chr&gt;</th><th scope=col>&lt;chr&gt;</th><th scope=col>&lt;chr&gt;</th><th scope=col>&lt;int&gt;</th><th scope=col>&lt;int&gt;</th><th scope=col>&lt;dbl&gt;</th><th scope=col>&lt;dbl&gt;</th><th scope=col>&lt;dbl&gt;</th></tr>\n",
              "</thead>\n",
              "<tbody>\n",
              "\t<tr><th scope=row>1</th><td>BMI</td><td>No</td><td>Yes</td><td>73</td><td>76</td><td>2.721375</td><td>145.0624</td><td>0.0073</td></tr>\n",
              "</tbody>\n",
              "</table>\n"
            ],
            "text/markdown": "\nA rstatix_test: 1 × 8\n\n| <!--/--> | .y. &lt;chr&gt; | group1 &lt;chr&gt; | group2 &lt;chr&gt; | n1 &lt;int&gt; | n2 &lt;int&gt; | statistic &lt;dbl&gt; | df &lt;dbl&gt; | p &lt;dbl&gt; |\n|---|---|---|---|---|---|---|---|---|\n| 1 | BMI | No | Yes | 73 | 76 | 2.721375 | 145.0624 | 0.0073 |\n\n",
            "text/latex": "A rstatix\\_test: 1 × 8\n\\begin{tabular}{r|llllllll}\n  & .y. & group1 & group2 & n1 & n2 & statistic & df & p\\\\\n  & <chr> & <chr> & <chr> & <int> & <int> & <dbl> & <dbl> & <dbl>\\\\\n\\hline\n\t1 & BMI & No & Yes & 73 & 76 & 2.721375 & 145.0624 & 0.0073\\\\\n\\end{tabular}\n",
            "text/plain": [
              "  .y. group1 group2 n1 n2 statistic df       p     \n",
              "1 BMI No     Yes    73 76 2.721375  145.0624 0.0073"
            ]
          },
          "metadata": {}
        }
      ]
    },
    {
      "cell_type": "markdown",
      "metadata": {
        "id": "GLWS6VY1-yPV"
      },
      "source": [
        "### Paso 6: Evaluar la \"significancia estadística\" del resultado\n",
        "\n",
        "El siguiente paso es determinar si el valor p que resulta del paso anterior es lo suficientemente pequeño como para que estemos dispuestos a rechazar la hipótesis nula y, en cambio, concluir que la alternativa es verdadera. \n",
        "\n",
        "¿Cuánta evidencia necesitamos? Esta es una de las preguntas más controvertidas en estadística, en parte porque requiere un juicio subjetivo: no hay una respuesta \"correcta\"."
      ]
    },
    {
      "cell_type": "markdown",
      "metadata": {
        "id": "QNtDfsZJ-yPX"
      },
      "source": [
        "Históricamente, la respuesta más común a esta pregunta ha sido que **deberíamos rechazar la hipótesis nula si el valor p es menor que 0.05**. Esto proviene de los escritos de Ronald Fisher, a quien se ha referido como \"la figura más importante de las estadísticas del siglo XX\" (Efron 1998):\n",
        "\n",
        ">“If P is between .1 and .9 there is certainly no reason to suspect the hypothesis tested. If it is below .02 it is strongly indicated that the hypothesis fails to account for the whole of the facts. We shall not often be astray if we draw a conventional line at .05 … it is convenient to draw the line at about the level at which we can say: Either there is something in the treatment, or a coincidence has occurred such as does not occur more than once in twenty trials” (Fisher 1925)"
      ]
    },
    {
      "cell_type": "markdown",
      "metadata": {
        "id": "_FY5BbPS-yPY"
      },
      "source": [
        "Sin embargo, **Fisher nunca pretendió que p <0.05 fuera una regla fija**:\n",
        "\n",
        ">“no scientific worker has a fixed level of significance at which from year to year, and in all circumstances, he rejects hypotheses; he rather gives his mind to each particular case in the light of his evidence and his ideas” (Fisher 1956)"
      ]
    },
    {
      "cell_type": "markdown",
      "metadata": {
        "id": "wkWyJ51P-yPZ"
      },
      "source": [
        "La elección de los umbrales estadísticos sigue siendo muy controvertida y recientemente (Benjamin et al., 2018) se ha propuesto que el umbral predeterminado se cambie de .05 a .005, lo que hace que sea sustancialmente más estricto y, por lo tanto, más difícil rechazar la hipótesis nula. \n",
        "\n",
        "En gran parte, este movimiento se debe a la creciente preocupación de que la evidencia obtenida de un resultado significativo en p <.05 sea relativamente débil.\n"
      ]
    },
    {
      "cell_type": "markdown",
      "metadata": {
        "id": "CLYqec8_-yPa"
      },
      "source": [
        "#### Prueba de hipótesis como un proceso de toma de decisiones\n",
        "\n",
        "Jerzy Neyman y Egon Pearson propusieron que pensemos en la prueba de hipótesis en términos de su tasa de error a largo plazo:\n",
        "\n",
        ">“no test based upon a theory of probability can by itself provide any valuable evidence of the truth or falsehood of a hypothesis. But we may look at the purpose of tests from another viewpoint. Without hoping to know whether each separate hypothesis is true or false, we may search for rules to govern our behaviour with regard to them, in following which we insure that, in the long run of experience, we shall not often be wrong” (Neyman and Pearson 1933)\n",
        "\n",
        "Es decir: no podemos saber qué decisiones específicas son correctas o incorrectas, pero si seguimos las reglas, al menos podemos saber con qué frecuencia nuestras decisiones serán incorrectas a largo plazo."
      ]
    },
    {
      "cell_type": "markdown",
      "metadata": {
        "id": "ZcR0qw2D-yPb"
      },
      "source": [
        "Para comprender el marco de toma de decisiones que desarrollaron Neyman y Pearson, primero debemos **analizar la toma de decisiones estadísticas en términos de los tipos de resultados que pueden ocurrir**. Hay dos estados posibles de la realidad (H0 es verdadera o H0 es falsa) y dos decisiones posibles (rechazar H0 o retener H0). \n",
        "\n",
        "Hay dos formas en las que podemos tomar una **decisión correcta**:\n",
        "- Podemos rechazar H0 cuando es falsa (en el lenguaje de la teoría de detección de señales, llamamos a esto un acierto)\n",
        "- Podemos retener H0 cuando es verdadera (algo confuso en este contexto, esto se llama un rechazo correcto)"
      ]
    },
    {
      "cell_type": "markdown",
      "metadata": {
        "id": "j_El1cPF-yPd"
      },
      "source": [
        "También hay **dos tipos de errores** que podemos cometer:\n",
        "- Podemos rechazar H0 cuando en realidad es cierta (a esto lo llamamos una falsa alarma o un **error de tipo I**)\n",
        "- Podemos retener H0 cuando en realidad es falsa (a esto lo llamamos un error o **error de Tipo II**) \n"
      ]
    },
    {
      "cell_type": "markdown",
      "metadata": {
        "id": "KmiVDwAN-yPd"
      },
      "source": [
        "Neyman y Pearson acuñaron dos términos para describir la probabilidad de estos dos tipos de errores a largo plazo:\n",
        "\n",
        "- P(error tipo I) = $\\alpha$\n",
        "- P(error tipo II) = $\\beta$\n",
        " \n",
        "Es decir, si establecemos $\\alpha$ en .05, a largo plazo deberíamos cometer un error de Tipo I el 5% de las veces. Mientras que es común establecer α como .05, el valor estándar para un nivel aceptable de $\\beta$ es .20, es decir, estamos dispuestos a aceptar que el 20% de las veces no detectaremos un efecto verdadero cuando realmente existe."
      ]
    }
  ]
}
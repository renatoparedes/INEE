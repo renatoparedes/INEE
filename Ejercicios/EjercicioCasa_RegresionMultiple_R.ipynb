{
  "nbformat": 4,
  "nbformat_minor": 0,
  "metadata": {
    "colab": {
      "provenance": []
    },
    "kernelspec": {
      "name": "ir",
      "display_name": "R"
    },
    "language_info": {
      "name": "R"
    }
  },
  "cells": [
    {
      "cell_type": "markdown",
      "metadata": {
        "id": "f2PnhYBSqjpD"
      },
      "source": [
        "# Ejercico de casa: Regresión Múltiple"
      ]
    },
    {
      "cell_type": "code",
      "execution_count": 1,
      "metadata": {
        "id": "IDLxbWAgqjpG",
        "colab": {
          "base_uri": "https://localhost:8080/"
        },
        "outputId": "7c4d1395-7293-4374-c99b-d68ac2963854"
      },
      "outputs": [
        {
          "output_type": "stream",
          "name": "stderr",
          "text": [
            "Installing package into ‘/usr/local/lib/R/site-library’\n",
            "(as ‘lib’ is unspecified)\n",
            "\n",
            "also installing the dependencies ‘numDeriv’, ‘SparseM’, ‘MatrixModels’, ‘minqa’, ‘nloptr’, ‘Rcpp’, ‘RcppEigen’, ‘carData’, ‘abind’, ‘pbkrtest’, ‘quantreg’, ‘lme4’, ‘corrplot’, ‘car’\n",
            "\n",
            "\n",
            "── \u001b[1mAttaching core tidyverse packages\u001b[22m ──────────────────────── tidyverse 2.0.0 ──\n",
            "\u001b[32m✔\u001b[39m \u001b[34mdplyr    \u001b[39m 1.1.3     \u001b[32m✔\u001b[39m \u001b[34mreadr    \u001b[39m 2.1.4\n",
            "\u001b[32m✔\u001b[39m \u001b[34mforcats  \u001b[39m 1.0.0     \u001b[32m✔\u001b[39m \u001b[34mstringr  \u001b[39m 1.5.0\n",
            "\u001b[32m✔\u001b[39m \u001b[34mggplot2  \u001b[39m 3.4.3     \u001b[32m✔\u001b[39m \u001b[34mtibble   \u001b[39m 3.2.1\n",
            "\u001b[32m✔\u001b[39m \u001b[34mlubridate\u001b[39m 1.9.3     \u001b[32m✔\u001b[39m \u001b[34mtidyr    \u001b[39m 1.3.0\n",
            "\u001b[32m✔\u001b[39m \u001b[34mpurrr    \u001b[39m 1.0.2     \n",
            "── \u001b[1mConflicts\u001b[22m ────────────────────────────────────────── tidyverse_conflicts() ──\n",
            "\u001b[31m✖\u001b[39m \u001b[34mdplyr\u001b[39m::\u001b[32mfilter()\u001b[39m masks \u001b[34mstats\u001b[39m::filter()\n",
            "\u001b[31m✖\u001b[39m \u001b[34mdplyr\u001b[39m::\u001b[32mlag()\u001b[39m    masks \u001b[34mstats\u001b[39m::lag()\n",
            "\u001b[36mℹ\u001b[39m Use the conflicted package (\u001b[3m\u001b[34m<http://conflicted.r-lib.org/>\u001b[39m\u001b[23m) to force all conflicts to become errors\n",
            "\n",
            "Attaching package: ‘rstatix’\n",
            "\n",
            "\n",
            "The following object is masked from ‘package:stats’:\n",
            "\n",
            "    filter\n",
            "\n",
            "\n"
          ]
        }
      ],
      "source": [
        "# Instala dependencias\n",
        "install.packages(c(\"rstatix\", \"QuantPsyc\", \"olsrr\"))\n",
        "library(tidyverse)\n",
        "library(rstatix)\n",
        "library(QuantPsyc)\n",
        "library(olsrr)"
      ]
    },
    {
      "cell_type": "code",
      "execution_count": 2,
      "metadata": {
        "id": "9DJYeFrzqjpH",
        "outputId": "f7a12456-7a8e-4778-f19a-5d05363f1e5c",
        "colab": {
          "base_uri": "https://localhost:8080/",
          "height": 1000
        }
      },
      "outputs": [
        {
          "output_type": "display_data",
          "data": {
            "text/html": [
              "<table class=\"dataframe\">\n",
              "<caption>A tibble: 60 × 4</caption>\n",
              "<thead>\n",
              "\t<tr><th scope=col>Código</th><th scope=col>Mot_Log</th><th scope=col>Autoconcepto</th><th scope=col>Rend_Acad</th></tr>\n",
              "\t<tr><th scope=col>&lt;chr&gt;</th><th scope=col>&lt;dbl&gt;</th><th scope=col>&lt;dbl&gt;</th><th scope=col>&lt;dbl&gt;</th></tr>\n",
              "</thead>\n",
              "<tbody>\n",
              "\t<tr><td>001</td><td> 8</td><td>8</td><td>18</td></tr>\n",
              "\t<tr><td>002</td><td>10</td><td>8</td><td>19</td></tr>\n",
              "\t<tr><td>003</td><td> 8</td><td>6</td><td>18</td></tr>\n",
              "\t<tr><td>004</td><td> 8</td><td>7</td><td>19</td></tr>\n",
              "\t<tr><td>005</td><td> 7</td><td>8</td><td>18</td></tr>\n",
              "\t<tr><td>006</td><td> 6</td><td>8</td><td>15</td></tr>\n",
              "\t<tr><td>007</td><td> 9</td><td>6</td><td>19</td></tr>\n",
              "\t<tr><td>008</td><td> 6</td><td>8</td><td>18</td></tr>\n",
              "\t<tr><td>009</td><td> 6</td><td>8</td><td>14</td></tr>\n",
              "\t<tr><td>010</td><td> 8</td><td>8</td><td>18</td></tr>\n",
              "\t<tr><td>011</td><td> 5</td><td>5</td><td>18</td></tr>\n",
              "\t<tr><td>012</td><td> 8</td><td>8</td><td>19</td></tr>\n",
              "\t<tr><td>013</td><td> 5</td><td>6</td><td>17</td></tr>\n",
              "\t<tr><td>014</td><td> 7</td><td>7</td><td>18</td></tr>\n",
              "\t<tr><td>015</td><td> 7</td><td>8</td><td>17</td></tr>\n",
              "\t<tr><td>016</td><td> 9</td><td>7</td><td>17</td></tr>\n",
              "\t<tr><td>017</td><td> 7</td><td>9</td><td>18</td></tr>\n",
              "\t<tr><td>018</td><td> 7</td><td>9</td><td>20</td></tr>\n",
              "\t<tr><td>019</td><td> 6</td><td>7</td><td>17</td></tr>\n",
              "\t<tr><td>020</td><td> 7</td><td>7</td><td>18</td></tr>\n",
              "\t<tr><td>021</td><td> 7</td><td>5</td><td>17</td></tr>\n",
              "\t<tr><td>022</td><td> 7</td><td>7</td><td>16</td></tr>\n",
              "\t<tr><td>023</td><td> 5</td><td>7</td><td>16</td></tr>\n",
              "\t<tr><td>024</td><td> 5</td><td>5</td><td>16</td></tr>\n",
              "\t<tr><td>025</td><td> 8</td><td>9</td><td>17</td></tr>\n",
              "\t<tr><td>026</td><td> 5</td><td>5</td><td>16</td></tr>\n",
              "\t<tr><td>027</td><td> 7</td><td>8</td><td>16</td></tr>\n",
              "\t<tr><td>028</td><td> 5</td><td>7</td><td>17</td></tr>\n",
              "\t<tr><td>029</td><td> 7</td><td>5</td><td>16</td></tr>\n",
              "\t<tr><td>030</td><td> 5</td><td>5</td><td>16</td></tr>\n",
              "\t<tr><td>031</td><td> 5</td><td>6</td><td>16</td></tr>\n",
              "\t<tr><td>032</td><td> 6</td><td>5</td><td>16</td></tr>\n",
              "\t<tr><td>033</td><td> 5</td><td>4</td><td>16</td></tr>\n",
              "\t<tr><td>034</td><td> 4</td><td>5</td><td>16</td></tr>\n",
              "\t<tr><td>035</td><td> 4</td><td>6</td><td>13</td></tr>\n",
              "\t<tr><td>036</td><td> 5</td><td>5</td><td>15</td></tr>\n",
              "\t<tr><td>037</td><td> 5</td><td>5</td><td>15</td></tr>\n",
              "\t<tr><td>038</td><td> 7</td><td>7</td><td>15</td></tr>\n",
              "\t<tr><td>039</td><td> 5</td><td>5</td><td>15</td></tr>\n",
              "\t<tr><td>040</td><td> 6</td><td>5</td><td>15</td></tr>\n",
              "\t<tr><td>041</td><td> 5</td><td>7</td><td>15</td></tr>\n",
              "\t<tr><td>042</td><td> 4</td><td>5</td><td>15</td></tr>\n",
              "\t<tr><td>043</td><td> 5</td><td>6</td><td>15</td></tr>\n",
              "\t<tr><td>044</td><td> 5</td><td>5</td><td>15</td></tr>\n",
              "\t<tr><td>045</td><td> 6</td><td>7</td><td>15</td></tr>\n",
              "\t<tr><td>046</td><td> 7</td><td>8</td><td>18</td></tr>\n",
              "\t<tr><td>047</td><td> 7</td><td>9</td><td>19</td></tr>\n",
              "\t<tr><td>048</td><td> 8</td><td>8</td><td>19</td></tr>\n",
              "\t<tr><td>049</td><td> 5</td><td>6</td><td>14</td></tr>\n",
              "\t<tr><td>050</td><td> 3</td><td>5</td><td>14</td></tr>\n",
              "\t<tr><td>051</td><td> 5</td><td>5</td><td>13</td></tr>\n",
              "\t<tr><td>052</td><td> 4</td><td>7</td><td>14</td></tr>\n",
              "\t<tr><td>053</td><td> 8</td><td>5</td><td>13</td></tr>\n",
              "\t<tr><td>054</td><td> 4</td><td>7</td><td>13</td></tr>\n",
              "\t<tr><td>055</td><td> 7</td><td>5</td><td>13</td></tr>\n",
              "\t<tr><td>056</td><td> 4</td><td>6</td><td>13</td></tr>\n",
              "\t<tr><td>057</td><td> 4</td><td>5</td><td>13</td></tr>\n",
              "\t<tr><td>058</td><td> 6</td><td>7</td><td>14</td></tr>\n",
              "\t<tr><td>059</td><td> 4</td><td>5</td><td>13</td></tr>\n",
              "\t<tr><td>060</td><td> 7</td><td>8</td><td>15</td></tr>\n",
              "</tbody>\n",
              "</table>\n"
            ],
            "text/markdown": "\nA tibble: 60 × 4\n\n| Código &lt;chr&gt; | Mot_Log &lt;dbl&gt; | Autoconcepto &lt;dbl&gt; | Rend_Acad &lt;dbl&gt; |\n|---|---|---|---|\n| 001 |  8 | 8 | 18 |\n| 002 | 10 | 8 | 19 |\n| 003 |  8 | 6 | 18 |\n| 004 |  8 | 7 | 19 |\n| 005 |  7 | 8 | 18 |\n| 006 |  6 | 8 | 15 |\n| 007 |  9 | 6 | 19 |\n| 008 |  6 | 8 | 18 |\n| 009 |  6 | 8 | 14 |\n| 010 |  8 | 8 | 18 |\n| 011 |  5 | 5 | 18 |\n| 012 |  8 | 8 | 19 |\n| 013 |  5 | 6 | 17 |\n| 014 |  7 | 7 | 18 |\n| 015 |  7 | 8 | 17 |\n| 016 |  9 | 7 | 17 |\n| 017 |  7 | 9 | 18 |\n| 018 |  7 | 9 | 20 |\n| 019 |  6 | 7 | 17 |\n| 020 |  7 | 7 | 18 |\n| 021 |  7 | 5 | 17 |\n| 022 |  7 | 7 | 16 |\n| 023 |  5 | 7 | 16 |\n| 024 |  5 | 5 | 16 |\n| 025 |  8 | 9 | 17 |\n| 026 |  5 | 5 | 16 |\n| 027 |  7 | 8 | 16 |\n| 028 |  5 | 7 | 17 |\n| 029 |  7 | 5 | 16 |\n| 030 |  5 | 5 | 16 |\n| 031 |  5 | 6 | 16 |\n| 032 |  6 | 5 | 16 |\n| 033 |  5 | 4 | 16 |\n| 034 |  4 | 5 | 16 |\n| 035 |  4 | 6 | 13 |\n| 036 |  5 | 5 | 15 |\n| 037 |  5 | 5 | 15 |\n| 038 |  7 | 7 | 15 |\n| 039 |  5 | 5 | 15 |\n| 040 |  6 | 5 | 15 |\n| 041 |  5 | 7 | 15 |\n| 042 |  4 | 5 | 15 |\n| 043 |  5 | 6 | 15 |\n| 044 |  5 | 5 | 15 |\n| 045 |  6 | 7 | 15 |\n| 046 |  7 | 8 | 18 |\n| 047 |  7 | 9 | 19 |\n| 048 |  8 | 8 | 19 |\n| 049 |  5 | 6 | 14 |\n| 050 |  3 | 5 | 14 |\n| 051 |  5 | 5 | 13 |\n| 052 |  4 | 7 | 14 |\n| 053 |  8 | 5 | 13 |\n| 054 |  4 | 7 | 13 |\n| 055 |  7 | 5 | 13 |\n| 056 |  4 | 6 | 13 |\n| 057 |  4 | 5 | 13 |\n| 058 |  6 | 7 | 14 |\n| 059 |  4 | 5 | 13 |\n| 060 |  7 | 8 | 15 |\n\n",
            "text/latex": "A tibble: 60 × 4\n\\begin{tabular}{llll}\n Código & Mot\\_Log & Autoconcepto & Rend\\_Acad\\\\\n <chr> & <dbl> & <dbl> & <dbl>\\\\\n\\hline\n\t 001 &  8 & 8 & 18\\\\\n\t 002 & 10 & 8 & 19\\\\\n\t 003 &  8 & 6 & 18\\\\\n\t 004 &  8 & 7 & 19\\\\\n\t 005 &  7 & 8 & 18\\\\\n\t 006 &  6 & 8 & 15\\\\\n\t 007 &  9 & 6 & 19\\\\\n\t 008 &  6 & 8 & 18\\\\\n\t 009 &  6 & 8 & 14\\\\\n\t 010 &  8 & 8 & 18\\\\\n\t 011 &  5 & 5 & 18\\\\\n\t 012 &  8 & 8 & 19\\\\\n\t 013 &  5 & 6 & 17\\\\\n\t 014 &  7 & 7 & 18\\\\\n\t 015 &  7 & 8 & 17\\\\\n\t 016 &  9 & 7 & 17\\\\\n\t 017 &  7 & 9 & 18\\\\\n\t 018 &  7 & 9 & 20\\\\\n\t 019 &  6 & 7 & 17\\\\\n\t 020 &  7 & 7 & 18\\\\\n\t 021 &  7 & 5 & 17\\\\\n\t 022 &  7 & 7 & 16\\\\\n\t 023 &  5 & 7 & 16\\\\\n\t 024 &  5 & 5 & 16\\\\\n\t 025 &  8 & 9 & 17\\\\\n\t 026 &  5 & 5 & 16\\\\\n\t 027 &  7 & 8 & 16\\\\\n\t 028 &  5 & 7 & 17\\\\\n\t 029 &  7 & 5 & 16\\\\\n\t 030 &  5 & 5 & 16\\\\\n\t 031 &  5 & 6 & 16\\\\\n\t 032 &  6 & 5 & 16\\\\\n\t 033 &  5 & 4 & 16\\\\\n\t 034 &  4 & 5 & 16\\\\\n\t 035 &  4 & 6 & 13\\\\\n\t 036 &  5 & 5 & 15\\\\\n\t 037 &  5 & 5 & 15\\\\\n\t 038 &  7 & 7 & 15\\\\\n\t 039 &  5 & 5 & 15\\\\\n\t 040 &  6 & 5 & 15\\\\\n\t 041 &  5 & 7 & 15\\\\\n\t 042 &  4 & 5 & 15\\\\\n\t 043 &  5 & 6 & 15\\\\\n\t 044 &  5 & 5 & 15\\\\\n\t 045 &  6 & 7 & 15\\\\\n\t 046 &  7 & 8 & 18\\\\\n\t 047 &  7 & 9 & 19\\\\\n\t 048 &  8 & 8 & 19\\\\\n\t 049 &  5 & 6 & 14\\\\\n\t 050 &  3 & 5 & 14\\\\\n\t 051 &  5 & 5 & 13\\\\\n\t 052 &  4 & 7 & 14\\\\\n\t 053 &  8 & 5 & 13\\\\\n\t 054 &  4 & 7 & 13\\\\\n\t 055 &  7 & 5 & 13\\\\\n\t 056 &  4 & 6 & 13\\\\\n\t 057 &  4 & 5 & 13\\\\\n\t 058 &  6 & 7 & 14\\\\\n\t 059 &  4 & 5 & 13\\\\\n\t 060 &  7 & 8 & 15\\\\\n\\end{tabular}\n",
            "text/plain": [
              "   Código Mot_Log Autoconcepto Rend_Acad\n",
              "1  001     8      8            18       \n",
              "2  002    10      8            19       \n",
              "3  003     8      6            18       \n",
              "4  004     8      7            19       \n",
              "5  005     7      8            18       \n",
              "6  006     6      8            15       \n",
              "7  007     9      6            19       \n",
              "8  008     6      8            18       \n",
              "9  009     6      8            14       \n",
              "10 010     8      8            18       \n",
              "11 011     5      5            18       \n",
              "12 012     8      8            19       \n",
              "13 013     5      6            17       \n",
              "14 014     7      7            18       \n",
              "15 015     7      8            17       \n",
              "16 016     9      7            17       \n",
              "17 017     7      9            18       \n",
              "18 018     7      9            20       \n",
              "19 019     6      7            17       \n",
              "20 020     7      7            18       \n",
              "21 021     7      5            17       \n",
              "22 022     7      7            16       \n",
              "23 023     5      7            16       \n",
              "24 024     5      5            16       \n",
              "25 025     8      9            17       \n",
              "26 026     5      5            16       \n",
              "27 027     7      8            16       \n",
              "28 028     5      7            17       \n",
              "29 029     7      5            16       \n",
              "30 030     5      5            16       \n",
              "31 031     5      6            16       \n",
              "32 032     6      5            16       \n",
              "33 033     5      4            16       \n",
              "34 034     4      5            16       \n",
              "35 035     4      6            13       \n",
              "36 036     5      5            15       \n",
              "37 037     5      5            15       \n",
              "38 038     7      7            15       \n",
              "39 039     5      5            15       \n",
              "40 040     6      5            15       \n",
              "41 041     5      7            15       \n",
              "42 042     4      5            15       \n",
              "43 043     5      6            15       \n",
              "44 044     5      5            15       \n",
              "45 045     6      7            15       \n",
              "46 046     7      8            18       \n",
              "47 047     7      9            19       \n",
              "48 048     8      8            19       \n",
              "49 049     5      6            14       \n",
              "50 050     3      5            14       \n",
              "51 051     5      5            13       \n",
              "52 052     4      7            14       \n",
              "53 053     8      5            13       \n",
              "54 054     4      7            13       \n",
              "55 055     7      5            13       \n",
              "56 056     4      6            13       \n",
              "57 057     4      5            13       \n",
              "58 058     6      7            14       \n",
              "59 059     4      5            13       \n",
              "60 060     7      8            15       "
            ]
          },
          "metadata": {}
        }
      ],
      "source": [
        "df = haven::read_sav(\"https://github.com/renatoparedes/EstadisticaYPsicologiaMatematica/raw/main/INEE/BaseEjerciciosRegresionMultiple.sav\")\n",
        "\n",
        "df"
      ]
    },
    {
      "cell_type": "markdown",
      "metadata": {
        "id": "tgzibv0oqjpI"
      },
      "source": [
        "## Ejercicio 1\n",
        "\n",
        "El estudio sobre los factores presentes en el rendimiento académico en estudiantes universitarios encontró que tanto la motivación de logro como el autoconcepto son variables predictoras significativas del rendimiento de las y los participantes. Ahora, se quiere conocer cuál es la contribución conjunta de ambos factores a la variabilidad del rendimiento académico y cuál de ellos es la variable más importante en su estimación.\n",
        "\n",
        "a) Establece la hipótesis de trabajo (HT).\n",
        "\n",
        "b) Señala las hipótesis estadísticas (H0 y H1) que correspondan a la HT.\n",
        "\n",
        "c) Plantea la ecuación del modelo para la HT.\n",
        "\n",
        "d) Evalúa los supuestos necesarios para continuar con el análisis de regresión.\n",
        "- Linealidad\n",
        "- Normalidad de residuos\n",
        "- Multicolinealidad\n",
        "\n",
        "e) Evalúa el ajuste del modelo planteado, interpretando el valor de R2 en términos de variabilidad explicada del rendimiento académico y los criterios de Cohen.\n",
        "\n",
        "f) Indica si se cumplen las hipótesis y brinda tu conclusión.\n"
      ]
    },
    {
      "cell_type": "code",
      "source": [
        "df %>% shapiro_test(Rend_Acad, Mot_Log, Autoconcepto)"
      ],
      "metadata": {
        "id": "sRo9NgoN5D8h",
        "outputId": "6dfc4ecc-50db-44f8-f4b6-11e3ededefcc",
        "colab": {
          "base_uri": "https://localhost:8080/",
          "height": 192
        }
      },
      "execution_count": 3,
      "outputs": [
        {
          "output_type": "display_data",
          "data": {
            "text/html": [
              "<table class=\"dataframe\">\n",
              "<caption>A tibble: 3 × 3</caption>\n",
              "<thead>\n",
              "\t<tr><th scope=col>variable</th><th scope=col>statistic</th><th scope=col>p</th></tr>\n",
              "\t<tr><th scope=col>&lt;chr&gt;</th><th scope=col>&lt;dbl&gt;</th><th scope=col>&lt;dbl&gt;</th></tr>\n",
              "</thead>\n",
              "<tbody>\n",
              "\t<tr><td>Autoconcepto</td><td>0.8853151</td><td>3.997856e-05</td></tr>\n",
              "\t<tr><td>Mot_Log     </td><td>0.9408834</td><td>5.932201e-03</td></tr>\n",
              "\t<tr><td>Rend_Acad   </td><td>0.9427623</td><td>7.211886e-03</td></tr>\n",
              "</tbody>\n",
              "</table>\n"
            ],
            "text/markdown": "\nA tibble: 3 × 3\n\n| variable &lt;chr&gt; | statistic &lt;dbl&gt; | p &lt;dbl&gt; |\n|---|---|---|\n| Autoconcepto | 0.8853151 | 3.997856e-05 |\n| Mot_Log      | 0.9408834 | 5.932201e-03 |\n| Rend_Acad    | 0.9427623 | 7.211886e-03 |\n\n",
            "text/latex": "A tibble: 3 × 3\n\\begin{tabular}{lll}\n variable & statistic & p\\\\\n <chr> & <dbl> & <dbl>\\\\\n\\hline\n\t Autoconcepto & 0.8853151 & 3.997856e-05\\\\\n\t Mot\\_Log      & 0.9408834 & 5.932201e-03\\\\\n\t Rend\\_Acad    & 0.9427623 & 7.211886e-03\\\\\n\\end{tabular}\n",
            "text/plain": [
              "  variable     statistic p           \n",
              "1 Autoconcepto 0.8853151 3.997856e-05\n",
              "2 Mot_Log      0.9408834 5.932201e-03\n",
              "3 Rend_Acad    0.9427623 7.211886e-03"
            ]
          },
          "metadata": {}
        }
      ]
    },
    {
      "cell_type": "markdown",
      "source": [
        "A partir de la prueba de normalidad de Shapiro-Wilk, se observa que tanto el autoconcepto, $SW(60) = .885, p < .001$, la motivación de logro, $SW(60) = .941, p = .005$, y en rendimiento académico,$SW(60) = .943, p = .007$, no muestran una distribución normal."
      ],
      "metadata": {
        "id": "-q6rO9qw5WL6"
      }
    },
    {
      "cell_type": "code",
      "source": [
        "df %>% cor_test(vars = c(\"Rend_Acad\"), vars2 = c(\"Mot_Log\", \"Autoconcepto\"), method = \"spearman\")"
      ],
      "metadata": {
        "id": "NBQmtVBL565D",
        "outputId": "8b3e6ed6-85f0-444e-f27d-98797d56366b",
        "colab": {
          "base_uri": "https://localhost:8080/",
          "height": 161
        }
      },
      "execution_count": 6,
      "outputs": [
        {
          "output_type": "display_data",
          "data": {
            "text/html": [
              "<table class=\"dataframe\">\n",
              "<caption>A cor_test: 2 × 6</caption>\n",
              "<thead>\n",
              "\t<tr><th scope=col>var1</th><th scope=col>var2</th><th scope=col>cor</th><th scope=col>statistic</th><th scope=col>p</th><th scope=col>method</th></tr>\n",
              "\t<tr><th scope=col>&lt;chr&gt;</th><th scope=col>&lt;chr&gt;</th><th scope=col>&lt;dbl&gt;</th><th scope=col>&lt;dbl&gt;</th><th scope=col>&lt;dbl&gt;</th><th scope=col>&lt;chr&gt;</th></tr>\n",
              "</thead>\n",
              "<tbody>\n",
              "\t<tr><td>Rend_Acad</td><td>Mot_Log     </td><td>0.65</td><td>12694.15</td><td>2.29e-08</td><td>Spearman</td></tr>\n",
              "\t<tr><td>Rend_Acad</td><td>Autoconcepto</td><td>0.50</td><td>18031.91</td><td>4.95e-05</td><td>Spearman</td></tr>\n",
              "</tbody>\n",
              "</table>\n"
            ],
            "text/markdown": "\nA cor_test: 2 × 6\n\n| var1 &lt;chr&gt; | var2 &lt;chr&gt; | cor &lt;dbl&gt; | statistic &lt;dbl&gt; | p &lt;dbl&gt; | method &lt;chr&gt; |\n|---|---|---|---|---|---|\n| Rend_Acad | Mot_Log      | 0.65 | 12694.15 | 2.29e-08 | Spearman |\n| Rend_Acad | Autoconcepto | 0.50 | 18031.91 | 4.95e-05 | Spearman |\n\n",
            "text/latex": "A cor\\_test: 2 × 6\n\\begin{tabular}{llllll}\n var1 & var2 & cor & statistic & p & method\\\\\n <chr> & <chr> & <dbl> & <dbl> & <dbl> & <chr>\\\\\n\\hline\n\t Rend\\_Acad & Mot\\_Log      & 0.65 & 12694.15 & 2.29e-08 & Spearman\\\\\n\t Rend\\_Acad & Autoconcepto & 0.50 & 18031.91 & 4.95e-05 & Spearman\\\\\n\\end{tabular}\n",
            "text/plain": [
              "  var1      var2         cor  statistic p        method  \n",
              "1 Rend_Acad Mot_Log      0.65 12694.15  2.29e-08 Spearman\n",
              "2 Rend_Acad Autoconcepto 0.50 18031.91  4.95e-05 Spearman"
            ]
          },
          "metadata": {}
        }
      ]
    },
    {
      "cell_type": "markdown",
      "source": [
        "A partir de la prueba de correlación de Spearman, se observa que existe una relación estadísticamente significativa, positiva y grande entre motivación de logro, $r(58) = .65, p < .001$ y autoconcepto, $r(58) = .50, p < .001$, con el rendimiento académico."
      ],
      "metadata": {
        "id": "2D1jVFsP6Spo"
      }
    },
    {
      "cell_type": "code",
      "source": [
        "df %>%\n",
        "  lm(Rend_Acad ~ Mot_Log + Autoconcepto, data = .) -> model\n",
        "\n",
        "model$residuals %>%\n",
        "  shapiro_test()"
      ],
      "metadata": {
        "id": "C77qFPlK6PWc",
        "outputId": "1c37583f-2a08-4871-b32b-5eb3a84e0660",
        "colab": {
          "base_uri": "https://localhost:8080/",
          "height": 129
        }
      },
      "execution_count": 8,
      "outputs": [
        {
          "output_type": "display_data",
          "data": {
            "text/html": [
              "<table class=\"dataframe\">\n",
              "<caption>A tibble: 1 × 3</caption>\n",
              "<thead>\n",
              "\t<tr><th scope=col>variable</th><th scope=col>statistic</th><th scope=col>p.value</th></tr>\n",
              "\t<tr><th scope=col>&lt;chr&gt;</th><th scope=col>&lt;dbl&gt;</th><th scope=col>&lt;dbl&gt;</th></tr>\n",
              "</thead>\n",
              "<tbody>\n",
              "\t<tr><td>.</td><td>0.9703446</td><td>0.1517005</td></tr>\n",
              "</tbody>\n",
              "</table>\n"
            ],
            "text/markdown": "\nA tibble: 1 × 3\n\n| variable &lt;chr&gt; | statistic &lt;dbl&gt; | p.value &lt;dbl&gt; |\n|---|---|---|\n| . | 0.9703446 | 0.1517005 |\n\n",
            "text/latex": "A tibble: 1 × 3\n\\begin{tabular}{lll}\n variable & statistic & p.value\\\\\n <chr> & <dbl> & <dbl>\\\\\n\\hline\n\t . & 0.9703446 & 0.1517005\\\\\n\\end{tabular}\n",
            "text/plain": [
              "  variable statistic p.value  \n",
              "1 .        0.9703446 0.1517005"
            ]
          },
          "metadata": {}
        }
      ]
    },
    {
      "cell_type": "markdown",
      "source": [
        "A partir de la prueba de normalidad de Shapiro-Wilk, se observa que existe una distribución normal de los residuos estandarizados, $SW(60) = .970, p = .152$."
      ],
      "metadata": {
        "id": "gMjS1NkK7dOQ"
      }
    },
    {
      "cell_type": "code",
      "source": [
        "ols_vif_tol(model)"
      ],
      "metadata": {
        "id": "pkEMtTeJ8KgJ",
        "outputId": "b13dd60e-237d-48a9-e079-1cb229a7e813",
        "colab": {
          "base_uri": "https://localhost:8080/",
          "height": 161
        }
      },
      "execution_count": 13,
      "outputs": [
        {
          "output_type": "display_data",
          "data": {
            "text/html": [
              "<table class=\"dataframe\">\n",
              "<caption>A data.frame: 2 × 3</caption>\n",
              "<thead>\n",
              "\t<tr><th scope=col>Variables</th><th scope=col>Tolerance</th><th scope=col>VIF</th></tr>\n",
              "\t<tr><th scope=col>&lt;chr&gt;</th><th scope=col>&lt;dbl&gt;</th><th scope=col>&lt;dbl&gt;</th></tr>\n",
              "</thead>\n",
              "<tbody>\n",
              "\t<tr><td>Mot_Log     </td><td>0.7210999</td><td>1.38677</td></tr>\n",
              "\t<tr><td>Autoconcepto</td><td>0.7210999</td><td>1.38677</td></tr>\n",
              "</tbody>\n",
              "</table>\n"
            ],
            "text/markdown": "\nA data.frame: 2 × 3\n\n| Variables &lt;chr&gt; | Tolerance &lt;dbl&gt; | VIF &lt;dbl&gt; |\n|---|---|---|\n| Mot_Log      | 0.7210999 | 1.38677 |\n| Autoconcepto | 0.7210999 | 1.38677 |\n\n",
            "text/latex": "A data.frame: 2 × 3\n\\begin{tabular}{lll}\n Variables & Tolerance & VIF\\\\\n <chr> & <dbl> & <dbl>\\\\\n\\hline\n\t Mot\\_Log      & 0.7210999 & 1.38677\\\\\n\t Autoconcepto & 0.7210999 & 1.38677\\\\\n\\end{tabular}\n",
            "text/plain": [
              "  Variables    Tolerance VIF    \n",
              "1 Mot_Log      0.7210999 1.38677\n",
              "2 Autoconcepto 0.7210999 1.38677"
            ]
          },
          "metadata": {}
        }
      ]
    },
    {
      "cell_type": "markdown",
      "source": [
        "\n",
        "Motivación de Logro\n",
        "*   VIF = 1.387 < 3\n",
        "*   TOL = .721 > .2\n",
        "\n",
        "Autoconcepto\n",
        "*   VIF = 1.387 < 3\n",
        "*   TOL = .721 > .2\n",
        "\n",
        "\n",
        "Dado que la tolerancia es mayor a .2 y el VIF es < .3 en cada variable, se asume que estas son independientes."
      ],
      "metadata": {
        "id": "ZtGBK8r38Z8x"
      }
    },
    {
      "cell_type": "code",
      "source": [
        "model %>% broom::glance()"
      ],
      "metadata": {
        "id": "6LddgWSI80kB",
        "outputId": "72f9f29f-611b-4cff-d537-3fdd5acda7b9",
        "colab": {
          "base_uri": "https://localhost:8080/",
          "height": 167
        }
      },
      "execution_count": 14,
      "outputs": [
        {
          "output_type": "display_data",
          "data": {
            "text/html": [
              "<table class=\"dataframe\">\n",
              "<caption>A tibble: 1 × 12</caption>\n",
              "<thead>\n",
              "\t<tr><th scope=col>r.squared</th><th scope=col>adj.r.squared</th><th scope=col>sigma</th><th scope=col>statistic</th><th scope=col>p.value</th><th scope=col>df</th><th scope=col>logLik</th><th scope=col>AIC</th><th scope=col>BIC</th><th scope=col>deviance</th><th scope=col>df.residual</th><th scope=col>nobs</th></tr>\n",
              "\t<tr><th scope=col>&lt;dbl&gt;</th><th scope=col>&lt;dbl&gt;</th><th scope=col>&lt;dbl&gt;</th><th scope=col>&lt;dbl&gt;</th><th scope=col>&lt;dbl&gt;</th><th scope=col>&lt;dbl&gt;</th><th scope=col>&lt;dbl&gt;</th><th scope=col>&lt;dbl&gt;</th><th scope=col>&lt;dbl&gt;</th><th scope=col>&lt;dbl&gt;</th><th scope=col>&lt;int&gt;</th><th scope=col>&lt;int&gt;</th></tr>\n",
              "</thead>\n",
              "<tbody>\n",
              "\t<tr><td>0.4572429</td><td>0.4381988</td><td>1.450154</td><td>24.00968</td><td>2.73059e-08</td><td>2</td><td>-105.8977</td><td>219.7954</td><td>228.1727</td><td>119.8679</td><td>57</td><td>60</td></tr>\n",
              "</tbody>\n",
              "</table>\n"
            ],
            "text/markdown": "\nA tibble: 1 × 12\n\n| r.squared &lt;dbl&gt; | adj.r.squared &lt;dbl&gt; | sigma &lt;dbl&gt; | statistic &lt;dbl&gt; | p.value &lt;dbl&gt; | df &lt;dbl&gt; | logLik &lt;dbl&gt; | AIC &lt;dbl&gt; | BIC &lt;dbl&gt; | deviance &lt;dbl&gt; | df.residual &lt;int&gt; | nobs &lt;int&gt; |\n|---|---|---|---|---|---|---|---|---|---|---|---|\n| 0.4572429 | 0.4381988 | 1.450154 | 24.00968 | 2.73059e-08 | 2 | -105.8977 | 219.7954 | 228.1727 | 119.8679 | 57 | 60 |\n\n",
            "text/latex": "A tibble: 1 × 12\n\\begin{tabular}{llllllllllll}\n r.squared & adj.r.squared & sigma & statistic & p.value & df & logLik & AIC & BIC & deviance & df.residual & nobs\\\\\n <dbl> & <dbl> & <dbl> & <dbl> & <dbl> & <dbl> & <dbl> & <dbl> & <dbl> & <dbl> & <int> & <int>\\\\\n\\hline\n\t 0.4572429 & 0.4381988 & 1.450154 & 24.00968 & 2.73059e-08 & 2 & -105.8977 & 219.7954 & 228.1727 & 119.8679 & 57 & 60\\\\\n\\end{tabular}\n",
            "text/plain": [
              "  r.squared adj.r.squared sigma    statistic p.value     df logLik    AIC     \n",
              "1 0.4572429 0.4381988     1.450154 24.00968  2.73059e-08 2  -105.8977 219.7954\n",
              "  BIC      deviance df.residual nobs\n",
              "1 228.1727 119.8679 57          60  "
            ]
          },
          "metadata": {}
        }
      ]
    },
    {
      "cell_type": "markdown",
      "source": [
        "A partir del ANOVA, se observa que el modelo es adecuado para ser interpretado, $F(2, 57) = 24.010, p < .001$. El coeficiente de determinación es grande, según el criterio de Cohen (1988), y explica el 43.8% de la variabilidad del rendimiento académico, $R^2 = .438$."
      ],
      "metadata": {
        "id": "AMR3f_M_85bZ"
      }
    },
    {
      "cell_type": "code",
      "source": [
        "model %>% broom::tidy()"
      ],
      "metadata": {
        "id": "jH0WOCy29WL6",
        "outputId": "a5c0651c-d06b-4e87-9e43-cdb47f021dba",
        "colab": {
          "base_uri": "https://localhost:8080/",
          "height": 192
        }
      },
      "execution_count": 15,
      "outputs": [
        {
          "output_type": "display_data",
          "data": {
            "text/html": [
              "<table class=\"dataframe\">\n",
              "<caption>A tibble: 3 × 5</caption>\n",
              "<thead>\n",
              "\t<tr><th scope=col>term</th><th scope=col>estimate</th><th scope=col>std.error</th><th scope=col>statistic</th><th scope=col>p.value</th></tr>\n",
              "\t<tr><th scope=col>&lt;chr&gt;</th><th scope=col>&lt;dbl&gt;</th><th scope=col>&lt;dbl&gt;</th><th scope=col>&lt;dbl&gt;</th><th scope=col>&lt;dbl&gt;</th></tr>\n",
              "</thead>\n",
              "<tbody>\n",
              "\t<tr><td>(Intercept) </td><td>9.8684396</td><td>0.9704715</td><td>10.168706</td><td>2.029447e-14</td></tr>\n",
              "\t<tr><td>Mot_Log     </td><td>0.6529186</td><td>0.1450644</td><td> 4.500889</td><td>3.389025e-05</td></tr>\n",
              "\t<tr><td>Autoconcepto</td><td>0.3399444</td><td>0.1620895</td><td> 2.097264</td><td>4.041711e-02</td></tr>\n",
              "</tbody>\n",
              "</table>\n"
            ],
            "text/markdown": "\nA tibble: 3 × 5\n\n| term &lt;chr&gt; | estimate &lt;dbl&gt; | std.error &lt;dbl&gt; | statistic &lt;dbl&gt; | p.value &lt;dbl&gt; |\n|---|---|---|---|---|\n| (Intercept)  | 9.8684396 | 0.9704715 | 10.168706 | 2.029447e-14 |\n| Mot_Log      | 0.6529186 | 0.1450644 |  4.500889 | 3.389025e-05 |\n| Autoconcepto | 0.3399444 | 0.1620895 |  2.097264 | 4.041711e-02 |\n\n",
            "text/latex": "A tibble: 3 × 5\n\\begin{tabular}{lllll}\n term & estimate & std.error & statistic & p.value\\\\\n <chr> & <dbl> & <dbl> & <dbl> & <dbl>\\\\\n\\hline\n\t (Intercept)  & 9.8684396 & 0.9704715 & 10.168706 & 2.029447e-14\\\\\n\t Mot\\_Log      & 0.6529186 & 0.1450644 &  4.500889 & 3.389025e-05\\\\\n\t Autoconcepto & 0.3399444 & 0.1620895 &  2.097264 & 4.041711e-02\\\\\n\\end{tabular}\n",
            "text/plain": [
              "  term         estimate  std.error statistic p.value     \n",
              "1 (Intercept)  9.8684396 0.9704715 10.168706 2.029447e-14\n",
              "2 Mot_Log      0.6529186 0.1450644  4.500889 3.389025e-05\n",
              "3 Autoconcepto 0.3399444 0.1620895  2.097264 4.041711e-02"
            ]
          },
          "metadata": {}
        }
      ]
    },
    {
      "cell_type": "markdown",
      "source": [
        "A partir de la regresión lineal múltiple, se observa que existe un modelo adecuado, con un tamaño grande, y que explica el 43.6% de la variabilida del rendimiento, $R^2 = .438, F(2, 57) = 24.010, p < .001$. Específicamente, tanto la motivación de logro, $\\beta = .653, EE_\\beta = .15, t(57) = 4.50, p < .001$, como el autoconcepto, $\\beta = .340, EE_\\beta = .16, t(57) = 2.10, p = .04$, son predictores estadísticamente significativos y positivos del rendimiento académico."
      ],
      "metadata": {
        "id": "_YY0ZUFV9aMl"
      }
    },
    {
      "cell_type": "code",
      "source": [
        "lm.beta(model) %>% enframe()"
      ],
      "metadata": {
        "id": "E-9GAt-X-WYY",
        "outputId": "573b41ab-edae-4812-e79a-81ce40dbeb1d",
        "colab": {
          "base_uri": "https://localhost:8080/",
          "height": 161
        }
      },
      "execution_count": 16,
      "outputs": [
        {
          "output_type": "display_data",
          "data": {
            "text/html": [
              "<table class=\"dataframe\">\n",
              "<caption>A tibble: 2 × 2</caption>\n",
              "<thead>\n",
              "\t<tr><th scope=col>name</th><th scope=col>value</th></tr>\n",
              "\t<tr><th scope=col>&lt;chr&gt;</th><th scope=col>&lt;dbl&gt;</th></tr>\n",
              "</thead>\n",
              "<tbody>\n",
              "\t<tr><td>Mot_Log     </td><td>0.5172088</td></tr>\n",
              "\t<tr><td>Autoconcepto</td><td>0.2410020</td></tr>\n",
              "</tbody>\n",
              "</table>\n"
            ],
            "text/markdown": "\nA tibble: 2 × 2\n\n| name &lt;chr&gt; | value &lt;dbl&gt; |\n|---|---|\n| Mot_Log      | 0.5172088 |\n| Autoconcepto | 0.2410020 |\n\n",
            "text/latex": "A tibble: 2 × 2\n\\begin{tabular}{ll}\n name & value\\\\\n <chr> & <dbl>\\\\\n\\hline\n\t Mot\\_Log      & 0.5172088\\\\\n\t Autoconcepto & 0.2410020\\\\\n\\end{tabular}\n",
            "text/plain": [
              "  name         value    \n",
              "1 Mot_Log      0.5172088\n",
              "2 Autoconcepto 0.2410020"
            ]
          },
          "metadata": {}
        }
      ]
    },
    {
      "cell_type": "markdown",
      "source": [
        "La variable mas importante del modelo es la motivación de logro, $B = .517$.\n",
        "\n",
        "$R = 9.868 + .653(M) + .340(A) \\pm 1.45$"
      ],
      "metadata": {
        "id": "e-lx0Yyq-gRj"
      }
    }
  ]
}

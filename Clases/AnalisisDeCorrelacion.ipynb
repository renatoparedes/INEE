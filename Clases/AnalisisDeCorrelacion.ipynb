{
  "nbformat": 4,
  "nbformat_minor": 0,
  "metadata": {
    "colab": {
      "provenance": []
    },
    "kernelspec": {
      "name": "ir",
      "display_name": "R"
    },
    "language_info": {
      "name": "R"
    }
  },
  "cells": [
    {
      "cell_type": "markdown",
      "source": [
        "# Análisis de correlación"
      ],
      "metadata": {
        "id": "MiBQLkrTcvty"
      }
    },
    {
      "cell_type": "code",
      "source": [
        "# Instala librerias\n",
        "\n",
        "pkg = c(\"tidyverse\", \"rstatix\", \"skimr\", \"psych\", \"ggpubr\", \"e1071\")\n",
        "\n",
        "for (i in pkg) {\n",
        "  if(eval(bquote(!require(.(i))))) eval(bquote(install.packages(.(i))))\n",
        "}"
      ],
      "metadata": {
        "id": "9Qb3lBNmc2rO"
      },
      "execution_count": 34,
      "outputs": []
    },
    {
      "cell_type": "markdown",
      "source": [
        "# Visualización de datos"
      ],
      "metadata": {
        "id": "Mpjkhy5_c6Dv"
      }
    },
    {
      "cell_type": "code",
      "source": [
        "data <- haven::read_sav(\"https://github.com/renatoparedes/EstadisticaYPsicologiaMatematica/raw/main/INEE/Clase8_BaseAnalisisDeCorrelacion.sav\")\n",
        "\n",
        "data"
      ],
      "metadata": {
        "colab": {
          "base_uri": "https://localhost:8080/",
          "height": 1000
        },
        "id": "bxduLP4oc701",
        "outputId": "e50b87ed-2717-4a4c-c1bb-080e06d9fd89"
      },
      "execution_count": null,
      "outputs": [
        {
          "output_type": "display_data",
          "data": {
            "text/html": [
              "<table class=\"dataframe\">\n",
              "<caption>A tibble: 100 × 6</caption>\n",
              "<thead>\n",
              "\t<tr><th scope=col>Participantes</th><th scope=col>Bienestar_social</th><th scope=col>Salud</th><th scope=col>Resiliencia</th><th scope=col>Estrés</th><th scope=col>Depresión</th></tr>\n",
              "\t<tr><th scope=col>&lt;chr&gt;</th><th scope=col>&lt;dbl&gt;</th><th scope=col>&lt;dbl&gt;</th><th scope=col>&lt;dbl&gt;</th><th scope=col>&lt;dbl&gt;</th><th scope=col>&lt;dbl&gt;</th></tr>\n",
              "</thead>\n",
              "<tbody>\n",
              "\t<tr><td>001</td><td>36.98372</td><td>108.11136</td><td>4.887907</td><td>-15.03</td><td>-11.41</td></tr>\n",
              "\t<tr><td>002</td><td>91.80536</td><td>137.26832</td><td>5.173486</td><td>-12.92</td><td>-13.84</td></tr>\n",
              "\t<tr><td>003</td><td>35.25444</td><td> 88.07487</td><td>3.501057</td><td>-13.83</td><td>-10.12</td></tr>\n",
              "\t<tr><td>004</td><td>75.92542</td><td>204.57664</td><td>3.506270</td><td> -7.32</td><td> -9.65</td></tr>\n",
              "\t<tr><td>005</td><td>39.22381</td><td>146.54206</td><td>1.504087</td><td> -8.89</td><td> -5.55</td></tr>\n",
              "\t<tr><td>006</td><td>38.68664</td><td> 71.13647</td><td>3.361176</td><td>-13.84</td><td> -9.75</td></tr>\n",
              "\t<tr><td>007</td><td>45.80709</td><td> 83.07298</td><td>4.041495</td><td> -7.72</td><td>-10.62</td></tr>\n",
              "\t<tr><td>008</td><td>49.82870</td><td> 93.44006</td><td>5.281509</td><td>-10.59</td><td>-12.16</td></tr>\n",
              "\t<tr><td>009</td><td>61.65708</td><td>110.25736</td><td>4.534512</td><td>-13.65</td><td>-11.22</td></tr>\n",
              "\t<tr><td>010</td><td>40.73246</td><td> 61.17794</td><td>4.204120</td><td>-10.72</td><td> -7.38</td></tr>\n",
              "\t<tr><td>011</td><td>49.56029</td><td>126.91205</td><td>1.854459</td><td> -6.70</td><td> -8.86</td></tr>\n",
              "\t<tr><td>012</td><td>46.82186</td><td>107.26839</td><td>3.135545</td><td>-12.63</td><td> -7.44</td></tr>\n",
              "\t<tr><td>013</td><td>49.34828</td><td>143.93141</td><td>2.462711</td><td>-11.28</td><td> -8.08</td></tr>\n",
              "\t<tr><td>014</td><td>48.49597</td><td> 78.47413</td><td>4.744551</td><td>-11.62</td><td> -9.37</td></tr>\n",
              "\t<tr><td>015</td><td>43.55055</td><td>108.32000</td><td>5.355808</td><td>-11.87</td><td>-12.70</td></tr>\n",
              "\t<tr><td>016</td><td>66.17561</td><td> 70.25569</td><td>3.261064</td><td>-10.16</td><td> -8.12</td></tr>\n",
              "\t<tr><td>017</td><td>49.49558</td><td> 93.94172</td><td>4.025201</td><td> -5.84</td><td>-11.44</td></tr>\n",
              "\t<tr><td>018</td><td>35.12192</td><td>166.46167</td><td>3.045506</td><td>-11.09</td><td>-10.38</td></tr>\n",
              "\t<tr><td>019</td><td>51.01820</td><td>131.44883</td><td>2.494502</td><td> -5.08</td><td>-10.76</td></tr>\n",
              "\t<tr><td>020</td><td>63.29470</td><td>139.35551</td><td>5.071272</td><td>-15.63</td><td>-10.87</td></tr>\n",
              "\t<tr><td>021</td><td>49.50729</td><td> 77.47396</td><td>3.751659</td><td> -8.93</td><td> -9.82</td></tr>\n",
              "\t<tr><td>022</td><td>40.54906</td><td>131.47161</td><td>2.669878</td><td> -7.49</td><td> -7.68</td></tr>\n",
              "\t<tr><td>023</td><td>24.57857</td><td> 94.21682</td><td>2.116026</td><td> -7.04</td><td> -5.74</td></tr>\n",
              "\t<tr><td>024</td><td>44.71829</td><td> 95.31417</td><td>4.730015</td><td>-14.03</td><td>-12.57</td></tr>\n",
              "\t<tr><td>025</td><td>76.50726</td><td>111.17692</td><td>4.528936</td><td>-11.68</td><td>-12.17</td></tr>\n",
              "\t<tr><td>026</td><td>35.56307</td><td> 61.63795</td><td>3.973636</td><td>-15.49</td><td> -9.97</td></tr>\n",
              "\t<tr><td>027</td><td>53.68157</td><td>171.10459</td><td>5.150492</td><td>-11.81</td><td>-11.28</td></tr>\n",
              "\t<tr><td>028</td><td>55.44173</td><td>107.63307</td><td>4.118758</td><td>-16.76</td><td>-10.92</td></tr>\n",
              "\t<tr><td>029</td><td>81.18579</td><td>138.45893</td><td>6.551945</td><td>-17.30</td><td>-12.90</td></tr>\n",
              "\t<tr><td>030</td><td>49.97865</td><td>141.58052</td><td>5.542989</td><td>-12.31</td><td> -9.25</td></tr>\n",
              "\t<tr><td>⋮</td><td>⋮</td><td>⋮</td><td>⋮</td><td>⋮</td><td>⋮</td></tr>\n",
              "\t<tr><td>071</td><td>70.20624</td><td> 65.17786</td><td>4.590722</td><td> -8.60</td><td>-14.12</td></tr>\n",
              "\t<tr><td>072</td><td>49.63385</td><td> 91.96377</td><td>3.044560</td><td> -7.31</td><td> -9.96</td></tr>\n",
              "\t<tr><td>073</td><td>76.48902</td><td>132.80428</td><td>3.184858</td><td> -6.50</td><td> -7.60</td></tr>\n",
              "\t<tr><td>074</td><td>60.20081</td><td>142.60228</td><td>4.182021</td><td>-10.56</td><td>-11.82</td></tr>\n",
              "\t<tr><td>075</td><td>54.68740</td><td> 91.01042</td><td>4.687651</td><td>-14.71</td><td>-12.20</td></tr>\n",
              "\t<tr><td>076</td><td>70.23092</td><td>100.73397</td><td>2.454330</td><td>-11.75</td><td> -7.09</td></tr>\n",
              "\t<tr><td>077</td><td>47.69083</td><td> 99.65297</td><td>3.507688</td><td>-10.38</td><td> -9.13</td></tr>\n",
              "\t<tr><td>078</td><td>59.83933</td><td>127.77188</td><td>4.797963</td><td>-11.64</td><td>-11.85</td></tr>\n",
              "\t<tr><td>079</td><td>37.54597</td><td> 61.79222</td><td>3.904670</td><td>-10.90</td><td>-11.93</td></tr>\n",
              "\t<tr><td>080</td><td>69.00754</td><td> 65.45429</td><td>3.603331</td><td>-12.12</td><td> -4.75</td></tr>\n",
              "\t<tr><td>081</td><td>42.44360</td><td>126.11817</td><td>4.571922</td><td>-11.51</td><td>-11.64</td></tr>\n",
              "\t<tr><td>082</td><td>53.61773</td><td> 83.22800</td><td>3.848923</td><td>-11.92</td><td> -9.91</td></tr>\n",
              "\t<tr><td>083</td><td>78.49857</td><td>149.05870</td><td>5.094281</td><td>-14.12</td><td>-12.44</td></tr>\n",
              "\t<tr><td>084</td><td>36.77192</td><td>103.10162</td><td>3.991523</td><td> -6.85</td><td> -8.14</td></tr>\n",
              "\t<tr><td>085</td><td>53.37277</td><td>131.16304</td><td>5.284429</td><td>-12.73</td><td>-12.85</td></tr>\n",
              "\t<tr><td>086</td><td>31.61678</td><td> 82.38279</td><td>4.034238</td><td> -7.78</td><td> -8.87</td></tr>\n",
              "\t<tr><td>087</td><td>53.30802</td><td> 72.26651</td><td>2.889075</td><td> -1.49</td><td>-10.27</td></tr>\n",
              "\t<tr><td>088</td><td>50.36407</td><td> 61.94906</td><td>4.113967</td><td> -7.35</td><td>-11.20</td></tr>\n",
              "\t<tr><td>089</td><td>54.72283</td><td>114.16049</td><td>4.833794</td><td>-11.01</td><td>-14.17</td></tr>\n",
              "\t<tr><td>090</td><td>29.35689</td><td> 64.14491</td><td>2.251891</td><td> -1.56</td><td> -8.72</td></tr>\n",
              "\t<tr><td>091</td><td>23.53300</td><td>105.86068</td><td>4.831172</td><td>-15.46</td><td>-10.65</td></tr>\n",
              "\t<tr><td>092</td><td>56.46154</td><td> 72.67100</td><td>3.788138</td><td> -7.70</td><td>-10.63</td></tr>\n",
              "\t<tr><td>093</td><td>44.58652</td><td> 76.76342</td><td>3.058158</td><td> -5.19</td><td> -6.26</td></tr>\n",
              "\t<tr><td>094</td><td>75.34638</td><td> 78.15629</td><td>4.679532</td><td> -8.20</td><td>-13.76</td></tr>\n",
              "\t<tr><td>095</td><td>55.76624</td><td> 76.06725</td><td>3.865660</td><td>-12.87</td><td> -8.09</td></tr>\n",
              "\t<tr><td>096</td><td>42.88712</td><td>145.04883</td><td>4.732098</td><td>-11.15</td><td>-11.74</td></tr>\n",
              "\t<tr><td>097</td><td>65.29717</td><td> 76.08592</td><td>3.581279</td><td> -8.66</td><td> -9.59</td></tr>\n",
              "\t<tr><td>098</td><td>50.20054</td><td>166.56377</td><td>5.075703</td><td>-14.34</td><td>-12.46</td></tr>\n",
              "\t<tr><td>099</td><td>30.40332</td><td> 67.44350</td><td>3.118402</td><td> -8.20</td><td> -8.53</td></tr>\n",
              "\t<tr><td>100</td><td>47.62800</td><td> 78.38376</td><td>3.289037</td><td> -5.34</td><td> -8.69</td></tr>\n",
              "</tbody>\n",
              "</table>\n"
            ],
            "text/markdown": "\nA tibble: 100 × 6\n\n| Participantes &lt;chr&gt; | Bienestar_social &lt;dbl&gt; | Salud &lt;dbl&gt; | Resiliencia &lt;dbl&gt; | Estrés &lt;dbl&gt; | Depresión &lt;dbl&gt; |\n|---|---|---|---|---|---|\n| 001 | 36.98372 | 108.11136 | 4.887907 | -15.03 | -11.41 |\n| 002 | 91.80536 | 137.26832 | 5.173486 | -12.92 | -13.84 |\n| 003 | 35.25444 |  88.07487 | 3.501057 | -13.83 | -10.12 |\n| 004 | 75.92542 | 204.57664 | 3.506270 |  -7.32 |  -9.65 |\n| 005 | 39.22381 | 146.54206 | 1.504087 |  -8.89 |  -5.55 |\n| 006 | 38.68664 |  71.13647 | 3.361176 | -13.84 |  -9.75 |\n| 007 | 45.80709 |  83.07298 | 4.041495 |  -7.72 | -10.62 |\n| 008 | 49.82870 |  93.44006 | 5.281509 | -10.59 | -12.16 |\n| 009 | 61.65708 | 110.25736 | 4.534512 | -13.65 | -11.22 |\n| 010 | 40.73246 |  61.17794 | 4.204120 | -10.72 |  -7.38 |\n| 011 | 49.56029 | 126.91205 | 1.854459 |  -6.70 |  -8.86 |\n| 012 | 46.82186 | 107.26839 | 3.135545 | -12.63 |  -7.44 |\n| 013 | 49.34828 | 143.93141 | 2.462711 | -11.28 |  -8.08 |\n| 014 | 48.49597 |  78.47413 | 4.744551 | -11.62 |  -9.37 |\n| 015 | 43.55055 | 108.32000 | 5.355808 | -11.87 | -12.70 |\n| 016 | 66.17561 |  70.25569 | 3.261064 | -10.16 |  -8.12 |\n| 017 | 49.49558 |  93.94172 | 4.025201 |  -5.84 | -11.44 |\n| 018 | 35.12192 | 166.46167 | 3.045506 | -11.09 | -10.38 |\n| 019 | 51.01820 | 131.44883 | 2.494502 |  -5.08 | -10.76 |\n| 020 | 63.29470 | 139.35551 | 5.071272 | -15.63 | -10.87 |\n| 021 | 49.50729 |  77.47396 | 3.751659 |  -8.93 |  -9.82 |\n| 022 | 40.54906 | 131.47161 | 2.669878 |  -7.49 |  -7.68 |\n| 023 | 24.57857 |  94.21682 | 2.116026 |  -7.04 |  -5.74 |\n| 024 | 44.71829 |  95.31417 | 4.730015 | -14.03 | -12.57 |\n| 025 | 76.50726 | 111.17692 | 4.528936 | -11.68 | -12.17 |\n| 026 | 35.56307 |  61.63795 | 3.973636 | -15.49 |  -9.97 |\n| 027 | 53.68157 | 171.10459 | 5.150492 | -11.81 | -11.28 |\n| 028 | 55.44173 | 107.63307 | 4.118758 | -16.76 | -10.92 |\n| 029 | 81.18579 | 138.45893 | 6.551945 | -17.30 | -12.90 |\n| 030 | 49.97865 | 141.58052 | 5.542989 | -12.31 |  -9.25 |\n| ⋮ | ⋮ | ⋮ | ⋮ | ⋮ | ⋮ |\n| 071 | 70.20624 |  65.17786 | 4.590722 |  -8.60 | -14.12 |\n| 072 | 49.63385 |  91.96377 | 3.044560 |  -7.31 |  -9.96 |\n| 073 | 76.48902 | 132.80428 | 3.184858 |  -6.50 |  -7.60 |\n| 074 | 60.20081 | 142.60228 | 4.182021 | -10.56 | -11.82 |\n| 075 | 54.68740 |  91.01042 | 4.687651 | -14.71 | -12.20 |\n| 076 | 70.23092 | 100.73397 | 2.454330 | -11.75 |  -7.09 |\n| 077 | 47.69083 |  99.65297 | 3.507688 | -10.38 |  -9.13 |\n| 078 | 59.83933 | 127.77188 | 4.797963 | -11.64 | -11.85 |\n| 079 | 37.54597 |  61.79222 | 3.904670 | -10.90 | -11.93 |\n| 080 | 69.00754 |  65.45429 | 3.603331 | -12.12 |  -4.75 |\n| 081 | 42.44360 | 126.11817 | 4.571922 | -11.51 | -11.64 |\n| 082 | 53.61773 |  83.22800 | 3.848923 | -11.92 |  -9.91 |\n| 083 | 78.49857 | 149.05870 | 5.094281 | -14.12 | -12.44 |\n| 084 | 36.77192 | 103.10162 | 3.991523 |  -6.85 |  -8.14 |\n| 085 | 53.37277 | 131.16304 | 5.284429 | -12.73 | -12.85 |\n| 086 | 31.61678 |  82.38279 | 4.034238 |  -7.78 |  -8.87 |\n| 087 | 53.30802 |  72.26651 | 2.889075 |  -1.49 | -10.27 |\n| 088 | 50.36407 |  61.94906 | 4.113967 |  -7.35 | -11.20 |\n| 089 | 54.72283 | 114.16049 | 4.833794 | -11.01 | -14.17 |\n| 090 | 29.35689 |  64.14491 | 2.251891 |  -1.56 |  -8.72 |\n| 091 | 23.53300 | 105.86068 | 4.831172 | -15.46 | -10.65 |\n| 092 | 56.46154 |  72.67100 | 3.788138 |  -7.70 | -10.63 |\n| 093 | 44.58652 |  76.76342 | 3.058158 |  -5.19 |  -6.26 |\n| 094 | 75.34638 |  78.15629 | 4.679532 |  -8.20 | -13.76 |\n| 095 | 55.76624 |  76.06725 | 3.865660 | -12.87 |  -8.09 |\n| 096 | 42.88712 | 145.04883 | 4.732098 | -11.15 | -11.74 |\n| 097 | 65.29717 |  76.08592 | 3.581279 |  -8.66 |  -9.59 |\n| 098 | 50.20054 | 166.56377 | 5.075703 | -14.34 | -12.46 |\n| 099 | 30.40332 |  67.44350 | 3.118402 |  -8.20 |  -8.53 |\n| 100 | 47.62800 |  78.38376 | 3.289037 |  -5.34 |  -8.69 |\n\n",
            "text/latex": "A tibble: 100 × 6\n\\begin{tabular}{llllll}\n Participantes & Bienestar\\_social & Salud & Resiliencia & Estrés & Depresión\\\\\n <chr> & <dbl> & <dbl> & <dbl> & <dbl> & <dbl>\\\\\n\\hline\n\t 001 & 36.98372 & 108.11136 & 4.887907 & -15.03 & -11.41\\\\\n\t 002 & 91.80536 & 137.26832 & 5.173486 & -12.92 & -13.84\\\\\n\t 003 & 35.25444 &  88.07487 & 3.501057 & -13.83 & -10.12\\\\\n\t 004 & 75.92542 & 204.57664 & 3.506270 &  -7.32 &  -9.65\\\\\n\t 005 & 39.22381 & 146.54206 & 1.504087 &  -8.89 &  -5.55\\\\\n\t 006 & 38.68664 &  71.13647 & 3.361176 & -13.84 &  -9.75\\\\\n\t 007 & 45.80709 &  83.07298 & 4.041495 &  -7.72 & -10.62\\\\\n\t 008 & 49.82870 &  93.44006 & 5.281509 & -10.59 & -12.16\\\\\n\t 009 & 61.65708 & 110.25736 & 4.534512 & -13.65 & -11.22\\\\\n\t 010 & 40.73246 &  61.17794 & 4.204120 & -10.72 &  -7.38\\\\\n\t 011 & 49.56029 & 126.91205 & 1.854459 &  -6.70 &  -8.86\\\\\n\t 012 & 46.82186 & 107.26839 & 3.135545 & -12.63 &  -7.44\\\\\n\t 013 & 49.34828 & 143.93141 & 2.462711 & -11.28 &  -8.08\\\\\n\t 014 & 48.49597 &  78.47413 & 4.744551 & -11.62 &  -9.37\\\\\n\t 015 & 43.55055 & 108.32000 & 5.355808 & -11.87 & -12.70\\\\\n\t 016 & 66.17561 &  70.25569 & 3.261064 & -10.16 &  -8.12\\\\\n\t 017 & 49.49558 &  93.94172 & 4.025201 &  -5.84 & -11.44\\\\\n\t 018 & 35.12192 & 166.46167 & 3.045506 & -11.09 & -10.38\\\\\n\t 019 & 51.01820 & 131.44883 & 2.494502 &  -5.08 & -10.76\\\\\n\t 020 & 63.29470 & 139.35551 & 5.071272 & -15.63 & -10.87\\\\\n\t 021 & 49.50729 &  77.47396 & 3.751659 &  -8.93 &  -9.82\\\\\n\t 022 & 40.54906 & 131.47161 & 2.669878 &  -7.49 &  -7.68\\\\\n\t 023 & 24.57857 &  94.21682 & 2.116026 &  -7.04 &  -5.74\\\\\n\t 024 & 44.71829 &  95.31417 & 4.730015 & -14.03 & -12.57\\\\\n\t 025 & 76.50726 & 111.17692 & 4.528936 & -11.68 & -12.17\\\\\n\t 026 & 35.56307 &  61.63795 & 3.973636 & -15.49 &  -9.97\\\\\n\t 027 & 53.68157 & 171.10459 & 5.150492 & -11.81 & -11.28\\\\\n\t 028 & 55.44173 & 107.63307 & 4.118758 & -16.76 & -10.92\\\\\n\t 029 & 81.18579 & 138.45893 & 6.551945 & -17.30 & -12.90\\\\\n\t 030 & 49.97865 & 141.58052 & 5.542989 & -12.31 &  -9.25\\\\\n\t ⋮ & ⋮ & ⋮ & ⋮ & ⋮ & ⋮\\\\\n\t 071 & 70.20624 &  65.17786 & 4.590722 &  -8.60 & -14.12\\\\\n\t 072 & 49.63385 &  91.96377 & 3.044560 &  -7.31 &  -9.96\\\\\n\t 073 & 76.48902 & 132.80428 & 3.184858 &  -6.50 &  -7.60\\\\\n\t 074 & 60.20081 & 142.60228 & 4.182021 & -10.56 & -11.82\\\\\n\t 075 & 54.68740 &  91.01042 & 4.687651 & -14.71 & -12.20\\\\\n\t 076 & 70.23092 & 100.73397 & 2.454330 & -11.75 &  -7.09\\\\\n\t 077 & 47.69083 &  99.65297 & 3.507688 & -10.38 &  -9.13\\\\\n\t 078 & 59.83933 & 127.77188 & 4.797963 & -11.64 & -11.85\\\\\n\t 079 & 37.54597 &  61.79222 & 3.904670 & -10.90 & -11.93\\\\\n\t 080 & 69.00754 &  65.45429 & 3.603331 & -12.12 &  -4.75\\\\\n\t 081 & 42.44360 & 126.11817 & 4.571922 & -11.51 & -11.64\\\\\n\t 082 & 53.61773 &  83.22800 & 3.848923 & -11.92 &  -9.91\\\\\n\t 083 & 78.49857 & 149.05870 & 5.094281 & -14.12 & -12.44\\\\\n\t 084 & 36.77192 & 103.10162 & 3.991523 &  -6.85 &  -8.14\\\\\n\t 085 & 53.37277 & 131.16304 & 5.284429 & -12.73 & -12.85\\\\\n\t 086 & 31.61678 &  82.38279 & 4.034238 &  -7.78 &  -8.87\\\\\n\t 087 & 53.30802 &  72.26651 & 2.889075 &  -1.49 & -10.27\\\\\n\t 088 & 50.36407 &  61.94906 & 4.113967 &  -7.35 & -11.20\\\\\n\t 089 & 54.72283 & 114.16049 & 4.833794 & -11.01 & -14.17\\\\\n\t 090 & 29.35689 &  64.14491 & 2.251891 &  -1.56 &  -8.72\\\\\n\t 091 & 23.53300 & 105.86068 & 4.831172 & -15.46 & -10.65\\\\\n\t 092 & 56.46154 &  72.67100 & 3.788138 &  -7.70 & -10.63\\\\\n\t 093 & 44.58652 &  76.76342 & 3.058158 &  -5.19 &  -6.26\\\\\n\t 094 & 75.34638 &  78.15629 & 4.679532 &  -8.20 & -13.76\\\\\n\t 095 & 55.76624 &  76.06725 & 3.865660 & -12.87 &  -8.09\\\\\n\t 096 & 42.88712 & 145.04883 & 4.732098 & -11.15 & -11.74\\\\\n\t 097 & 65.29717 &  76.08592 & 3.581279 &  -8.66 &  -9.59\\\\\n\t 098 & 50.20054 & 166.56377 & 5.075703 & -14.34 & -12.46\\\\\n\t 099 & 30.40332 &  67.44350 & 3.118402 &  -8.20 &  -8.53\\\\\n\t 100 & 47.62800 &  78.38376 & 3.289037 &  -5.34 &  -8.69\\\\\n\\end{tabular}\n",
            "text/plain": [
              "    Participantes Bienestar_social Salud     Resiliencia Estrés Depresión\n",
              "1   001           36.98372         108.11136 4.887907    -15.03 -11.41   \n",
              "2   002           91.80536         137.26832 5.173486    -12.92 -13.84   \n",
              "3   003           35.25444          88.07487 3.501057    -13.83 -10.12   \n",
              "4   004           75.92542         204.57664 3.506270     -7.32  -9.65   \n",
              "5   005           39.22381         146.54206 1.504087     -8.89  -5.55   \n",
              "6   006           38.68664          71.13647 3.361176    -13.84  -9.75   \n",
              "7   007           45.80709          83.07298 4.041495     -7.72 -10.62   \n",
              "8   008           49.82870          93.44006 5.281509    -10.59 -12.16   \n",
              "9   009           61.65708         110.25736 4.534512    -13.65 -11.22   \n",
              "10  010           40.73246          61.17794 4.204120    -10.72  -7.38   \n",
              "11  011           49.56029         126.91205 1.854459     -6.70  -8.86   \n",
              "12  012           46.82186         107.26839 3.135545    -12.63  -7.44   \n",
              "13  013           49.34828         143.93141 2.462711    -11.28  -8.08   \n",
              "14  014           48.49597          78.47413 4.744551    -11.62  -9.37   \n",
              "15  015           43.55055         108.32000 5.355808    -11.87 -12.70   \n",
              "16  016           66.17561          70.25569 3.261064    -10.16  -8.12   \n",
              "17  017           49.49558          93.94172 4.025201     -5.84 -11.44   \n",
              "18  018           35.12192         166.46167 3.045506    -11.09 -10.38   \n",
              "19  019           51.01820         131.44883 2.494502     -5.08 -10.76   \n",
              "20  020           63.29470         139.35551 5.071272    -15.63 -10.87   \n",
              "21  021           49.50729          77.47396 3.751659     -8.93  -9.82   \n",
              "22  022           40.54906         131.47161 2.669878     -7.49  -7.68   \n",
              "23  023           24.57857          94.21682 2.116026     -7.04  -5.74   \n",
              "24  024           44.71829          95.31417 4.730015    -14.03 -12.57   \n",
              "25  025           76.50726         111.17692 4.528936    -11.68 -12.17   \n",
              "26  026           35.56307          61.63795 3.973636    -15.49  -9.97   \n",
              "27  027           53.68157         171.10459 5.150492    -11.81 -11.28   \n",
              "28  028           55.44173         107.63307 4.118758    -16.76 -10.92   \n",
              "29  029           81.18579         138.45893 6.551945    -17.30 -12.90   \n",
              "30  030           49.97865         141.58052 5.542989    -12.31  -9.25   \n",
              "⋮   ⋮             ⋮                ⋮         ⋮           ⋮      ⋮        \n",
              "71  071           70.20624          65.17786 4.590722     -8.60 -14.12   \n",
              "72  072           49.63385          91.96377 3.044560     -7.31  -9.96   \n",
              "73  073           76.48902         132.80428 3.184858     -6.50  -7.60   \n",
              "74  074           60.20081         142.60228 4.182021    -10.56 -11.82   \n",
              "75  075           54.68740          91.01042 4.687651    -14.71 -12.20   \n",
              "76  076           70.23092         100.73397 2.454330    -11.75  -7.09   \n",
              "77  077           47.69083          99.65297 3.507688    -10.38  -9.13   \n",
              "78  078           59.83933         127.77188 4.797963    -11.64 -11.85   \n",
              "79  079           37.54597          61.79222 3.904670    -10.90 -11.93   \n",
              "80  080           69.00754          65.45429 3.603331    -12.12  -4.75   \n",
              "81  081           42.44360         126.11817 4.571922    -11.51 -11.64   \n",
              "82  082           53.61773          83.22800 3.848923    -11.92  -9.91   \n",
              "83  083           78.49857         149.05870 5.094281    -14.12 -12.44   \n",
              "84  084           36.77192         103.10162 3.991523     -6.85  -8.14   \n",
              "85  085           53.37277         131.16304 5.284429    -12.73 -12.85   \n",
              "86  086           31.61678          82.38279 4.034238     -7.78  -8.87   \n",
              "87  087           53.30802          72.26651 2.889075     -1.49 -10.27   \n",
              "88  088           50.36407          61.94906 4.113967     -7.35 -11.20   \n",
              "89  089           54.72283         114.16049 4.833794    -11.01 -14.17   \n",
              "90  090           29.35689          64.14491 2.251891     -1.56  -8.72   \n",
              "91  091           23.53300         105.86068 4.831172    -15.46 -10.65   \n",
              "92  092           56.46154          72.67100 3.788138     -7.70 -10.63   \n",
              "93  093           44.58652          76.76342 3.058158     -5.19  -6.26   \n",
              "94  094           75.34638          78.15629 4.679532     -8.20 -13.76   \n",
              "95  095           55.76624          76.06725 3.865660    -12.87  -8.09   \n",
              "96  096           42.88712         145.04883 4.732098    -11.15 -11.74   \n",
              "97  097           65.29717          76.08592 3.581279     -8.66  -9.59   \n",
              "98  098           50.20054         166.56377 5.075703    -14.34 -12.46   \n",
              "99  099           30.40332          67.44350 3.118402     -8.20  -8.53   \n",
              "100 100           47.62800          78.38376 3.289037     -5.34  -8.69   "
            ]
          },
          "metadata": {}
        }
      ]
    },
    {
      "cell_type": "code",
      "source": [
        "library(tidyverse)\n",
        "\n",
        "data |> \n",
        "  ggplot(aes(x = Resiliencia, y = Estrés)) +\n",
        "  geom_point() +\n",
        "  theme_minimal()"
      ],
      "metadata": {
        "colab": {
          "base_uri": "https://localhost:8080/",
          "height": 437
        },
        "id": "0WE1q6bOeH7u",
        "outputId": "dc8a6dea-2f7a-4be5-86b1-870cdc97788f"
      },
      "execution_count": null,
      "outputs": [
        {
          "output_type": "display_data",
          "data": {
            "text/plain": [
              "plot without title"
            ],
            "image/png": "[encoded data removed]"
          },
          "metadata": {
            "image/png": {
              "width": 420,
              "height": 420
            }
          }
        }
      ]
    },
    {
      "cell_type": "markdown",
      "source": [
        "# Descripción de los datos"
      ],
      "metadata": {
        "id": "TroaZ3WZeJKh"
      }
    },
    {
      "cell_type": "code",
      "source": [
        "library(skimr)\n",
        "\n",
        "my_skim <- skim_with(numeric = \n",
        "                       sfl(mean, sd, median, \n",
        "                           min,\n",
        "                           p25 = ~ quantile(.x, probs = .25),\n",
        "                           p50 = ~ quantile(.x, probs = .50),\n",
        "                           p75 = ~ quantile(.x, probs = .75),\n",
        "                           max), append = F)\n",
        "\n",
        "data |> \n",
        "  my_skim()"
      ],
      "metadata": {
        "colab": {
          "base_uri": "https://localhost:8080/",
          "height": 844
        },
        "id": "noGSwYjseMh4",
        "outputId": "47bcd4fd-92c4-4c4a-ddf8-0c675aec9386"
      },
      "execution_count": null,
      "outputs": [
        {
          "output_type": "stream",
          "name": "stdout",
          "text": [
            "── Data Summary ────────────────────────\n",
            "                           Values\n",
            "Name                       data  \n",
            "Number of rows             100   \n",
            "Number of columns          6     \n",
            "_______________________          \n",
            "Column type frequency:           \n",
            "  character                1     \n",
            "  numeric                  5     \n",
            "________________________         \n",
            "Group variables            None  \n",
            "\n",
            "── Variable type: character ────────────────────────────────────────────────────\n",
            "  skim_variable n_missing complete_rate min max empty n_unique whitespace\n",
            "\u001b[90m1\u001b[39m Participantes         0             1   3   3     0      100          0\n",
            "\n",
            "── Variable type: numeric ──────────────────────────────────────────────────────\n",
            "  skim_variable    n_missing complete_rate   mean    sd median    min    p25\n",
            "\u001b[90m1\u001b[39m Bienestar_social         0             1  50.9  15.5   49.5   12.3   40.7 \n",
            "\u001b[90m2\u001b[39m Salud                    0             1 104.   32.2  100.    61.2   76.6 \n",
            "\u001b[90m3\u001b[39m Resiliencia              0             1   3.91  1.02   3.94   1.50   3.17\n",
            "\u001b[90m4\u001b[39m Estrés                   0             1 -\u001b[31m10\u001b[39m\u001b[31m.\u001b[39m\u001b[31m4\u001b[39m   3.54 -\u001b[31m11\u001b[39m\u001b[31m.\u001b[39m\u001b[31m0\u001b[39m  -\u001b[31m19\u001b[39m\u001b[31m.\u001b[39m\u001b[31m2\u001b[39m  -\u001b[31m12\u001b[39m\u001b[31m.\u001b[39m\u001b[31m8\u001b[39m \n",
            "\u001b[90m5\u001b[39m Depresión                0             1 -\u001b[31m10\u001b[39m\u001b[31m.\u001b[39m\u001b[31m0\u001b[39m   2.16 -\u001b[31m10\u001b[39m\u001b[31m.\u001b[39m\u001b[31m0\u001b[39m  -\u001b[31m15\u001b[39m\u001b[31m.\u001b[39m\u001b[31m3\u001b[39m  -\u001b[31m11\u001b[39m\u001b[31m.\u001b[39m\u001b[31m5\u001b[39m \n",
            "     p50    p75    max\n",
            "\u001b[90m1\u001b[39m  49.5   59.4  106.  \n",
            "\u001b[90m2\u001b[39m 100.   131.   205.  \n",
            "\u001b[90m3\u001b[39m   3.94   4.73   6.55\n",
            "\u001b[90m4\u001b[39m -\u001b[31m11\u001b[39m\u001b[31m.\u001b[39m\u001b[31m0\u001b[39m   -\u001b[31m7\u001b[39m\u001b[31m.\u001b[39m\u001b[31m66\u001b[39m  -\u001b[31m1\u001b[39m\u001b[31m.\u001b[39m\u001b[31m49\u001b[39m\n",
            "\u001b[90m5\u001b[39m -\u001b[31m10\u001b[39m\u001b[31m.\u001b[39m\u001b[31m0\u001b[39m   -\u001b[31m8\u001b[39m\u001b[31m.\u001b[39m\u001b[31m71\u001b[39m  -\u001b[31m4\u001b[39m\u001b[31m.\u001b[39m\u001b[31m75\u001b[39m\n"
          ]
        },
        {
          "output_type": "stream",
          "name": "stderr",
          "text": [
            "Warning message in is.null(text_repr) || nchar(text_repr) == 0L:\n",
            "“'length(x) = 17 > 1' in coercion to 'logical(1)'”\n"
          ]
        },
        {
          "output_type": "display_data",
          "data": {
            "text/html": [
              "<table class=\"dataframe\">\n",
              "<caption>A skim_df: 6 × 17</caption>\n",
              "<thead>\n",
              "\t<tr><th></th><th scope=col>skim_type</th><th scope=col>skim_variable</th><th scope=col>n_missing</th><th scope=col>complete_rate</th><th scope=col>character.min</th><th scope=col>character.max</th><th scope=col>character.empty</th><th scope=col>character.n_unique</th><th scope=col>character.whitespace</th><th scope=col>numeric.mean</th><th scope=col>numeric.sd</th><th scope=col>numeric.median</th><th scope=col>numeric.min</th><th scope=col>numeric.p25</th><th scope=col>numeric.p50</th><th scope=col>numeric.p75</th><th scope=col>numeric.max</th></tr>\n",
              "\t<tr><th></th><th scope=col>&lt;chr&gt;</th><th scope=col>&lt;chr&gt;</th><th scope=col>&lt;int&gt;</th><th scope=col>&lt;dbl&gt;</th><th scope=col>&lt;int&gt;</th><th scope=col>&lt;int&gt;</th><th scope=col>&lt;int&gt;</th><th scope=col>&lt;int&gt;</th><th scope=col>&lt;int&gt;</th><th scope=col>&lt;dbl&gt;</th><th scope=col>&lt;dbl&gt;</th><th scope=col>&lt;dbl&gt;</th><th scope=col>&lt;dbl&gt;</th><th scope=col>&lt;dbl&gt;</th><th scope=col>&lt;dbl&gt;</th><th scope=col>&lt;dbl&gt;</th><th scope=col>&lt;dbl&gt;</th></tr>\n",
              "</thead>\n",
              "<tbody>\n",
              "\t<tr><th scope=row>1</th><td>character</td><td>Participantes   </td><td>0</td><td>1</td><td> 3</td><td> 3</td><td> 0</td><td>100</td><td> 0</td><td>        NA</td><td>       NA</td><td>        NA</td><td>        NA</td><td>       NA</td><td>        NA</td><td>        NA</td><td>        NA</td></tr>\n",
              "\t<tr><th scope=row>2</th><td>numeric  </td><td>Bienestar_social</td><td>0</td><td>1</td><td>NA</td><td>NA</td><td>NA</td><td> NA</td><td>NA</td><td> 50.852082</td><td>15.546557</td><td> 49.533791</td><td> 12.334894</td><td> 40.67005</td><td> 49.533791</td><td> 59.419161</td><td>105.545952</td></tr>\n",
              "\t<tr><th scope=row>3</th><td>numeric  </td><td>Salud           </td><td>0</td><td>1</td><td>NA</td><td>NA</td><td>NA</td><td> NA</td><td>NA</td><td>103.945074</td><td>32.224664</td><td>100.193474</td><td> 61.177939</td><td> 76.59405</td><td>100.193474</td><td>131.197430</td><td>204.576642</td></tr>\n",
              "\t<tr><th scope=row>4</th><td>numeric  </td><td>Resiliencia     </td><td>0</td><td>1</td><td>NA</td><td>NA</td><td>NA</td><td> NA</td><td>NA</td><td>  3.910544</td><td> 1.021960</td><td>  3.939153</td><td>  1.504087</td><td>  3.17253</td><td>  3.939153</td><td>  4.730535</td><td>  6.551945</td></tr>\n",
              "\t<tr><th scope=row>5</th><td>numeric  </td><td>Estrés          </td><td>0</td><td>1</td><td>NA</td><td>NA</td><td>NA</td><td> NA</td><td>NA</td><td>-10.383400</td><td> 3.538318</td><td>-10.955000</td><td>-19.150000</td><td>-12.75250</td><td>-10.955000</td><td> -7.655000</td><td> -1.490000</td></tr>\n",
              "\t<tr><th scope=row>6</th><td>numeric  </td><td>Depresión       </td><td>0</td><td>1</td><td>NA</td><td>NA</td><td>NA</td><td> NA</td><td>NA</td><td> -9.995600</td><td> 2.156638</td><td>-10.045000</td><td>-15.260000</td><td>-11.52750</td><td>-10.045000</td><td> -8.712500</td><td> -4.750000</td></tr>\n",
              "</tbody>\n",
              "</table>\n"
            ],
            "text/markdown": "\nA skim_df: 6 × 17\n\n| <!--/--> | skim_type &lt;chr&gt; | skim_variable &lt;chr&gt; | n_missing &lt;int&gt; | complete_rate &lt;dbl&gt; | character.min &lt;int&gt; | character.max &lt;int&gt; | character.empty &lt;int&gt; | character.n_unique &lt;int&gt; | character.whitespace &lt;int&gt; | numeric.mean &lt;dbl&gt; | numeric.sd &lt;dbl&gt; | numeric.median &lt;dbl&gt; | numeric.min &lt;dbl&gt; | numeric.p25 &lt;dbl&gt; | numeric.p50 &lt;dbl&gt; | numeric.p75 &lt;dbl&gt; | numeric.max &lt;dbl&gt; |\n|---|---|---|---|---|---|---|---|---|---|---|---|---|---|---|---|---|---|\n| 1 | character | Participantes    | 0 | 1 |  3 |  3 |  0 | 100 |  0 |         NA |        NA |         NA |         NA |        NA |         NA |         NA |         NA |\n| 2 | numeric   | Bienestar_social | 0 | 1 | NA | NA | NA |  NA | NA |  50.852082 | 15.546557 |  49.533791 |  12.334894 |  40.67005 |  49.533791 |  59.419161 | 105.545952 |\n| 3 | numeric   | Salud            | 0 | 1 | NA | NA | NA |  NA | NA | 103.945074 | 32.224664 | 100.193474 |  61.177939 |  76.59405 | 100.193474 | 131.197430 | 204.576642 |\n| 4 | numeric   | Resiliencia      | 0 | 1 | NA | NA | NA |  NA | NA |   3.910544 |  1.021960 |   3.939153 |   1.504087 |   3.17253 |   3.939153 |   4.730535 |   6.551945 |\n| 5 | numeric   | Estrés           | 0 | 1 | NA | NA | NA |  NA | NA | -10.383400 |  3.538318 | -10.955000 | -19.150000 | -12.75250 | -10.955000 |  -7.655000 |  -1.490000 |\n| 6 | numeric   | Depresión        | 0 | 1 | NA | NA | NA |  NA | NA |  -9.995600 |  2.156638 | -10.045000 | -15.260000 | -11.52750 | -10.045000 |  -8.712500 |  -4.750000 |\n\n",
            "text/latex": "A skim\\_df: 6 × 17\n\\begin{tabular}{r|lllllllllllllllll}\n  & skim\\_type & skim\\_variable & n\\_missing & complete\\_rate & character.min & character.max & character.empty & character.n\\_unique & character.whitespace & numeric.mean & numeric.sd & numeric.median & numeric.min & numeric.p25 & numeric.p50 & numeric.p75 & numeric.max\\\\\n  & <chr> & <chr> & <int> & <dbl> & <int> & <int> & <int> & <int> & <int> & <dbl> & <dbl> & <dbl> & <dbl> & <dbl> & <dbl> & <dbl> & <dbl>\\\\\n\\hline\n\t1 & character & Participantes    & 0 & 1 &  3 &  3 &  0 & 100 &  0 &         NA &        NA &         NA &         NA &        NA &         NA &         NA &         NA\\\\\n\t2 & numeric   & Bienestar\\_social & 0 & 1 & NA & NA & NA &  NA & NA &  50.852082 & 15.546557 &  49.533791 &  12.334894 &  40.67005 &  49.533791 &  59.419161 & 105.545952\\\\\n\t3 & numeric   & Salud            & 0 & 1 & NA & NA & NA &  NA & NA & 103.945074 & 32.224664 & 100.193474 &  61.177939 &  76.59405 & 100.193474 & 131.197430 & 204.576642\\\\\n\t4 & numeric   & Resiliencia      & 0 & 1 & NA & NA & NA &  NA & NA &   3.910544 &  1.021960 &   3.939153 &   1.504087 &   3.17253 &   3.939153 &   4.730535 &   6.551945\\\\\n\t5 & numeric   & Estrés           & 0 & 1 & NA & NA & NA &  NA & NA & -10.383400 &  3.538318 & -10.955000 & -19.150000 & -12.75250 & -10.955000 &  -7.655000 &  -1.490000\\\\\n\t6 & numeric   & Depresión        & 0 & 1 & NA & NA & NA &  NA & NA &  -9.995600 &  2.156638 & -10.045000 & -15.260000 & -11.52750 & -10.045000 &  -8.712500 &  -4.750000\\\\\n\\end{tabular}\n",
            "text/plain": [
              "[object Object][object Object][object Object][object Object][object Object][object Object]"
            ]
          },
          "metadata": {}
        }
      ]
    },
    {
      "cell_type": "code",
      "source": [
        "library(psych)\n",
        "\n",
        "describe(data)"
      ],
      "metadata": {
        "colab": {
          "base_uri": "https://localhost:8080/",
          "height": 306
        },
        "id": "IZ0n6TxAeXOD",
        "outputId": "68f52f10-bd92-4e97-e93a-ee96f4c478d3"
      },
      "execution_count": null,
      "outputs": [
        {
          "output_type": "display_data",
          "data": {
            "text/html": [
              "<table class=\"dataframe\">\n",
              "<caption>A psych: 6 × 13</caption>\n",
              "<thead>\n",
              "\t<tr><th></th><th scope=col>vars</th><th scope=col>n</th><th scope=col>mean</th><th scope=col>sd</th><th scope=col>median</th><th scope=col>trimmed</th><th scope=col>mad</th><th scope=col>min</th><th scope=col>max</th><th scope=col>range</th><th scope=col>skew</th><th scope=col>kurtosis</th><th scope=col>se</th></tr>\n",
              "\t<tr><th></th><th scope=col>&lt;int&gt;</th><th scope=col>&lt;dbl&gt;</th><th scope=col>&lt;dbl&gt;</th><th scope=col>&lt;dbl&gt;</th><th scope=col>&lt;dbl&gt;</th><th scope=col>&lt;dbl&gt;</th><th scope=col>&lt;dbl&gt;</th><th scope=col>&lt;dbl&gt;</th><th scope=col>&lt;dbl&gt;</th><th scope=col>&lt;dbl&gt;</th><th scope=col>&lt;dbl&gt;</th><th scope=col>&lt;dbl&gt;</th><th scope=col>&lt;dbl&gt;</th></tr>\n",
              "</thead>\n",
              "<tbody>\n",
              "\t<tr><th scope=row>Participantes*</th><td>1</td><td>100</td><td> 50.500000</td><td>29.011492</td><td> 50.500000</td><td> 50.500000</td><td>37.065000</td><td>  1.000000</td><td>100.000000</td><td> 99.000000</td><td> 0.00000000</td><td>-1.2360552</td><td>2.9011492</td></tr>\n",
              "\t<tr><th scope=row>Bienestar_social</th><td>2</td><td>100</td><td> 50.852082</td><td>15.546557</td><td> 49.533791</td><td> 50.151748</td><td>14.054830</td><td> 12.334894</td><td>105.545952</td><td> 93.211058</td><td> 0.53138909</td><td> 0.8526679</td><td>1.5546557</td></tr>\n",
              "\t<tr><th scope=row>Salud</th><td>3</td><td>100</td><td>103.945074</td><td>32.224664</td><td>100.193474</td><td>101.533921</td><td>37.392744</td><td> 61.177939</td><td>204.576642</td><td>143.398703</td><td> 0.60688597</td><td>-0.3102441</td><td>3.2224664</td></tr>\n",
              "\t<tr><th scope=row>Resiliencia</th><td>4</td><td>100</td><td>  3.910544</td><td> 1.021960</td><td>  3.939153</td><td>  3.924856</td><td> 1.174076</td><td>  1.504087</td><td>  6.551945</td><td>  5.047858</td><td>-0.06373775</td><td>-0.7223282</td><td>0.1021960</td></tr>\n",
              "\t<tr><th scope=row>Estrés</th><td>5</td><td>100</td><td>-10.383400</td><td> 3.538318</td><td>-10.955000</td><td>-10.425375</td><td> 4.040085</td><td>-19.150000</td><td> -1.490000</td><td> 17.660000</td><td> 0.14510151</td><td>-0.3595197</td><td>0.3538318</td></tr>\n",
              "\t<tr><th scope=row>Depresión</th><td>6</td><td>100</td><td> -9.995600</td><td> 2.156638</td><td>-10.045000</td><td>-10.017750</td><td> 2.105292</td><td>-15.260000</td><td> -4.750000</td><td> 10.510000</td><td> 0.07999526</td><td>-0.4394083</td><td>0.2156638</td></tr>\n",
              "</tbody>\n",
              "</table>\n"
            ],
            "text/markdown": "\nA psych: 6 × 13\n\n| <!--/--> | vars &lt;int&gt; | n &lt;dbl&gt; | mean &lt;dbl&gt; | sd &lt;dbl&gt; | median &lt;dbl&gt; | trimmed &lt;dbl&gt; | mad &lt;dbl&gt; | min &lt;dbl&gt; | max &lt;dbl&gt; | range &lt;dbl&gt; | skew &lt;dbl&gt; | kurtosis &lt;dbl&gt; | se &lt;dbl&gt; |\n|---|---|---|---|---|---|---|---|---|---|---|---|---|---|\n| Participantes* | 1 | 100 |  50.500000 | 29.011492 |  50.500000 |  50.500000 | 37.065000 |   1.000000 | 100.000000 |  99.000000 |  0.00000000 | -1.2360552 | 2.9011492 |\n| Bienestar_social | 2 | 100 |  50.852082 | 15.546557 |  49.533791 |  50.151748 | 14.054830 |  12.334894 | 105.545952 |  93.211058 |  0.53138909 |  0.8526679 | 1.5546557 |\n| Salud | 3 | 100 | 103.945074 | 32.224664 | 100.193474 | 101.533921 | 37.392744 |  61.177939 | 204.576642 | 143.398703 |  0.60688597 | -0.3102441 | 3.2224664 |\n| Resiliencia | 4 | 100 |   3.910544 |  1.021960 |   3.939153 |   3.924856 |  1.174076 |   1.504087 |   6.551945 |   5.047858 | -0.06373775 | -0.7223282 | 0.1021960 |\n| Estrés | 5 | 100 | -10.383400 |  3.538318 | -10.955000 | -10.425375 |  4.040085 | -19.150000 |  -1.490000 |  17.660000 |  0.14510151 | -0.3595197 | 0.3538318 |\n| Depresión | 6 | 100 |  -9.995600 |  2.156638 | -10.045000 | -10.017750 |  2.105292 | -15.260000 |  -4.750000 |  10.510000 |  0.07999526 | -0.4394083 | 0.2156638 |\n\n",
            "text/latex": "A psych: 6 × 13\n\\begin{tabular}{r|lllllllllllll}\n  & vars & n & mean & sd & median & trimmed & mad & min & max & range & skew & kurtosis & se\\\\\n  & <int> & <dbl> & <dbl> & <dbl> & <dbl> & <dbl> & <dbl> & <dbl> & <dbl> & <dbl> & <dbl> & <dbl> & <dbl>\\\\\n\\hline\n\tParticipantes* & 1 & 100 &  50.500000 & 29.011492 &  50.500000 &  50.500000 & 37.065000 &   1.000000 & 100.000000 &  99.000000 &  0.00000000 & -1.2360552 & 2.9011492\\\\\n\tBienestar\\_social & 2 & 100 &  50.852082 & 15.546557 &  49.533791 &  50.151748 & 14.054830 &  12.334894 & 105.545952 &  93.211058 &  0.53138909 &  0.8526679 & 1.5546557\\\\\n\tSalud & 3 & 100 & 103.945074 & 32.224664 & 100.193474 & 101.533921 & 37.392744 &  61.177939 & 204.576642 & 143.398703 &  0.60688597 & -0.3102441 & 3.2224664\\\\\n\tResiliencia & 4 & 100 &   3.910544 &  1.021960 &   3.939153 &   3.924856 &  1.174076 &   1.504087 &   6.551945 &   5.047858 & -0.06373775 & -0.7223282 & 0.1021960\\\\\n\tEstrés & 5 & 100 & -10.383400 &  3.538318 & -10.955000 & -10.425375 &  4.040085 & -19.150000 &  -1.490000 &  17.660000 &  0.14510151 & -0.3595197 & 0.3538318\\\\\n\tDepresión & 6 & 100 &  -9.995600 &  2.156638 & -10.045000 & -10.017750 &  2.105292 & -15.260000 &  -4.750000 &  10.510000 &  0.07999526 & -0.4394083 & 0.2156638\\\\\n\\end{tabular}\n",
            "text/plain": [
              "                 vars n   mean       sd        median     trimmed    mad      \n",
              "Participantes*   1    100  50.500000 29.011492  50.500000  50.500000 37.065000\n",
              "Bienestar_social 2    100  50.852082 15.546557  49.533791  50.151748 14.054830\n",
              "Salud            3    100 103.945074 32.224664 100.193474 101.533921 37.392744\n",
              "Resiliencia      4    100   3.910544  1.021960   3.939153   3.924856  1.174076\n",
              "Estrés           5    100 -10.383400  3.538318 -10.955000 -10.425375  4.040085\n",
              "Depresión        6    100  -9.995600  2.156638 -10.045000 -10.017750  2.105292\n",
              "                 min        max        range      skew        kurtosis  \n",
              "Participantes*     1.000000 100.000000  99.000000  0.00000000 -1.2360552\n",
              "Bienestar_social  12.334894 105.545952  93.211058  0.53138909  0.8526679\n",
              "Salud             61.177939 204.576642 143.398703  0.60688597 -0.3102441\n",
              "Resiliencia        1.504087   6.551945   5.047858 -0.06373775 -0.7223282\n",
              "Estrés           -19.150000  -1.490000  17.660000  0.14510151 -0.3595197\n",
              "Depresión        -15.260000  -4.750000  10.510000  0.07999526 -0.4394083\n",
              "                 se       \n",
              "Participantes*   2.9011492\n",
              "Bienestar_social 1.5546557\n",
              "Salud            3.2224664\n",
              "Resiliencia      0.1021960\n",
              "Estrés           0.3538318\n",
              "Depresión        0.2156638"
            ]
          },
          "metadata": {}
        }
      ]
    },
    {
      "cell_type": "markdown",
      "source": [
        "# Análisis de normalidad"
      ],
      "metadata": {
        "id": "hmBGxnbSePy4"
      }
    },
    {
      "cell_type": "code",
      "source": [
        "data |> \n",
        "  ggpubr::ggqqplot(x = \"Estrés\")"
      ],
      "metadata": {
        "colab": {
          "base_uri": "https://localhost:8080/",
          "height": 437
        },
        "id": "7twjkbICeTzw",
        "outputId": "428ec729-3b87-415b-b924-762d9b2fd99a"
      },
      "execution_count": null,
      "outputs": [
        {
          "output_type": "display_data",
          "data": {
            "text/plain": [
              "plot without title"
            ],
            "image/png": "[encoded data removed]"
          },
          "metadata": {
            "image/png": {
              "width": 420,
              "height": 420
            }
          }
        }
      ]
    },
    {
      "cell_type": "code",
      "source": [
        "data |> \n",
        "  ggpubr::ggqqplot(x = \"Resiliencia\")"
      ],
      "metadata": {
        "colab": {
          "base_uri": "https://localhost:8080/",
          "height": 437
        },
        "id": "gSHWRWpJece8",
        "outputId": "081100d0-9699-44a6-bcf1-1608bbb63921"
      },
      "execution_count": null,
      "outputs": [
        {
          "output_type": "display_data",
          "data": {
            "text/plain": [
              "plot without title"
            ],
            "image/png": "[encoded data removed]"
          },
          "metadata": {
            "image/png": {
              "width": 420,
              "height": 420
            }
          }
        }
      ]
    },
    {
      "cell_type": "code",
      "source": [
        "library(rstatix)\n",
        "\n",
        "data |> \n",
        "  shapiro_test(Resiliencia, Estrés)"
      ],
      "metadata": {
        "colab": {
          "base_uri": "https://localhost:8080/",
          "height": 161
        },
        "id": "zJXMuksnefAR",
        "outputId": "91db93ab-3d25-441e-fb52-f34e2959830b"
      },
      "execution_count": null,
      "outputs": [
        {
          "output_type": "display_data",
          "data": {
            "text/html": [
              "<table class=\"dataframe\">\n",
              "<caption>A tibble: 2 × 3</caption>\n",
              "<thead>\n",
              "\t<tr><th scope=col>variable</th><th scope=col>statistic</th><th scope=col>p</th></tr>\n",
              "\t<tr><th scope=col>&lt;chr&gt;</th><th scope=col>&lt;dbl&gt;</th><th scope=col>&lt;dbl&gt;</th></tr>\n",
              "</thead>\n",
              "<tbody>\n",
              "\t<tr><td>Estrés     </td><td>0.9890795</td><td>0.5908361</td></tr>\n",
              "\t<tr><td>Resiliencia</td><td>0.9836721</td><td>0.2537886</td></tr>\n",
              "</tbody>\n",
              "</table>\n"
            ],
            "text/markdown": "\nA tibble: 2 × 3\n\n| variable &lt;chr&gt; | statistic &lt;dbl&gt; | p &lt;dbl&gt; |\n|---|---|---|\n| Estrés      | 0.9890795 | 0.5908361 |\n| Resiliencia | 0.9836721 | 0.2537886 |\n\n",
            "text/latex": "A tibble: 2 × 3\n\\begin{tabular}{lll}\n variable & statistic & p\\\\\n <chr> & <dbl> & <dbl>\\\\\n\\hline\n\t Estrés      & 0.9890795 & 0.5908361\\\\\n\t Resiliencia & 0.9836721 & 0.2537886\\\\\n\\end{tabular}\n",
            "text/plain": [
              "  variable    statistic p        \n",
              "1 Estrés      0.9890795 0.5908361\n",
              "2 Resiliencia 0.9836721 0.2537886"
            ]
          },
          "metadata": {}
        }
      ]
    },
    {
      "cell_type": "code",
      "source": [
        "data |> \n",
        "  pivot_longer(-c(1:3, 6), \n",
        "               names_to = \"var\", \n",
        "               values_to = \"value\") |> \n",
        "  group_by(var) |> \n",
        "  summarise(Asimetría = e1071::skewness(value, type = 2),\n",
        "            Kurtosis  = e1071::kurtosis(value, type = 2))"
      ],
      "metadata": {
        "colab": {
          "base_uri": "https://localhost:8080/",
          "height": 161
        },
        "id": "RpuuDuH1eh4T",
        "outputId": "7a7814ec-85a4-4db0-d82c-ce0f7fc67831"
      },
      "execution_count": null,
      "outputs": [
        {
          "output_type": "display_data",
          "data": {
            "text/html": [
              "<table class=\"dataframe\">\n",
              "<caption>A tibble: 2 × 3</caption>\n",
              "<thead>\n",
              "\t<tr><th scope=col>var</th><th scope=col>Asimetría</th><th scope=col>Kurtosis</th></tr>\n",
              "\t<tr><th scope=col>&lt;chr&gt;</th><th scope=col>&lt;dbl&gt;</th><th scope=col>&lt;dbl&gt;</th></tr>\n",
              "</thead>\n",
              "<tbody>\n",
              "\t<tr><td>Estrés     </td><td> 0.14955835</td><td>-0.2592853</td></tr>\n",
              "\t<tr><td>Resiliencia</td><td>-0.06569547</td><td>-0.6486584</td></tr>\n",
              "</tbody>\n",
              "</table>\n"
            ],
            "text/markdown": "\nA tibble: 2 × 3\n\n| var &lt;chr&gt; | Asimetría &lt;dbl&gt; | Kurtosis &lt;dbl&gt; |\n|---|---|---|\n| Estrés      |  0.14955835 | -0.2592853 |\n| Resiliencia | -0.06569547 | -0.6486584 |\n\n",
            "text/latex": "A tibble: 2 × 3\n\\begin{tabular}{lll}\n var & Asimetría & Kurtosis\\\\\n <chr> & <dbl> & <dbl>\\\\\n\\hline\n\t Estrés      &  0.14955835 & -0.2592853\\\\\n\t Resiliencia & -0.06569547 & -0.6486584\\\\\n\\end{tabular}\n",
            "text/plain": [
              "  var         Asimetría   Kurtosis  \n",
              "1 Estrés       0.14955835 -0.2592853\n",
              "2 Resiliencia -0.06569547 -0.6486584"
            ]
          },
          "metadata": {}
        }
      ]
    },
    {
      "cell_type": "markdown",
      "source": [
        "Ambas distribuciones se aproximan a la distribución normal. Por tanto, corresponde emplear un análisis de correlación paramétrico. En este caso, la correlación de Pearson."
      ],
      "metadata": {
        "id": "n6ERCJwbeimF"
      }
    },
    {
      "cell_type": "markdown",
      "source": [
        "# Análisis de correlación paramétrico"
      ],
      "metadata": {
        "id": "kZwefjJqelKh"
      }
    },
    {
      "cell_type": "code",
      "source": [
        "data |> \n",
        "  select(Resiliencia:Estrés) |> \n",
        "  psych::corr.test()"
      ],
      "metadata": {
        "colab": {
          "base_uri": "https://localhost:8080/",
          "height": 347
        },
        "id": "0vlVirzMerIk",
        "outputId": "1bf1f67c-6050-41c0-c87e-bcbcf7290e82"
      },
      "execution_count": null,
      "outputs": [
        {
          "output_type": "stream",
          "name": "stderr",
          "text": [
            "Warning message in abbreviate(rownames(r), minlength = minlength):\n",
            "“abbreviate used with non-ASCII chars”\n",
            "Warning message in abbreviate(colnames(r), minlength = minlength):\n",
            "“abbreviate used with non-ASCII chars”\n",
            "Warning message in abbreviate(dimnames(ans)[[2L]], minlength = abbr.colnames):\n",
            "“abbreviate used with non-ASCII chars”\n"
          ]
        },
        {
          "output_type": "display_data",
          "data": {
            "text/plain": [
              "Call:psych::corr.test(x = select(data, Resiliencia:Estrés))\n",
              "Correlation matrix \n",
              "            Resiliencia Estrés\n",
              "Resiliencia        1.00  -0.54\n",
              "Estrés            -0.54   1.00\n",
              "Sample Size \n",
              "[1] 100\n",
              "Probability values (Entries above the diagonal are adjusted for multiple tests.) \n",
              "            Resiliencia Estrés\n",
              "Resiliencia           0      0\n",
              "Estrés                0      0\n",
              "\n",
              " To see confidence intervals of the correlations, print with the short=FALSE option"
            ]
          },
          "metadata": {}
        }
      ]
    },
    {
      "cell_type": "markdown",
      "source": [
        "# Ejercicio\n",
        "\n",
        "1. Plantear las hipótesis de trabajo (HT): analizar por separado cada hipótesis de trabajo puesto que cada una implica un H0 y H1 (hipótesis estadísticas). Ejm.: Se tiene la hipótesis que el bienestar social se asocia negativamente con sintomatología depresiva y con estrés.\n",
        "- HT1: Bienestar se asocia negativamente con sintomatología depresiva. H0: rxy = 0 , H1: rxy < 0 \n",
        "- HT2: Bienestar se asocia negativamente con estrés.\n",
        "\n",
        "2. Plantear las hipótesis estadísticas para cada HT.\n",
        "3. Explorar el patrón de relación entre las variables con un diagrama de dispersión.\n",
        "4. Evaluar la normalidad para aplicar el coeficiente de correlación pertinente.\n",
        "5. Analizar estadísticamente el contraste de hipótesis estadísticas (H0 y H1). Aplica la regla de decisión.\n",
        "6. Brindar respuesta a las hipótesis de trabajo, indicando si fue una correlación positiva, negativa o no hubo correlación significativa."
      ],
      "metadata": {
        "id": "NfLcwKmfer08"
      }
    },
    {
      "cell_type": "markdown",
      "source": [
        "# Ejercicio soluconado HT1\n"
      ],
      "metadata": {
        "id": "aJQn0Kt_e1NH"
      }
    },
    {
      "cell_type": "markdown",
      "source": [
        "Un grupo de investigadoras tiene como hipótesis principal de su estudio que el bienestar social se asocia negativamente con la sintomatología depresiva en un grupo de adultos jóvenes. Indica si se cumple dicha hipótesis."
      ],
      "metadata": {
        "id": "oxOirTBHe5s6"
      }
    },
    {
      "cell_type": "markdown",
      "source": [
        "1. Plantear la hipótesis de trabajo (HT1): \n",
        "\n",
        "El bienestar social se asocia negativamente con la sintomatología depresiva en un grupo de adultos jóvenes."
      ],
      "metadata": {
        "id": "BaUx3G4ve70m"
      }
    },
    {
      "cell_type": "markdown",
      "source": [
        "2. Plantear las hipótesis estadísticas de la HT1.\n",
        "- H0: No existe asociación entre bienestar social y sintomatología depresiva, $r_{xy} = 0$ \n",
        "- H1: Existe una asociación negativa entre BS y SD, $r_{xy} < 0$, p unilateral."
      ],
      "metadata": {
        "id": "XkyJ3cISe906"
      }
    },
    {
      "cell_type": "markdown",
      "source": [
        "3. Explorar el patrón de relación entre las variables con un diagrama de dispersión."
      ],
      "metadata": {
        "id": "qaamCGQDe_8P"
      }
    },
    {
      "cell_type": "code",
      "source": [
        "data |> \n",
        "  ggplot(aes(x = Depresión, y = Bienestar_social)) +\n",
        "  geom_point() + \n",
        "  labs(x = \"Sintomatología depresiva\",\n",
        "       y = \"Bienestar social\") +\n",
        "  theme_minimal()"
      ],
      "metadata": {
        "colab": {
          "base_uri": "https://localhost:8080/",
          "height": 437
        },
        "id": "7r5X03nAfBUs",
        "outputId": "330d3fdc-2a4c-4917-aceb-b7fd386be9da"
      },
      "execution_count": null,
      "outputs": [
        {
          "output_type": "display_data",
          "data": {
            "text/plain": [
              "plot without title"
            ],
            "image/png": "[encoded data removed]"
          },
          "metadata": {
            "image/png": {
              "width": 420,
              "height": 420
            }
          }
        }
      ]
    },
    {
      "cell_type": "markdown",
      "source": [
        "Se puede observar en la dispersión de puntos cierta tendencia hacia una relación inversa entre las variables. Pero se requiere realizar el contraste de hipótesis para concluir."
      ],
      "metadata": {
        "id": "2tIx-cr-fEvZ"
      }
    },
    {
      "cell_type": "markdown",
      "source": [
        "4. Evaluar la normalidad para aplicar el coeficiente de correlación pertinente."
      ],
      "metadata": {
        "id": "vuWQmqU6fGqJ"
      }
    },
    {
      "cell_type": "code",
      "source": [
        "data |> \n",
        "  shapiro_test(Depresión, Bienestar_social)"
      ],
      "metadata": {
        "colab": {
          "base_uri": "https://localhost:8080/",
          "height": 161
        },
        "id": "GGa4etNqfHVz",
        "outputId": "15e7b789-ef52-4318-9844-3551d4522614"
      },
      "execution_count": null,
      "outputs": [
        {
          "output_type": "display_data",
          "data": {
            "text/html": [
              "<table class=\"dataframe\">\n",
              "<caption>A tibble: 2 × 3</caption>\n",
              "<thead>\n",
              "\t<tr><th scope=col>variable</th><th scope=col>statistic</th><th scope=col>p</th></tr>\n",
              "\t<tr><th scope=col>&lt;chr&gt;</th><th scope=col>&lt;dbl&gt;</th><th scope=col>&lt;dbl&gt;</th></tr>\n",
              "</thead>\n",
              "<tbody>\n",
              "\t<tr><td>Bienestar_social</td><td>0.9799528</td><td>0.1318133</td></tr>\n",
              "\t<tr><td>Depresión       </td><td>0.9945116</td><td>0.9604523</td></tr>\n",
              "</tbody>\n",
              "</table>\n"
            ],
            "text/markdown": "\nA tibble: 2 × 3\n\n| variable &lt;chr&gt; | statistic &lt;dbl&gt; | p &lt;dbl&gt; |\n|---|---|---|\n| Bienestar_social | 0.9799528 | 0.1318133 |\n| Depresión        | 0.9945116 | 0.9604523 |\n\n",
            "text/latex": "A tibble: 2 × 3\n\\begin{tabular}{lll}\n variable & statistic & p\\\\\n <chr> & <dbl> & <dbl>\\\\\n\\hline\n\t Bienestar\\_social & 0.9799528 & 0.1318133\\\\\n\t Depresión        & 0.9945116 & 0.9604523\\\\\n\\end{tabular}\n",
            "text/plain": [
              "  variable         statistic p        \n",
              "1 Bienestar_social 0.9799528 0.1318133\n",
              "2 Depresión        0.9945116 0.9604523"
            ]
          },
          "metadata": {}
        }
      ]
    },
    {
      "cell_type": "markdown",
      "source": [
        "El análisis de normalidad indica para bienestar social un SW = .98, p = .132, y para sintomatología depresiva, SW = .995, p = .960, por lo que se acepta H0 y se rechaza H1. Es decir, las distribuciones de ambas variables son normales por lo que se llevará a cabo el análisis de correlación paramétrico de Pearson."
      ],
      "metadata": {
        "id": "Nwl9cDbYfVzN"
      }
    },
    {
      "cell_type": "markdown",
      "source": [
        "5. Analizar estadísticamente el contraste de hipótesis estadísticas (H0 y H1).  Aplica la regla de decisión.\n",
        "\n",
        "- H0: $r_{xy} = 0$ \n",
        "- H1: $r_{xy} < 0$   , p unilateral "
      ],
      "metadata": {
        "id": "uyD14ZlsfY75"
      }
    },
    {
      "cell_type": "code",
      "source": [
        "data |> \n",
        "  select(c(Depresión, Bienestar_social)) |> \n",
        "  psych::corr.test() -> cors\n",
        "\n",
        "  lst(r = as_tibble(cors$r, rownames = \"var\"),\n",
        "      p = as_tibble(cors$p, rownames = \"var\"))"
      ],
      "metadata": {
        "colab": {
          "base_uri": "https://localhost:8080/",
          "height": 471
        },
        "id": "rmb-IfI-faxP",
        "outputId": "dcf1d668-43dd-4937-a29b-3f9e7fc82d84"
      },
      "execution_count": null,
      "outputs": [
        {
          "output_type": "stream",
          "name": "stderr",
          "text": [
            "Warning message in abbreviate(rownames(r), minlength = minlength):\n",
            "“abbreviate used with non-ASCII chars”\n",
            "Warning message in abbreviate(colnames(r), minlength = minlength):\n",
            "“abbreviate used with non-ASCII chars”\n",
            "Warning message in abbreviate(dimnames(ans)[[2L]], minlength = abbr.colnames):\n",
            "“abbreviate used with non-ASCII chars”\n"
          ]
        },
        {
          "output_type": "display_data",
          "data": {
            "text/html": [
              "<dl>\n",
              "\t<dt>$r</dt>\n",
              "\t\t<dd><table class=\"dataframe\">\n",
              "<caption>A tibble: 2 × 3</caption>\n",
              "<thead>\n",
              "\t<tr><th scope=col>var</th><th scope=col>Depresión</th><th scope=col>Bienestar_social</th></tr>\n",
              "\t<tr><th scope=col>&lt;chr&gt;</th><th scope=col>&lt;dbl&gt;</th><th scope=col>&lt;dbl&gt;</th></tr>\n",
              "</thead>\n",
              "<tbody>\n",
              "\t<tr><td>Depresión       </td><td> 1.0000000</td><td>-0.2452225</td></tr>\n",
              "\t<tr><td>Bienestar_social</td><td>-0.2452225</td><td> 1.0000000</td></tr>\n",
              "</tbody>\n",
              "</table>\n",
              "</dd>\n",
              "\t<dt>$p</dt>\n",
              "\t\t<dd><table class=\"dataframe\">\n",
              "<caption>A tibble: 2 × 3</caption>\n",
              "<thead>\n",
              "\t<tr><th scope=col>var</th><th scope=col>Depresión</th><th scope=col>Bienestar_social</th></tr>\n",
              "\t<tr><th scope=col>&lt;chr&gt;</th><th scope=col>&lt;dbl&gt;</th><th scope=col>&lt;dbl&gt;</th></tr>\n",
              "</thead>\n",
              "<tbody>\n",
              "\t<tr><td>Depresión       </td><td>0.00000000</td><td>0.01392997</td></tr>\n",
              "\t<tr><td>Bienestar_social</td><td>0.01392997</td><td>0.00000000</td></tr>\n",
              "</tbody>\n",
              "</table>\n",
              "</dd>\n",
              "</dl>\n"
            ],
            "text/markdown": "$r\n:   \nA tibble: 2 × 3\n\n| var &lt;chr&gt; | Depresión &lt;dbl&gt; | Bienestar_social &lt;dbl&gt; |\n|---|---|---|\n| Depresión        |  1.0000000 | -0.2452225 |\n| Bienestar_social | -0.2452225 |  1.0000000 |\n\n\n$p\n:   \nA tibble: 2 × 3\n\n| var &lt;chr&gt; | Depresión &lt;dbl&gt; | Bienestar_social &lt;dbl&gt; |\n|---|---|---|\n| Depresión        | 0.00000000 | 0.01392997 |\n| Bienestar_social | 0.01392997 | 0.00000000 |\n\n\n\n\n",
            "text/latex": "\\begin{description}\n\\item[\\$r] A tibble: 2 × 3\n\\begin{tabular}{lll}\n var & Depresión & Bienestar\\_social\\\\\n <chr> & <dbl> & <dbl>\\\\\n\\hline\n\t Depresión        &  1.0000000 & -0.2452225\\\\\n\t Bienestar\\_social & -0.2452225 &  1.0000000\\\\\n\\end{tabular}\n\n\\item[\\$p] A tibble: 2 × 3\n\\begin{tabular}{lll}\n var & Depresión & Bienestar\\_social\\\\\n <chr> & <dbl> & <dbl>\\\\\n\\hline\n\t Depresión        & 0.00000000 & 0.01392997\\\\\n\t Bienestar\\_social & 0.01392997 & 0.00000000\\\\\n\\end{tabular}\n\n\\end{description}\n",
            "text/plain": [
              "$r\n",
              "\u001b[90m# A tibble: 2 × 3\u001b[39m\n",
              "  var              Depresión Bienestar_social\n",
              "  \u001b[3m\u001b[90m<chr>\u001b[39m\u001b[23m                \u001b[3m\u001b[90m<dbl>\u001b[39m\u001b[23m            \u001b[3m\u001b[90m<dbl>\u001b[39m\u001b[23m\n",
              "\u001b[90m1\u001b[39m Depresión            1               -\u001b[31m0\u001b[39m\u001b[31m.\u001b[39m\u001b[31m245\u001b[39m\n",
              "\u001b[90m2\u001b[39m Bienestar_social    -\u001b[31m0\u001b[39m\u001b[31m.\u001b[39m\u001b[31m245\u001b[39m            1    \n",
              "\n",
              "$p\n",
              "\u001b[90m# A tibble: 2 × 3\u001b[39m\n",
              "  var              Depresión Bienestar_social\n",
              "  \u001b[3m\u001b[90m<chr>\u001b[39m\u001b[23m                \u001b[3m\u001b[90m<dbl>\u001b[39m\u001b[23m            \u001b[3m\u001b[90m<dbl>\u001b[39m\u001b[23m\n",
              "\u001b[90m1\u001b[39m Depresión           0                0.013\u001b[4m9\u001b[24m\n",
              "\u001b[90m2\u001b[39m Bienestar_social    0.013\u001b[4m9\u001b[24m           0     \n"
            ]
          },
          "metadata": {}
        }
      ]
    },
    {
      "cell_type": "markdown",
      "source": [
        "- Contraste de hipótesis: Se acepta H1 al encontrar una relación estadísticamente significativa entre bienestar social y sintomatología depresiva, p = .007 (.014/2).\n",
        "\n",
        "- Sentido: La relación es inversa, es decir, un mayor bienestar social se asocia con un menor nivel de sintomatología depresiva  y viceversa.\n",
        "\n",
        "- Fortaleza: Según el criterio de Cohen (1988), la magnitud de la relación es pequeña. "
      ],
      "metadata": {
        "id": "Or4iPONUfhdV"
      }
    },
    {
      "cell_type": "markdown",
      "source": [
        "6. Brindar respuesta a las hipótesis de trabajo, indicando si fue una correlación positiva, negativa o no hubo correlación significativa. En caso de darse una correlación significativa, indicar la fortaleza del coeficiente según los criterios de Cohen.\n",
        "\n",
        "Los resultados del análisis de correlación de Pearson evidencian que existe una relación estadísticamente significativa, negativa y pequeña, según el criterio de Cohen (1988), entre el bienestar social y la sintomatología depresiva, r(98) = -.25, p =.007 (unilateral), por lo que se cumple la hipótesis del estudio.\n",
        "\n",
        ">Nota: Los grados de libertad de los índices de asociación = n-2."
      ],
      "metadata": {
        "id": "CgR0VBiffkGf"
      }
    }
  ]
}
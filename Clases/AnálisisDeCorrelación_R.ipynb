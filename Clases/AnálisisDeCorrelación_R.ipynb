{
  "nbformat": 4,
  "nbformat_minor": 0,
  "metadata": {
    "colab": {
      "provenance": []
    },
    "kernelspec": {
      "name": "ir",
      "display_name": "R"
    },
    "language_info": {
      "name": "R"
    }
  },
  "cells": [
    {
      "cell_type": "markdown",
      "source": [
        "# Análisis de correlación"
      ],
      "metadata": {
        "id": "MiBQLkrTcvty"
      }
    },
    {
      "cell_type": "code",
      "source": [
        "# @title Instala y carga las librerías\n",
        "\n",
        "install.packages(c(\"rstatix\", \"psych\", \"ggpubr\"))\n",
        "\n",
        "library(tidyverse)\n",
        "library(rstatix)\n",
        "library(psych)\n",
        "library(ggpubr)"
      ],
      "metadata": {
        "id": "9Qb3lBNmc2rO",
        "colab": {
          "base_uri": "https://localhost:8080/"
        },
        "outputId": "9321889c-5d71-470c-fd2c-22d03d648e23"
      },
      "execution_count": null,
      "outputs": [
        {
          "output_type": "stream",
          "name": "stderr",
          "text": [
            "Installing packages into ‘/usr/local/lib/R/site-library’\n",
            "(as ‘lib’ is unspecified)\n",
            "\n"
          ]
        }
      ]
    },
    {
      "cell_type": "markdown",
      "source": [
        "# Visualización de datos"
      ],
      "metadata": {
        "id": "Mpjkhy5_c6Dv"
      }
    },
    {
      "cell_type": "code",
      "source": [
        "data <- haven::read_sav(\"https://github.com/renatoparedes/EstadisticaYPsicologiaMatematica/raw/main/INEE/Clase8_BaseAnalisisDeCorrelacion.sav\")\n",
        "\n",
        "data %>% print(n = 10)"
      ],
      "metadata": {
        "colab": {
          "base_uri": "https://localhost:8080/"
        },
        "id": "bxduLP4oc701",
        "outputId": "9383bc5e-6dea-4aa6-e4fd-f8678bbfd830"
      },
      "execution_count": null,
      "outputs": [
        {
          "output_type": "stream",
          "name": "stdout",
          "text": [
            "\u001b[90m# A tibble: 100 × 6\u001b[39m\n",
            "   Participantes Bienestar_social Salud Resiliencia Estrés Depresión\n",
            "   \u001b[3m\u001b[90m<chr>\u001b[39m\u001b[23m                    \u001b[3m\u001b[90m<dbl>\u001b[39m\u001b[23m \u001b[3m\u001b[90m<dbl>\u001b[39m\u001b[23m       \u001b[3m\u001b[90m<dbl>\u001b[39m\u001b[23m  \u001b[3m\u001b[90m<dbl>\u001b[39m\u001b[23m     \u001b[3m\u001b[90m<dbl>\u001b[39m\u001b[23m\n",
            "\u001b[90m 1\u001b[39m 001                       37.0 108.         4.89 -\u001b[31m15\u001b[39m\u001b[31m.\u001b[39m\u001b[31m0\u001b[39m     -\u001b[31m11\u001b[39m\u001b[31m.\u001b[39m\u001b[31m4\u001b[39m \n",
            "\u001b[90m 2\u001b[39m 002                       91.8 137.         5.17 -\u001b[31m12\u001b[39m\u001b[31m.\u001b[39m\u001b[31m9\u001b[39m     -\u001b[31m13\u001b[39m\u001b[31m.\u001b[39m\u001b[31m8\u001b[39m \n",
            "\u001b[90m 3\u001b[39m 003                       35.3  88.1        3.50 -\u001b[31m13\u001b[39m\u001b[31m.\u001b[39m\u001b[31m8\u001b[39m     -\u001b[31m10\u001b[39m\u001b[31m.\u001b[39m\u001b[31m1\u001b[39m \n",
            "\u001b[90m 4\u001b[39m 004                       75.9 205.         3.51  -\u001b[31m7\u001b[39m\u001b[31m.\u001b[39m\u001b[31m32\u001b[39m     -\u001b[31m9\u001b[39m\u001b[31m.\u001b[39m\u001b[31m65\u001b[39m\n",
            "\u001b[90m 5\u001b[39m 005                       39.2 147.         1.50  -\u001b[31m8\u001b[39m\u001b[31m.\u001b[39m\u001b[31m89\u001b[39m     -\u001b[31m5\u001b[39m\u001b[31m.\u001b[39m\u001b[31m55\u001b[39m\n",
            "\u001b[90m 6\u001b[39m 006                       38.7  71.1        3.36 -\u001b[31m13\u001b[39m\u001b[31m.\u001b[39m\u001b[31m8\u001b[39m      -\u001b[31m9\u001b[39m\u001b[31m.\u001b[39m\u001b[31m75\u001b[39m\n",
            "\u001b[90m 7\u001b[39m 007                       45.8  83.1        4.04  -\u001b[31m7\u001b[39m\u001b[31m.\u001b[39m\u001b[31m72\u001b[39m    -\u001b[31m10\u001b[39m\u001b[31m.\u001b[39m\u001b[31m6\u001b[39m \n",
            "\u001b[90m 8\u001b[39m 008                       49.8  93.4        5.28 -\u001b[31m10\u001b[39m\u001b[31m.\u001b[39m\u001b[31m6\u001b[39m     -\u001b[31m12\u001b[39m\u001b[31m.\u001b[39m\u001b[31m2\u001b[39m \n",
            "\u001b[90m 9\u001b[39m 009                       61.7 110.         4.53 -\u001b[31m13\u001b[39m\u001b[31m.\u001b[39m\u001b[31m6\u001b[39m     -\u001b[31m11\u001b[39m\u001b[31m.\u001b[39m\u001b[31m2\u001b[39m \n",
            "\u001b[90m10\u001b[39m 010                       40.7  61.2        4.20 -\u001b[31m10\u001b[39m\u001b[31m.\u001b[39m\u001b[31m7\u001b[39m      -\u001b[31m7\u001b[39m\u001b[31m.\u001b[39m\u001b[31m38\u001b[39m\n",
            "\u001b[90m# ℹ 90 more rows\u001b[39m\n"
          ]
        }
      ]
    },
    {
      "cell_type": "code",
      "source": [
        "data %>%\n",
        "  ggplot(aes(x = Resiliencia, y = Estrés)) +\n",
        "  geom_point()"
      ],
      "metadata": {
        "colab": {
          "base_uri": "https://localhost:8080/",
          "height": 437
        },
        "id": "0WE1q6bOeH7u",
        "outputId": "cfea79d4-5b1e-4915-81a6-a642fb066599"
      },
      "execution_count": null,
      "outputs": [
        {
          "output_type": "display_data",
          "data": {
            "text/plain": [
              "plot without title"
            ],
            "image/png": "[encoded data removed]"
          },
          "metadata": {
            "image/png": {
              "width": 420,
              "height": 420
            }
          }
        }
      ]
    },
    {
      "cell_type": "markdown",
      "source": [
        "# Descripción de los datos"
      ],
      "metadata": {
        "id": "TroaZ3WZeJKh"
      }
    },
    {
      "cell_type": "code",
      "source": [
        "data %>% psych::describe()"
      ],
      "metadata": {
        "colab": {
          "base_uri": "https://localhost:8080/",
          "height": 286
        },
        "id": "IZ0n6TxAeXOD",
        "outputId": "65ee68ef-94bb-4be7-8040-d535814850b6"
      },
      "execution_count": null,
      "outputs": [
        {
          "output_type": "display_data",
          "data": {
            "text/html": [
              "<table class=\"dataframe\">\n",
              "<caption>A psych: 6 × 13</caption>\n",
              "<thead>\n",
              "\t<tr><th></th><th scope=col>vars</th><th scope=col>n</th><th scope=col>mean</th><th scope=col>sd</th><th scope=col>median</th><th scope=col>trimmed</th><th scope=col>mad</th><th scope=col>min</th><th scope=col>max</th><th scope=col>range</th><th scope=col>skew</th><th scope=col>kurtosis</th><th scope=col>se</th></tr>\n",
              "\t<tr><th></th><th scope=col>&lt;int&gt;</th><th scope=col>&lt;dbl&gt;</th><th scope=col>&lt;dbl&gt;</th><th scope=col>&lt;dbl&gt;</th><th scope=col>&lt;dbl&gt;</th><th scope=col>&lt;dbl&gt;</th><th scope=col>&lt;dbl&gt;</th><th scope=col>&lt;dbl&gt;</th><th scope=col>&lt;dbl&gt;</th><th scope=col>&lt;dbl&gt;</th><th scope=col>&lt;dbl&gt;</th><th scope=col>&lt;dbl&gt;</th><th scope=col>&lt;dbl&gt;</th></tr>\n",
              "</thead>\n",
              "<tbody>\n",
              "\t<tr><th scope=row>Participantes*</th><td>1</td><td>100</td><td> 50.500000</td><td>29.011492</td><td> 50.500000</td><td> 50.500000</td><td>37.065000</td><td>  1.000000</td><td>100.000000</td><td> 99.000000</td><td> 0.00000000</td><td>-1.2360552</td><td>2.9011492</td></tr>\n",
              "\t<tr><th scope=row>Bienestar_social</th><td>2</td><td>100</td><td> 50.852082</td><td>15.546557</td><td> 49.533791</td><td> 50.151748</td><td>14.054830</td><td> 12.334894</td><td>105.545952</td><td> 93.211058</td><td> 0.53138909</td><td> 0.8526679</td><td>1.5546557</td></tr>\n",
              "\t<tr><th scope=row>Salud</th><td>3</td><td>100</td><td>103.945074</td><td>32.224664</td><td>100.193474</td><td>101.533921</td><td>37.392744</td><td> 61.177939</td><td>204.576642</td><td>143.398703</td><td> 0.60688597</td><td>-0.3102441</td><td>3.2224664</td></tr>\n",
              "\t<tr><th scope=row>Resiliencia</th><td>4</td><td>100</td><td>  3.910544</td><td> 1.021960</td><td>  3.939153</td><td>  3.924856</td><td> 1.174076</td><td>  1.504087</td><td>  6.551945</td><td>  5.047858</td><td>-0.06373775</td><td>-0.7223282</td><td>0.1021960</td></tr>\n",
              "\t<tr><th scope=row>Estrés</th><td>5</td><td>100</td><td>-10.383400</td><td> 3.538318</td><td>-10.955000</td><td>-10.425375</td><td> 4.040085</td><td>-19.150000</td><td> -1.490000</td><td> 17.660000</td><td> 0.14510151</td><td>-0.3595197</td><td>0.3538318</td></tr>\n",
              "\t<tr><th scope=row>Depresión</th><td>6</td><td>100</td><td> -9.995600</td><td> 2.156638</td><td>-10.045000</td><td>-10.017750</td><td> 2.105292</td><td>-15.260000</td><td> -4.750000</td><td> 10.510000</td><td> 0.07999526</td><td>-0.4394083</td><td>0.2156638</td></tr>\n",
              "</tbody>\n",
              "</table>\n"
            ],
            "text/markdown": "\nA psych: 6 × 13\n\n| <!--/--> | vars &lt;int&gt; | n &lt;dbl&gt; | mean &lt;dbl&gt; | sd &lt;dbl&gt; | median &lt;dbl&gt; | trimmed &lt;dbl&gt; | mad &lt;dbl&gt; | min &lt;dbl&gt; | max &lt;dbl&gt; | range &lt;dbl&gt; | skew &lt;dbl&gt; | kurtosis &lt;dbl&gt; | se &lt;dbl&gt; |\n|---|---|---|---|---|---|---|---|---|---|---|---|---|---|\n| Participantes* | 1 | 100 |  50.500000 | 29.011492 |  50.500000 |  50.500000 | 37.065000 |   1.000000 | 100.000000 |  99.000000 |  0.00000000 | -1.2360552 | 2.9011492 |\n| Bienestar_social | 2 | 100 |  50.852082 | 15.546557 |  49.533791 |  50.151748 | 14.054830 |  12.334894 | 105.545952 |  93.211058 |  0.53138909 |  0.8526679 | 1.5546557 |\n| Salud | 3 | 100 | 103.945074 | 32.224664 | 100.193474 | 101.533921 | 37.392744 |  61.177939 | 204.576642 | 143.398703 |  0.60688597 | -0.3102441 | 3.2224664 |\n| Resiliencia | 4 | 100 |   3.910544 |  1.021960 |   3.939153 |   3.924856 |  1.174076 |   1.504087 |   6.551945 |   5.047858 | -0.06373775 | -0.7223282 | 0.1021960 |\n| Estrés | 5 | 100 | -10.383400 |  3.538318 | -10.955000 | -10.425375 |  4.040085 | -19.150000 |  -1.490000 |  17.660000 |  0.14510151 | -0.3595197 | 0.3538318 |\n| Depresión | 6 | 100 |  -9.995600 |  2.156638 | -10.045000 | -10.017750 |  2.105292 | -15.260000 |  -4.750000 |  10.510000 |  0.07999526 | -0.4394083 | 0.2156638 |\n\n",
            "text/latex": "A psych: 6 × 13\n\\begin{tabular}{r|lllllllllllll}\n  & vars & n & mean & sd & median & trimmed & mad & min & max & range & skew & kurtosis & se\\\\\n  & <int> & <dbl> & <dbl> & <dbl> & <dbl> & <dbl> & <dbl> & <dbl> & <dbl> & <dbl> & <dbl> & <dbl> & <dbl>\\\\\n\\hline\n\tParticipantes* & 1 & 100 &  50.500000 & 29.011492 &  50.500000 &  50.500000 & 37.065000 &   1.000000 & 100.000000 &  99.000000 &  0.00000000 & -1.2360552 & 2.9011492\\\\\n\tBienestar\\_social & 2 & 100 &  50.852082 & 15.546557 &  49.533791 &  50.151748 & 14.054830 &  12.334894 & 105.545952 &  93.211058 &  0.53138909 &  0.8526679 & 1.5546557\\\\\n\tSalud & 3 & 100 & 103.945074 & 32.224664 & 100.193474 & 101.533921 & 37.392744 &  61.177939 & 204.576642 & 143.398703 &  0.60688597 & -0.3102441 & 3.2224664\\\\\n\tResiliencia & 4 & 100 &   3.910544 &  1.021960 &   3.939153 &   3.924856 &  1.174076 &   1.504087 &   6.551945 &   5.047858 & -0.06373775 & -0.7223282 & 0.1021960\\\\\n\tEstrés & 5 & 100 & -10.383400 &  3.538318 & -10.955000 & -10.425375 &  4.040085 & -19.150000 &  -1.490000 &  17.660000 &  0.14510151 & -0.3595197 & 0.3538318\\\\\n\tDepresión & 6 & 100 &  -9.995600 &  2.156638 & -10.045000 & -10.017750 &  2.105292 & -15.260000 &  -4.750000 &  10.510000 &  0.07999526 & -0.4394083 & 0.2156638\\\\\n\\end{tabular}\n",
            "text/plain": [
              "                 vars n   mean       sd        median     trimmed    mad      \n",
              "Participantes*   1    100  50.500000 29.011492  50.500000  50.500000 37.065000\n",
              "Bienestar_social 2    100  50.852082 15.546557  49.533791  50.151748 14.054830\n",
              "Salud            3    100 103.945074 32.224664 100.193474 101.533921 37.392744\n",
              "Resiliencia      4    100   3.910544  1.021960   3.939153   3.924856  1.174076\n",
              "Estrés           5    100 -10.383400  3.538318 -10.955000 -10.425375  4.040085\n",
              "Depresión        6    100  -9.995600  2.156638 -10.045000 -10.017750  2.105292\n",
              "                 min        max        range      skew        kurtosis  \n",
              "Participantes*     1.000000 100.000000  99.000000  0.00000000 -1.2360552\n",
              "Bienestar_social  12.334894 105.545952  93.211058  0.53138909  0.8526679\n",
              "Salud             61.177939 204.576642 143.398703  0.60688597 -0.3102441\n",
              "Resiliencia        1.504087   6.551945   5.047858 -0.06373775 -0.7223282\n",
              "Estrés           -19.150000  -1.490000  17.660000  0.14510151 -0.3595197\n",
              "Depresión        -15.260000  -4.750000  10.510000  0.07999526 -0.4394083\n",
              "                 se       \n",
              "Participantes*   2.9011492\n",
              "Bienestar_social 1.5546557\n",
              "Salud            3.2224664\n",
              "Resiliencia      0.1021960\n",
              "Estrés           0.3538318\n",
              "Depresión        0.2156638"
            ]
          },
          "metadata": {}
        }
      ]
    },
    {
      "cell_type": "markdown",
      "source": [
        "# Análisis de normalidad"
      ],
      "metadata": {
        "id": "hmBGxnbSePy4"
      }
    },
    {
      "cell_type": "code",
      "source": [
        "data %>%\n",
        "  ggpubr::ggqqplot(x = \"Estrés\")"
      ],
      "metadata": {
        "colab": {
          "base_uri": "https://localhost:8080/",
          "height": 437
        },
        "id": "7twjkbICeTzw",
        "outputId": "3a3f01dc-da35-4cc8-80b3-4b2dfef813b3"
      },
      "execution_count": null,
      "outputs": [
        {
          "output_type": "display_data",
          "data": {
            "text/plain": [
              "plot without title"
            ],
            "image/png": "[encoded data removed]"
          },
          "metadata": {
            "image/png": {
              "width": 420,
              "height": 420
            }
          }
        }
      ]
    },
    {
      "cell_type": "code",
      "source": [
        "data %>%\n",
        "  ggpubr::ggqqplot(x = \"Resiliencia\")"
      ],
      "metadata": {
        "colab": {
          "base_uri": "https://localhost:8080/",
          "height": 437
        },
        "id": "gSHWRWpJece8",
        "outputId": "8b6dec5c-4b27-4bdf-cff7-aa8c278793d3"
      },
      "execution_count": null,
      "outputs": [
        {
          "output_type": "display_data",
          "data": {
            "text/plain": [
              "plot without title"
            ],
            "image/png": "[encoded data removed]"
          },
          "metadata": {
            "image/png": {
              "width": 420,
              "height": 420
            }
          }
        }
      ]
    },
    {
      "cell_type": "code",
      "source": [
        "library(rstatix)\n",
        "\n",
        "data %>%\n",
        "  shapiro_test(Resiliencia, Estrés)"
      ],
      "metadata": {
        "colab": {
          "base_uri": "https://localhost:8080/",
          "height": 161
        },
        "id": "zJXMuksnefAR",
        "outputId": "d0b10029-2d8e-435a-8552-365f8fb5e67b"
      },
      "execution_count": null,
      "outputs": [
        {
          "output_type": "display_data",
          "data": {
            "text/html": [
              "<table class=\"dataframe\">\n",
              "<caption>A tibble: 2 × 3</caption>\n",
              "<thead>\n",
              "\t<tr><th scope=col>variable</th><th scope=col>statistic</th><th scope=col>p</th></tr>\n",
              "\t<tr><th scope=col>&lt;chr&gt;</th><th scope=col>&lt;dbl&gt;</th><th scope=col>&lt;dbl&gt;</th></tr>\n",
              "</thead>\n",
              "<tbody>\n",
              "\t<tr><td>Estrés     </td><td>0.9890795</td><td>0.5908361</td></tr>\n",
              "\t<tr><td>Resiliencia</td><td>0.9836721</td><td>0.2537886</td></tr>\n",
              "</tbody>\n",
              "</table>\n"
            ],
            "text/markdown": "\nA tibble: 2 × 3\n\n| variable &lt;chr&gt; | statistic &lt;dbl&gt; | p &lt;dbl&gt; |\n|---|---|---|\n| Estrés      | 0.9890795 | 0.5908361 |\n| Resiliencia | 0.9836721 | 0.2537886 |\n\n",
            "text/latex": "A tibble: 2 × 3\n\\begin{tabular}{lll}\n variable & statistic & p\\\\\n <chr> & <dbl> & <dbl>\\\\\n\\hline\n\t Estrés      & 0.9890795 & 0.5908361\\\\\n\t Resiliencia & 0.9836721 & 0.2537886\\\\\n\\end{tabular}\n",
            "text/plain": [
              "  variable    statistic p        \n",
              "1 Estrés      0.9890795 0.5908361\n",
              "2 Resiliencia 0.9836721 0.2537886"
            ]
          },
          "metadata": {}
        }
      ]
    },
    {
      "cell_type": "code",
      "source": [
        "data %>%\n",
        "  select(Estrés, Resiliencia) %>%\n",
        "  psych::describe()"
      ],
      "metadata": {
        "colab": {
          "base_uri": "https://localhost:8080/",
          "height": 161
        },
        "id": "pXC52olN7duo",
        "outputId": "2303bc7b-7a38-49db-ad22-4ff543a6b503"
      },
      "execution_count": null,
      "outputs": [
        {
          "output_type": "display_data",
          "data": {
            "text/html": [
              "<table class=\"dataframe\">\n",
              "<caption>A psych: 2 × 13</caption>\n",
              "<thead>\n",
              "\t<tr><th></th><th scope=col>vars</th><th scope=col>n</th><th scope=col>mean</th><th scope=col>sd</th><th scope=col>median</th><th scope=col>trimmed</th><th scope=col>mad</th><th scope=col>min</th><th scope=col>max</th><th scope=col>range</th><th scope=col>skew</th><th scope=col>kurtosis</th><th scope=col>se</th></tr>\n",
              "\t<tr><th></th><th scope=col>&lt;int&gt;</th><th scope=col>&lt;dbl&gt;</th><th scope=col>&lt;dbl&gt;</th><th scope=col>&lt;dbl&gt;</th><th scope=col>&lt;dbl&gt;</th><th scope=col>&lt;dbl&gt;</th><th scope=col>&lt;dbl&gt;</th><th scope=col>&lt;dbl&gt;</th><th scope=col>&lt;dbl&gt;</th><th scope=col>&lt;dbl&gt;</th><th scope=col>&lt;dbl&gt;</th><th scope=col>&lt;dbl&gt;</th><th scope=col>&lt;dbl&gt;</th></tr>\n",
              "</thead>\n",
              "<tbody>\n",
              "\t<tr><th scope=row>Estrés</th><td>1</td><td>100</td><td>-10.383400</td><td>3.538318</td><td>-10.955000</td><td>-10.425375</td><td>4.040085</td><td>-19.150000</td><td>-1.490000</td><td>17.660000</td><td> 0.14510151</td><td>-0.3595197</td><td>0.3538318</td></tr>\n",
              "\t<tr><th scope=row>Resiliencia</th><td>2</td><td>100</td><td>  3.910544</td><td>1.021960</td><td>  3.939153</td><td>  3.924856</td><td>1.174076</td><td>  1.504087</td><td> 6.551945</td><td> 5.047858</td><td>-0.06373775</td><td>-0.7223282</td><td>0.1021960</td></tr>\n",
              "</tbody>\n",
              "</table>\n"
            ],
            "text/markdown": "\nA psych: 2 × 13\n\n| <!--/--> | vars &lt;int&gt; | n &lt;dbl&gt; | mean &lt;dbl&gt; | sd &lt;dbl&gt; | median &lt;dbl&gt; | trimmed &lt;dbl&gt; | mad &lt;dbl&gt; | min &lt;dbl&gt; | max &lt;dbl&gt; | range &lt;dbl&gt; | skew &lt;dbl&gt; | kurtosis &lt;dbl&gt; | se &lt;dbl&gt; |\n|---|---|---|---|---|---|---|---|---|---|---|---|---|---|\n| Estrés | 1 | 100 | -10.383400 | 3.538318 | -10.955000 | -10.425375 | 4.040085 | -19.150000 | -1.490000 | 17.660000 |  0.14510151 | -0.3595197 | 0.3538318 |\n| Resiliencia | 2 | 100 |   3.910544 | 1.021960 |   3.939153 |   3.924856 | 1.174076 |   1.504087 |  6.551945 |  5.047858 | -0.06373775 | -0.7223282 | 0.1021960 |\n\n",
            "text/latex": "A psych: 2 × 13\n\\begin{tabular}{r|lllllllllllll}\n  & vars & n & mean & sd & median & trimmed & mad & min & max & range & skew & kurtosis & se\\\\\n  & <int> & <dbl> & <dbl> & <dbl> & <dbl> & <dbl> & <dbl> & <dbl> & <dbl> & <dbl> & <dbl> & <dbl> & <dbl>\\\\\n\\hline\n\tEstrés & 1 & 100 & -10.383400 & 3.538318 & -10.955000 & -10.425375 & 4.040085 & -19.150000 & -1.490000 & 17.660000 &  0.14510151 & -0.3595197 & 0.3538318\\\\\n\tResiliencia & 2 & 100 &   3.910544 & 1.021960 &   3.939153 &   3.924856 & 1.174076 &   1.504087 &  6.551945 &  5.047858 & -0.06373775 & -0.7223282 & 0.1021960\\\\\n\\end{tabular}\n",
            "text/plain": [
              "            vars n   mean       sd       median     trimmed    mad     \n",
              "Estrés      1    100 -10.383400 3.538318 -10.955000 -10.425375 4.040085\n",
              "Resiliencia 2    100   3.910544 1.021960   3.939153   3.924856 1.174076\n",
              "            min        max       range     skew        kurtosis   se       \n",
              "Estrés      -19.150000 -1.490000 17.660000  0.14510151 -0.3595197 0.3538318\n",
              "Resiliencia   1.504087  6.551945  5.047858 -0.06373775 -0.7223282 0.1021960"
            ]
          },
          "metadata": {}
        }
      ]
    },
    {
      "cell_type": "markdown",
      "source": [
        "Ambas distribuciones se aproximan a la distribución normal. Por tanto, corresponde emplear un análisis de correlación paramétrico. En este caso, la correlación de Pearson."
      ],
      "metadata": {
        "id": "n6ERCJwbeimF"
      }
    },
    {
      "cell_type": "code",
      "source": [
        "data %>%\n",
        "  select(Estrés, Resiliencia) %>%\n",
        "  psych::describe()"
      ],
      "metadata": {
        "id": "DC4v9-Ed1wZw",
        "colab": {
          "base_uri": "https://localhost:8080/",
          "height": 161
        },
        "outputId": "44a2756e-98c0-4ac9-a609-97e08d9187bd"
      },
      "execution_count": null,
      "outputs": [
        {
          "output_type": "display_data",
          "data": {
            "text/html": [
              "<table class=\"dataframe\">\n",
              "<caption>A psych: 2 × 13</caption>\n",
              "<thead>\n",
              "\t<tr><th></th><th scope=col>vars</th><th scope=col>n</th><th scope=col>mean</th><th scope=col>sd</th><th scope=col>median</th><th scope=col>trimmed</th><th scope=col>mad</th><th scope=col>min</th><th scope=col>max</th><th scope=col>range</th><th scope=col>skew</th><th scope=col>kurtosis</th><th scope=col>se</th></tr>\n",
              "\t<tr><th></th><th scope=col>&lt;int&gt;</th><th scope=col>&lt;dbl&gt;</th><th scope=col>&lt;dbl&gt;</th><th scope=col>&lt;dbl&gt;</th><th scope=col>&lt;dbl&gt;</th><th scope=col>&lt;dbl&gt;</th><th scope=col>&lt;dbl&gt;</th><th scope=col>&lt;dbl&gt;</th><th scope=col>&lt;dbl&gt;</th><th scope=col>&lt;dbl&gt;</th><th scope=col>&lt;dbl&gt;</th><th scope=col>&lt;dbl&gt;</th><th scope=col>&lt;dbl&gt;</th></tr>\n",
              "</thead>\n",
              "<tbody>\n",
              "\t<tr><th scope=row>Estrés</th><td>1</td><td>100</td><td>-10.383400</td><td>3.538318</td><td>-10.955000</td><td>-10.425375</td><td>4.040085</td><td>-19.150000</td><td>-1.490000</td><td>17.660000</td><td> 0.14510151</td><td>-0.3595197</td><td>0.3538318</td></tr>\n",
              "\t<tr><th scope=row>Resiliencia</th><td>2</td><td>100</td><td>  3.910544</td><td>1.021960</td><td>  3.939153</td><td>  3.924856</td><td>1.174076</td><td>  1.504087</td><td> 6.551945</td><td> 5.047858</td><td>-0.06373775</td><td>-0.7223282</td><td>0.1021960</td></tr>\n",
              "</tbody>\n",
              "</table>\n"
            ],
            "text/markdown": "\nA psych: 2 × 13\n\n| <!--/--> | vars &lt;int&gt; | n &lt;dbl&gt; | mean &lt;dbl&gt; | sd &lt;dbl&gt; | median &lt;dbl&gt; | trimmed &lt;dbl&gt; | mad &lt;dbl&gt; | min &lt;dbl&gt; | max &lt;dbl&gt; | range &lt;dbl&gt; | skew &lt;dbl&gt; | kurtosis &lt;dbl&gt; | se &lt;dbl&gt; |\n|---|---|---|---|---|---|---|---|---|---|---|---|---|---|\n| Estrés | 1 | 100 | -10.383400 | 3.538318 | -10.955000 | -10.425375 | 4.040085 | -19.150000 | -1.490000 | 17.660000 |  0.14510151 | -0.3595197 | 0.3538318 |\n| Resiliencia | 2 | 100 |   3.910544 | 1.021960 |   3.939153 |   3.924856 | 1.174076 |   1.504087 |  6.551945 |  5.047858 | -0.06373775 | -0.7223282 | 0.1021960 |\n\n",
            "text/latex": "A psych: 2 × 13\n\\begin{tabular}{r|lllllllllllll}\n  & vars & n & mean & sd & median & trimmed & mad & min & max & range & skew & kurtosis & se\\\\\n  & <int> & <dbl> & <dbl> & <dbl> & <dbl> & <dbl> & <dbl> & <dbl> & <dbl> & <dbl> & <dbl> & <dbl> & <dbl>\\\\\n\\hline\n\tEstrés & 1 & 100 & -10.383400 & 3.538318 & -10.955000 & -10.425375 & 4.040085 & -19.150000 & -1.490000 & 17.660000 &  0.14510151 & -0.3595197 & 0.3538318\\\\\n\tResiliencia & 2 & 100 &   3.910544 & 1.021960 &   3.939153 &   3.924856 & 1.174076 &   1.504087 &  6.551945 &  5.047858 & -0.06373775 & -0.7223282 & 0.1021960\\\\\n\\end{tabular}\n",
            "text/plain": [
              "            vars n   mean       sd       median     trimmed    mad     \n",
              "Estrés      1    100 -10.383400 3.538318 -10.955000 -10.425375 4.040085\n",
              "Resiliencia 2    100   3.910544 1.021960   3.939153   3.924856 1.174076\n",
              "            min        max       range     skew        kurtosis   se       \n",
              "Estrés      -19.150000 -1.490000 17.660000  0.14510151 -0.3595197 0.3538318\n",
              "Resiliencia   1.504087  6.551945  5.047858 -0.06373775 -0.7223282 0.1021960"
            ]
          },
          "metadata": {}
        }
      ]
    },
    {
      "cell_type": "markdown",
      "source": [
        "# Análisis de correlación paramétrico"
      ],
      "metadata": {
        "id": "kZwefjJqelKh"
      }
    },
    {
      "cell_type": "code",
      "source": [
        "data %>%\n",
        "  cor_test(Resiliencia, Estrés)"
      ],
      "metadata": {
        "colab": {
          "base_uri": "https://localhost:8080/",
          "height": 129
        },
        "id": "8JNerYsF5jKn",
        "outputId": "90b84209-229b-4711-ae39-071dfe0354d0"
      },
      "execution_count": null,
      "outputs": [
        {
          "output_type": "display_data",
          "data": {
            "text/html": [
              "<table class=\"dataframe\">\n",
              "<caption>A cor_test: 1 × 8</caption>\n",
              "<thead>\n",
              "\t<tr><th scope=col>var1</th><th scope=col>var2</th><th scope=col>cor</th><th scope=col>statistic</th><th scope=col>p</th><th scope=col>conf.low</th><th scope=col>conf.high</th><th scope=col>method</th></tr>\n",
              "\t<tr><th scope=col>&lt;chr&gt;</th><th scope=col>&lt;chr&gt;</th><th scope=col>&lt;dbl&gt;</th><th scope=col>&lt;dbl&gt;</th><th scope=col>&lt;dbl&gt;</th><th scope=col>&lt;dbl&gt;</th><th scope=col>&lt;dbl&gt;</th><th scope=col>&lt;chr&gt;</th></tr>\n",
              "</thead>\n",
              "<tbody>\n",
              "\t<tr><td>Resiliencia</td><td>Estrés</td><td>-0.54</td><td>-6.409918</td><td>5.12e-09</td><td>-0.6685578</td><td>-0.3885766</td><td>Pearson</td></tr>\n",
              "</tbody>\n",
              "</table>\n"
            ],
            "text/markdown": "\nA cor_test: 1 × 8\n\n| var1 &lt;chr&gt; | var2 &lt;chr&gt; | cor &lt;dbl&gt; | statistic &lt;dbl&gt; | p &lt;dbl&gt; | conf.low &lt;dbl&gt; | conf.high &lt;dbl&gt; | method &lt;chr&gt; |\n|---|---|---|---|---|---|---|---|\n| Resiliencia | Estrés | -0.54 | -6.409918 | 5.12e-09 | -0.6685578 | -0.3885766 | Pearson |\n\n",
            "text/latex": "A cor\\_test: 1 × 8\n\\begin{tabular}{llllllll}\n var1 & var2 & cor & statistic & p & conf.low & conf.high & method\\\\\n <chr> & <chr> & <dbl> & <dbl> & <dbl> & <dbl> & <dbl> & <chr>\\\\\n\\hline\n\t Resiliencia & Estrés & -0.54 & -6.409918 & 5.12e-09 & -0.6685578 & -0.3885766 & Pearson\\\\\n\\end{tabular}\n",
            "text/plain": [
              "  var1        var2   cor   statistic p        conf.low   conf.high  method \n",
              "1 Resiliencia Estrés -0.54 -6.409918 5.12e-09 -0.6685578 -0.3885766 Pearson"
            ]
          },
          "metadata": {}
        }
      ]
    },
    {
      "cell_type": "markdown",
      "source": [
        "# Ejercicio\n",
        "\n",
        "1. Plantear las hipótesis de trabajo (HT): analizar por separado cada hipótesis de trabajo puesto que cada una implica un H0 y H1 (hipótesis estadísticas). Ejm.: Se tiene la hipótesis que el bienestar social se asocia negativamente con sintomatología depresiva y con estrés.\n",
        "- HT1: Bienestar se asocia negativamente con sintomatología depresiva. H0: rxy = 0 , H1: rxy < 0\n",
        "- HT2: Bienestar se asocia negativamente con estrés.\n",
        "\n",
        "2. Plantear las hipótesis estadísticas para cada HT.\n",
        "3. Explorar el patrón de relación entre las variables con un diagrama de dispersión.\n",
        "4. Evaluar la normalidad para aplicar el coeficiente de correlación pertinente.\n",
        "5. Analizar estadísticamente el contraste de hipótesis estadísticas (H0 y H1). Aplica la regla de decisión.\n",
        "6. Brindar respuesta a las hipótesis de trabajo, indicando si fue una correlación positiva, negativa o no hubo correlación significativa."
      ],
      "metadata": {
        "id": "NfLcwKmfer08"
      }
    },
    {
      "cell_type": "markdown",
      "source": [
        "# Ejercicio soluconado HT1\n"
      ],
      "metadata": {
        "id": "aJQn0Kt_e1NH"
      }
    },
    {
      "cell_type": "markdown",
      "source": [
        "Un grupo de investigadoras tiene como hipótesis principal de su estudio que el bienestar social se asocia negativamente con la sintomatología depresiva en un grupo de adultos jóvenes. Indica si se cumple dicha hipótesis."
      ],
      "metadata": {
        "id": "oxOirTBHe5s6"
      }
    },
    {
      "cell_type": "markdown",
      "source": [
        "1. Plantear la hipótesis de trabajo (HT1):\n",
        "\n",
        "El bienestar social se asocia negativamente con la sintomatología depresiva en un grupo de adultos jóvenes."
      ],
      "metadata": {
        "id": "BaUx3G4ve70m"
      }
    },
    {
      "cell_type": "markdown",
      "source": [
        "2. Plantear las hipótesis estadísticas de la HT1.\n",
        "- H0: No existe asociación entre bienestar social y sintomatología depresiva, $r_{xy} = 0$\n",
        "- H1: Existe una asociación negativa entre BS y SD, $r_{xy} < 0$, p unilateral."
      ],
      "metadata": {
        "id": "XkyJ3cISe906"
      }
    },
    {
      "cell_type": "markdown",
      "source": [
        "3. Explorar el patrón de relación entre las variables con un diagrama de dispersión."
      ],
      "metadata": {
        "id": "qaamCGQDe_8P"
      }
    },
    {
      "cell_type": "code",
      "source": [
        "data %>%\n",
        "  ggplot(aes(x = Depresión, y = Bienestar_social)) +\n",
        "  geom_point() +\n",
        "  labs(x = \"Sintomatología depresiva\",\n",
        "       y = \"Bienestar social\")"
      ],
      "metadata": {
        "colab": {
          "base_uri": "https://localhost:8080/",
          "height": 437
        },
        "id": "7r5X03nAfBUs",
        "outputId": "cd2ed692-7453-4c8b-f373-f8dcd76f32f7"
      },
      "execution_count": null,
      "outputs": [
        {
          "output_type": "display_data",
          "data": {
            "text/plain": [
              "plot without title"
            ],
            "image/png": "[encoded data removed]"
          },
          "metadata": {
            "image/png": {
              "width": 420,
              "height": 420
            }
          }
        }
      ]
    },
    {
      "cell_type": "markdown",
      "source": [
        "Se puede observar en la dispersión de puntos cierta tendencia hacia una relación inversa entre las variables. Pero se requiere realizar el contraste de hipótesis para concluir."
      ],
      "metadata": {
        "id": "2tIx-cr-fEvZ"
      }
    },
    {
      "cell_type": "markdown",
      "source": [
        "4. Evaluar la normalidad para aplicar el coeficiente de correlación pertinente."
      ],
      "metadata": {
        "id": "vuWQmqU6fGqJ"
      }
    },
    {
      "cell_type": "code",
      "source": [
        "data %>%\n",
        "  shapiro_test(Depresión, Bienestar_social)"
      ],
      "metadata": {
        "colab": {
          "base_uri": "https://localhost:8080/",
          "height": 161
        },
        "id": "GGa4etNqfHVz",
        "outputId": "f39ff107-debc-4ac7-81c4-c814d3f84863"
      },
      "execution_count": null,
      "outputs": [
        {
          "output_type": "display_data",
          "data": {
            "text/html": [
              "<table class=\"dataframe\">\n",
              "<caption>A tibble: 2 × 3</caption>\n",
              "<thead>\n",
              "\t<tr><th scope=col>variable</th><th scope=col>statistic</th><th scope=col>p</th></tr>\n",
              "\t<tr><th scope=col>&lt;chr&gt;</th><th scope=col>&lt;dbl&gt;</th><th scope=col>&lt;dbl&gt;</th></tr>\n",
              "</thead>\n",
              "<tbody>\n",
              "\t<tr><td>Bienestar_social</td><td>0.9799528</td><td>0.1318133</td></tr>\n",
              "\t<tr><td>Depresión       </td><td>0.9945116</td><td>0.9604523</td></tr>\n",
              "</tbody>\n",
              "</table>\n"
            ],
            "text/markdown": "\nA tibble: 2 × 3\n\n| variable &lt;chr&gt; | statistic &lt;dbl&gt; | p &lt;dbl&gt; |\n|---|---|---|\n| Bienestar_social | 0.9799528 | 0.1318133 |\n| Depresión        | 0.9945116 | 0.9604523 |\n\n",
            "text/latex": "A tibble: 2 × 3\n\\begin{tabular}{lll}\n variable & statistic & p\\\\\n <chr> & <dbl> & <dbl>\\\\\n\\hline\n\t Bienestar\\_social & 0.9799528 & 0.1318133\\\\\n\t Depresión        & 0.9945116 & 0.9604523\\\\\n\\end{tabular}\n",
            "text/plain": [
              "  variable         statistic p        \n",
              "1 Bienestar_social 0.9799528 0.1318133\n",
              "2 Depresión        0.9945116 0.9604523"
            ]
          },
          "metadata": {}
        }
      ]
    },
    {
      "cell_type": "markdown",
      "source": [
        "El análisis de normalidad indica para bienestar social un SW = .98, p = .132, y para sintomatología depresiva, SW = .995, p = .960, por lo que se acepta H0 y se rechaza H1. Es decir, las distribuciones de ambas variables son normales por lo que se llevará a cabo el análisis de correlación paramétrico de Pearson."
      ],
      "metadata": {
        "id": "Nwl9cDbYfVzN"
      }
    },
    {
      "cell_type": "markdown",
      "source": [
        "5. Analizar estadísticamente el contraste de hipótesis estadísticas (H0 y H1).  Aplica la regla de decisión.\n",
        "\n",
        "- H0: $r_{xy} = 0$\n",
        "- H1: $r_{xy} < 0$   , p unilateral"
      ],
      "metadata": {
        "id": "uyD14ZlsfY75"
      }
    },
    {
      "cell_type": "code",
      "source": [
        "data %>%\n",
        "  cor_test(Depresión, Bienestar_social)"
      ],
      "metadata": {
        "colab": {
          "base_uri": "https://localhost:8080/",
          "height": 129
        },
        "id": "rmb-IfI-faxP",
        "outputId": "d2b41321-eae0-49b3-cdc1-c39f9dd64431"
      },
      "execution_count": null,
      "outputs": [
        {
          "output_type": "display_data",
          "data": {
            "text/html": [
              "<table class=\"dataframe\">\n",
              "<caption>A cor_test: 1 × 8</caption>\n",
              "<thead>\n",
              "\t<tr><th scope=col>var1</th><th scope=col>var2</th><th scope=col>cor</th><th scope=col>statistic</th><th scope=col>p</th><th scope=col>conf.low</th><th scope=col>conf.high</th><th scope=col>method</th></tr>\n",
              "\t<tr><th scope=col>&lt;chr&gt;</th><th scope=col>&lt;chr&gt;</th><th scope=col>&lt;dbl&gt;</th><th scope=col>&lt;dbl&gt;</th><th scope=col>&lt;dbl&gt;</th><th scope=col>&lt;dbl&gt;</th><th scope=col>&lt;dbl&gt;</th><th scope=col>&lt;chr&gt;</th></tr>\n",
              "</thead>\n",
              "<tbody>\n",
              "\t<tr><td>Depresión</td><td>Bienestar_social</td><td>-0.25</td><td>-2.504035</td><td>0.0139</td><td>-0.421346</td><td>-0.05127401</td><td>Pearson</td></tr>\n",
              "</tbody>\n",
              "</table>\n"
            ],
            "text/markdown": "\nA cor_test: 1 × 8\n\n| var1 &lt;chr&gt; | var2 &lt;chr&gt; | cor &lt;dbl&gt; | statistic &lt;dbl&gt; | p &lt;dbl&gt; | conf.low &lt;dbl&gt; | conf.high &lt;dbl&gt; | method &lt;chr&gt; |\n|---|---|---|---|---|---|---|---|\n| Depresión | Bienestar_social | -0.25 | -2.504035 | 0.0139 | -0.421346 | -0.05127401 | Pearson |\n\n",
            "text/latex": "A cor\\_test: 1 × 8\n\\begin{tabular}{llllllll}\n var1 & var2 & cor & statistic & p & conf.low & conf.high & method\\\\\n <chr> & <chr> & <dbl> & <dbl> & <dbl> & <dbl> & <dbl> & <chr>\\\\\n\\hline\n\t Depresión & Bienestar\\_social & -0.25 & -2.504035 & 0.0139 & -0.421346 & -0.05127401 & Pearson\\\\\n\\end{tabular}\n",
            "text/plain": [
              "  var1      var2             cor   statistic p      conf.low  conf.high  \n",
              "1 Depresión Bienestar_social -0.25 -2.504035 0.0139 -0.421346 -0.05127401\n",
              "  method \n",
              "1 Pearson"
            ]
          },
          "metadata": {}
        }
      ]
    },
    {
      "cell_type": "markdown",
      "source": [
        "- Contraste de hipótesis: Se acepta H1 al encontrar una relación estadísticamente significativa entre bienestar social y sintomatología depresiva, p = .007 (.014/2).\n",
        "\n",
        "- Sentido: La relación es inversa, es decir, un mayor bienestar social se asocia con un menor nivel de sintomatología depresiva  y viceversa.\n",
        "\n",
        "- Fortaleza: Según el criterio de Cohen (1988), la magnitud de la relación es pequeña."
      ],
      "metadata": {
        "id": "Or4iPONUfhdV"
      }
    },
    {
      "cell_type": "markdown",
      "source": [
        "6. Brindar respuesta a las hipótesis de trabajo, indicando si fue una correlación positiva, negativa o no hubo correlación significativa. En caso de darse una correlación significativa, indicar la fortaleza del coeficiente según los criterios de Cohen.\n",
        "\n",
        "Los resultados del análisis de correlación de Pearson evidencian que existe una relación estadísticamente significativa, negativa y pequeña, según el criterio de Cohen (1988), entre el bienestar social y la sintomatología depresiva, r(98) = -.25, p =.007 (unilateral), por lo que se cumple la hipótesis del estudio.\n",
        "\n",
        "> Nota: Los grados de libertad de los índices de asociación = n-2."
      ],
      "metadata": {
        "id": "CgR0VBiffkGf"
      }
    }
  ]
}
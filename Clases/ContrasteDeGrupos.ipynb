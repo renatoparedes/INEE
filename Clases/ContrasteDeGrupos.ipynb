{
  "cells": [
    {
      "cell_type": "markdown",
      "metadata": {
        "id": "2ci7w6zkymZz"
      },
      "source": [
        "# Contraste de Grupos"
      ]
    },
    {
      "cell_type": "code",
      "execution_count": 4,
      "metadata": {
        "id": "PCmDNjuS41nN",
        "colab": {
          "base_uri": "https://localhost:8080/"
        },
        "outputId": "96b0683f-c79a-4bdd-83f3-b72d65a2b585"
      },
      "outputs": [
        {
          "output_type": "stream",
          "name": "stderr",
          "text": [
            "Loading required package: e1071\n",
            "\n",
            "\n",
            "Attaching package: ‘e1071’\n",
            "\n",
            "\n",
            "The following objects are masked from ‘package:moments’:\n",
            "\n",
            "    kurtosis, moment, skewness\n",
            "\n",
            "\n",
            "The following object is masked from ‘package:tune’:\n",
            "\n",
            "    tune\n",
            "\n",
            "\n",
            "The following object is masked from ‘package:rsample’:\n",
            "\n",
            "    permutations\n",
            "\n",
            "\n",
            "The following object is masked from ‘package:parsnip’:\n",
            "\n",
            "    tune\n",
            "\n",
            "\n"
          ]
        }
      ],
      "source": [
        "pkg = c(\"tidyverse\", \"tidymodels\", \"e1071\", \"ggpubr\", \"ggsci\")\n",
        "\n",
        "for (i in pkg) {\n",
        "  if(eval(bquote(!require(.(i))))) eval(bquote(install.packages(.(i))))\n",
        "}"
      ]
    },
    {
      "cell_type": "code",
      "execution_count": 5,
      "metadata": {
        "colab": {
          "base_uri": "https://localhost:8080/",
          "height": 412
        },
        "id": "8WQ50fldzNDb",
        "outputId": "90ac797a-affa-4674-aec4-cf4b345c6e6d"
      },
      "outputs": [
        {
          "output_type": "display_data",
          "data": {
            "text/html": [
              "<table class=\"dataframe\">\n",
              "<caption>A tibble: 10 × 4</caption>\n",
              "<thead>\n",
              "\t<tr><th scope=col>Código</th><th scope=col>Sexo</th><th scope=col>Pretest</th><th scope=col>Postest</th></tr>\n",
              "\t<tr><th scope=col>&lt;chr&gt;</th><th scope=col>&lt;dbl+lbl&gt;</th><th scope=col>&lt;dbl&gt;</th><th scope=col>&lt;dbl&gt;</th></tr>\n",
              "</thead>\n",
              "<tbody>\n",
              "\t<tr><td>001</td><td>1</td><td>30</td><td>27</td></tr>\n",
              "\t<tr><td>002</td><td>2</td><td>24</td><td>23</td></tr>\n",
              "\t<tr><td>003</td><td>2</td><td>22</td><td>18</td></tr>\n",
              "\t<tr><td>004</td><td>1</td><td>30</td><td>18</td></tr>\n",
              "\t<tr><td>005</td><td>2</td><td>26</td><td>20</td></tr>\n",
              "\t<tr><td>006</td><td>1</td><td>24</td><td>25</td></tr>\n",
              "\t<tr><td>007</td><td>1</td><td>24</td><td>21</td></tr>\n",
              "\t<tr><td>008</td><td>1</td><td>22</td><td>17</td></tr>\n",
              "\t<tr><td>009</td><td>2</td><td>18</td><td>18</td></tr>\n",
              "\t<tr><td>010</td><td>1</td><td>28</td><td>26</td></tr>\n",
              "</tbody>\n",
              "</table>\n"
            ],
            "text/markdown": "\nA tibble: 10 × 4\n\n| Código &lt;chr&gt; | Sexo &lt;dbl+lbl&gt; | Pretest &lt;dbl&gt; | Postest &lt;dbl&gt; |\n|---|---|---|---|\n| 001 | 1 | 30 | 27 |\n| 002 | 2 | 24 | 23 |\n| 003 | 2 | 22 | 18 |\n| 004 | 1 | 30 | 18 |\n| 005 | 2 | 26 | 20 |\n| 006 | 1 | 24 | 25 |\n| 007 | 1 | 24 | 21 |\n| 008 | 1 | 22 | 17 |\n| 009 | 2 | 18 | 18 |\n| 010 | 1 | 28 | 26 |\n\n",
            "text/latex": "A tibble: 10 × 4\n\\begin{tabular}{llll}\n Código & Sexo & Pretest & Postest\\\\\n <chr> & <dbl+lbl> & <dbl> & <dbl>\\\\\n\\hline\n\t 001 & 1 & 30 & 27\\\\\n\t 002 & 2 & 24 & 23\\\\\n\t 003 & 2 & 22 & 18\\\\\n\t 004 & 1 & 30 & 18\\\\\n\t 005 & 2 & 26 & 20\\\\\n\t 006 & 1 & 24 & 25\\\\\n\t 007 & 1 & 24 & 21\\\\\n\t 008 & 1 & 22 & 17\\\\\n\t 009 & 2 & 18 & 18\\\\\n\t 010 & 1 & 28 & 26\\\\\n\\end{tabular}\n",
            "text/plain": [
              "   Código Sexo Pretest Postest\n",
              "1  001    1    30      27     \n",
              "2  002    2    24      23     \n",
              "3  003    2    22      18     \n",
              "4  004    1    30      18     \n",
              "5  005    2    26      20     \n",
              "6  006    1    24      25     \n",
              "7  007    1    24      21     \n",
              "8  008    1    22      17     \n",
              "9  009    2    18      18     \n",
              "10 010    1    28      26     "
            ]
          },
          "metadata": {}
        }
      ],
      "source": [
        "library(haven)\n",
        "\n",
        "df = read_spss(\"https://github.com/renatoparedes/EstadisticaYPsicologiaMatematica/raw/main/INEE/Clase7_BaseContrasteDeGrupos.sav\")\n",
        "df"
      ]
    },
    {
      "cell_type": "code",
      "execution_count": 6,
      "metadata": {
        "colab": {
          "base_uri": "https://localhost:8080/",
          "height": 437
        },
        "id": "nuFTktFzzpf8",
        "outputId": "77af9088-b226-4068-beb8-cd0cab9c2694"
      },
      "outputs": [
        {
          "output_type": "display_data",
          "data": {
            "text/plain": [
              "plot without title"
            ],
            "image/png": "[encoded data removed]"
          },
          "metadata": {
            "image/png": {
              "width": 420,
              "height": 420
            }
          }
        }
      ],
      "source": [
        "library(ggpubr)\n",
        "library(tidyverse)\n",
        "library(ggsci)\n",
        "\n",
        "df %>%\n",
        "  pivot_longer(-c(1:2), names_to = \"test\", values_to = \"value\") %>%\n",
        "  ggboxplot(x = \"test\", y = \"value\", \n",
        "            color = \"test\", shape = \"test\", add = \"jitter\") +\n",
        "  scale_color_startrek()"
      ]
    },
    {
      "cell_type": "markdown",
      "metadata": {
        "id": "IqVpfzoV_83G"
      },
      "source": [
        "# Descripción de los datos"
      ]
    },
    {
      "cell_type": "code",
      "execution_count": 7,
      "metadata": {
        "colab": {
          "base_uri": "https://localhost:8080/",
          "height": 161
        },
        "id": "SsyFiDj35nfp",
        "outputId": "b078a426-d02d-41cd-b42c-17e223b20f3b"
      },
      "outputs": [
        {
          "output_type": "display_data",
          "data": {
            "text/html": [
              "<table class=\"dataframe\">\n",
              "<caption>A tibble: 2 × 9</caption>\n",
              "<thead>\n",
              "\t<tr><th scope=col>test</th><th scope=col>n</th><th scope=col>mean</th><th scope=col>std</th><th scope=col>min</th><th scope=col>max</th><th scope=col>25%</th><th scope=col>50%</th><th scope=col>75%</th></tr>\n",
              "\t<tr><th scope=col>&lt;chr&gt;</th><th scope=col>&lt;int&gt;</th><th scope=col>&lt;dbl&gt;</th><th scope=col>&lt;dbl&gt;</th><th scope=col>&lt;dbl&gt;</th><th scope=col>&lt;dbl&gt;</th><th scope=col>&lt;dbl&gt;</th><th scope=col>&lt;dbl&gt;</th><th scope=col>&lt;dbl&gt;</th></tr>\n",
              "</thead>\n",
              "<tbody>\n",
              "\t<tr><td>Postest</td><td>10</td><td>21.3</td><td>3.713339</td><td>17</td><td>27</td><td>18.0</td><td>20.5</td><td>24.5</td></tr>\n",
              "\t<tr><td>Pretest</td><td>10</td><td>24.8</td><td>3.794733</td><td>18</td><td>30</td><td>22.5</td><td>24.0</td><td>27.5</td></tr>\n",
              "</tbody>\n",
              "</table>\n"
            ],
            "text/markdown": "\nA tibble: 2 × 9\n\n| test &lt;chr&gt; | n &lt;int&gt; | mean &lt;dbl&gt; | std &lt;dbl&gt; | min &lt;dbl&gt; | max &lt;dbl&gt; | 25% &lt;dbl&gt; | 50% &lt;dbl&gt; | 75% &lt;dbl&gt; |\n|---|---|---|---|---|---|---|---|---|\n| Postest | 10 | 21.3 | 3.713339 | 17 | 27 | 18.0 | 20.5 | 24.5 |\n| Pretest | 10 | 24.8 | 3.794733 | 18 | 30 | 22.5 | 24.0 | 27.5 |\n\n",
            "text/latex": "A tibble: 2 × 9\n\\begin{tabular}{lllllllll}\n test & n & mean & std & min & max & 25\\% & 50\\% & 75\\%\\\\\n <chr> & <int> & <dbl> & <dbl> & <dbl> & <dbl> & <dbl> & <dbl> & <dbl>\\\\\n\\hline\n\t Postest & 10 & 21.3 & 3.713339 & 17 & 27 & 18.0 & 20.5 & 24.5\\\\\n\t Pretest & 10 & 24.8 & 3.794733 & 18 & 30 & 22.5 & 24.0 & 27.5\\\\\n\\end{tabular}\n",
            "text/plain": [
              "  test    n  mean std      min max 25%  50%  75% \n",
              "1 Postest 10 21.3 3.713339 17  27  18.0 20.5 24.5\n",
              "2 Pretest 10 24.8 3.794733 18  30  22.5 24.0 27.5"
            ]
          },
          "metadata": {}
        }
      ],
      "source": [
        "df %>%\n",
        "  pivot_longer(-c(1:2), names_to = \"test\", values_to = \"value\") %>%\n",
        "  group_by(test) %>%\n",
        "  reframe(n = n(),\n",
        "            mean  = mean(value, na.rm = T),\n",
        "            std   = sd(value, na.rm = T),\n",
        "            min   = min(value, na.rm = T),\n",
        "            max   = max(value, na.rm = T),\n",
        "            nquan = c(\"25%\", \"50%\", \"75%\"),\n",
        "            quan  = quantile(value, c(.25, .50, .75), na.rm = T)) %>%\n",
        "  pivot_wider(names_from = nquan, values_from = quan)"
      ]
    },
    {
      "cell_type": "markdown",
      "metadata": {
        "id": "GesUGqF_AFub"
      },
      "source": [
        "# Análisis de Normalidad"
      ]
    },
    {
      "cell_type": "code",
      "execution_count": 8,
      "metadata": {
        "colab": {
          "base_uri": "https://localhost:8080/",
          "height": 437
        },
        "id": "JnQCUg2Y1a46",
        "outputId": "6e6efb04-8972-4e76-841e-0649568128d5"
      },
      "outputs": [
        {
          "output_type": "display_data",
          "data": {
            "text/plain": [
              "plot without title"
            ],
            "image/png": "[encoded data removed]"
          },
          "metadata": {
            "image/png": {
              "width": 420,
              "height": 420
            }
          }
        }
      ],
      "source": [
        "df %>%\n",
        "  pivot_longer(-c(1:2), names_to = \"test\", values_to = \"value\") %>%\n",
        "  ggqqplot(x = \"value\", color = \"test\") +\n",
        "  scale_color_startrek()"
      ]
    },
    {
      "cell_type": "code",
      "execution_count": 9,
      "metadata": {
        "colab": {
          "base_uri": "https://localhost:8080/",
          "height": 161
        },
        "id": "zNuV73BoBu_8",
        "outputId": "94ded859-615d-4cfc-9e4b-6b5114efb012"
      },
      "outputs": [
        {
          "output_type": "display_data",
          "data": {
            "text/html": [
              "<table class=\"dataframe\">\n",
              "<caption>A tibble: 2 × 4</caption>\n",
              "<thead>\n",
              "\t<tr><th scope=col>test</th><th scope=col>W</th><th scope=col>p</th><th scope=col>normal</th></tr>\n",
              "\t<tr><th scope=col>&lt;chr&gt;</th><th scope=col>&lt;dbl&gt;</th><th scope=col>&lt;dbl&gt;</th><th scope=col>&lt;lgl&gt;</th></tr>\n",
              "</thead>\n",
              "<tbody>\n",
              "\t<tr><td>Postest</td><td>0.8923593</td><td>0.1802463</td><td>TRUE</td></tr>\n",
              "\t<tr><td>Pretest</td><td>0.9418100</td><td>0.5733240</td><td>TRUE</td></tr>\n",
              "</tbody>\n",
              "</table>\n"
            ],
            "text/markdown": "\nA tibble: 2 × 4\n\n| test &lt;chr&gt; | W &lt;dbl&gt; | p &lt;dbl&gt; | normal &lt;lgl&gt; |\n|---|---|---|---|\n| Postest | 0.8923593 | 0.1802463 | TRUE |\n| Pretest | 0.9418100 | 0.5733240 | TRUE |\n\n",
            "text/latex": "A tibble: 2 × 4\n\\begin{tabular}{llll}\n test & W & p & normal\\\\\n <chr> & <dbl> & <dbl> & <lgl>\\\\\n\\hline\n\t Postest & 0.8923593 & 0.1802463 & TRUE\\\\\n\t Pretest & 0.9418100 & 0.5733240 & TRUE\\\\\n\\end{tabular}\n",
            "text/plain": [
              "  test    W         p         normal\n",
              "1 Postest 0.8923593 0.1802463 TRUE  \n",
              "2 Pretest 0.9418100 0.5733240 TRUE  "
            ]
          },
          "metadata": {}
        }
      ],
      "source": [
        "df %>% \n",
        "  pivot_longer(-c(1:2), names_to = \"test\", values_to = \"value\") %>%\n",
        "  group_by(test) %>%\n",
        "  summarise(W = shapiro.test(value)$statistic,\n",
        "            p = shapiro.test(value)$p.value,\n",
        "            normal = case_when(p <= .05 ~ F, p > .05 ~ T))"
      ]
    },
    {
      "cell_type": "code",
      "execution_count": 10,
      "metadata": {
        "colab": {
          "base_uri": "https://localhost:8080/",
          "height": 161
        },
        "id": "GsO7ClUVKrPj",
        "outputId": "61e2d31b-ea86-4b4e-ab6e-9279e48c1e41"
      },
      "outputs": [
        {
          "output_type": "display_data",
          "data": {
            "text/html": [
              "<table class=\"dataframe\">\n",
              "<caption>A tibble: 2 × 3</caption>\n",
              "<thead>\n",
              "\t<tr><th scope=col>test</th><th scope=col>Asimetría</th><th scope=col>Curtosis</th></tr>\n",
              "\t<tr><th scope=col>&lt;chr&gt;</th><th scope=col>&lt;dbl&gt;</th><th scope=col>&lt;dbl&gt;</th></tr>\n",
              "</thead>\n",
              "<tbody>\n",
              "\t<tr><td>Postest</td><td> 0.4205497</td><td>-1.5385768</td></tr>\n",
              "\t<tr><td>Pretest</td><td>-0.1122413</td><td>-0.3064374</td></tr>\n",
              "</tbody>\n",
              "</table>\n"
            ],
            "text/markdown": "\nA tibble: 2 × 3\n\n| test &lt;chr&gt; | Asimetría &lt;dbl&gt; | Curtosis &lt;dbl&gt; |\n|---|---|---|\n| Postest |  0.4205497 | -1.5385768 |\n| Pretest | -0.1122413 | -0.3064374 |\n\n",
            "text/latex": "A tibble: 2 × 3\n\\begin{tabular}{lll}\n test & Asimetría & Curtosis\\\\\n <chr> & <dbl> & <dbl>\\\\\n\\hline\n\t Postest &  0.4205497 & -1.5385768\\\\\n\t Pretest & -0.1122413 & -0.3064374\\\\\n\\end{tabular}\n",
            "text/plain": [
              "  test    Asimetría  Curtosis  \n",
              "1 Postest  0.4205497 -1.5385768\n",
              "2 Pretest -0.1122413 -0.3064374"
            ]
          },
          "metadata": {}
        }
      ],
      "source": [
        "library(e1071)\n",
        "\n",
        "df %>%\n",
        "  pivot_longer(-c(1:2), names_to = \"test\", values_to = \"value\") %>%\n",
        "  group_by(test) %>%\n",
        "  summarise(Asimetría = e1071::skewness(value, type = 2),\n",
        "            Curtosis = e1071::kurtosis(value, type = 2))"
      ]
    },
    {
      "cell_type": "markdown",
      "metadata": {
        "id": "X_UZaXN7LjFB"
      },
      "source": [
        "Ambas distribuciones se aproximan a la distribución normal. Por tanto, corresponde usar índice paramétrico t para dos muestras relacionadas."
      ]
    },
    {
      "cell_type": "markdown",
      "metadata": {
        "id": "lPl0cLbZLxi8"
      },
      "source": [
        "# Contraste de muestras relacionadas"
      ]
    },
    {
      "cell_type": "code",
      "execution_count": 11,
      "metadata": {
        "colab": {
          "base_uri": "https://localhost:8080/",
          "height": 459
        },
        "id": "Ki8X0Yf4TePB",
        "outputId": "49bc68db-52ac-403a-99d0-12e175fdf253"
      },
      "outputs": [
        {
          "output_type": "stream",
          "name": "stderr",
          "text": [
            "\n",
            "Attaching package: ‘rstatix’\n",
            "\n",
            "\n",
            "The following objects are masked from ‘package:infer’:\n",
            "\n",
            "    chisq_test, prop_test, t_test\n",
            "\n",
            "\n",
            "The following object is masked from ‘package:dials’:\n",
            "\n",
            "    get_n\n",
            "\n",
            "\n",
            "The following object is masked from ‘package:stats’:\n",
            "\n",
            "    filter\n",
            "\n",
            "\n"
          ]
        },
        {
          "output_type": "display_data",
          "data": {
            "text/html": [
              "<table class=\"dataframe\">\n",
              "<caption>A rstatix_test: 1 × 8</caption>\n",
              "<thead>\n",
              "\t<tr><th></th><th scope=col>.y.</th><th scope=col>group1</th><th scope=col>group2</th><th scope=col>n1</th><th scope=col>n2</th><th scope=col>statistic</th><th scope=col>df</th><th scope=col>p</th></tr>\n",
              "\t<tr><th></th><th scope=col>&lt;chr&gt;</th><th scope=col>&lt;chr&gt;</th><th scope=col>&lt;chr&gt;</th><th scope=col>&lt;int&gt;</th><th scope=col>&lt;int&gt;</th><th scope=col>&lt;dbl&gt;</th><th scope=col>&lt;dbl&gt;</th><th scope=col>&lt;dbl&gt;</th></tr>\n",
              "</thead>\n",
              "<tbody>\n",
              "\t<tr><th scope=row>1</th><td>value</td><td>Postest</td><td>Pretest</td><td>10</td><td>10</td><td>-3</td><td>9</td><td>0.015</td></tr>\n",
              "</tbody>\n",
              "</table>\n"
            ],
            "text/markdown": "\nA rstatix_test: 1 × 8\n\n| <!--/--> | .y. &lt;chr&gt; | group1 &lt;chr&gt; | group2 &lt;chr&gt; | n1 &lt;int&gt; | n2 &lt;int&gt; | statistic &lt;dbl&gt; | df &lt;dbl&gt; | p &lt;dbl&gt; |\n|---|---|---|---|---|---|---|---|---|\n| 1 | value | Postest | Pretest | 10 | 10 | -3 | 9 | 0.015 |\n\n",
            "text/latex": "A rstatix\\_test: 1 × 8\n\\begin{tabular}{r|llllllll}\n  & .y. & group1 & group2 & n1 & n2 & statistic & df & p\\\\\n  & <chr> & <chr> & <chr> & <int> & <int> & <dbl> & <dbl> & <dbl>\\\\\n\\hline\n\t1 & value & Postest & Pretest & 10 & 10 & -3 & 9 & 0.015\\\\\n\\end{tabular}\n",
            "text/plain": [
              "  .y.   group1  group2  n1 n2 statistic df p    \n",
              "1 value Postest Pretest 10 10 -3        9  0.015"
            ]
          },
          "metadata": {}
        }
      ],
      "source": [
        "library(rstatix)\n",
        "\n",
        "df %>%\n",
        "  pivot_longer(-c(1:2), names_to = \"test\", values_to = \"value\") %>%\n",
        "  t_test(value ~ test, paired = T)"
      ]
    },
    {
      "cell_type": "markdown",
      "metadata": {
        "id": "Qs6-pGxSbywH"
      },
      "source": [
        "De acuerdo al análisis de contraste se observa una diferencia significativa en el puntaje de ansiedad entre la evaluación pre-test y la de post-test, t(9)=3.00, p=.02. De manera específica, se observa una reducción en ansiedad pre-test (M=24.8, DE=3.80) al post-test (M=21.3, DE=3.71) reportada por las/los participantes."
      ]
    },
    {
      "cell_type": "markdown",
      "metadata": {
        "id": "L9QFHszEb1D7"
      },
      "source": [
        "# Contraste de muestras independientes"
      ]
    },
    {
      "cell_type": "code",
      "execution_count": 12,
      "metadata": {
        "colab": {
          "base_uri": "https://localhost:8080/",
          "height": 412
        },
        "id": "cEbUOcVlb4Xv",
        "outputId": "402f2743-3b03-480a-f3d8-66333635b9f0"
      },
      "outputs": [
        {
          "output_type": "display_data",
          "data": {
            "text/html": [
              "<table class=\"dataframe\">\n",
              "<caption>A tibble: 10 × 2</caption>\n",
              "<thead>\n",
              "\t<tr><th scope=col>Sexo</th><th scope=col>Postest</th></tr>\n",
              "\t<tr><th scope=col>&lt;fct&gt;</th><th scope=col>&lt;dbl&gt;</th></tr>\n",
              "</thead>\n",
              "<tbody>\n",
              "\t<tr><td>Mujer </td><td>27</td></tr>\n",
              "\t<tr><td>Hombre</td><td>23</td></tr>\n",
              "\t<tr><td>Hombre</td><td>18</td></tr>\n",
              "\t<tr><td>Mujer </td><td>18</td></tr>\n",
              "\t<tr><td>Hombre</td><td>20</td></tr>\n",
              "\t<tr><td>Mujer </td><td>25</td></tr>\n",
              "\t<tr><td>Mujer </td><td>21</td></tr>\n",
              "\t<tr><td>Mujer </td><td>17</td></tr>\n",
              "\t<tr><td>Hombre</td><td>18</td></tr>\n",
              "\t<tr><td>Mujer </td><td>26</td></tr>\n",
              "</tbody>\n",
              "</table>\n"
            ],
            "text/markdown": "\nA tibble: 10 × 2\n\n| Sexo &lt;fct&gt; | Postest &lt;dbl&gt; |\n|---|---|\n| Mujer  | 27 |\n| Hombre | 23 |\n| Hombre | 18 |\n| Mujer  | 18 |\n| Hombre | 20 |\n| Mujer  | 25 |\n| Mujer  | 21 |\n| Mujer  | 17 |\n| Hombre | 18 |\n| Mujer  | 26 |\n\n",
            "text/latex": "A tibble: 10 × 2\n\\begin{tabular}{ll}\n Sexo & Postest\\\\\n <fct> & <dbl>\\\\\n\\hline\n\t Mujer  & 27\\\\\n\t Hombre & 23\\\\\n\t Hombre & 18\\\\\n\t Mujer  & 18\\\\\n\t Hombre & 20\\\\\n\t Mujer  & 25\\\\\n\t Mujer  & 21\\\\\n\t Mujer  & 17\\\\\n\t Hombre & 18\\\\\n\t Mujer  & 26\\\\\n\\end{tabular}\n",
            "text/plain": [
              "   Sexo   Postest\n",
              "1  Mujer  27     \n",
              "2  Hombre 23     \n",
              "3  Hombre 18     \n",
              "4  Mujer  18     \n",
              "5  Hombre 20     \n",
              "6  Mujer  25     \n",
              "7  Mujer  21     \n",
              "8  Mujer  17     \n",
              "9  Hombre 18     \n",
              "10 Mujer  26     "
            ]
          },
          "metadata": {}
        }
      ],
      "source": [
        "df_ind = df %>% select(Sexo, Postest) %>% mutate(Sexo = as_factor(Sexo))\n",
        "df_ind"
      ]
    },
    {
      "cell_type": "code",
      "execution_count": 13,
      "metadata": {
        "colab": {
          "base_uri": "https://localhost:8080/",
          "height": 161
        },
        "id": "M9OR0cfVcIfL",
        "outputId": "73b8df42-5891-4da8-b661-3ef75c089045"
      },
      "outputs": [
        {
          "output_type": "display_data",
          "data": {
            "text/html": [
              "<table class=\"dataframe\">\n",
              "<caption>A tibble: 2 × 9</caption>\n",
              "<thead>\n",
              "\t<tr><th scope=col>Sexo</th><th scope=col>n</th><th scope=col>mean</th><th scope=col>std</th><th scope=col>min</th><th scope=col>max</th><th scope=col>25%</th><th scope=col>50%</th><th scope=col>75%</th></tr>\n",
              "\t<tr><th scope=col>&lt;fct&gt;</th><th scope=col>&lt;int&gt;</th><th scope=col>&lt;dbl&gt;</th><th scope=col>&lt;dbl&gt;</th><th scope=col>&lt;dbl&gt;</th><th scope=col>&lt;dbl&gt;</th><th scope=col>&lt;dbl&gt;</th><th scope=col>&lt;dbl&gt;</th><th scope=col>&lt;dbl&gt;</th></tr>\n",
              "</thead>\n",
              "<tbody>\n",
              "\t<tr><td>Mujer </td><td>6</td><td>22.33333</td><td>4.273952</td><td>17</td><td>27</td><td>18.75</td><td>23</td><td>25.75</td></tr>\n",
              "\t<tr><td>Hombre</td><td>4</td><td>19.75000</td><td>2.362908</td><td>18</td><td>23</td><td>18.00</td><td>19</td><td>20.75</td></tr>\n",
              "</tbody>\n",
              "</table>\n"
            ],
            "text/markdown": "\nA tibble: 2 × 9\n\n| Sexo &lt;fct&gt; | n &lt;int&gt; | mean &lt;dbl&gt; | std &lt;dbl&gt; | min &lt;dbl&gt; | max &lt;dbl&gt; | 25% &lt;dbl&gt; | 50% &lt;dbl&gt; | 75% &lt;dbl&gt; |\n|---|---|---|---|---|---|---|---|---|\n| Mujer  | 6 | 22.33333 | 4.273952 | 17 | 27 | 18.75 | 23 | 25.75 |\n| Hombre | 4 | 19.75000 | 2.362908 | 18 | 23 | 18.00 | 19 | 20.75 |\n\n",
            "text/latex": "A tibble: 2 × 9\n\\begin{tabular}{lllllllll}\n Sexo & n & mean & std & min & max & 25\\% & 50\\% & 75\\%\\\\\n <fct> & <int> & <dbl> & <dbl> & <dbl> & <dbl> & <dbl> & <dbl> & <dbl>\\\\\n\\hline\n\t Mujer  & 6 & 22.33333 & 4.273952 & 17 & 27 & 18.75 & 23 & 25.75\\\\\n\t Hombre & 4 & 19.75000 & 2.362908 & 18 & 23 & 18.00 & 19 & 20.75\\\\\n\\end{tabular}\n",
            "text/plain": [
              "  Sexo   n mean     std      min max 25%   50% 75%  \n",
              "1 Mujer  6 22.33333 4.273952 17  27  18.75 23  25.75\n",
              "2 Hombre 4 19.75000 2.362908 18  23  18.00 19  20.75"
            ]
          },
          "metadata": {}
        }
      ],
      "source": [
        "df_ind %>%\n",
        "  group_by(Sexo) %>%\n",
        "  reframe(n = n(),\n",
        "            mean  = mean(Postest, na.rm = T),\n",
        "            std   = sd(Postest, na.rm = T),\n",
        "            min   = min(Postest, na.rm = T),\n",
        "            max   = max(Postest, na.rm = T),\n",
        "            nquan = c(\"25%\", \"50%\", \"75%\"),\n",
        "            quan  = quantile(Postest, c(.25, .50, .75), na.rm = T)) %>%\n",
        "  pivot_wider(names_from = nquan, values_from = quan)"
      ]
    },
    {
      "cell_type": "code",
      "execution_count": 14,
      "metadata": {
        "colab": {
          "base_uri": "https://localhost:8080/",
          "height": 437
        },
        "id": "QqMBwFl2dCy1",
        "outputId": "14d45a84-7493-44d3-ad9b-2e2086a25957"
      },
      "outputs": [
        {
          "output_type": "display_data",
          "data": {
            "text/plain": [
              "plot without title"
            ],
            "image/png": "[encoded data removed]"
          },
          "metadata": {
            "image/png": {
              "width": 420,
              "height": 420
            }
          }
        }
      ],
      "source": [
        "df_ind %>%\n",
        "  ggboxplot(x = \"Sexo\", y = \"Postest\", \n",
        "            color = \"Sexo\", shape = \"Sexo\", add = \"jitter\") +\n",
        "  scale_color_startrek()"
      ]
    },
    {
      "cell_type": "code",
      "execution_count": 15,
      "metadata": {
        "colab": {
          "base_uri": "https://localhost:8080/",
          "height": 161
        },
        "id": "OeMX5joydM-6",
        "outputId": "3d048bdb-cab4-4c5c-a02d-4f0ca82a4fdd"
      },
      "outputs": [
        {
          "output_type": "display_data",
          "data": {
            "text/html": [
              "<table class=\"dataframe\">\n",
              "<caption>A tibble: 2 × 4</caption>\n",
              "<thead>\n",
              "\t<tr><th scope=col>Sexo</th><th scope=col>W</th><th scope=col>p</th><th scope=col>normal</th></tr>\n",
              "\t<tr><th scope=col>&lt;fct&gt;</th><th scope=col>&lt;dbl&gt;</th><th scope=col>&lt;dbl&gt;</th><th scope=col>&lt;lgl&gt;</th></tr>\n",
              "</thead>\n",
              "<tbody>\n",
              "\t<tr><td>Mujer </td><td>0.8924716</td><td>0.3313410</td><td>TRUE</td></tr>\n",
              "\t<tr><td>Hombre</td><td>0.8480787</td><td>0.2199986</td><td>TRUE</td></tr>\n",
              "</tbody>\n",
              "</table>\n"
            ],
            "text/markdown": "\nA tibble: 2 × 4\n\n| Sexo &lt;fct&gt; | W &lt;dbl&gt; | p &lt;dbl&gt; | normal &lt;lgl&gt; |\n|---|---|---|---|\n| Mujer  | 0.8924716 | 0.3313410 | TRUE |\n| Hombre | 0.8480787 | 0.2199986 | TRUE |\n\n",
            "text/latex": "A tibble: 2 × 4\n\\begin{tabular}{llll}\n Sexo & W & p & normal\\\\\n <fct> & <dbl> & <dbl> & <lgl>\\\\\n\\hline\n\t Mujer  & 0.8924716 & 0.3313410 & TRUE\\\\\n\t Hombre & 0.8480787 & 0.2199986 & TRUE\\\\\n\\end{tabular}\n",
            "text/plain": [
              "  Sexo   W         p         normal\n",
              "1 Mujer  0.8924716 0.3313410 TRUE  \n",
              "2 Hombre 0.8480787 0.2199986 TRUE  "
            ]
          },
          "metadata": {}
        }
      ],
      "source": [
        "df_ind %>% \n",
        "  group_by(Sexo) %>%\n",
        "  summarise(W = shapiro.test(Postest)$statistic,\n",
        "            p = shapiro.test(Postest)$p.value,\n",
        "            normal = case_when(p <= .05 ~ F, p > .05 ~ T))"
      ]
    },
    {
      "cell_type": "markdown",
      "source": [
        "Ambas distribuciones se aproximan a la normalidad. Corresponde usar índice paramétrico t para dos muestras independientes."
      ],
      "metadata": {
        "id": "9dudLW9HRGmz"
      }
    },
    {
      "cell_type": "code",
      "execution_count": 16,
      "metadata": {
        "colab": {
          "base_uri": "https://localhost:8080/",
          "height": 129
        },
        "id": "65Y3b0U9dZbt",
        "outputId": "075c51f1-1a04-4b81-d455-39d4833ff16e"
      },
      "outputs": [
        {
          "output_type": "display_data",
          "data": {
            "text/html": [
              "<table class=\"dataframe\">\n",
              "<caption>A tibble: 1 × 4</caption>\n",
              "<thead>\n",
              "\t<tr><th scope=col>df1</th><th scope=col>df2</th><th scope=col>statistic</th><th scope=col>p</th></tr>\n",
              "\t<tr><th scope=col>&lt;int&gt;</th><th scope=col>&lt;int&gt;</th><th scope=col>&lt;dbl&gt;</th><th scope=col>&lt;dbl&gt;</th></tr>\n",
              "</thead>\n",
              "<tbody>\n",
              "\t<tr><td>1</td><td>8</td><td>3.512033</td><td>0.09779746</td></tr>\n",
              "</tbody>\n",
              "</table>\n"
            ],
            "text/markdown": "\nA tibble: 1 × 4\n\n| df1 &lt;int&gt; | df2 &lt;int&gt; | statistic &lt;dbl&gt; | p &lt;dbl&gt; |\n|---|---|---|---|\n| 1 | 8 | 3.512033 | 0.09779746 |\n\n",
            "text/latex": "A tibble: 1 × 4\n\\begin{tabular}{llll}\n df1 & df2 & statistic & p\\\\\n <int> & <int> & <dbl> & <dbl>\\\\\n\\hline\n\t 1 & 8 & 3.512033 & 0.09779746\\\\\n\\end{tabular}\n",
            "text/plain": [
              "  df1 df2 statistic p         \n",
              "1 1   8   3.512033  0.09779746"
            ]
          },
          "metadata": {}
        }
      ],
      "source": [
        "df_ind %>%\n",
        "  levene_test(Postest ~ Sexo)"
      ]
    },
    {
      "cell_type": "markdown",
      "source": [
        "El resultado de la prueba de Levene no es significativo, F=4.65, p=.06, por lo que se asumen varianzas iguales entre el grupo de mujeres y el de hombres."
      ],
      "metadata": {
        "id": "dJc7dTkZRKCo"
      }
    },
    {
      "cell_type": "code",
      "execution_count": 17,
      "metadata": {
        "colab": {
          "base_uri": "https://localhost:8080/",
          "height": 129
        },
        "id": "_gXQgZyddikL",
        "outputId": "d8565508-baa7-4a54-86d0-ce3c049d4a46"
      },
      "outputs": [
        {
          "output_type": "display_data",
          "data": {
            "text/html": [
              "<table class=\"dataframe\">\n",
              "<caption>A tibble: 1 × 4</caption>\n",
              "<thead>\n",
              "\t<tr><th scope=col>statistic</th><th scope=col>dof</th><th scope=col>p</th><th scope=col>cohens_d</th></tr>\n",
              "\t<tr><th scope=col>&lt;dbl&gt;</th><th scope=col>&lt;dbl&gt;</th><th scope=col>&lt;dbl&gt;</th><th scope=col>&lt;dbl&gt;</th></tr>\n",
              "</thead>\n",
              "<tbody>\n",
              "\t<tr><td>1.088809</td><td>8</td><td>0.308</td><td>0.7028232</td></tr>\n",
              "</tbody>\n",
              "</table>\n"
            ],
            "text/markdown": "\nA tibble: 1 × 4\n\n| statistic &lt;dbl&gt; | dof &lt;dbl&gt; | p &lt;dbl&gt; | cohens_d &lt;dbl&gt; |\n|---|---|---|---|\n| 1.088809 | 8 | 0.308 | 0.7028232 |\n\n",
            "text/latex": "A tibble: 1 × 4\n\\begin{tabular}{llll}\n statistic & dof & p & cohens\\_d\\\\\n <dbl> & <dbl> & <dbl> & <dbl>\\\\\n\\hline\n\t 1.088809 & 8 & 0.308 & 0.7028232\\\\\n\\end{tabular}\n",
            "text/plain": [
              "  statistic dof p     cohens_d \n",
              "1 1.088809  8   0.308 0.7028232"
            ]
          },
          "metadata": {}
        }
      ],
      "source": [
        "df_ind %>%\n",
        "  summarize(statistic = t_test(., Postest ~ Sexo, var.equal = T)$statistic,\n",
        "            dof = t_test(., Postest ~ Sexo, var.equal = T)$df,\n",
        "            p = t_test(., Postest ~ Sexo, var.equal = T)$p,\n",
        "            cohens_d = cohens_d(., Postest ~ Sexo, var.equal = T)$effsize)"
      ]
    },
    {
      "cell_type": "markdown",
      "source": [
        "No se observa una diferencia en ansiedad según el sexo de las y los participantes, t(8)=1.09, p=.31. Los puntajes de ansiedad reportados no difieren entre mujeres (M=22.33, DE=4.27) y hombres (M=19.75, DE=2.36)."
      ],
      "metadata": {
        "id": "FEpwVrWxRNTJ"
      }
    },
    {
      "cell_type": "markdown",
      "source": [
        "# Contraste global"
      ],
      "metadata": {
        "id": "7-1oCTWBJg5r"
      }
    },
    {
      "cell_type": "code",
      "source": [
        "df2 = haven::read_spss(\"https://github.com/renatoparedes/EstadisticaYPsicologiaMatematica/raw/main/INEE/Clase6_BaseEstadisticaDescriptiva.sav\")\n",
        "df2"
      ],
      "metadata": {
        "colab": {
          "base_uri": "https://localhost:8080/",
          "height": 1000
        },
        "id": "1UOBUEXdJiVq",
        "outputId": "0817f5c4-cd0d-4398-8cc9-78fb6788e8af"
      },
      "execution_count": 18,
      "outputs": [
        {
          "output_type": "display_data",
          "data": {
            "text/html": [
              "<table class=\"dataframe\">\n",
              "<caption>A tibble: 288 × 17</caption>\n",
              "<thead>\n",
              "\t<tr><th scope=col>Código</th><th scope=col>Sexo</th><th scope=col>Edad</th><th scope=col>EstadoCivil</th><th scope=col>NúmHermanos</th><th scope=col>OrdenHermanos</th><th scope=col>Religión</th><th scope=col>LugarNac</th><th scope=col>IntFamiliar</th><th scope=col>Instrucción</th><th scope=col>EstLaboral</th><th scope=col>EPA1</th><th scope=col>EPA2</th><th scope=col>EPA3</th><th scope=col>EPA4</th><th scope=col>EPA5</th><th scope=col>EPA6</th></tr>\n",
              "\t<tr><th scope=col>&lt;chr&gt;</th><th scope=col>&lt;dbl+lbl&gt;</th><th scope=col>&lt;dbl&gt;</th><th scope=col>&lt;dbl+lbl&gt;</th><th scope=col>&lt;dbl&gt;</th><th scope=col>&lt;dbl&gt;</th><th scope=col>&lt;chr&gt;</th><th scope=col>&lt;dbl+lbl&gt;</th><th scope=col>&lt;dbl&gt;</th><th scope=col>&lt;dbl+lbl&gt;</th><th scope=col>&lt;dbl+lbl&gt;</th><th scope=col>&lt;dbl+lbl&gt;</th><th scope=col>&lt;dbl+lbl&gt;</th><th scope=col>&lt;dbl+lbl&gt;</th><th scope=col>&lt;dbl+lbl&gt;</th><th scope=col>&lt;dbl+lbl&gt;</th><th scope=col>&lt;dbl+lbl&gt;</th></tr>\n",
              "</thead>\n",
              "<tbody>\n",
              "\t<tr><td>001</td><td>0</td><td>20</td><td>0</td><td>2</td><td>1</td><td>Católica  </td><td>0</td><td> 4</td><td>5</td><td>0</td><td>4</td><td>1</td><td>3</td><td>3</td><td>4</td><td>3</td></tr>\n",
              "\t<tr><td>002</td><td>1</td><td>18</td><td>0</td><td>2</td><td>1</td><td>Católica  </td><td>0</td><td> 5</td><td>7</td><td>1</td><td>5</td><td>2</td><td>4</td><td>4</td><td>4</td><td>5</td></tr>\n",
              "\t<tr><td>003</td><td>1</td><td>19</td><td>1</td><td>3</td><td>2</td><td>Católica  </td><td>0</td><td> 5</td><td>7</td><td>1</td><td>3</td><td>3</td><td>2</td><td>2</td><td>3</td><td>2</td></tr>\n",
              "\t<tr><td>004</td><td>0</td><td>18</td><td>0</td><td>3</td><td>2</td><td>Evangélico</td><td>1</td><td> 3</td><td>7</td><td>1</td><td>5</td><td>3</td><td>2</td><td>4</td><td>3</td><td>4</td></tr>\n",
              "\t<tr><td>005</td><td>1</td><td>19</td><td>1</td><td>2</td><td>2</td><td>Cristiana </td><td>0</td><td> 5</td><td>7</td><td>1</td><td>1</td><td>1</td><td>1</td><td>2</td><td>2</td><td>1</td></tr>\n",
              "\t<tr><td>006</td><td>1</td><td>19</td><td>4</td><td>2</td><td>1</td><td>Católica  </td><td>0</td><td> 7</td><td>7</td><td>1</td><td>3</td><td>1</td><td>2</td><td>5</td><td>3</td><td>3</td></tr>\n",
              "\t<tr><td>007</td><td>0</td><td>19</td><td>4</td><td>2</td><td>1</td><td>Cristiana </td><td>0</td><td> 5</td><td>7</td><td>1</td><td>3</td><td>2</td><td>3</td><td>5</td><td>5</td><td>1</td></tr>\n",
              "\t<tr><td>008</td><td>0</td><td>22</td><td>0</td><td>4</td><td>3</td><td>Ateo      </td><td>1</td><td> 4</td><td>7</td><td>0</td><td>4</td><td>3</td><td>4</td><td>5</td><td>5</td><td>2</td></tr>\n",
              "\t<tr><td>009</td><td>0</td><td>21</td><td>0</td><td>2</td><td>1</td><td>Católica  </td><td>0</td><td> 5</td><td>8</td><td>0</td><td>2</td><td>1</td><td>2</td><td>2</td><td>2</td><td>1</td></tr>\n",
              "\t<tr><td>010</td><td>0</td><td>20</td><td>1</td><td>0</td><td>0</td><td>Ateo      </td><td>0</td><td> 3</td><td>7</td><td>1</td><td>4</td><td>2</td><td>3</td><td>5</td><td>4</td><td>4</td></tr>\n",
              "\t<tr><td>011</td><td>1</td><td>20</td><td>1</td><td>2</td><td>1</td><td>Judía     </td><td>0</td><td> 4</td><td>7</td><td>1</td><td>3</td><td>1</td><td>2</td><td>3</td><td>2</td><td>1</td></tr>\n",
              "\t<tr><td>012</td><td>1</td><td>20</td><td>1</td><td>2</td><td>1</td><td>Agnóstico </td><td>0</td><td> 3</td><td>7</td><td>1</td><td>3</td><td>1</td><td>3</td><td>4</td><td>4</td><td>5</td></tr>\n",
              "\t<tr><td>013</td><td>0</td><td>21</td><td>0</td><td>2</td><td>1</td><td>Católica  </td><td>0</td><td> 5</td><td>7</td><td>1</td><td>2</td><td>1</td><td>1</td><td>3</td><td>3</td><td>1</td></tr>\n",
              "\t<tr><td>014</td><td>1</td><td>18</td><td>0</td><td>1</td><td>1</td><td>Católica  </td><td>0</td><td> 4</td><td>7</td><td>1</td><td>1</td><td>2</td><td>1</td><td>2</td><td>2</td><td>1</td></tr>\n",
              "\t<tr><td>015</td><td>0</td><td>18</td><td>4</td><td>2</td><td>1</td><td>Católica  </td><td>0</td><td> 5</td><td>7</td><td>1</td><td>2</td><td>2</td><td>1</td><td>1</td><td>1</td><td>2</td></tr>\n",
              "\t<tr><td>016</td><td>1</td><td>18</td><td>4</td><td>2</td><td>2</td><td>Cristiana </td><td>0</td><td> 6</td><td>5</td><td>1</td><td>3</td><td>4</td><td>1</td><td>1</td><td>1</td><td>3</td></tr>\n",
              "\t<tr><td>017</td><td>0</td><td>21</td><td>0</td><td>7</td><td>7</td><td>Católica  </td><td>1</td><td>10</td><td>5</td><td>0</td><td>2</td><td>5</td><td>2</td><td>2</td><td>2</td><td>2</td></tr>\n",
              "\t<tr><td>018</td><td>1</td><td>20</td><td>4</td><td>5</td><td>1</td><td>Cristiana </td><td>0</td><td> 6</td><td>7</td><td>1</td><td>2</td><td>2</td><td>2</td><td>2</td><td>2</td><td>1</td></tr>\n",
              "\t<tr><td>019</td><td>1</td><td>20</td><td>4</td><td>2</td><td>1</td><td>Católica  </td><td>0</td><td> 4</td><td>7</td><td>1</td><td>4</td><td>2</td><td>4</td><td>4</td><td>4</td><td>4</td></tr>\n",
              "\t<tr><td>020</td><td>1</td><td>18</td><td>1</td><td>1</td><td>2</td><td>Católica  </td><td>0</td><td> 5</td><td>7</td><td>1</td><td>3</td><td>3</td><td>4</td><td>1</td><td>4</td><td>1</td></tr>\n",
              "\t<tr><td>021</td><td>1</td><td>20</td><td>1</td><td>1</td><td>2</td><td>Católica  </td><td>0</td><td> 8</td><td>7</td><td>1</td><td>4</td><td>2</td><td>3</td><td>4</td><td>4</td><td>1</td></tr>\n",
              "\t<tr><td>022</td><td>1</td><td>20</td><td>4</td><td>0</td><td>1</td><td>Católica  </td><td>0</td><td> 3</td><td>7</td><td>1</td><td>3</td><td>4</td><td>1</td><td>3</td><td>3</td><td>5</td></tr>\n",
              "\t<tr><td>023</td><td>0</td><td>19</td><td>4</td><td>3</td><td>3</td><td>Católica  </td><td>0</td><td>13</td><td>4</td><td>1</td><td>3</td><td>4</td><td>3</td><td>3</td><td>2</td><td>3</td></tr>\n",
              "\t<tr><td>024</td><td>1</td><td>19</td><td>0</td><td>1</td><td>1</td><td>Católica  </td><td>0</td><td> 4</td><td>4</td><td>0</td><td>4</td><td>2</td><td>3</td><td>4</td><td>4</td><td>5</td></tr>\n",
              "\t<tr><td>025</td><td>1</td><td>18</td><td>1</td><td>0</td><td>1</td><td>Católica  </td><td>0</td><td> 3</td><td>4</td><td>1</td><td>2</td><td>3</td><td>1</td><td>2</td><td>2</td><td>1</td></tr>\n",
              "\t<tr><td>026</td><td>1</td><td>18</td><td>1</td><td>2</td><td>1</td><td>Católica  </td><td>0</td><td> 5</td><td>7</td><td>1</td><td>2</td><td>3</td><td>2</td><td>1</td><td>1</td><td>1</td></tr>\n",
              "\t<tr><td>027</td><td>0</td><td>19</td><td>1</td><td>3</td><td>3</td><td>Católica  </td><td>0</td><td> 6</td><td>4</td><td>1</td><td>4</td><td>2</td><td>4</td><td>3</td><td>4</td><td>5</td></tr>\n",
              "\t<tr><td>028</td><td>1</td><td>19</td><td>0</td><td>3</td><td>3</td><td>Católica  </td><td>0</td><td> 4</td><td>7</td><td>1</td><td>3</td><td>4</td><td>4</td><td>2</td><td>2</td><td>3</td></tr>\n",
              "\t<tr><td>029</td><td>1</td><td>18</td><td>4</td><td>2</td><td>2</td><td>Católica  </td><td>0</td><td> 3</td><td>7</td><td>1</td><td>4</td><td>4</td><td>3</td><td>2</td><td>3</td><td>5</td></tr>\n",
              "\t<tr><td>030</td><td>1</td><td>20</td><td>4</td><td>1</td><td>2</td><td>Católica  </td><td>0</td><td> 4</td><td>7</td><td>1</td><td>4</td><td>3</td><td>4</td><td>1</td><td>1</td><td>3</td></tr>\n",
              "\t<tr><td>⋮</td><td>⋮</td><td>⋮</td><td>⋮</td><td>⋮</td><td>⋮</td><td>⋮</td><td>⋮</td><td>⋮</td><td>⋮</td><td>⋮</td><td>⋮</td><td>⋮</td><td>⋮</td><td>⋮</td><td>⋮</td><td>⋮</td></tr>\n",
              "\t<tr><td>259</td><td>0</td><td>19</td><td>1</td><td>3</td><td>1</td><td>Agnóstico</td><td>1</td><td> 3</td><td>7</td><td>1</td><td>3</td><td>2</td><td>3</td><td>3</td><td>3</td><td>2</td></tr>\n",
              "\t<tr><td>260</td><td>1</td><td>19</td><td>0</td><td>3</td><td>2</td><td>Cristiana</td><td>0</td><td> 5</td><td>7</td><td>0</td><td>3</td><td>3</td><td>3</td><td>4</td><td>5</td><td>4</td></tr>\n",
              "\t<tr><td>261</td><td>0</td><td>19</td><td>0</td><td>1</td><td>1</td><td>Ateo     </td><td>0</td><td> 4</td><td>7</td><td>1</td><td>2</td><td>3</td><td>1</td><td>1</td><td>1</td><td>1</td></tr>\n",
              "\t<tr><td>262</td><td>0</td><td>24</td><td>0</td><td>1</td><td>1</td><td>Católica </td><td>0</td><td> 4</td><td>8</td><td>1</td><td>4</td><td>2</td><td>3</td><td>3</td><td>4</td><td>4</td></tr>\n",
              "\t<tr><td>263</td><td>1</td><td>19</td><td>0</td><td>2</td><td>1</td><td>Católica </td><td>0</td><td> 4</td><td>4</td><td>0</td><td>4</td><td>3</td><td>4</td><td>5</td><td>5</td><td>3</td></tr>\n",
              "\t<tr><td>264</td><td>1</td><td>19</td><td>0</td><td>1</td><td>1</td><td>Católica </td><td>0</td><td> 4</td><td>7</td><td>1</td><td>2</td><td>4</td><td>2</td><td>2</td><td>2</td><td>2</td></tr>\n",
              "\t<tr><td>265</td><td>0</td><td>20</td><td>0</td><td>1</td><td>2</td><td>Católica </td><td>0</td><td> 4</td><td>8</td><td>1</td><td>2</td><td>4</td><td>2</td><td>3</td><td>2</td><td>2</td></tr>\n",
              "\t<tr><td>266</td><td>1</td><td>18</td><td>0</td><td>2</td><td>1</td><td>Católica </td><td>0</td><td> 5</td><td>7</td><td>0</td><td>3</td><td>3</td><td>2</td><td>1</td><td>2</td><td>1</td></tr>\n",
              "\t<tr><td>267</td><td>0</td><td>21</td><td>0</td><td>1</td><td>1</td><td>Católica </td><td>1</td><td> 8</td><td>7</td><td>1</td><td>3</td><td>3</td><td>2</td><td>2</td><td>2</td><td>2</td></tr>\n",
              "\t<tr><td>268</td><td>0</td><td>20</td><td>0</td><td>2</td><td>2</td><td>Católica </td><td>1</td><td> 5</td><td>7</td><td>0</td><td>3</td><td>3</td><td>2</td><td>2</td><td>3</td><td>2</td></tr>\n",
              "\t<tr><td>269</td><td>1</td><td>19</td><td>0</td><td>1</td><td>2</td><td>Católica </td><td>0</td><td> 4</td><td>7</td><td>1</td><td>3</td><td>2</td><td>3</td><td>3</td><td>3</td><td>1</td></tr>\n",
              "\t<tr><td>270</td><td>0</td><td>25</td><td>0</td><td>6</td><td>1</td><td>Agnóstico</td><td>0</td><td> 6</td><td>7</td><td>0</td><td>2</td><td>5</td><td>1</td><td>4</td><td>3</td><td>2</td></tr>\n",
              "\t<tr><td>271</td><td>0</td><td>17</td><td>1</td><td>4</td><td>4</td><td>Católica </td><td>1</td><td> 8</td><td>7</td><td>1</td><td>3</td><td>4</td><td>2</td><td>3</td><td>2</td><td>3</td></tr>\n",
              "\t<tr><td>272</td><td>1</td><td>18</td><td>0</td><td>4</td><td>4</td><td>Católica </td><td>0</td><td> 4</td><td>7</td><td>1</td><td>3</td><td>2</td><td>3</td><td>4</td><td>4</td><td>3</td></tr>\n",
              "\t<tr><td>273</td><td>0</td><td>20</td><td>0</td><td>3</td><td>3</td><td>Agnóstico</td><td>0</td><td> 8</td><td>7</td><td>1</td><td>4</td><td>3</td><td>3</td><td>3</td><td>3</td><td>2</td></tr>\n",
              "\t<tr><td>274</td><td>1</td><td>24</td><td>0</td><td>3</td><td>1</td><td>Católica </td><td>0</td><td> 5</td><td>7</td><td>0</td><td>3</td><td>3</td><td>2</td><td>2</td><td>2</td><td>1</td></tr>\n",
              "\t<tr><td>275</td><td>0</td><td>22</td><td>0</td><td>5</td><td>4</td><td>Católica </td><td>0</td><td> 7</td><td>7</td><td>0</td><td>3</td><td>4</td><td>2</td><td>3</td><td>2</td><td>1</td></tr>\n",
              "\t<tr><td>276</td><td>1</td><td>20</td><td>0</td><td>2</td><td>2</td><td>Ninguna  </td><td>0</td><td>14</td><td>7</td><td>1</td><td>3</td><td>5</td><td>2</td><td>3</td><td>3</td><td>1</td></tr>\n",
              "\t<tr><td>277</td><td>0</td><td>21</td><td>0</td><td>3</td><td>2</td><td>Ninguna  </td><td>0</td><td> 5</td><td>7</td><td>1</td><td>2</td><td>3</td><td>1</td><td>2</td><td>2</td><td>3</td></tr>\n",
              "\t<tr><td>278</td><td>0</td><td>20</td><td>0</td><td>2</td><td>2</td><td>Católica </td><td>1</td><td> 3</td><td>7</td><td>0</td><td>2</td><td>4</td><td>2</td><td>3</td><td>3</td><td>1</td></tr>\n",
              "\t<tr><td>279</td><td>1</td><td>19</td><td>0</td><td>3</td><td>1</td><td>Católica </td><td>0</td><td> 7</td><td>7</td><td>0</td><td>4</td><td>3</td><td>4</td><td>4</td><td>4</td><td>5</td></tr>\n",
              "\t<tr><td>280</td><td>1</td><td>18</td><td>0</td><td>2</td><td>2</td><td>Agnóstico</td><td>0</td><td> 4</td><td>7</td><td>1</td><td>4</td><td>2</td><td>3</td><td>3</td><td>2</td><td>4</td></tr>\n",
              "\t<tr><td>281</td><td>1</td><td>18</td><td>4</td><td>3</td><td>3</td><td>Católica </td><td>1</td><td> 7</td><td>7</td><td>1</td><td>2</td><td>4</td><td>3</td><td>3</td><td>3</td><td>1</td></tr>\n",
              "\t<tr><td>282</td><td>1</td><td>18</td><td>0</td><td>1</td><td>2</td><td>Agnóstico</td><td>0</td><td> 7</td><td>1</td><td>1</td><td>3</td><td>2</td><td>2</td><td>4</td><td>3</td><td>3</td></tr>\n",
              "\t<tr><td>283</td><td>1</td><td>19</td><td>0</td><td>2</td><td>1</td><td>Católica </td><td>0</td><td> 4</td><td>7</td><td>1</td><td>4</td><td>3</td><td>4</td><td>4</td><td>4</td><td>5</td></tr>\n",
              "\t<tr><td>284</td><td>1</td><td>20</td><td>0</td><td>2</td><td>2</td><td>Católica </td><td>0</td><td> 4</td><td>7</td><td>1</td><td>3</td><td>2</td><td>3</td><td>3</td><td>4</td><td>3</td></tr>\n",
              "\t<tr><td>285</td><td>1</td><td>21</td><td>0</td><td>0</td><td>0</td><td>Católica </td><td>0</td><td> 3</td><td>7</td><td>1</td><td>4</td><td>2</td><td>3</td><td>4</td><td>4</td><td>3</td></tr>\n",
              "\t<tr><td>286</td><td>1</td><td>19</td><td>0</td><td>0</td><td>0</td><td>Católica </td><td>1</td><td> 7</td><td>1</td><td>1</td><td>4</td><td>2</td><td>3</td><td>2</td><td>1</td><td>3</td></tr>\n",
              "\t<tr><td>287</td><td>0</td><td>20</td><td>0</td><td>3</td><td>2</td><td>Católica </td><td>0</td><td> 6</td><td>7</td><td>1</td><td>3</td><td>1</td><td>4</td><td>4</td><td>4</td><td>1</td></tr>\n",
              "\t<tr><td>288</td><td>1</td><td>19</td><td>1</td><td>3</td><td>1</td><td>Católica </td><td>1</td><td> 3</td><td>7</td><td>1</td><td>4</td><td>2</td><td>4</td><td>3</td><td>3</td><td>3</td></tr>\n",
              "</tbody>\n",
              "</table>\n"
            ],
            "text/markdown": "\nA tibble: 288 × 17\n\n| Código &lt;chr&gt; | Sexo &lt;dbl+lbl&gt; | Edad &lt;dbl&gt; | EstadoCivil &lt;dbl+lbl&gt; | NúmHermanos &lt;dbl&gt; | OrdenHermanos &lt;dbl&gt; | Religión &lt;chr&gt; | LugarNac &lt;dbl+lbl&gt; | IntFamiliar &lt;dbl&gt; | Instrucción &lt;dbl+lbl&gt; | EstLaboral &lt;dbl+lbl&gt; | EPA1 &lt;dbl+lbl&gt; | EPA2 &lt;dbl+lbl&gt; | EPA3 &lt;dbl+lbl&gt; | EPA4 &lt;dbl+lbl&gt; | EPA5 &lt;dbl+lbl&gt; | EPA6 &lt;dbl+lbl&gt; |\n|---|---|---|---|---|---|---|---|---|---|---|---|---|---|---|---|---|\n| 001 | 0 | 20 | 0 | 2 | 1 | Católica   | 0 |  4 | 5 | 0 | 4 | 1 | 3 | 3 | 4 | 3 |\n| 002 | 1 | 18 | 0 | 2 | 1 | Católica   | 0 |  5 | 7 | 1 | 5 | 2 | 4 | 4 | 4 | 5 |\n| 003 | 1 | 19 | 1 | 3 | 2 | Católica   | 0 |  5 | 7 | 1 | 3 | 3 | 2 | 2 | 3 | 2 |\n| 004 | 0 | 18 | 0 | 3 | 2 | Evangélico | 1 |  3 | 7 | 1 | 5 | 3 | 2 | 4 | 3 | 4 |\n| 005 | 1 | 19 | 1 | 2 | 2 | Cristiana  | 0 |  5 | 7 | 1 | 1 | 1 | 1 | 2 | 2 | 1 |\n| 006 | 1 | 19 | 4 | 2 | 1 | Católica   | 0 |  7 | 7 | 1 | 3 | 1 | 2 | 5 | 3 | 3 |\n| 007 | 0 | 19 | 4 | 2 | 1 | Cristiana  | 0 |  5 | 7 | 1 | 3 | 2 | 3 | 5 | 5 | 1 |\n| 008 | 0 | 22 | 0 | 4 | 3 | Ateo       | 1 |  4 | 7 | 0 | 4 | 3 | 4 | 5 | 5 | 2 |\n| 009 | 0 | 21 | 0 | 2 | 1 | Católica   | 0 |  5 | 8 | 0 | 2 | 1 | 2 | 2 | 2 | 1 |\n| 010 | 0 | 20 | 1 | 0 | 0 | Ateo       | 0 |  3 | 7 | 1 | 4 | 2 | 3 | 5 | 4 | 4 |\n| 011 | 1 | 20 | 1 | 2 | 1 | Judía      | 0 |  4 | 7 | 1 | 3 | 1 | 2 | 3 | 2 | 1 |\n| 012 | 1 | 20 | 1 | 2 | 1 | Agnóstico  | 0 |  3 | 7 | 1 | 3 | 1 | 3 | 4 | 4 | 5 |\n| 013 | 0 | 21 | 0 | 2 | 1 | Católica   | 0 |  5 | 7 | 1 | 2 | 1 | 1 | 3 | 3 | 1 |\n| 014 | 1 | 18 | 0 | 1 | 1 | Católica   | 0 |  4 | 7 | 1 | 1 | 2 | 1 | 2 | 2 | 1 |\n| 015 | 0 | 18 | 4 | 2 | 1 | Católica   | 0 |  5 | 7 | 1 | 2 | 2 | 1 | 1 | 1 | 2 |\n| 016 | 1 | 18 | 4 | 2 | 2 | Cristiana  | 0 |  6 | 5 | 1 | 3 | 4 | 1 | 1 | 1 | 3 |\n| 017 | 0 | 21 | 0 | 7 | 7 | Católica   | 1 | 10 | 5 | 0 | 2 | 5 | 2 | 2 | 2 | 2 |\n| 018 | 1 | 20 | 4 | 5 | 1 | Cristiana  | 0 |  6 | 7 | 1 | 2 | 2 | 2 | 2 | 2 | 1 |\n| 019 | 1 | 20 | 4 | 2 | 1 | Católica   | 0 |  4 | 7 | 1 | 4 | 2 | 4 | 4 | 4 | 4 |\n| 020 | 1 | 18 | 1 | 1 | 2 | Católica   | 0 |  5 | 7 | 1 | 3 | 3 | 4 | 1 | 4 | 1 |\n| 021 | 1 | 20 | 1 | 1 | 2 | Católica   | 0 |  8 | 7 | 1 | 4 | 2 | 3 | 4 | 4 | 1 |\n| 022 | 1 | 20 | 4 | 0 | 1 | Católica   | 0 |  3 | 7 | 1 | 3 | 4 | 1 | 3 | 3 | 5 |\n| 023 | 0 | 19 | 4 | 3 | 3 | Católica   | 0 | 13 | 4 | 1 | 3 | 4 | 3 | 3 | 2 | 3 |\n| 024 | 1 | 19 | 0 | 1 | 1 | Católica   | 0 |  4 | 4 | 0 | 4 | 2 | 3 | 4 | 4 | 5 |\n| 025 | 1 | 18 | 1 | 0 | 1 | Católica   | 0 |  3 | 4 | 1 | 2 | 3 | 1 | 2 | 2 | 1 |\n| 026 | 1 | 18 | 1 | 2 | 1 | Católica   | 0 |  5 | 7 | 1 | 2 | 3 | 2 | 1 | 1 | 1 |\n| 027 | 0 | 19 | 1 | 3 | 3 | Católica   | 0 |  6 | 4 | 1 | 4 | 2 | 4 | 3 | 4 | 5 |\n| 028 | 1 | 19 | 0 | 3 | 3 | Católica   | 0 |  4 | 7 | 1 | 3 | 4 | 4 | 2 | 2 | 3 |\n| 029 | 1 | 18 | 4 | 2 | 2 | Católica   | 0 |  3 | 7 | 1 | 4 | 4 | 3 | 2 | 3 | 5 |\n| 030 | 1 | 20 | 4 | 1 | 2 | Católica   | 0 |  4 | 7 | 1 | 4 | 3 | 4 | 1 | 1 | 3 |\n| ⋮ | ⋮ | ⋮ | ⋮ | ⋮ | ⋮ | ⋮ | ⋮ | ⋮ | ⋮ | ⋮ | ⋮ | ⋮ | ⋮ | ⋮ | ⋮ | ⋮ |\n| 259 | 0 | 19 | 1 | 3 | 1 | Agnóstico | 1 |  3 | 7 | 1 | 3 | 2 | 3 | 3 | 3 | 2 |\n| 260 | 1 | 19 | 0 | 3 | 2 | Cristiana | 0 |  5 | 7 | 0 | 3 | 3 | 3 | 4 | 5 | 4 |\n| 261 | 0 | 19 | 0 | 1 | 1 | Ateo      | 0 |  4 | 7 | 1 | 2 | 3 | 1 | 1 | 1 | 1 |\n| 262 | 0 | 24 | 0 | 1 | 1 | Católica  | 0 |  4 | 8 | 1 | 4 | 2 | 3 | 3 | 4 | 4 |\n| 263 | 1 | 19 | 0 | 2 | 1 | Católica  | 0 |  4 | 4 | 0 | 4 | 3 | 4 | 5 | 5 | 3 |\n| 264 | 1 | 19 | 0 | 1 | 1 | Católica  | 0 |  4 | 7 | 1 | 2 | 4 | 2 | 2 | 2 | 2 |\n| 265 | 0 | 20 | 0 | 1 | 2 | Católica  | 0 |  4 | 8 | 1 | 2 | 4 | 2 | 3 | 2 | 2 |\n| 266 | 1 | 18 | 0 | 2 | 1 | Católica  | 0 |  5 | 7 | 0 | 3 | 3 | 2 | 1 | 2 | 1 |\n| 267 | 0 | 21 | 0 | 1 | 1 | Católica  | 1 |  8 | 7 | 1 | 3 | 3 | 2 | 2 | 2 | 2 |\n| 268 | 0 | 20 | 0 | 2 | 2 | Católica  | 1 |  5 | 7 | 0 | 3 | 3 | 2 | 2 | 3 | 2 |\n| 269 | 1 | 19 | 0 | 1 | 2 | Católica  | 0 |  4 | 7 | 1 | 3 | 2 | 3 | 3 | 3 | 1 |\n| 270 | 0 | 25 | 0 | 6 | 1 | Agnóstico | 0 |  6 | 7 | 0 | 2 | 5 | 1 | 4 | 3 | 2 |\n| 271 | 0 | 17 | 1 | 4 | 4 | Católica  | 1 |  8 | 7 | 1 | 3 | 4 | 2 | 3 | 2 | 3 |\n| 272 | 1 | 18 | 0 | 4 | 4 | Católica  | 0 |  4 | 7 | 1 | 3 | 2 | 3 | 4 | 4 | 3 |\n| 273 | 0 | 20 | 0 | 3 | 3 | Agnóstico | 0 |  8 | 7 | 1 | 4 | 3 | 3 | 3 | 3 | 2 |\n| 274 | 1 | 24 | 0 | 3 | 1 | Católica  | 0 |  5 | 7 | 0 | 3 | 3 | 2 | 2 | 2 | 1 |\n| 275 | 0 | 22 | 0 | 5 | 4 | Católica  | 0 |  7 | 7 | 0 | 3 | 4 | 2 | 3 | 2 | 1 |\n| 276 | 1 | 20 | 0 | 2 | 2 | Ninguna   | 0 | 14 | 7 | 1 | 3 | 5 | 2 | 3 | 3 | 1 |\n| 277 | 0 | 21 | 0 | 3 | 2 | Ninguna   | 0 |  5 | 7 | 1 | 2 | 3 | 1 | 2 | 2 | 3 |\n| 278 | 0 | 20 | 0 | 2 | 2 | Católica  | 1 |  3 | 7 | 0 | 2 | 4 | 2 | 3 | 3 | 1 |\n| 279 | 1 | 19 | 0 | 3 | 1 | Católica  | 0 |  7 | 7 | 0 | 4 | 3 | 4 | 4 | 4 | 5 |\n| 280 | 1 | 18 | 0 | 2 | 2 | Agnóstico | 0 |  4 | 7 | 1 | 4 | 2 | 3 | 3 | 2 | 4 |\n| 281 | 1 | 18 | 4 | 3 | 3 | Católica  | 1 |  7 | 7 | 1 | 2 | 4 | 3 | 3 | 3 | 1 |\n| 282 | 1 | 18 | 0 | 1 | 2 | Agnóstico | 0 |  7 | 1 | 1 | 3 | 2 | 2 | 4 | 3 | 3 |\n| 283 | 1 | 19 | 0 | 2 | 1 | Católica  | 0 |  4 | 7 | 1 | 4 | 3 | 4 | 4 | 4 | 5 |\n| 284 | 1 | 20 | 0 | 2 | 2 | Católica  | 0 |  4 | 7 | 1 | 3 | 2 | 3 | 3 | 4 | 3 |\n| 285 | 1 | 21 | 0 | 0 | 0 | Católica  | 0 |  3 | 7 | 1 | 4 | 2 | 3 | 4 | 4 | 3 |\n| 286 | 1 | 19 | 0 | 0 | 0 | Católica  | 1 |  7 | 1 | 1 | 4 | 2 | 3 | 2 | 1 | 3 |\n| 287 | 0 | 20 | 0 | 3 | 2 | Católica  | 0 |  6 | 7 | 1 | 3 | 1 | 4 | 4 | 4 | 1 |\n| 288 | 1 | 19 | 1 | 3 | 1 | Católica  | 1 |  3 | 7 | 1 | 4 | 2 | 4 | 3 | 3 | 3 |\n\n",
            "text/latex": "A tibble: 288 × 17\n\\begin{tabular}{lllllllllllllllll}\n Código & Sexo & Edad & EstadoCivil & NúmHermanos & OrdenHermanos & Religión & LugarNac & IntFamiliar & Instrucción & EstLaboral & EPA1 & EPA2 & EPA3 & EPA4 & EPA5 & EPA6\\\\\n <chr> & <dbl+lbl> & <dbl> & <dbl+lbl> & <dbl> & <dbl> & <chr> & <dbl+lbl> & <dbl> & <dbl+lbl> & <dbl+lbl> & <dbl+lbl> & <dbl+lbl> & <dbl+lbl> & <dbl+lbl> & <dbl+lbl> & <dbl+lbl>\\\\\n\\hline\n\t 001 & 0 & 20 & 0 & 2 & 1 & Católica   & 0 &  4 & 5 & 0 & 4 & 1 & 3 & 3 & 4 & 3\\\\\n\t 002 & 1 & 18 & 0 & 2 & 1 & Católica   & 0 &  5 & 7 & 1 & 5 & 2 & 4 & 4 & 4 & 5\\\\\n\t 003 & 1 & 19 & 1 & 3 & 2 & Católica   & 0 &  5 & 7 & 1 & 3 & 3 & 2 & 2 & 3 & 2\\\\\n\t 004 & 0 & 18 & 0 & 3 & 2 & Evangélico & 1 &  3 & 7 & 1 & 5 & 3 & 2 & 4 & 3 & 4\\\\\n\t 005 & 1 & 19 & 1 & 2 & 2 & Cristiana  & 0 &  5 & 7 & 1 & 1 & 1 & 1 & 2 & 2 & 1\\\\\n\t 006 & 1 & 19 & 4 & 2 & 1 & Católica   & 0 &  7 & 7 & 1 & 3 & 1 & 2 & 5 & 3 & 3\\\\\n\t 007 & 0 & 19 & 4 & 2 & 1 & Cristiana  & 0 &  5 & 7 & 1 & 3 & 2 & 3 & 5 & 5 & 1\\\\\n\t 008 & 0 & 22 & 0 & 4 & 3 & Ateo       & 1 &  4 & 7 & 0 & 4 & 3 & 4 & 5 & 5 & 2\\\\\n\t 009 & 0 & 21 & 0 & 2 & 1 & Católica   & 0 &  5 & 8 & 0 & 2 & 1 & 2 & 2 & 2 & 1\\\\\n\t 010 & 0 & 20 & 1 & 0 & 0 & Ateo       & 0 &  3 & 7 & 1 & 4 & 2 & 3 & 5 & 4 & 4\\\\\n\t 011 & 1 & 20 & 1 & 2 & 1 & Judía      & 0 &  4 & 7 & 1 & 3 & 1 & 2 & 3 & 2 & 1\\\\\n\t 012 & 1 & 20 & 1 & 2 & 1 & Agnóstico  & 0 &  3 & 7 & 1 & 3 & 1 & 3 & 4 & 4 & 5\\\\\n\t 013 & 0 & 21 & 0 & 2 & 1 & Católica   & 0 &  5 & 7 & 1 & 2 & 1 & 1 & 3 & 3 & 1\\\\\n\t 014 & 1 & 18 & 0 & 1 & 1 & Católica   & 0 &  4 & 7 & 1 & 1 & 2 & 1 & 2 & 2 & 1\\\\\n\t 015 & 0 & 18 & 4 & 2 & 1 & Católica   & 0 &  5 & 7 & 1 & 2 & 2 & 1 & 1 & 1 & 2\\\\\n\t 016 & 1 & 18 & 4 & 2 & 2 & Cristiana  & 0 &  6 & 5 & 1 & 3 & 4 & 1 & 1 & 1 & 3\\\\\n\t 017 & 0 & 21 & 0 & 7 & 7 & Católica   & 1 & 10 & 5 & 0 & 2 & 5 & 2 & 2 & 2 & 2\\\\\n\t 018 & 1 & 20 & 4 & 5 & 1 & Cristiana  & 0 &  6 & 7 & 1 & 2 & 2 & 2 & 2 & 2 & 1\\\\\n\t 019 & 1 & 20 & 4 & 2 & 1 & Católica   & 0 &  4 & 7 & 1 & 4 & 2 & 4 & 4 & 4 & 4\\\\\n\t 020 & 1 & 18 & 1 & 1 & 2 & Católica   & 0 &  5 & 7 & 1 & 3 & 3 & 4 & 1 & 4 & 1\\\\\n\t 021 & 1 & 20 & 1 & 1 & 2 & Católica   & 0 &  8 & 7 & 1 & 4 & 2 & 3 & 4 & 4 & 1\\\\\n\t 022 & 1 & 20 & 4 & 0 & 1 & Católica   & 0 &  3 & 7 & 1 & 3 & 4 & 1 & 3 & 3 & 5\\\\\n\t 023 & 0 & 19 & 4 & 3 & 3 & Católica   & 0 & 13 & 4 & 1 & 3 & 4 & 3 & 3 & 2 & 3\\\\\n\t 024 & 1 & 19 & 0 & 1 & 1 & Católica   & 0 &  4 & 4 & 0 & 4 & 2 & 3 & 4 & 4 & 5\\\\\n\t 025 & 1 & 18 & 1 & 0 & 1 & Católica   & 0 &  3 & 4 & 1 & 2 & 3 & 1 & 2 & 2 & 1\\\\\n\t 026 & 1 & 18 & 1 & 2 & 1 & Católica   & 0 &  5 & 7 & 1 & 2 & 3 & 2 & 1 & 1 & 1\\\\\n\t 027 & 0 & 19 & 1 & 3 & 3 & Católica   & 0 &  6 & 4 & 1 & 4 & 2 & 4 & 3 & 4 & 5\\\\\n\t 028 & 1 & 19 & 0 & 3 & 3 & Católica   & 0 &  4 & 7 & 1 & 3 & 4 & 4 & 2 & 2 & 3\\\\\n\t 029 & 1 & 18 & 4 & 2 & 2 & Católica   & 0 &  3 & 7 & 1 & 4 & 4 & 3 & 2 & 3 & 5\\\\\n\t 030 & 1 & 20 & 4 & 1 & 2 & Católica   & 0 &  4 & 7 & 1 & 4 & 3 & 4 & 1 & 1 & 3\\\\\n\t ⋮ & ⋮ & ⋮ & ⋮ & ⋮ & ⋮ & ⋮ & ⋮ & ⋮ & ⋮ & ⋮ & ⋮ & ⋮ & ⋮ & ⋮ & ⋮ & ⋮\\\\\n\t 259 & 0 & 19 & 1 & 3 & 1 & Agnóstico & 1 &  3 & 7 & 1 & 3 & 2 & 3 & 3 & 3 & 2\\\\\n\t 260 & 1 & 19 & 0 & 3 & 2 & Cristiana & 0 &  5 & 7 & 0 & 3 & 3 & 3 & 4 & 5 & 4\\\\\n\t 261 & 0 & 19 & 0 & 1 & 1 & Ateo      & 0 &  4 & 7 & 1 & 2 & 3 & 1 & 1 & 1 & 1\\\\\n\t 262 & 0 & 24 & 0 & 1 & 1 & Católica  & 0 &  4 & 8 & 1 & 4 & 2 & 3 & 3 & 4 & 4\\\\\n\t 263 & 1 & 19 & 0 & 2 & 1 & Católica  & 0 &  4 & 4 & 0 & 4 & 3 & 4 & 5 & 5 & 3\\\\\n\t 264 & 1 & 19 & 0 & 1 & 1 & Católica  & 0 &  4 & 7 & 1 & 2 & 4 & 2 & 2 & 2 & 2\\\\\n\t 265 & 0 & 20 & 0 & 1 & 2 & Católica  & 0 &  4 & 8 & 1 & 2 & 4 & 2 & 3 & 2 & 2\\\\\n\t 266 & 1 & 18 & 0 & 2 & 1 & Católica  & 0 &  5 & 7 & 0 & 3 & 3 & 2 & 1 & 2 & 1\\\\\n\t 267 & 0 & 21 & 0 & 1 & 1 & Católica  & 1 &  8 & 7 & 1 & 3 & 3 & 2 & 2 & 2 & 2\\\\\n\t 268 & 0 & 20 & 0 & 2 & 2 & Católica  & 1 &  5 & 7 & 0 & 3 & 3 & 2 & 2 & 3 & 2\\\\\n\t 269 & 1 & 19 & 0 & 1 & 2 & Católica  & 0 &  4 & 7 & 1 & 3 & 2 & 3 & 3 & 3 & 1\\\\\n\t 270 & 0 & 25 & 0 & 6 & 1 & Agnóstico & 0 &  6 & 7 & 0 & 2 & 5 & 1 & 4 & 3 & 2\\\\\n\t 271 & 0 & 17 & 1 & 4 & 4 & Católica  & 1 &  8 & 7 & 1 & 3 & 4 & 2 & 3 & 2 & 3\\\\\n\t 272 & 1 & 18 & 0 & 4 & 4 & Católica  & 0 &  4 & 7 & 1 & 3 & 2 & 3 & 4 & 4 & 3\\\\\n\t 273 & 0 & 20 & 0 & 3 & 3 & Agnóstico & 0 &  8 & 7 & 1 & 4 & 3 & 3 & 3 & 3 & 2\\\\\n\t 274 & 1 & 24 & 0 & 3 & 1 & Católica  & 0 &  5 & 7 & 0 & 3 & 3 & 2 & 2 & 2 & 1\\\\\n\t 275 & 0 & 22 & 0 & 5 & 4 & Católica  & 0 &  7 & 7 & 0 & 3 & 4 & 2 & 3 & 2 & 1\\\\\n\t 276 & 1 & 20 & 0 & 2 & 2 & Ninguna   & 0 & 14 & 7 & 1 & 3 & 5 & 2 & 3 & 3 & 1\\\\\n\t 277 & 0 & 21 & 0 & 3 & 2 & Ninguna   & 0 &  5 & 7 & 1 & 2 & 3 & 1 & 2 & 2 & 3\\\\\n\t 278 & 0 & 20 & 0 & 2 & 2 & Católica  & 1 &  3 & 7 & 0 & 2 & 4 & 2 & 3 & 3 & 1\\\\\n\t 279 & 1 & 19 & 0 & 3 & 1 & Católica  & 0 &  7 & 7 & 0 & 4 & 3 & 4 & 4 & 4 & 5\\\\\n\t 280 & 1 & 18 & 0 & 2 & 2 & Agnóstico & 0 &  4 & 7 & 1 & 4 & 2 & 3 & 3 & 2 & 4\\\\\n\t 281 & 1 & 18 & 4 & 3 & 3 & Católica  & 1 &  7 & 7 & 1 & 2 & 4 & 3 & 3 & 3 & 1\\\\\n\t 282 & 1 & 18 & 0 & 1 & 2 & Agnóstico & 0 &  7 & 1 & 1 & 3 & 2 & 2 & 4 & 3 & 3\\\\\n\t 283 & 1 & 19 & 0 & 2 & 1 & Católica  & 0 &  4 & 7 & 1 & 4 & 3 & 4 & 4 & 4 & 5\\\\\n\t 284 & 1 & 20 & 0 & 2 & 2 & Católica  & 0 &  4 & 7 & 1 & 3 & 2 & 3 & 3 & 4 & 3\\\\\n\t 285 & 1 & 21 & 0 & 0 & 0 & Católica  & 0 &  3 & 7 & 1 & 4 & 2 & 3 & 4 & 4 & 3\\\\\n\t 286 & 1 & 19 & 0 & 0 & 0 & Católica  & 1 &  7 & 1 & 1 & 4 & 2 & 3 & 2 & 1 & 3\\\\\n\t 287 & 0 & 20 & 0 & 3 & 2 & Católica  & 0 &  6 & 7 & 1 & 3 & 1 & 4 & 4 & 4 & 1\\\\\n\t 288 & 1 & 19 & 1 & 3 & 1 & Católica  & 1 &  3 & 7 & 1 & 4 & 2 & 4 & 3 & 3 & 3\\\\\n\\end{tabular}\n",
            "text/plain": [
              "    Código Sexo Edad EstadoCivil NúmHermanos OrdenHermanos Religión   LugarNac\n",
              "1   001    0    20   0           2           1             Católica   0       \n",
              "2   002    1    18   0           2           1             Católica   0       \n",
              "3   003    1    19   1           3           2             Católica   0       \n",
              "4   004    0    18   0           3           2             Evangélico 1       \n",
              "5   005    1    19   1           2           2             Cristiana  0       \n",
              "6   006    1    19   4           2           1             Católica   0       \n",
              "7   007    0    19   4           2           1             Cristiana  0       \n",
              "8   008    0    22   0           4           3             Ateo       1       \n",
              "9   009    0    21   0           2           1             Católica   0       \n",
              "10  010    0    20   1           0           0             Ateo       0       \n",
              "11  011    1    20   1           2           1             Judía      0       \n",
              "12  012    1    20   1           2           1             Agnóstico  0       \n",
              "13  013    0    21   0           2           1             Católica   0       \n",
              "14  014    1    18   0           1           1             Católica   0       \n",
              "15  015    0    18   4           2           1             Católica   0       \n",
              "16  016    1    18   4           2           2             Cristiana  0       \n",
              "17  017    0    21   0           7           7             Católica   1       \n",
              "18  018    1    20   4           5           1             Cristiana  0       \n",
              "19  019    1    20   4           2           1             Católica   0       \n",
              "20  020    1    18   1           1           2             Católica   0       \n",
              "21  021    1    20   1           1           2             Católica   0       \n",
              "22  022    1    20   4           0           1             Católica   0       \n",
              "23  023    0    19   4           3           3             Católica   0       \n",
              "24  024    1    19   0           1           1             Católica   0       \n",
              "25  025    1    18   1           0           1             Católica   0       \n",
              "26  026    1    18   1           2           1             Católica   0       \n",
              "27  027    0    19   1           3           3             Católica   0       \n",
              "28  028    1    19   0           3           3             Católica   0       \n",
              "29  029    1    18   4           2           2             Católica   0       \n",
              "30  030    1    20   4           1           2             Católica   0       \n",
              "⋮   ⋮      ⋮    ⋮    ⋮           ⋮           ⋮             ⋮          ⋮       \n",
              "259 259    0    19   1           3           1             Agnóstico  1       \n",
              "260 260    1    19   0           3           2             Cristiana  0       \n",
              "261 261    0    19   0           1           1             Ateo       0       \n",
              "262 262    0    24   0           1           1             Católica   0       \n",
              "263 263    1    19   0           2           1             Católica   0       \n",
              "264 264    1    19   0           1           1             Católica   0       \n",
              "265 265    0    20   0           1           2             Católica   0       \n",
              "266 266    1    18   0           2           1             Católica   0       \n",
              "267 267    0    21   0           1           1             Católica   1       \n",
              "268 268    0    20   0           2           2             Católica   1       \n",
              "269 269    1    19   0           1           2             Católica   0       \n",
              "270 270    0    25   0           6           1             Agnóstico  0       \n",
              "271 271    0    17   1           4           4             Católica   1       \n",
              "272 272    1    18   0           4           4             Católica   0       \n",
              "273 273    0    20   0           3           3             Agnóstico  0       \n",
              "274 274    1    24   0           3           1             Católica   0       \n",
              "275 275    0    22   0           5           4             Católica   0       \n",
              "276 276    1    20   0           2           2             Ninguna    0       \n",
              "277 277    0    21   0           3           2             Ninguna    0       \n",
              "278 278    0    20   0           2           2             Católica   1       \n",
              "279 279    1    19   0           3           1             Católica   0       \n",
              "280 280    1    18   0           2           2             Agnóstico  0       \n",
              "281 281    1    18   4           3           3             Católica   1       \n",
              "282 282    1    18   0           1           2             Agnóstico  0       \n",
              "283 283    1    19   0           2           1             Católica   0       \n",
              "284 284    1    20   0           2           2             Católica   0       \n",
              "285 285    1    21   0           0           0             Católica   0       \n",
              "286 286    1    19   0           0           0             Católica   1       \n",
              "287 287    0    20   0           3           2             Católica   0       \n",
              "288 288    1    19   1           3           1             Católica   1       \n",
              "    IntFamiliar Instrucción EstLaboral EPA1 EPA2 EPA3 EPA4 EPA5 EPA6\n",
              "1    4          5           0          4    1    3    3    4    3   \n",
              "2    5          7           1          5    2    4    4    4    5   \n",
              "3    5          7           1          3    3    2    2    3    2   \n",
              "4    3          7           1          5    3    2    4    3    4   \n",
              "5    5          7           1          1    1    1    2    2    1   \n",
              "6    7          7           1          3    1    2    5    3    3   \n",
              "7    5          7           1          3    2    3    5    5    1   \n",
              "8    4          7           0          4    3    4    5    5    2   \n",
              "9    5          8           0          2    1    2    2    2    1   \n",
              "10   3          7           1          4    2    3    5    4    4   \n",
              "11   4          7           1          3    1    2    3    2    1   \n",
              "12   3          7           1          3    1    3    4    4    5   \n",
              "13   5          7           1          2    1    1    3    3    1   \n",
              "14   4          7           1          1    2    1    2    2    1   \n",
              "15   5          7           1          2    2    1    1    1    2   \n",
              "16   6          5           1          3    4    1    1    1    3   \n",
              "17  10          5           0          2    5    2    2    2    2   \n",
              "18   6          7           1          2    2    2    2    2    1   \n",
              "19   4          7           1          4    2    4    4    4    4   \n",
              "20   5          7           1          3    3    4    1    4    1   \n",
              "21   8          7           1          4    2    3    4    4    1   \n",
              "22   3          7           1          3    4    1    3    3    5   \n",
              "23  13          4           1          3    4    3    3    2    3   \n",
              "24   4          4           0          4    2    3    4    4    5   \n",
              "25   3          4           1          2    3    1    2    2    1   \n",
              "26   5          7           1          2    3    2    1    1    1   \n",
              "27   6          4           1          4    2    4    3    4    5   \n",
              "28   4          7           1          3    4    4    2    2    3   \n",
              "29   3          7           1          4    4    3    2    3    5   \n",
              "30   4          7           1          4    3    4    1    1    3   \n",
              "⋮   ⋮           ⋮           ⋮          ⋮    ⋮    ⋮    ⋮    ⋮    ⋮   \n",
              "259  3          7           1          3    2    3    3    3    2   \n",
              "260  5          7           0          3    3    3    4    5    4   \n",
              "261  4          7           1          2    3    1    1    1    1   \n",
              "262  4          8           1          4    2    3    3    4    4   \n",
              "263  4          4           0          4    3    4    5    5    3   \n",
              "264  4          7           1          2    4    2    2    2    2   \n",
              "265  4          8           1          2    4    2    3    2    2   \n",
              "266  5          7           0          3    3    2    1    2    1   \n",
              "267  8          7           1          3    3    2    2    2    2   \n",
              "268  5          7           0          3    3    2    2    3    2   \n",
              "269  4          7           1          3    2    3    3    3    1   \n",
              "270  6          7           0          2    5    1    4    3    2   \n",
              "271  8          7           1          3    4    2    3    2    3   \n",
              "272  4          7           1          3    2    3    4    4    3   \n",
              "273  8          7           1          4    3    3    3    3    2   \n",
              "274  5          7           0          3    3    2    2    2    1   \n",
              "275  7          7           0          3    4    2    3    2    1   \n",
              "276 14          7           1          3    5    2    3    3    1   \n",
              "277  5          7           1          2    3    1    2    2    3   \n",
              "278  3          7           0          2    4    2    3    3    1   \n",
              "279  7          7           0          4    3    4    4    4    5   \n",
              "280  4          7           1          4    2    3    3    2    4   \n",
              "281  7          7           1          2    4    3    3    3    1   \n",
              "282  7          1           1          3    2    2    4    3    3   \n",
              "283  4          7           1          4    3    4    4    4    5   \n",
              "284  4          7           1          3    2    3    3    4    3   \n",
              "285  3          7           1          4    2    3    4    4    3   \n",
              "286  7          1           1          4    2    3    2    1    3   \n",
              "287  6          7           1          3    1    4    4    4    1   \n",
              "288  3          7           1          4    2    4    3    3    3   "
            ]
          },
          "metadata": {}
        }
      ]
    },
    {
      "cell_type": "code",
      "source": [
        "df2 %>%\n",
        "  mutate(EPA3 = (6 - EPA3) %>% \n",
        "                        labelled(c(\"Nunca\" = 5, \n",
        "                                   \"Pocas veces\" = 4, \n",
        "                                   \"Algunas veces\" = 3, \n",
        "                                   \"Muchas veces\" = 2, \n",
        "                                   \"Siempre\" = 1)),\n",
        "         Instrucción = case_when(Instrucción %in% c(0, 1) ~ \"Sin estudios, inicial o primaria\",\n",
        "                                 Instrucción %in% c(3, 4) ~ \"Secundaria\",\n",
        "                                 Instrucción %in% c(5, 6) ~ \"Superior Técnica\",\n",
        "                                 Instrucción %in% c(7, 8) ~ \"Superior Universitaria\"),\n",
        "         Procrastinacion = rowMeans(across(EPA1:EPA6), na.rm = T)) -> df2\n",
        "\n",
        "df2"
      ],
      "metadata": {
        "colab": {
          "base_uri": "https://localhost:8080/",
          "height": 1000
        },
        "id": "LOGDgqAFKC4n",
        "outputId": "aa4c11c1-2aef-4d08-959b-968da68dfe21"
      },
      "execution_count": 19,
      "outputs": [
        {
          "output_type": "display_data",
          "data": {
            "text/html": [
              "<table class=\"dataframe\">\n",
              "<caption>A tibble: 288 × 18</caption>\n",
              "<thead>\n",
              "\t<tr><th scope=col>Código</th><th scope=col>Sexo</th><th scope=col>Edad</th><th scope=col>EstadoCivil</th><th scope=col>NúmHermanos</th><th scope=col>OrdenHermanos</th><th scope=col>Religión</th><th scope=col>LugarNac</th><th scope=col>IntFamiliar</th><th scope=col>Instrucción</th><th scope=col>EstLaboral</th><th scope=col>EPA1</th><th scope=col>EPA2</th><th scope=col>EPA3</th><th scope=col>EPA4</th><th scope=col>EPA5</th><th scope=col>EPA6</th><th scope=col>Procrastinacion</th></tr>\n",
              "\t<tr><th scope=col>&lt;chr&gt;</th><th scope=col>&lt;dbl+lbl&gt;</th><th scope=col>&lt;dbl&gt;</th><th scope=col>&lt;dbl+lbl&gt;</th><th scope=col>&lt;dbl&gt;</th><th scope=col>&lt;dbl&gt;</th><th scope=col>&lt;chr&gt;</th><th scope=col>&lt;dbl+lbl&gt;</th><th scope=col>&lt;dbl&gt;</th><th scope=col>&lt;chr&gt;</th><th scope=col>&lt;dbl+lbl&gt;</th><th scope=col>&lt;dbl+lbl&gt;</th><th scope=col>&lt;dbl+lbl&gt;</th><th scope=col>&lt;dbl+lbl&gt;</th><th scope=col>&lt;dbl+lbl&gt;</th><th scope=col>&lt;dbl+lbl&gt;</th><th scope=col>&lt;dbl+lbl&gt;</th><th scope=col>&lt;dbl&gt;</th></tr>\n",
              "</thead>\n",
              "<tbody>\n",
              "\t<tr><td>001</td><td>0</td><td>20</td><td>0</td><td>2</td><td>1</td><td>Católica  </td><td>0</td><td> 4</td><td>Superior Técnica      </td><td>0</td><td>4</td><td>1</td><td>3</td><td>3</td><td>4</td><td>3</td><td>3.000000</td></tr>\n",
              "\t<tr><td>002</td><td>1</td><td>18</td><td>0</td><td>2</td><td>1</td><td>Católica  </td><td>0</td><td> 5</td><td>Superior Universitaria</td><td>1</td><td>5</td><td>2</td><td>2</td><td>4</td><td>4</td><td>5</td><td>3.666667</td></tr>\n",
              "\t<tr><td>003</td><td>1</td><td>19</td><td>1</td><td>3</td><td>2</td><td>Católica  </td><td>0</td><td> 5</td><td>Superior Universitaria</td><td>1</td><td>3</td><td>3</td><td>4</td><td>2</td><td>3</td><td>2</td><td>2.833333</td></tr>\n",
              "\t<tr><td>004</td><td>0</td><td>18</td><td>0</td><td>3</td><td>2</td><td>Evangélico</td><td>1</td><td> 3</td><td>Superior Universitaria</td><td>1</td><td>5</td><td>3</td><td>4</td><td>4</td><td>3</td><td>4</td><td>3.833333</td></tr>\n",
              "\t<tr><td>005</td><td>1</td><td>19</td><td>1</td><td>2</td><td>2</td><td>Cristiana </td><td>0</td><td> 5</td><td>Superior Universitaria</td><td>1</td><td>1</td><td>1</td><td>5</td><td>2</td><td>2</td><td>1</td><td>2.000000</td></tr>\n",
              "\t<tr><td>006</td><td>1</td><td>19</td><td>4</td><td>2</td><td>1</td><td>Católica  </td><td>0</td><td> 7</td><td>Superior Universitaria</td><td>1</td><td>3</td><td>1</td><td>4</td><td>5</td><td>3</td><td>3</td><td>3.166667</td></tr>\n",
              "\t<tr><td>007</td><td>0</td><td>19</td><td>4</td><td>2</td><td>1</td><td>Cristiana </td><td>0</td><td> 5</td><td>Superior Universitaria</td><td>1</td><td>3</td><td>2</td><td>3</td><td>5</td><td>5</td><td>1</td><td>3.166667</td></tr>\n",
              "\t<tr><td>008</td><td>0</td><td>22</td><td>0</td><td>4</td><td>3</td><td>Ateo      </td><td>1</td><td> 4</td><td>Superior Universitaria</td><td>0</td><td>4</td><td>3</td><td>2</td><td>5</td><td>5</td><td>2</td><td>3.500000</td></tr>\n",
              "\t<tr><td>009</td><td>0</td><td>21</td><td>0</td><td>2</td><td>1</td><td>Católica  </td><td>0</td><td> 5</td><td>Superior Universitaria</td><td>0</td><td>2</td><td>1</td><td>4</td><td>2</td><td>2</td><td>1</td><td>2.000000</td></tr>\n",
              "\t<tr><td>010</td><td>0</td><td>20</td><td>1</td><td>0</td><td>0</td><td>Ateo      </td><td>0</td><td> 3</td><td>Superior Universitaria</td><td>1</td><td>4</td><td>2</td><td>3</td><td>5</td><td>4</td><td>4</td><td>3.666667</td></tr>\n",
              "\t<tr><td>011</td><td>1</td><td>20</td><td>1</td><td>2</td><td>1</td><td>Judía     </td><td>0</td><td> 4</td><td>Superior Universitaria</td><td>1</td><td>3</td><td>1</td><td>4</td><td>3</td><td>2</td><td>1</td><td>2.333333</td></tr>\n",
              "\t<tr><td>012</td><td>1</td><td>20</td><td>1</td><td>2</td><td>1</td><td>Agnóstico </td><td>0</td><td> 3</td><td>Superior Universitaria</td><td>1</td><td>3</td><td>1</td><td>3</td><td>4</td><td>4</td><td>5</td><td>3.333333</td></tr>\n",
              "\t<tr><td>013</td><td>0</td><td>21</td><td>0</td><td>2</td><td>1</td><td>Católica  </td><td>0</td><td> 5</td><td>Superior Universitaria</td><td>1</td><td>2</td><td>1</td><td>5</td><td>3</td><td>3</td><td>1</td><td>2.500000</td></tr>\n",
              "\t<tr><td>014</td><td>1</td><td>18</td><td>0</td><td>1</td><td>1</td><td>Católica  </td><td>0</td><td> 4</td><td>Superior Universitaria</td><td>1</td><td>1</td><td>2</td><td>5</td><td>2</td><td>2</td><td>1</td><td>2.166667</td></tr>\n",
              "\t<tr><td>015</td><td>0</td><td>18</td><td>4</td><td>2</td><td>1</td><td>Católica  </td><td>0</td><td> 5</td><td>Superior Universitaria</td><td>1</td><td>2</td><td>2</td><td>5</td><td>1</td><td>1</td><td>2</td><td>2.166667</td></tr>\n",
              "\t<tr><td>016</td><td>1</td><td>18</td><td>4</td><td>2</td><td>2</td><td>Cristiana </td><td>0</td><td> 6</td><td>Superior Técnica      </td><td>1</td><td>3</td><td>4</td><td>5</td><td>1</td><td>1</td><td>3</td><td>2.833333</td></tr>\n",
              "\t<tr><td>017</td><td>0</td><td>21</td><td>0</td><td>7</td><td>7</td><td>Católica  </td><td>1</td><td>10</td><td>Superior Técnica      </td><td>0</td><td>2</td><td>5</td><td>4</td><td>2</td><td>2</td><td>2</td><td>2.833333</td></tr>\n",
              "\t<tr><td>018</td><td>1</td><td>20</td><td>4</td><td>5</td><td>1</td><td>Cristiana </td><td>0</td><td> 6</td><td>Superior Universitaria</td><td>1</td><td>2</td><td>2</td><td>4</td><td>2</td><td>2</td><td>1</td><td>2.166667</td></tr>\n",
              "\t<tr><td>019</td><td>1</td><td>20</td><td>4</td><td>2</td><td>1</td><td>Católica  </td><td>0</td><td> 4</td><td>Superior Universitaria</td><td>1</td><td>4</td><td>2</td><td>2</td><td>4</td><td>4</td><td>4</td><td>3.333333</td></tr>\n",
              "\t<tr><td>020</td><td>1</td><td>18</td><td>1</td><td>1</td><td>2</td><td>Católica  </td><td>0</td><td> 5</td><td>Superior Universitaria</td><td>1</td><td>3</td><td>3</td><td>2</td><td>1</td><td>4</td><td>1</td><td>2.333333</td></tr>\n",
              "\t<tr><td>021</td><td>1</td><td>20</td><td>1</td><td>1</td><td>2</td><td>Católica  </td><td>0</td><td> 8</td><td>Superior Universitaria</td><td>1</td><td>4</td><td>2</td><td>3</td><td>4</td><td>4</td><td>1</td><td>3.000000</td></tr>\n",
              "\t<tr><td>022</td><td>1</td><td>20</td><td>4</td><td>0</td><td>1</td><td>Católica  </td><td>0</td><td> 3</td><td>Superior Universitaria</td><td>1</td><td>3</td><td>4</td><td>5</td><td>3</td><td>3</td><td>5</td><td>3.833333</td></tr>\n",
              "\t<tr><td>023</td><td>0</td><td>19</td><td>4</td><td>3</td><td>3</td><td>Católica  </td><td>0</td><td>13</td><td>Secundaria            </td><td>1</td><td>3</td><td>4</td><td>3</td><td>3</td><td>2</td><td>3</td><td>3.000000</td></tr>\n",
              "\t<tr><td>024</td><td>1</td><td>19</td><td>0</td><td>1</td><td>1</td><td>Católica  </td><td>0</td><td> 4</td><td>Secundaria            </td><td>0</td><td>4</td><td>2</td><td>3</td><td>4</td><td>4</td><td>5</td><td>3.666667</td></tr>\n",
              "\t<tr><td>025</td><td>1</td><td>18</td><td>1</td><td>0</td><td>1</td><td>Católica  </td><td>0</td><td> 3</td><td>Secundaria            </td><td>1</td><td>2</td><td>3</td><td>5</td><td>2</td><td>2</td><td>1</td><td>2.500000</td></tr>\n",
              "\t<tr><td>026</td><td>1</td><td>18</td><td>1</td><td>2</td><td>1</td><td>Católica  </td><td>0</td><td> 5</td><td>Superior Universitaria</td><td>1</td><td>2</td><td>3</td><td>4</td><td>1</td><td>1</td><td>1</td><td>2.000000</td></tr>\n",
              "\t<tr><td>027</td><td>0</td><td>19</td><td>1</td><td>3</td><td>3</td><td>Católica  </td><td>0</td><td> 6</td><td>Secundaria            </td><td>1</td><td>4</td><td>2</td><td>2</td><td>3</td><td>4</td><td>5</td><td>3.333333</td></tr>\n",
              "\t<tr><td>028</td><td>1</td><td>19</td><td>0</td><td>3</td><td>3</td><td>Católica  </td><td>0</td><td> 4</td><td>Superior Universitaria</td><td>1</td><td>3</td><td>4</td><td>2</td><td>2</td><td>2</td><td>3</td><td>2.666667</td></tr>\n",
              "\t<tr><td>029</td><td>1</td><td>18</td><td>4</td><td>2</td><td>2</td><td>Católica  </td><td>0</td><td> 3</td><td>Superior Universitaria</td><td>1</td><td>4</td><td>4</td><td>3</td><td>2</td><td>3</td><td>5</td><td>3.500000</td></tr>\n",
              "\t<tr><td>030</td><td>1</td><td>20</td><td>4</td><td>1</td><td>2</td><td>Católica  </td><td>0</td><td> 4</td><td>Superior Universitaria</td><td>1</td><td>4</td><td>3</td><td>2</td><td>1</td><td>1</td><td>3</td><td>2.333333</td></tr>\n",
              "\t<tr><td>⋮</td><td>⋮</td><td>⋮</td><td>⋮</td><td>⋮</td><td>⋮</td><td>⋮</td><td>⋮</td><td>⋮</td><td>⋮</td><td>⋮</td><td>⋮</td><td>⋮</td><td>⋮</td><td>⋮</td><td>⋮</td><td>⋮</td><td>⋮</td></tr>\n",
              "\t<tr><td>259</td><td>0</td><td>19</td><td>1</td><td>3</td><td>1</td><td>Agnóstico</td><td>1</td><td> 3</td><td>Superior Universitaria          </td><td>1</td><td>3</td><td>2</td><td>3</td><td>3</td><td>3</td><td>2</td><td>2.666667</td></tr>\n",
              "\t<tr><td>260</td><td>1</td><td>19</td><td>0</td><td>3</td><td>2</td><td>Cristiana</td><td>0</td><td> 5</td><td>Superior Universitaria          </td><td>0</td><td>3</td><td>3</td><td>3</td><td>4</td><td>5</td><td>4</td><td>3.666667</td></tr>\n",
              "\t<tr><td>261</td><td>0</td><td>19</td><td>0</td><td>1</td><td>1</td><td>Ateo     </td><td>0</td><td> 4</td><td>Superior Universitaria          </td><td>1</td><td>2</td><td>3</td><td>5</td><td>1</td><td>1</td><td>1</td><td>2.166667</td></tr>\n",
              "\t<tr><td>262</td><td>0</td><td>24</td><td>0</td><td>1</td><td>1</td><td>Católica </td><td>0</td><td> 4</td><td>Superior Universitaria          </td><td>1</td><td>4</td><td>2</td><td>3</td><td>3</td><td>4</td><td>4</td><td>3.333333</td></tr>\n",
              "\t<tr><td>263</td><td>1</td><td>19</td><td>0</td><td>2</td><td>1</td><td>Católica </td><td>0</td><td> 4</td><td>Secundaria                      </td><td>0</td><td>4</td><td>3</td><td>2</td><td>5</td><td>5</td><td>3</td><td>3.666667</td></tr>\n",
              "\t<tr><td>264</td><td>1</td><td>19</td><td>0</td><td>1</td><td>1</td><td>Católica </td><td>0</td><td> 4</td><td>Superior Universitaria          </td><td>1</td><td>2</td><td>4</td><td>4</td><td>2</td><td>2</td><td>2</td><td>2.666667</td></tr>\n",
              "\t<tr><td>265</td><td>0</td><td>20</td><td>0</td><td>1</td><td>2</td><td>Católica </td><td>0</td><td> 4</td><td>Superior Universitaria          </td><td>1</td><td>2</td><td>4</td><td>4</td><td>3</td><td>2</td><td>2</td><td>2.833333</td></tr>\n",
              "\t<tr><td>266</td><td>1</td><td>18</td><td>0</td><td>2</td><td>1</td><td>Católica </td><td>0</td><td> 5</td><td>Superior Universitaria          </td><td>0</td><td>3</td><td>3</td><td>4</td><td>1</td><td>2</td><td>1</td><td>2.333333</td></tr>\n",
              "\t<tr><td>267</td><td>0</td><td>21</td><td>0</td><td>1</td><td>1</td><td>Católica </td><td>1</td><td> 8</td><td>Superior Universitaria          </td><td>1</td><td>3</td><td>3</td><td>4</td><td>2</td><td>2</td><td>2</td><td>2.666667</td></tr>\n",
              "\t<tr><td>268</td><td>0</td><td>20</td><td>0</td><td>2</td><td>2</td><td>Católica </td><td>1</td><td> 5</td><td>Superior Universitaria          </td><td>0</td><td>3</td><td>3</td><td>4</td><td>2</td><td>3</td><td>2</td><td>2.833333</td></tr>\n",
              "\t<tr><td>269</td><td>1</td><td>19</td><td>0</td><td>1</td><td>2</td><td>Católica </td><td>0</td><td> 4</td><td>Superior Universitaria          </td><td>1</td><td>3</td><td>2</td><td>3</td><td>3</td><td>3</td><td>1</td><td>2.500000</td></tr>\n",
              "\t<tr><td>270</td><td>0</td><td>25</td><td>0</td><td>6</td><td>1</td><td>Agnóstico</td><td>0</td><td> 6</td><td>Superior Universitaria          </td><td>0</td><td>2</td><td>5</td><td>5</td><td>4</td><td>3</td><td>2</td><td>3.500000</td></tr>\n",
              "\t<tr><td>271</td><td>0</td><td>17</td><td>1</td><td>4</td><td>4</td><td>Católica </td><td>1</td><td> 8</td><td>Superior Universitaria          </td><td>1</td><td>3</td><td>4</td><td>4</td><td>3</td><td>2</td><td>3</td><td>3.166667</td></tr>\n",
              "\t<tr><td>272</td><td>1</td><td>18</td><td>0</td><td>4</td><td>4</td><td>Católica </td><td>0</td><td> 4</td><td>Superior Universitaria          </td><td>1</td><td>3</td><td>2</td><td>3</td><td>4</td><td>4</td><td>3</td><td>3.166667</td></tr>\n",
              "\t<tr><td>273</td><td>0</td><td>20</td><td>0</td><td>3</td><td>3</td><td>Agnóstico</td><td>0</td><td> 8</td><td>Superior Universitaria          </td><td>1</td><td>4</td><td>3</td><td>3</td><td>3</td><td>3</td><td>2</td><td>3.000000</td></tr>\n",
              "\t<tr><td>274</td><td>1</td><td>24</td><td>0</td><td>3</td><td>1</td><td>Católica </td><td>0</td><td> 5</td><td>Superior Universitaria          </td><td>0</td><td>3</td><td>3</td><td>4</td><td>2</td><td>2</td><td>1</td><td>2.500000</td></tr>\n",
              "\t<tr><td>275</td><td>0</td><td>22</td><td>0</td><td>5</td><td>4</td><td>Católica </td><td>0</td><td> 7</td><td>Superior Universitaria          </td><td>0</td><td>3</td><td>4</td><td>4</td><td>3</td><td>2</td><td>1</td><td>2.833333</td></tr>\n",
              "\t<tr><td>276</td><td>1</td><td>20</td><td>0</td><td>2</td><td>2</td><td>Ninguna  </td><td>0</td><td>14</td><td>Superior Universitaria          </td><td>1</td><td>3</td><td>5</td><td>4</td><td>3</td><td>3</td><td>1</td><td>3.166667</td></tr>\n",
              "\t<tr><td>277</td><td>0</td><td>21</td><td>0</td><td>3</td><td>2</td><td>Ninguna  </td><td>0</td><td> 5</td><td>Superior Universitaria          </td><td>1</td><td>2</td><td>3</td><td>5</td><td>2</td><td>2</td><td>3</td><td>2.833333</td></tr>\n",
              "\t<tr><td>278</td><td>0</td><td>20</td><td>0</td><td>2</td><td>2</td><td>Católica </td><td>1</td><td> 3</td><td>Superior Universitaria          </td><td>0</td><td>2</td><td>4</td><td>4</td><td>3</td><td>3</td><td>1</td><td>2.833333</td></tr>\n",
              "\t<tr><td>279</td><td>1</td><td>19</td><td>0</td><td>3</td><td>1</td><td>Católica </td><td>0</td><td> 7</td><td>Superior Universitaria          </td><td>0</td><td>4</td><td>3</td><td>2</td><td>4</td><td>4</td><td>5</td><td>3.666667</td></tr>\n",
              "\t<tr><td>280</td><td>1</td><td>18</td><td>0</td><td>2</td><td>2</td><td>Agnóstico</td><td>0</td><td> 4</td><td>Superior Universitaria          </td><td>1</td><td>4</td><td>2</td><td>3</td><td>3</td><td>2</td><td>4</td><td>3.000000</td></tr>\n",
              "\t<tr><td>281</td><td>1</td><td>18</td><td>4</td><td>3</td><td>3</td><td>Católica </td><td>1</td><td> 7</td><td>Superior Universitaria          </td><td>1</td><td>2</td><td>4</td><td>3</td><td>3</td><td>3</td><td>1</td><td>2.666667</td></tr>\n",
              "\t<tr><td>282</td><td>1</td><td>18</td><td>0</td><td>1</td><td>2</td><td>Agnóstico</td><td>0</td><td> 7</td><td>Sin estudios, inicial o primaria</td><td>1</td><td>3</td><td>2</td><td>4</td><td>4</td><td>3</td><td>3</td><td>3.166667</td></tr>\n",
              "\t<tr><td>283</td><td>1</td><td>19</td><td>0</td><td>2</td><td>1</td><td>Católica </td><td>0</td><td> 4</td><td>Superior Universitaria          </td><td>1</td><td>4</td><td>3</td><td>2</td><td>4</td><td>4</td><td>5</td><td>3.666667</td></tr>\n",
              "\t<tr><td>284</td><td>1</td><td>20</td><td>0</td><td>2</td><td>2</td><td>Católica </td><td>0</td><td> 4</td><td>Superior Universitaria          </td><td>1</td><td>3</td><td>2</td><td>3</td><td>3</td><td>4</td><td>3</td><td>3.000000</td></tr>\n",
              "\t<tr><td>285</td><td>1</td><td>21</td><td>0</td><td>0</td><td>0</td><td>Católica </td><td>0</td><td> 3</td><td>Superior Universitaria          </td><td>1</td><td>4</td><td>2</td><td>3</td><td>4</td><td>4</td><td>3</td><td>3.333333</td></tr>\n",
              "\t<tr><td>286</td><td>1</td><td>19</td><td>0</td><td>0</td><td>0</td><td>Católica </td><td>1</td><td> 7</td><td>Sin estudios, inicial o primaria</td><td>1</td><td>4</td><td>2</td><td>3</td><td>2</td><td>1</td><td>3</td><td>2.500000</td></tr>\n",
              "\t<tr><td>287</td><td>0</td><td>20</td><td>0</td><td>3</td><td>2</td><td>Católica </td><td>0</td><td> 6</td><td>Superior Universitaria          </td><td>1</td><td>3</td><td>1</td><td>2</td><td>4</td><td>4</td><td>1</td><td>2.500000</td></tr>\n",
              "\t<tr><td>288</td><td>1</td><td>19</td><td>1</td><td>3</td><td>1</td><td>Católica </td><td>1</td><td> 3</td><td>Superior Universitaria          </td><td>1</td><td>4</td><td>2</td><td>2</td><td>3</td><td>3</td><td>3</td><td>2.833333</td></tr>\n",
              "</tbody>\n",
              "</table>\n"
            ],
            "text/markdown": "\nA tibble: 288 × 18\n\n| Código &lt;chr&gt; | Sexo &lt;dbl+lbl&gt; | Edad &lt;dbl&gt; | EstadoCivil &lt;dbl+lbl&gt; | NúmHermanos &lt;dbl&gt; | OrdenHermanos &lt;dbl&gt; | Religión &lt;chr&gt; | LugarNac &lt;dbl+lbl&gt; | IntFamiliar &lt;dbl&gt; | Instrucción &lt;chr&gt; | EstLaboral &lt;dbl+lbl&gt; | EPA1 &lt;dbl+lbl&gt; | EPA2 &lt;dbl+lbl&gt; | EPA3 &lt;dbl+lbl&gt; | EPA4 &lt;dbl+lbl&gt; | EPA5 &lt;dbl+lbl&gt; | EPA6 &lt;dbl+lbl&gt; | Procrastinacion &lt;dbl&gt; |\n|---|---|---|---|---|---|---|---|---|---|---|---|---|---|---|---|---|---|\n| 001 | 0 | 20 | 0 | 2 | 1 | Católica   | 0 |  4 | Superior Técnica       | 0 | 4 | 1 | 3 | 3 | 4 | 3 | 3.000000 |\n| 002 | 1 | 18 | 0 | 2 | 1 | Católica   | 0 |  5 | Superior Universitaria | 1 | 5 | 2 | 2 | 4 | 4 | 5 | 3.666667 |\n| 003 | 1 | 19 | 1 | 3 | 2 | Católica   | 0 |  5 | Superior Universitaria | 1 | 3 | 3 | 4 | 2 | 3 | 2 | 2.833333 |\n| 004 | 0 | 18 | 0 | 3 | 2 | Evangélico | 1 |  3 | Superior Universitaria | 1 | 5 | 3 | 4 | 4 | 3 | 4 | 3.833333 |\n| 005 | 1 | 19 | 1 | 2 | 2 | Cristiana  | 0 |  5 | Superior Universitaria | 1 | 1 | 1 | 5 | 2 | 2 | 1 | 2.000000 |\n| 006 | 1 | 19 | 4 | 2 | 1 | Católica   | 0 |  7 | Superior Universitaria | 1 | 3 | 1 | 4 | 5 | 3 | 3 | 3.166667 |\n| 007 | 0 | 19 | 4 | 2 | 1 | Cristiana  | 0 |  5 | Superior Universitaria | 1 | 3 | 2 | 3 | 5 | 5 | 1 | 3.166667 |\n| 008 | 0 | 22 | 0 | 4 | 3 | Ateo       | 1 |  4 | Superior Universitaria | 0 | 4 | 3 | 2 | 5 | 5 | 2 | 3.500000 |\n| 009 | 0 | 21 | 0 | 2 | 1 | Católica   | 0 |  5 | Superior Universitaria | 0 | 2 | 1 | 4 | 2 | 2 | 1 | 2.000000 |\n| 010 | 0 | 20 | 1 | 0 | 0 | Ateo       | 0 |  3 | Superior Universitaria | 1 | 4 | 2 | 3 | 5 | 4 | 4 | 3.666667 |\n| 011 | 1 | 20 | 1 | 2 | 1 | Judía      | 0 |  4 | Superior Universitaria | 1 | 3 | 1 | 4 | 3 | 2 | 1 | 2.333333 |\n| 012 | 1 | 20 | 1 | 2 | 1 | Agnóstico  | 0 |  3 | Superior Universitaria | 1 | 3 | 1 | 3 | 4 | 4 | 5 | 3.333333 |\n| 013 | 0 | 21 | 0 | 2 | 1 | Católica   | 0 |  5 | Superior Universitaria | 1 | 2 | 1 | 5 | 3 | 3 | 1 | 2.500000 |\n| 014 | 1 | 18 | 0 | 1 | 1 | Católica   | 0 |  4 | Superior Universitaria | 1 | 1 | 2 | 5 | 2 | 2 | 1 | 2.166667 |\n| 015 | 0 | 18 | 4 | 2 | 1 | Católica   | 0 |  5 | Superior Universitaria | 1 | 2 | 2 | 5 | 1 | 1 | 2 | 2.166667 |\n| 016 | 1 | 18 | 4 | 2 | 2 | Cristiana  | 0 |  6 | Superior Técnica       | 1 | 3 | 4 | 5 | 1 | 1 | 3 | 2.833333 |\n| 017 | 0 | 21 | 0 | 7 | 7 | Católica   | 1 | 10 | Superior Técnica       | 0 | 2 | 5 | 4 | 2 | 2 | 2 | 2.833333 |\n| 018 | 1 | 20 | 4 | 5 | 1 | Cristiana  | 0 |  6 | Superior Universitaria | 1 | 2 | 2 | 4 | 2 | 2 | 1 | 2.166667 |\n| 019 | 1 | 20 | 4 | 2 | 1 | Católica   | 0 |  4 | Superior Universitaria | 1 | 4 | 2 | 2 | 4 | 4 | 4 | 3.333333 |\n| 020 | 1 | 18 | 1 | 1 | 2 | Católica   | 0 |  5 | Superior Universitaria | 1 | 3 | 3 | 2 | 1 | 4 | 1 | 2.333333 |\n| 021 | 1 | 20 | 1 | 1 | 2 | Católica   | 0 |  8 | Superior Universitaria | 1 | 4 | 2 | 3 | 4 | 4 | 1 | 3.000000 |\n| 022 | 1 | 20 | 4 | 0 | 1 | Católica   | 0 |  3 | Superior Universitaria | 1 | 3 | 4 | 5 | 3 | 3 | 5 | 3.833333 |\n| 023 | 0 | 19 | 4 | 3 | 3 | Católica   | 0 | 13 | Secundaria             | 1 | 3 | 4 | 3 | 3 | 2 | 3 | 3.000000 |\n| 024 | 1 | 19 | 0 | 1 | 1 | Católica   | 0 |  4 | Secundaria             | 0 | 4 | 2 | 3 | 4 | 4 | 5 | 3.666667 |\n| 025 | 1 | 18 | 1 | 0 | 1 | Católica   | 0 |  3 | Secundaria             | 1 | 2 | 3 | 5 | 2 | 2 | 1 | 2.500000 |\n| 026 | 1 | 18 | 1 | 2 | 1 | Católica   | 0 |  5 | Superior Universitaria | 1 | 2 | 3 | 4 | 1 | 1 | 1 | 2.000000 |\n| 027 | 0 | 19 | 1 | 3 | 3 | Católica   | 0 |  6 | Secundaria             | 1 | 4 | 2 | 2 | 3 | 4 | 5 | 3.333333 |\n| 028 | 1 | 19 | 0 | 3 | 3 | Católica   | 0 |  4 | Superior Universitaria | 1 | 3 | 4 | 2 | 2 | 2 | 3 | 2.666667 |\n| 029 | 1 | 18 | 4 | 2 | 2 | Católica   | 0 |  3 | Superior Universitaria | 1 | 4 | 4 | 3 | 2 | 3 | 5 | 3.500000 |\n| 030 | 1 | 20 | 4 | 1 | 2 | Católica   | 0 |  4 | Superior Universitaria | 1 | 4 | 3 | 2 | 1 | 1 | 3 | 2.333333 |\n| ⋮ | ⋮ | ⋮ | ⋮ | ⋮ | ⋮ | ⋮ | ⋮ | ⋮ | ⋮ | ⋮ | ⋮ | ⋮ | ⋮ | ⋮ | ⋮ | ⋮ | ⋮ |\n| 259 | 0 | 19 | 1 | 3 | 1 | Agnóstico | 1 |  3 | Superior Universitaria           | 1 | 3 | 2 | 3 | 3 | 3 | 2 | 2.666667 |\n| 260 | 1 | 19 | 0 | 3 | 2 | Cristiana | 0 |  5 | Superior Universitaria           | 0 | 3 | 3 | 3 | 4 | 5 | 4 | 3.666667 |\n| 261 | 0 | 19 | 0 | 1 | 1 | Ateo      | 0 |  4 | Superior Universitaria           | 1 | 2 | 3 | 5 | 1 | 1 | 1 | 2.166667 |\n| 262 | 0 | 24 | 0 | 1 | 1 | Católica  | 0 |  4 | Superior Universitaria           | 1 | 4 | 2 | 3 | 3 | 4 | 4 | 3.333333 |\n| 263 | 1 | 19 | 0 | 2 | 1 | Católica  | 0 |  4 | Secundaria                       | 0 | 4 | 3 | 2 | 5 | 5 | 3 | 3.666667 |\n| 264 | 1 | 19 | 0 | 1 | 1 | Católica  | 0 |  4 | Superior Universitaria           | 1 | 2 | 4 | 4 | 2 | 2 | 2 | 2.666667 |\n| 265 | 0 | 20 | 0 | 1 | 2 | Católica  | 0 |  4 | Superior Universitaria           | 1 | 2 | 4 | 4 | 3 | 2 | 2 | 2.833333 |\n| 266 | 1 | 18 | 0 | 2 | 1 | Católica  | 0 |  5 | Superior Universitaria           | 0 | 3 | 3 | 4 | 1 | 2 | 1 | 2.333333 |\n| 267 | 0 | 21 | 0 | 1 | 1 | Católica  | 1 |  8 | Superior Universitaria           | 1 | 3 | 3 | 4 | 2 | 2 | 2 | 2.666667 |\n| 268 | 0 | 20 | 0 | 2 | 2 | Católica  | 1 |  5 | Superior Universitaria           | 0 | 3 | 3 | 4 | 2 | 3 | 2 | 2.833333 |\n| 269 | 1 | 19 | 0 | 1 | 2 | Católica  | 0 |  4 | Superior Universitaria           | 1 | 3 | 2 | 3 | 3 | 3 | 1 | 2.500000 |\n| 270 | 0 | 25 | 0 | 6 | 1 | Agnóstico | 0 |  6 | Superior Universitaria           | 0 | 2 | 5 | 5 | 4 | 3 | 2 | 3.500000 |\n| 271 | 0 | 17 | 1 | 4 | 4 | Católica  | 1 |  8 | Superior Universitaria           | 1 | 3 | 4 | 4 | 3 | 2 | 3 | 3.166667 |\n| 272 | 1 | 18 | 0 | 4 | 4 | Católica  | 0 |  4 | Superior Universitaria           | 1 | 3 | 2 | 3 | 4 | 4 | 3 | 3.166667 |\n| 273 | 0 | 20 | 0 | 3 | 3 | Agnóstico | 0 |  8 | Superior Universitaria           | 1 | 4 | 3 | 3 | 3 | 3 | 2 | 3.000000 |\n| 274 | 1 | 24 | 0 | 3 | 1 | Católica  | 0 |  5 | Superior Universitaria           | 0 | 3 | 3 | 4 | 2 | 2 | 1 | 2.500000 |\n| 275 | 0 | 22 | 0 | 5 | 4 | Católica  | 0 |  7 | Superior Universitaria           | 0 | 3 | 4 | 4 | 3 | 2 | 1 | 2.833333 |\n| 276 | 1 | 20 | 0 | 2 | 2 | Ninguna   | 0 | 14 | Superior Universitaria           | 1 | 3 | 5 | 4 | 3 | 3 | 1 | 3.166667 |\n| 277 | 0 | 21 | 0 | 3 | 2 | Ninguna   | 0 |  5 | Superior Universitaria           | 1 | 2 | 3 | 5 | 2 | 2 | 3 | 2.833333 |\n| 278 | 0 | 20 | 0 | 2 | 2 | Católica  | 1 |  3 | Superior Universitaria           | 0 | 2 | 4 | 4 | 3 | 3 | 1 | 2.833333 |\n| 279 | 1 | 19 | 0 | 3 | 1 | Católica  | 0 |  7 | Superior Universitaria           | 0 | 4 | 3 | 2 | 4 | 4 | 5 | 3.666667 |\n| 280 | 1 | 18 | 0 | 2 | 2 | Agnóstico | 0 |  4 | Superior Universitaria           | 1 | 4 | 2 | 3 | 3 | 2 | 4 | 3.000000 |\n| 281 | 1 | 18 | 4 | 3 | 3 | Católica  | 1 |  7 | Superior Universitaria           | 1 | 2 | 4 | 3 | 3 | 3 | 1 | 2.666667 |\n| 282 | 1 | 18 | 0 | 1 | 2 | Agnóstico | 0 |  7 | Sin estudios, inicial o primaria | 1 | 3 | 2 | 4 | 4 | 3 | 3 | 3.166667 |\n| 283 | 1 | 19 | 0 | 2 | 1 | Católica  | 0 |  4 | Superior Universitaria           | 1 | 4 | 3 | 2 | 4 | 4 | 5 | 3.666667 |\n| 284 | 1 | 20 | 0 | 2 | 2 | Católica  | 0 |  4 | Superior Universitaria           | 1 | 3 | 2 | 3 | 3 | 4 | 3 | 3.000000 |\n| 285 | 1 | 21 | 0 | 0 | 0 | Católica  | 0 |  3 | Superior Universitaria           | 1 | 4 | 2 | 3 | 4 | 4 | 3 | 3.333333 |\n| 286 | 1 | 19 | 0 | 0 | 0 | Católica  | 1 |  7 | Sin estudios, inicial o primaria | 1 | 4 | 2 | 3 | 2 | 1 | 3 | 2.500000 |\n| 287 | 0 | 20 | 0 | 3 | 2 | Católica  | 0 |  6 | Superior Universitaria           | 1 | 3 | 1 | 2 | 4 | 4 | 1 | 2.500000 |\n| 288 | 1 | 19 | 1 | 3 | 1 | Católica  | 1 |  3 | Superior Universitaria           | 1 | 4 | 2 | 2 | 3 | 3 | 3 | 2.833333 |\n\n",
            "text/latex": "A tibble: 288 × 18\n\\begin{tabular}{llllllllllllllllll}\n Código & Sexo & Edad & EstadoCivil & NúmHermanos & OrdenHermanos & Religión & LugarNac & IntFamiliar & Instrucción & EstLaboral & EPA1 & EPA2 & EPA3 & EPA4 & EPA5 & EPA6 & Procrastinacion\\\\\n <chr> & <dbl+lbl> & <dbl> & <dbl+lbl> & <dbl> & <dbl> & <chr> & <dbl+lbl> & <dbl> & <chr> & <dbl+lbl> & <dbl+lbl> & <dbl+lbl> & <dbl+lbl> & <dbl+lbl> & <dbl+lbl> & <dbl+lbl> & <dbl>\\\\\n\\hline\n\t 001 & 0 & 20 & 0 & 2 & 1 & Católica   & 0 &  4 & Superior Técnica       & 0 & 4 & 1 & 3 & 3 & 4 & 3 & 3.000000\\\\\n\t 002 & 1 & 18 & 0 & 2 & 1 & Católica   & 0 &  5 & Superior Universitaria & 1 & 5 & 2 & 2 & 4 & 4 & 5 & 3.666667\\\\\n\t 003 & 1 & 19 & 1 & 3 & 2 & Católica   & 0 &  5 & Superior Universitaria & 1 & 3 & 3 & 4 & 2 & 3 & 2 & 2.833333\\\\\n\t 004 & 0 & 18 & 0 & 3 & 2 & Evangélico & 1 &  3 & Superior Universitaria & 1 & 5 & 3 & 4 & 4 & 3 & 4 & 3.833333\\\\\n\t 005 & 1 & 19 & 1 & 2 & 2 & Cristiana  & 0 &  5 & Superior Universitaria & 1 & 1 & 1 & 5 & 2 & 2 & 1 & 2.000000\\\\\n\t 006 & 1 & 19 & 4 & 2 & 1 & Católica   & 0 &  7 & Superior Universitaria & 1 & 3 & 1 & 4 & 5 & 3 & 3 & 3.166667\\\\\n\t 007 & 0 & 19 & 4 & 2 & 1 & Cristiana  & 0 &  5 & Superior Universitaria & 1 & 3 & 2 & 3 & 5 & 5 & 1 & 3.166667\\\\\n\t 008 & 0 & 22 & 0 & 4 & 3 & Ateo       & 1 &  4 & Superior Universitaria & 0 & 4 & 3 & 2 & 5 & 5 & 2 & 3.500000\\\\\n\t 009 & 0 & 21 & 0 & 2 & 1 & Católica   & 0 &  5 & Superior Universitaria & 0 & 2 & 1 & 4 & 2 & 2 & 1 & 2.000000\\\\\n\t 010 & 0 & 20 & 1 & 0 & 0 & Ateo       & 0 &  3 & Superior Universitaria & 1 & 4 & 2 & 3 & 5 & 4 & 4 & 3.666667\\\\\n\t 011 & 1 & 20 & 1 & 2 & 1 & Judía      & 0 &  4 & Superior Universitaria & 1 & 3 & 1 & 4 & 3 & 2 & 1 & 2.333333\\\\\n\t 012 & 1 & 20 & 1 & 2 & 1 & Agnóstico  & 0 &  3 & Superior Universitaria & 1 & 3 & 1 & 3 & 4 & 4 & 5 & 3.333333\\\\\n\t 013 & 0 & 21 & 0 & 2 & 1 & Católica   & 0 &  5 & Superior Universitaria & 1 & 2 & 1 & 5 & 3 & 3 & 1 & 2.500000\\\\\n\t 014 & 1 & 18 & 0 & 1 & 1 & Católica   & 0 &  4 & Superior Universitaria & 1 & 1 & 2 & 5 & 2 & 2 & 1 & 2.166667\\\\\n\t 015 & 0 & 18 & 4 & 2 & 1 & Católica   & 0 &  5 & Superior Universitaria & 1 & 2 & 2 & 5 & 1 & 1 & 2 & 2.166667\\\\\n\t 016 & 1 & 18 & 4 & 2 & 2 & Cristiana  & 0 &  6 & Superior Técnica       & 1 & 3 & 4 & 5 & 1 & 1 & 3 & 2.833333\\\\\n\t 017 & 0 & 21 & 0 & 7 & 7 & Católica   & 1 & 10 & Superior Técnica       & 0 & 2 & 5 & 4 & 2 & 2 & 2 & 2.833333\\\\\n\t 018 & 1 & 20 & 4 & 5 & 1 & Cristiana  & 0 &  6 & Superior Universitaria & 1 & 2 & 2 & 4 & 2 & 2 & 1 & 2.166667\\\\\n\t 019 & 1 & 20 & 4 & 2 & 1 & Católica   & 0 &  4 & Superior Universitaria & 1 & 4 & 2 & 2 & 4 & 4 & 4 & 3.333333\\\\\n\t 020 & 1 & 18 & 1 & 1 & 2 & Católica   & 0 &  5 & Superior Universitaria & 1 & 3 & 3 & 2 & 1 & 4 & 1 & 2.333333\\\\\n\t 021 & 1 & 20 & 1 & 1 & 2 & Católica   & 0 &  8 & Superior Universitaria & 1 & 4 & 2 & 3 & 4 & 4 & 1 & 3.000000\\\\\n\t 022 & 1 & 20 & 4 & 0 & 1 & Católica   & 0 &  3 & Superior Universitaria & 1 & 3 & 4 & 5 & 3 & 3 & 5 & 3.833333\\\\\n\t 023 & 0 & 19 & 4 & 3 & 3 & Católica   & 0 & 13 & Secundaria             & 1 & 3 & 4 & 3 & 3 & 2 & 3 & 3.000000\\\\\n\t 024 & 1 & 19 & 0 & 1 & 1 & Católica   & 0 &  4 & Secundaria             & 0 & 4 & 2 & 3 & 4 & 4 & 5 & 3.666667\\\\\n\t 025 & 1 & 18 & 1 & 0 & 1 & Católica   & 0 &  3 & Secundaria             & 1 & 2 & 3 & 5 & 2 & 2 & 1 & 2.500000\\\\\n\t 026 & 1 & 18 & 1 & 2 & 1 & Católica   & 0 &  5 & Superior Universitaria & 1 & 2 & 3 & 4 & 1 & 1 & 1 & 2.000000\\\\\n\t 027 & 0 & 19 & 1 & 3 & 3 & Católica   & 0 &  6 & Secundaria             & 1 & 4 & 2 & 2 & 3 & 4 & 5 & 3.333333\\\\\n\t 028 & 1 & 19 & 0 & 3 & 3 & Católica   & 0 &  4 & Superior Universitaria & 1 & 3 & 4 & 2 & 2 & 2 & 3 & 2.666667\\\\\n\t 029 & 1 & 18 & 4 & 2 & 2 & Católica   & 0 &  3 & Superior Universitaria & 1 & 4 & 4 & 3 & 2 & 3 & 5 & 3.500000\\\\\n\t 030 & 1 & 20 & 4 & 1 & 2 & Católica   & 0 &  4 & Superior Universitaria & 1 & 4 & 3 & 2 & 1 & 1 & 3 & 2.333333\\\\\n\t ⋮ & ⋮ & ⋮ & ⋮ & ⋮ & ⋮ & ⋮ & ⋮ & ⋮ & ⋮ & ⋮ & ⋮ & ⋮ & ⋮ & ⋮ & ⋮ & ⋮ & ⋮\\\\\n\t 259 & 0 & 19 & 1 & 3 & 1 & Agnóstico & 1 &  3 & Superior Universitaria           & 1 & 3 & 2 & 3 & 3 & 3 & 2 & 2.666667\\\\\n\t 260 & 1 & 19 & 0 & 3 & 2 & Cristiana & 0 &  5 & Superior Universitaria           & 0 & 3 & 3 & 3 & 4 & 5 & 4 & 3.666667\\\\\n\t 261 & 0 & 19 & 0 & 1 & 1 & Ateo      & 0 &  4 & Superior Universitaria           & 1 & 2 & 3 & 5 & 1 & 1 & 1 & 2.166667\\\\\n\t 262 & 0 & 24 & 0 & 1 & 1 & Católica  & 0 &  4 & Superior Universitaria           & 1 & 4 & 2 & 3 & 3 & 4 & 4 & 3.333333\\\\\n\t 263 & 1 & 19 & 0 & 2 & 1 & Católica  & 0 &  4 & Secundaria                       & 0 & 4 & 3 & 2 & 5 & 5 & 3 & 3.666667\\\\\n\t 264 & 1 & 19 & 0 & 1 & 1 & Católica  & 0 &  4 & Superior Universitaria           & 1 & 2 & 4 & 4 & 2 & 2 & 2 & 2.666667\\\\\n\t 265 & 0 & 20 & 0 & 1 & 2 & Católica  & 0 &  4 & Superior Universitaria           & 1 & 2 & 4 & 4 & 3 & 2 & 2 & 2.833333\\\\\n\t 266 & 1 & 18 & 0 & 2 & 1 & Católica  & 0 &  5 & Superior Universitaria           & 0 & 3 & 3 & 4 & 1 & 2 & 1 & 2.333333\\\\\n\t 267 & 0 & 21 & 0 & 1 & 1 & Católica  & 1 &  8 & Superior Universitaria           & 1 & 3 & 3 & 4 & 2 & 2 & 2 & 2.666667\\\\\n\t 268 & 0 & 20 & 0 & 2 & 2 & Católica  & 1 &  5 & Superior Universitaria           & 0 & 3 & 3 & 4 & 2 & 3 & 2 & 2.833333\\\\\n\t 269 & 1 & 19 & 0 & 1 & 2 & Católica  & 0 &  4 & Superior Universitaria           & 1 & 3 & 2 & 3 & 3 & 3 & 1 & 2.500000\\\\\n\t 270 & 0 & 25 & 0 & 6 & 1 & Agnóstico & 0 &  6 & Superior Universitaria           & 0 & 2 & 5 & 5 & 4 & 3 & 2 & 3.500000\\\\\n\t 271 & 0 & 17 & 1 & 4 & 4 & Católica  & 1 &  8 & Superior Universitaria           & 1 & 3 & 4 & 4 & 3 & 2 & 3 & 3.166667\\\\\n\t 272 & 1 & 18 & 0 & 4 & 4 & Católica  & 0 &  4 & Superior Universitaria           & 1 & 3 & 2 & 3 & 4 & 4 & 3 & 3.166667\\\\\n\t 273 & 0 & 20 & 0 & 3 & 3 & Agnóstico & 0 &  8 & Superior Universitaria           & 1 & 4 & 3 & 3 & 3 & 3 & 2 & 3.000000\\\\\n\t 274 & 1 & 24 & 0 & 3 & 1 & Católica  & 0 &  5 & Superior Universitaria           & 0 & 3 & 3 & 4 & 2 & 2 & 1 & 2.500000\\\\\n\t 275 & 0 & 22 & 0 & 5 & 4 & Católica  & 0 &  7 & Superior Universitaria           & 0 & 3 & 4 & 4 & 3 & 2 & 1 & 2.833333\\\\\n\t 276 & 1 & 20 & 0 & 2 & 2 & Ninguna   & 0 & 14 & Superior Universitaria           & 1 & 3 & 5 & 4 & 3 & 3 & 1 & 3.166667\\\\\n\t 277 & 0 & 21 & 0 & 3 & 2 & Ninguna   & 0 &  5 & Superior Universitaria           & 1 & 2 & 3 & 5 & 2 & 2 & 3 & 2.833333\\\\\n\t 278 & 0 & 20 & 0 & 2 & 2 & Católica  & 1 &  3 & Superior Universitaria           & 0 & 2 & 4 & 4 & 3 & 3 & 1 & 2.833333\\\\\n\t 279 & 1 & 19 & 0 & 3 & 1 & Católica  & 0 &  7 & Superior Universitaria           & 0 & 4 & 3 & 2 & 4 & 4 & 5 & 3.666667\\\\\n\t 280 & 1 & 18 & 0 & 2 & 2 & Agnóstico & 0 &  4 & Superior Universitaria           & 1 & 4 & 2 & 3 & 3 & 2 & 4 & 3.000000\\\\\n\t 281 & 1 & 18 & 4 & 3 & 3 & Católica  & 1 &  7 & Superior Universitaria           & 1 & 2 & 4 & 3 & 3 & 3 & 1 & 2.666667\\\\\n\t 282 & 1 & 18 & 0 & 1 & 2 & Agnóstico & 0 &  7 & Sin estudios, inicial o primaria & 1 & 3 & 2 & 4 & 4 & 3 & 3 & 3.166667\\\\\n\t 283 & 1 & 19 & 0 & 2 & 1 & Católica  & 0 &  4 & Superior Universitaria           & 1 & 4 & 3 & 2 & 4 & 4 & 5 & 3.666667\\\\\n\t 284 & 1 & 20 & 0 & 2 & 2 & Católica  & 0 &  4 & Superior Universitaria           & 1 & 3 & 2 & 3 & 3 & 4 & 3 & 3.000000\\\\\n\t 285 & 1 & 21 & 0 & 0 & 0 & Católica  & 0 &  3 & Superior Universitaria           & 1 & 4 & 2 & 3 & 4 & 4 & 3 & 3.333333\\\\\n\t 286 & 1 & 19 & 0 & 0 & 0 & Católica  & 1 &  7 & Sin estudios, inicial o primaria & 1 & 4 & 2 & 3 & 2 & 1 & 3 & 2.500000\\\\\n\t 287 & 0 & 20 & 0 & 3 & 2 & Católica  & 0 &  6 & Superior Universitaria           & 1 & 3 & 1 & 2 & 4 & 4 & 1 & 2.500000\\\\\n\t 288 & 1 & 19 & 1 & 3 & 1 & Católica  & 1 &  3 & Superior Universitaria           & 1 & 4 & 2 & 2 & 3 & 3 & 3 & 2.833333\\\\\n\\end{tabular}\n",
            "text/plain": [
              "    Código Sexo Edad EstadoCivil NúmHermanos OrdenHermanos Religión   LugarNac\n",
              "1   001    0    20   0           2           1             Católica   0       \n",
              "2   002    1    18   0           2           1             Católica   0       \n",
              "3   003    1    19   1           3           2             Católica   0       \n",
              "4   004    0    18   0           3           2             Evangélico 1       \n",
              "5   005    1    19   1           2           2             Cristiana  0       \n",
              "6   006    1    19   4           2           1             Católica   0       \n",
              "7   007    0    19   4           2           1             Cristiana  0       \n",
              "8   008    0    22   0           4           3             Ateo       1       \n",
              "9   009    0    21   0           2           1             Católica   0       \n",
              "10  010    0    20   1           0           0             Ateo       0       \n",
              "11  011    1    20   1           2           1             Judía      0       \n",
              "12  012    1    20   1           2           1             Agnóstico  0       \n",
              "13  013    0    21   0           2           1             Católica   0       \n",
              "14  014    1    18   0           1           1             Católica   0       \n",
              "15  015    0    18   4           2           1             Católica   0       \n",
              "16  016    1    18   4           2           2             Cristiana  0       \n",
              "17  017    0    21   0           7           7             Católica   1       \n",
              "18  018    1    20   4           5           1             Cristiana  0       \n",
              "19  019    1    20   4           2           1             Católica   0       \n",
              "20  020    1    18   1           1           2             Católica   0       \n",
              "21  021    1    20   1           1           2             Católica   0       \n",
              "22  022    1    20   4           0           1             Católica   0       \n",
              "23  023    0    19   4           3           3             Católica   0       \n",
              "24  024    1    19   0           1           1             Católica   0       \n",
              "25  025    1    18   1           0           1             Católica   0       \n",
              "26  026    1    18   1           2           1             Católica   0       \n",
              "27  027    0    19   1           3           3             Católica   0       \n",
              "28  028    1    19   0           3           3             Católica   0       \n",
              "29  029    1    18   4           2           2             Católica   0       \n",
              "30  030    1    20   4           1           2             Católica   0       \n",
              "⋮   ⋮      ⋮    ⋮    ⋮           ⋮           ⋮             ⋮          ⋮       \n",
              "259 259    0    19   1           3           1             Agnóstico  1       \n",
              "260 260    1    19   0           3           2             Cristiana  0       \n",
              "261 261    0    19   0           1           1             Ateo       0       \n",
              "262 262    0    24   0           1           1             Católica   0       \n",
              "263 263    1    19   0           2           1             Católica   0       \n",
              "264 264    1    19   0           1           1             Católica   0       \n",
              "265 265    0    20   0           1           2             Católica   0       \n",
              "266 266    1    18   0           2           1             Católica   0       \n",
              "267 267    0    21   0           1           1             Católica   1       \n",
              "268 268    0    20   0           2           2             Católica   1       \n",
              "269 269    1    19   0           1           2             Católica   0       \n",
              "270 270    0    25   0           6           1             Agnóstico  0       \n",
              "271 271    0    17   1           4           4             Católica   1       \n",
              "272 272    1    18   0           4           4             Católica   0       \n",
              "273 273    0    20   0           3           3             Agnóstico  0       \n",
              "274 274    1    24   0           3           1             Católica   0       \n",
              "275 275    0    22   0           5           4             Católica   0       \n",
              "276 276    1    20   0           2           2             Ninguna    0       \n",
              "277 277    0    21   0           3           2             Ninguna    0       \n",
              "278 278    0    20   0           2           2             Católica   1       \n",
              "279 279    1    19   0           3           1             Católica   0       \n",
              "280 280    1    18   0           2           2             Agnóstico  0       \n",
              "281 281    1    18   4           3           3             Católica   1       \n",
              "282 282    1    18   0           1           2             Agnóstico  0       \n",
              "283 283    1    19   0           2           1             Católica   0       \n",
              "284 284    1    20   0           2           2             Católica   0       \n",
              "285 285    1    21   0           0           0             Católica   0       \n",
              "286 286    1    19   0           0           0             Católica   1       \n",
              "287 287    0    20   0           3           2             Católica   0       \n",
              "288 288    1    19   1           3           1             Católica   1       \n",
              "    IntFamiliar Instrucción                      EstLaboral EPA1 EPA2 EPA3 EPA4\n",
              "1    4          Superior Técnica                 0          4    1    3    3   \n",
              "2    5          Superior Universitaria           1          5    2    2    4   \n",
              "3    5          Superior Universitaria           1          3    3    4    2   \n",
              "4    3          Superior Universitaria           1          5    3    4    4   \n",
              "5    5          Superior Universitaria           1          1    1    5    2   \n",
              "6    7          Superior Universitaria           1          3    1    4    5   \n",
              "7    5          Superior Universitaria           1          3    2    3    5   \n",
              "8    4          Superior Universitaria           0          4    3    2    5   \n",
              "9    5          Superior Universitaria           0          2    1    4    2   \n",
              "10   3          Superior Universitaria           1          4    2    3    5   \n",
              "11   4          Superior Universitaria           1          3    1    4    3   \n",
              "12   3          Superior Universitaria           1          3    1    3    4   \n",
              "13   5          Superior Universitaria           1          2    1    5    3   \n",
              "14   4          Superior Universitaria           1          1    2    5    2   \n",
              "15   5          Superior Universitaria           1          2    2    5    1   \n",
              "16   6          Superior Técnica                 1          3    4    5    1   \n",
              "17  10          Superior Técnica                 0          2    5    4    2   \n",
              "18   6          Superior Universitaria           1          2    2    4    2   \n",
              "19   4          Superior Universitaria           1          4    2    2    4   \n",
              "20   5          Superior Universitaria           1          3    3    2    1   \n",
              "21   8          Superior Universitaria           1          4    2    3    4   \n",
              "22   3          Superior Universitaria           1          3    4    5    3   \n",
              "23  13          Secundaria                       1          3    4    3    3   \n",
              "24   4          Secundaria                       0          4    2    3    4   \n",
              "25   3          Secundaria                       1          2    3    5    2   \n",
              "26   5          Superior Universitaria           1          2    3    4    1   \n",
              "27   6          Secundaria                       1          4    2    2    3   \n",
              "28   4          Superior Universitaria           1          3    4    2    2   \n",
              "29   3          Superior Universitaria           1          4    4    3    2   \n",
              "30   4          Superior Universitaria           1          4    3    2    1   \n",
              "⋮   ⋮           ⋮                                ⋮          ⋮    ⋮    ⋮    ⋮   \n",
              "259  3          Superior Universitaria           1          3    2    3    3   \n",
              "260  5          Superior Universitaria           0          3    3    3    4   \n",
              "261  4          Superior Universitaria           1          2    3    5    1   \n",
              "262  4          Superior Universitaria           1          4    2    3    3   \n",
              "263  4          Secundaria                       0          4    3    2    5   \n",
              "264  4          Superior Universitaria           1          2    4    4    2   \n",
              "265  4          Superior Universitaria           1          2    4    4    3   \n",
              "266  5          Superior Universitaria           0          3    3    4    1   \n",
              "267  8          Superior Universitaria           1          3    3    4    2   \n",
              "268  5          Superior Universitaria           0          3    3    4    2   \n",
              "269  4          Superior Universitaria           1          3    2    3    3   \n",
              "270  6          Superior Universitaria           0          2    5    5    4   \n",
              "271  8          Superior Universitaria           1          3    4    4    3   \n",
              "272  4          Superior Universitaria           1          3    2    3    4   \n",
              "273  8          Superior Universitaria           1          4    3    3    3   \n",
              "274  5          Superior Universitaria           0          3    3    4    2   \n",
              "275  7          Superior Universitaria           0          3    4    4    3   \n",
              "276 14          Superior Universitaria           1          3    5    4    3   \n",
              "277  5          Superior Universitaria           1          2    3    5    2   \n",
              "278  3          Superior Universitaria           0          2    4    4    3   \n",
              "279  7          Superior Universitaria           0          4    3    2    4   \n",
              "280  4          Superior Universitaria           1          4    2    3    3   \n",
              "281  7          Superior Universitaria           1          2    4    3    3   \n",
              "282  7          Sin estudios, inicial o primaria 1          3    2    4    4   \n",
              "283  4          Superior Universitaria           1          4    3    2    4   \n",
              "284  4          Superior Universitaria           1          3    2    3    3   \n",
              "285  3          Superior Universitaria           1          4    2    3    4   \n",
              "286  7          Sin estudios, inicial o primaria 1          4    2    3    2   \n",
              "287  6          Superior Universitaria           1          3    1    2    4   \n",
              "288  3          Superior Universitaria           1          4    2    2    3   \n",
              "    EPA5 EPA6 Procrastinacion\n",
              "1   4    3    3.000000       \n",
              "2   4    5    3.666667       \n",
              "3   3    2    2.833333       \n",
              "4   3    4    3.833333       \n",
              "5   2    1    2.000000       \n",
              "6   3    3    3.166667       \n",
              "7   5    1    3.166667       \n",
              "8   5    2    3.500000       \n",
              "9   2    1    2.000000       \n",
              "10  4    4    3.666667       \n",
              "11  2    1    2.333333       \n",
              "12  4    5    3.333333       \n",
              "13  3    1    2.500000       \n",
              "14  2    1    2.166667       \n",
              "15  1    2    2.166667       \n",
              "16  1    3    2.833333       \n",
              "17  2    2    2.833333       \n",
              "18  2    1    2.166667       \n",
              "19  4    4    3.333333       \n",
              "20  4    1    2.333333       \n",
              "21  4    1    3.000000       \n",
              "22  3    5    3.833333       \n",
              "23  2    3    3.000000       \n",
              "24  4    5    3.666667       \n",
              "25  2    1    2.500000       \n",
              "26  1    1    2.000000       \n",
              "27  4    5    3.333333       \n",
              "28  2    3    2.666667       \n",
              "29  3    5    3.500000       \n",
              "30  1    3    2.333333       \n",
              "⋮   ⋮    ⋮    ⋮              \n",
              "259 3    2    2.666667       \n",
              "260 5    4    3.666667       \n",
              "261 1    1    2.166667       \n",
              "262 4    4    3.333333       \n",
              "263 5    3    3.666667       \n",
              "264 2    2    2.666667       \n",
              "265 2    2    2.833333       \n",
              "266 2    1    2.333333       \n",
              "267 2    2    2.666667       \n",
              "268 3    2    2.833333       \n",
              "269 3    1    2.500000       \n",
              "270 3    2    3.500000       \n",
              "271 2    3    3.166667       \n",
              "272 4    3    3.166667       \n",
              "273 3    2    3.000000       \n",
              "274 2    1    2.500000       \n",
              "275 2    1    2.833333       \n",
              "276 3    1    3.166667       \n",
              "277 2    3    2.833333       \n",
              "278 3    1    2.833333       \n",
              "279 4    5    3.666667       \n",
              "280 2    4    3.000000       \n",
              "281 3    1    2.666667       \n",
              "282 3    3    3.166667       \n",
              "283 4    5    3.666667       \n",
              "284 4    3    3.000000       \n",
              "285 4    3    3.333333       \n",
              "286 1    3    2.500000       \n",
              "287 4    1    2.500000       \n",
              "288 3    3    2.833333       "
            ]
          },
          "metadata": {}
        }
      ]
    },
    {
      "cell_type": "code",
      "source": [
        "df2 %>%\n",
        "  ggboxplot(x = \"Instrucción\", y = \"Procrastinacion\", \n",
        "            color = \"Instrucción\", shape = \"Instrucción\", \n",
        "            add = \"jitter\") +\n",
        "  scale_color_startrek()"
      ],
      "metadata": {
        "colab": {
          "base_uri": "https://localhost:8080/",
          "height": 437
        },
        "id": "OStCMdAkMDiT",
        "outputId": "c4390b0e-1e4d-423a-f72d-8c2d2bf22389"
      },
      "execution_count": 20,
      "outputs": [
        {
          "output_type": "display_data",
          "data": {
            "text/plain": [
              "plot without title"
            ],
            "image/png": "[encoded data removed]"
          },
          "metadata": {
            "image/png": {
              "width": 420,
              "height": 420
            }
          }
        }
      ]
    },
    {
      "cell_type": "code",
      "source": [
        "df2 %>% \n",
        "  anova_test(Procrastinacion ~ Instrucción, detailed = T)"
      ],
      "metadata": {
        "colab": {
          "base_uri": "https://localhost:8080/",
          "height": 129
        },
        "id": "Xyxgqrs3OILb",
        "outputId": "cddc88a0-a1a8-40a5-8d3a-fcdbe99ae124"
      },
      "execution_count": 21,
      "outputs": [
        {
          "output_type": "display_data",
          "data": {
            "text/html": [
              "<table class=\"dataframe\">\n",
              "<caption>A anova_test: 1 × 9</caption>\n",
              "<thead>\n",
              "\t<tr><th></th><th scope=col>Effect</th><th scope=col>SSn</th><th scope=col>SSd</th><th scope=col>DFn</th><th scope=col>DFd</th><th scope=col>F</th><th scope=col>p</th><th scope=col>p&lt;.05</th><th scope=col>ges</th></tr>\n",
              "\t<tr><th></th><th scope=col>&lt;chr&gt;</th><th scope=col>&lt;dbl&gt;</th><th scope=col>&lt;dbl&gt;</th><th scope=col>&lt;dbl&gt;</th><th scope=col>&lt;dbl&gt;</th><th scope=col>&lt;dbl&gt;</th><th scope=col>&lt;dbl&gt;</th><th scope=col>&lt;chr&gt;</th><th scope=col>&lt;dbl&gt;</th></tr>\n",
              "</thead>\n",
              "<tbody>\n",
              "\t<tr><th scope=row>1</th><td>Instrucción</td><td>0.136</td><td>58.201</td><td>3</td><td>284</td><td>0.222</td><td>0.881</td><td></td><td>0.002</td></tr>\n",
              "</tbody>\n",
              "</table>\n"
            ],
            "text/markdown": "\nA anova_test: 1 × 9\n\n| <!--/--> | Effect &lt;chr&gt; | SSn &lt;dbl&gt; | SSd &lt;dbl&gt; | DFn &lt;dbl&gt; | DFd &lt;dbl&gt; | F &lt;dbl&gt; | p &lt;dbl&gt; | p&lt;.05 &lt;chr&gt; | ges &lt;dbl&gt; |\n|---|---|---|---|---|---|---|---|---|---|\n| 1 | Instrucción | 0.136 | 58.201 | 3 | 284 | 0.222 | 0.881 | <!----> | 0.002 |\n\n",
            "text/latex": "A anova\\_test: 1 × 9\n\\begin{tabular}{r|lllllllll}\n  & Effect & SSn & SSd & DFn & DFd & F & p & p<.05 & ges\\\\\n  & <chr> & <dbl> & <dbl> & <dbl> & <dbl> & <dbl> & <dbl> & <chr> & <dbl>\\\\\n\\hline\n\t1 & Instrucción & 0.136 & 58.201 & 3 & 284 & 0.222 & 0.881 &  & 0.002\\\\\n\\end{tabular}\n",
            "text/plain": [
              "  Effect      SSn   SSd    DFn DFd F     p     p<.05 ges  \n",
              "1 Instrucción 0.136 58.201 3   284 0.222 0.881       0.002"
            ]
          },
          "metadata": {}
        }
      ]
    },
    {
      "cell_type": "markdown",
      "source": [
        "No se encontraron diferencias significativas en procrastinación global según nivel de instrucción de las y los participantes, F(3,284) = 0.22, p = .88. Este resultado indicaría que la postergación de tareas o el dejar para después las actividades en el día a día no se distingue en función al nivel educativo reportado."
      ],
      "metadata": {
        "id": "Y-JXE_9vRZDM"
      }
    },
    {
      "cell_type": "code",
      "source": [
        "df2 %>%\n",
        "  tukey_hsd(Procrastinacion ~ Instrucción)"
      ],
      "metadata": {
        "colab": {
          "base_uri": "https://localhost:8080/",
          "height": 286
        },
        "id": "xuMg-VX6OUSK",
        "outputId": "8f8b5de5-c489-4c6b-bae9-f3738430363d"
      },
      "execution_count": 22,
      "outputs": [
        {
          "output_type": "display_data",
          "data": {
            "text/html": [
              "<table class=\"dataframe\">\n",
              "<caption>A rstatix_test: 6 × 9</caption>\n",
              "<thead>\n",
              "\t<tr><th></th><th scope=col>term</th><th scope=col>group1</th><th scope=col>group2</th><th scope=col>null.value</th><th scope=col>estimate</th><th scope=col>conf.low</th><th scope=col>conf.high</th><th scope=col>p.adj</th><th scope=col>p.adj.signif</th></tr>\n",
              "\t<tr><th></th><th scope=col>&lt;chr&gt;</th><th scope=col>&lt;chr&gt;</th><th scope=col>&lt;chr&gt;</th><th scope=col>&lt;dbl&gt;</th><th scope=col>&lt;dbl&gt;</th><th scope=col>&lt;dbl&gt;</th><th scope=col>&lt;dbl&gt;</th><th scope=col>&lt;dbl&gt;</th><th scope=col>&lt;chr&gt;</th></tr>\n",
              "</thead>\n",
              "<tbody>\n",
              "\t<tr><th scope=row>1</th><td>Instrucción</td><td>Secundaria                      </td><td>Sin estudios, inicial o primaria</td><td>0</td><td> 0.10317460</td><td>-0.6189084</td><td>0.8252576</td><td>0.983</td><td>ns</td></tr>\n",
              "\t<tr><th scope=row>2</th><td>Instrucción</td><td>Secundaria                      </td><td>Superior Técnica                </td><td>0</td><td>-0.02813853</td><td>-0.4635709</td><td>0.4072939</td><td>0.998</td><td>ns</td></tr>\n",
              "\t<tr><th scope=row>3</th><td>Instrucción</td><td>Secundaria                      </td><td>Superior Universitaria          </td><td>0</td><td>-0.05580651</td><td>-0.3214855</td><td>0.2098724</td><td>0.948</td><td>ns</td></tr>\n",
              "\t<tr><th scope=row>4</th><td>Instrucción</td><td>Sin estudios, inicial o primaria</td><td>Superior Técnica                </td><td>0</td><td>-0.13131313</td><td>-0.8933199</td><td>0.6306936</td><td>0.970</td><td>ns</td></tr>\n",
              "\t<tr><th scope=row>5</th><td>Instrucción</td><td>Sin estudios, inicial o primaria</td><td>Superior Universitaria          </td><td>0</td><td>-0.15898112</td><td>-0.8384207</td><td>0.5204585</td><td>0.931</td><td>ns</td></tr>\n",
              "\t<tr><th scope=row>6</th><td>Instrucción</td><td>Superior Técnica                </td><td>Superior Universitaria          </td><td>0</td><td>-0.02766798</td><td>-0.3879952</td><td>0.3326593</td><td>0.997</td><td>ns</td></tr>\n",
              "</tbody>\n",
              "</table>\n"
            ],
            "text/markdown": "\nA rstatix_test: 6 × 9\n\n| <!--/--> | term &lt;chr&gt; | group1 &lt;chr&gt; | group2 &lt;chr&gt; | null.value &lt;dbl&gt; | estimate &lt;dbl&gt; | conf.low &lt;dbl&gt; | conf.high &lt;dbl&gt; | p.adj &lt;dbl&gt; | p.adj.signif &lt;chr&gt; |\n|---|---|---|---|---|---|---|---|---|---|\n| 1 | Instrucción | Secundaria                       | Sin estudios, inicial o primaria | 0 |  0.10317460 | -0.6189084 | 0.8252576 | 0.983 | ns |\n| 2 | Instrucción | Secundaria                       | Superior Técnica                 | 0 | -0.02813853 | -0.4635709 | 0.4072939 | 0.998 | ns |\n| 3 | Instrucción | Secundaria                       | Superior Universitaria           | 0 | -0.05580651 | -0.3214855 | 0.2098724 | 0.948 | ns |\n| 4 | Instrucción | Sin estudios, inicial o primaria | Superior Técnica                 | 0 | -0.13131313 | -0.8933199 | 0.6306936 | 0.970 | ns |\n| 5 | Instrucción | Sin estudios, inicial o primaria | Superior Universitaria           | 0 | -0.15898112 | -0.8384207 | 0.5204585 | 0.931 | ns |\n| 6 | Instrucción | Superior Técnica                 | Superior Universitaria           | 0 | -0.02766798 | -0.3879952 | 0.3326593 | 0.997 | ns |\n\n",
            "text/latex": "A rstatix\\_test: 6 × 9\n\\begin{tabular}{r|lllllllll}\n  & term & group1 & group2 & null.value & estimate & conf.low & conf.high & p.adj & p.adj.signif\\\\\n  & <chr> & <chr> & <chr> & <dbl> & <dbl> & <dbl> & <dbl> & <dbl> & <chr>\\\\\n\\hline\n\t1 & Instrucción & Secundaria                       & Sin estudios, inicial o primaria & 0 &  0.10317460 & -0.6189084 & 0.8252576 & 0.983 & ns\\\\\n\t2 & Instrucción & Secundaria                       & Superior Técnica                 & 0 & -0.02813853 & -0.4635709 & 0.4072939 & 0.998 & ns\\\\\n\t3 & Instrucción & Secundaria                       & Superior Universitaria           & 0 & -0.05580651 & -0.3214855 & 0.2098724 & 0.948 & ns\\\\\n\t4 & Instrucción & Sin estudios, inicial o primaria & Superior Técnica                 & 0 & -0.13131313 & -0.8933199 & 0.6306936 & 0.970 & ns\\\\\n\t5 & Instrucción & Sin estudios, inicial o primaria & Superior Universitaria           & 0 & -0.15898112 & -0.8384207 & 0.5204585 & 0.931 & ns\\\\\n\t6 & Instrucción & Superior Técnica                 & Superior Universitaria           & 0 & -0.02766798 & -0.3879952 & 0.3326593 & 0.997 & ns\\\\\n\\end{tabular}\n",
            "text/plain": [
              "  term        group1                           group2                          \n",
              "1 Instrucción Secundaria                       Sin estudios, inicial o primaria\n",
              "2 Instrucción Secundaria                       Superior Técnica                \n",
              "3 Instrucción Secundaria                       Superior Universitaria          \n",
              "4 Instrucción Sin estudios, inicial o primaria Superior Técnica                \n",
              "5 Instrucción Sin estudios, inicial o primaria Superior Universitaria          \n",
              "6 Instrucción Superior Técnica                 Superior Universitaria          \n",
              "  null.value estimate    conf.low   conf.high p.adj p.adj.signif\n",
              "1 0           0.10317460 -0.6189084 0.8252576 0.983 ns          \n",
              "2 0          -0.02813853 -0.4635709 0.4072939 0.998 ns          \n",
              "3 0          -0.05580651 -0.3214855 0.2098724 0.948 ns          \n",
              "4 0          -0.13131313 -0.8933199 0.6306936 0.970 ns          \n",
              "5 0          -0.15898112 -0.8384207 0.5204585 0.931 ns          \n",
              "6 0          -0.02766798 -0.3879952 0.3326593 0.997 ns          "
            ]
          },
          "metadata": {}
        }
      ]
    }
  ],
  "metadata": {
    "colab": {
      "provenance": []
    },
    "gpuClass": "standard",
    "kernelspec": {
      "display_name": "R",
      "name": "ir"
    },
    "language_info": {
      "name": "R"
    }
  },
  "nbformat": 4,
  "nbformat_minor": 0
}
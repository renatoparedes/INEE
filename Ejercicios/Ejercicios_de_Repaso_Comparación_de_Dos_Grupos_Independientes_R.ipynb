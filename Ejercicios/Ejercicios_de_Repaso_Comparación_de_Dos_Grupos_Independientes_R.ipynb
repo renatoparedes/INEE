{
  "nbformat": 4,
  "nbformat_minor": 0,
  "metadata": {
    "colab": {
      "provenance": []
    },
    "kernelspec": {
      "name": "ir",
      "display_name": "R"
    },
    "language_info": {
      "name": "R"
    }
  },
  "cells": [
    {
      "cell_type": "markdown",
      "source": [
        "# **Ejercicios de Repaso**\n",
        "## Comparación de Dos Grupos Independientes"
      ],
      "metadata": {
        "id": "9bLRxwBsFoHf"
      }
    },
    {
      "cell_type": "markdown",
      "source": [
        "Un grupo de investigación en desarrollo integral está interesado en trabajar la relación entre la motivación intrínseca y la autoeficacia académica. Para ello, encuestan a un grupo de estudiantes de cuarto a quinto de secundaria de un colegio privado en Jesús María."
      ],
      "metadata": {
        "id": "_EnleOqfF2e6"
      }
    },
    {
      "cell_type": "code",
      "execution_count": 1,
      "metadata": {
        "colab": {
          "base_uri": "https://localhost:8080/"
        },
        "cellView": "form",
        "id": "ZOJ1lxdgFaOz",
        "outputId": "c49fbe11-4ae1-42af-8d3a-3d5c047f5ac3"
      },
      "outputs": [
        {
          "output_type": "stream",
          "name": "stderr",
          "text": [
            "Installing packages into ‘/usr/local/lib/R/site-library’\n",
            "(as ‘lib’ is unspecified)\n",
            "\n",
            "also installing the dependencies ‘numDeriv’, ‘SparseM’, ‘MatrixModels’, ‘minqa’, ‘nloptr’, ‘Rcpp’, ‘RcppEigen’, ‘carData’, ‘abind’, ‘pbkrtest’, ‘quantreg’, ‘lme4’, ‘corrplot’, ‘car’\n",
            "\n",
            "\n",
            "── \u001b[1mAttaching core tidyverse packages\u001b[22m ──────────────────────── tidyverse 2.0.0 ──\n",
            "\u001b[32m✔\u001b[39m \u001b[34mdplyr    \u001b[39m 1.1.2     \u001b[32m✔\u001b[39m \u001b[34mreadr    \u001b[39m 2.1.4\n",
            "\u001b[32m✔\u001b[39m \u001b[34mforcats  \u001b[39m 1.0.0     \u001b[32m✔\u001b[39m \u001b[34mstringr  \u001b[39m 1.5.0\n",
            "\u001b[32m✔\u001b[39m \u001b[34mggplot2  \u001b[39m 3.4.3     \u001b[32m✔\u001b[39m \u001b[34mtibble   \u001b[39m 3.2.1\n",
            "\u001b[32m✔\u001b[39m \u001b[34mlubridate\u001b[39m 1.9.2     \u001b[32m✔\u001b[39m \u001b[34mtidyr    \u001b[39m 1.3.0\n",
            "\u001b[32m✔\u001b[39m \u001b[34mpurrr    \u001b[39m 1.0.2     \n",
            "── \u001b[1mConflicts\u001b[22m ────────────────────────────────────────── tidyverse_conflicts() ──\n",
            "\u001b[31m✖\u001b[39m \u001b[34mdplyr\u001b[39m::\u001b[32mfilter()\u001b[39m masks \u001b[34mstats\u001b[39m::filter()\n",
            "\u001b[31m✖\u001b[39m \u001b[34mdplyr\u001b[39m::\u001b[32mlag()\u001b[39m    masks \u001b[34mstats\u001b[39m::lag()\n",
            "\u001b[36mℹ\u001b[39m Use the conflicted package (\u001b[3m\u001b[34m<http://conflicted.r-lib.org/>\u001b[39m\u001b[23m) to force all conflicts to become errors\n",
            "\n",
            "Attaching package: ‘rstatix’\n",
            "\n",
            "\n",
            "The following object is masked from ‘package:stats’:\n",
            "\n",
            "    filter\n",
            "\n",
            "\n"
          ]
        }
      ],
      "source": [
        "# @title Instalar y cargar librerías\n",
        "install.packages(c(\"rstatix\", \"skimr\"))\n",
        "\n",
        "library(tidyverse)\n",
        "library(rstatix)"
      ]
    },
    {
      "cell_type": "code",
      "source": [
        "# @title Cargar conjunto de datos\n",
        "library(haven)\n",
        "\n",
        "df = read_sav(\"https://github.com/renatoparedes/INEE/raw/main/Ejercicios/Base%20-%20Ejercicios%20Comparaci%C3%B3n%20de%202%20grupos.sav\")\n",
        "\n",
        "print(\"Ten en cuenta que la base de datos de este ejercicio se denomina 'df'\")\n",
        "df %>% print(n = 10)"
      ],
      "metadata": {
        "colab": {
          "base_uri": "https://localhost:8080/"
        },
        "cellView": "form",
        "id": "5sL7cK9mHCjs",
        "outputId": "110576d5-c082-4a0b-a070-de57c3b7f435"
      },
      "execution_count": 13,
      "outputs": [
        {
          "output_type": "stream",
          "name": "stdout",
          "text": [
            "[1] \"Ten en cuenta que la base de datos de este ejercicio se denomina 'df'\"\n",
            "\u001b[90m# A tibble: 640 × 6\u001b[39m\n",
            "    Caso TipoDoc                            NSE       Salón     MotInt AutoAc\n",
            "   \u001b[3m\u001b[90m<dbl>\u001b[39m\u001b[23m \u001b[3m\u001b[90m<dbl+lbl>\u001b[39m\u001b[23m                          \u001b[3m\u001b[90m<dbl+lbl>\u001b[39m\u001b[23m \u001b[3m\u001b[90m<dbl+lbl>\u001b[39m\u001b[23m  \u001b[3m\u001b[90m<dbl>\u001b[39m\u001b[23m  \u001b[3m\u001b[90m<dbl>\u001b[39m\u001b[23m\n",
            "\u001b[90m 1\u001b[39m     1 1\u001b[90m [Docente con clases ordinales]\u001b[39m   1\u001b[90m [C]\u001b[39m     1\u001b[90m [4to]\u001b[39m       19     21\n",
            "\u001b[90m 2\u001b[39m     2 2\u001b[90m [Docente con clases gamificadas]\u001b[39m 1\u001b[90m [C]\u001b[39m     1\u001b[90m [4to]\u001b[39m       19     20\n",
            "\u001b[90m 3\u001b[39m     3 1\u001b[90m [Docente con clases ordinales]\u001b[39m   2\u001b[90m [A]\u001b[39m     1\u001b[90m [4to]\u001b[39m       21     22\n",
            "\u001b[90m 4\u001b[39m     4 2\u001b[90m [Docente con clases gamificadas]\u001b[39m 2\u001b[90m [A]\u001b[39m     1\u001b[90m [4to]\u001b[39m       20     21\n",
            "\u001b[90m 5\u001b[39m     5 1\u001b[90m [Docente con clases ordinales]\u001b[39m   1\u001b[90m [C]\u001b[39m     2\u001b[90m [5to]\u001b[39m       17     21\n",
            "\u001b[90m 6\u001b[39m     6 2\u001b[90m [Docente con clases gamificadas]\u001b[39m 1\u001b[90m [C]\u001b[39m     2\u001b[90m [5to]\u001b[39m       19     20\n",
            "\u001b[90m 7\u001b[39m     7 1\u001b[90m [Docente con clases ordinales]\u001b[39m   2\u001b[90m [A]\u001b[39m     2\u001b[90m [5to]\u001b[39m       18     21\n",
            "\u001b[90m 8\u001b[39m     8 2\u001b[90m [Docente con clases gamificadas]\u001b[39m 2\u001b[90m [A]\u001b[39m     2\u001b[90m [5to]\u001b[39m       21     20\n",
            "\u001b[90m 9\u001b[39m     9 1\u001b[90m [Docente con clases ordinales]\u001b[39m   1\u001b[90m [C]\u001b[39m     1\u001b[90m [4to]\u001b[39m       17     21\n",
            "\u001b[90m10\u001b[39m    10 2\u001b[90m [Docente con clases gamificadas]\u001b[39m 1\u001b[90m [C]\u001b[39m     1\u001b[90m [4to]\u001b[39m       20     22\n",
            "\u001b[90m# ℹ 630 more rows\u001b[39m\n"
          ]
        }
      ]
    },
    {
      "cell_type": "markdown",
      "source": [
        "a) A partir de la revisión bibliográfica, que da soporte a sus objetivos específicos, los integrantes del grupo de investigación creen que podría haber diferencias en el nivel de motivación intrínseca según las estrategias de dictado de los docentes. Así, creen que aquellos estudiantes que trabajen con un docente que fomenta el uso de actividades gamificadas en clase tendrán un mayor nivel de motivación intrínseca que aquellos que no cursan con estos docentes."
      ],
      "metadata": {
        "id": "tM5HWEWnGr1K"
      }
    },
    {
      "cell_type": "code",
      "source": [],
      "metadata": {
        "id": "3os53BOhG7I3"
      },
      "execution_count": null,
      "outputs": []
    },
    {
      "cell_type": "markdown",
      "source": [
        "b) Paralelamente, la literatura no es muy clara en tanto a si la motivación intrínseca varía según el nivel socioeconómico. Si bien se han encontrado diferencias en algunos trabajos, estas diferencias parecen tenues y contradichas con estudios mas recientes. No obstante, el grupo de investigación desea indagar en sí habría algún tipo de diferencias en el grupo encuestado."
      ],
      "metadata": {
        "id": "GOkCYNiwGyWS"
      }
    },
    {
      "cell_type": "code",
      "source": [],
      "metadata": {
        "id": "4yu5ym8FG7lQ"
      },
      "execution_count": null,
      "outputs": []
    },
    {
      "cell_type": "markdown",
      "source": [
        "b)\tFinalmente, creen que aquellos estudiantes que tienen un grado mayor en el colegio, tendrían un mejor nivel de motivación intríseca. Distintos estudios apuntan a que el éxito y el logro escolar va de la mano con una mayor interiorización de las tareas y trabajos realizados en el aula. De esta forma, el encontrarse en un grado mayor, los estudiantes estarían evidenciando cierto nivel de autonomía y motivación propia para realizar sus distintos trabajos."
      ],
      "metadata": {
        "id": "4POTAaY_G20O"
      }
    },
    {
      "cell_type": "code",
      "source": [],
      "metadata": {
        "id": "uKzqizn2MGGk"
      },
      "execution_count": null,
      "outputs": []
    }
  ]
}
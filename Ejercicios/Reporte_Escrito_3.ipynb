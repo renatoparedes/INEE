{
  "nbformat": 4,
  "nbformat_minor": 0,
  "metadata": {
    "colab": {
      "provenance": []
    },
    "kernelspec": {
      "name": "ir",
      "display_name": "R"
    },
    "language_info": {
      "name": "R"
    }
  },
  "cells": [
    {
      "cell_type": "markdown",
      "source": [
        "# **Reporte Escrito 3. Análisis de regresión múltiple y logística**"
      ],
      "metadata": {
        "id": "fwEmntpsteWP"
      }
    },
    {
      "cell_type": "code",
      "source": [
        "# @title Instalar y cargar paquetes\n",
        "install.packages(c(\"blorr\", \"rstatix\", \"QuantPsyc\", \"olsrr\"))\n",
        "library(tidyverse)\n",
        "library(blorr)\n",
        "library(rstatix)\n",
        "library(QuantPsyc)\n",
        "library(olsrr)"
      ],
      "metadata": {
        "colab": {
          "base_uri": "https://localhost:8080/"
        },
        "id": "e-RZzxcEvMUy",
        "outputId": "70130d9c-8eab-4a86-de60-aed88e7a8fd9"
      },
      "execution_count": 4,
      "outputs": [
        {
          "output_type": "stream",
          "name": "stderr",
          "text": [
            "Installing packages into ‘/usr/local/lib/R/site-library’\n",
            "(as ‘lib’ is unspecified)\n",
            "\n",
            "also installing the dependencies ‘numDeriv’, ‘SparseM’, ‘MatrixModels’, ‘minqa’, ‘nloptr’, ‘RcppEigen’, ‘carData’, ‘abind’, ‘pbkrtest’, ‘quantreg’, ‘lme4’, ‘car’, ‘gridExtra’, ‘lest’, ‘Rcpp’, ‘corrplot’, ‘goftest’, ‘nortest’\n",
            "\n",
            "\n",
            "── \u001b[1mAttaching core tidyverse packages\u001b[22m ──────────────────────── tidyverse 2.0.0 ──\n",
            "\u001b[32m✔\u001b[39m \u001b[34mdplyr    \u001b[39m 1.1.3     \u001b[32m✔\u001b[39m \u001b[34mreadr    \u001b[39m 2.1.4\n",
            "\u001b[32m✔\u001b[39m \u001b[34mforcats  \u001b[39m 1.0.0     \u001b[32m✔\u001b[39m \u001b[34mstringr  \u001b[39m 1.5.0\n",
            "\u001b[32m✔\u001b[39m \u001b[34mggplot2  \u001b[39m 3.4.3     \u001b[32m✔\u001b[39m \u001b[34mtibble   \u001b[39m 3.2.1\n",
            "\u001b[32m✔\u001b[39m \u001b[34mlubridate\u001b[39m 1.9.3     \u001b[32m✔\u001b[39m \u001b[34mtidyr    \u001b[39m 1.3.0\n",
            "\u001b[32m✔\u001b[39m \u001b[34mpurrr    \u001b[39m 1.0.2     \n",
            "── \u001b[1mConflicts\u001b[22m ────────────────────────────────────────── tidyverse_conflicts() ──\n",
            "\u001b[31m✖\u001b[39m \u001b[34mdplyr\u001b[39m::\u001b[32mfilter()\u001b[39m masks \u001b[34mstats\u001b[39m::filter()\n",
            "\u001b[31m✖\u001b[39m \u001b[34mdplyr\u001b[39m::\u001b[32mlag()\u001b[39m    masks \u001b[34mstats\u001b[39m::lag()\n",
            "\u001b[36mℹ\u001b[39m Use the conflicted package (\u001b[3m\u001b[34m<http://conflicted.r-lib.org/>\u001b[39m\u001b[23m) to force all conflicts to become errors\n",
            "\n",
            "Attaching package: ‘rstatix’\n",
            "\n",
            "\n",
            "The following object is masked from ‘package:stats’:\n",
            "\n",
            "    filter\n",
            "\n",
            "\n",
            "Loading required package: boot\n",
            "\n",
            "Loading required package: MASS\n",
            "\n",
            "\n",
            "Attaching package: ‘MASS’\n",
            "\n",
            "\n",
            "The following object is masked from ‘package:rstatix’:\n",
            "\n",
            "    select\n",
            "\n",
            "\n",
            "The following object is masked from ‘package:dplyr’:\n",
            "\n",
            "    select\n",
            "\n",
            "\n",
            "\n",
            "Attaching package: ‘QuantPsyc’\n",
            "\n",
            "\n",
            "The following object is masked from ‘package:base’:\n",
            "\n",
            "    norm\n",
            "\n",
            "\n",
            "\n",
            "Attaching package: ‘olsrr’\n",
            "\n",
            "\n",
            "The following object is masked from ‘package:MASS’:\n",
            "\n",
            "    cement\n",
            "\n",
            "\n",
            "The following object is masked from ‘package:datasets’:\n",
            "\n",
            "    rivers\n",
            "\n",
            "\n"
          ]
        }
      ]
    },
    {
      "cell_type": "markdown",
      "source": [
        "En un estudio con 140 adultos diagnosticados con diabetes tipo II (47.9% mujeres) se recogió información sobre **adherencia al tratamiento (Sí-No), calidad de vida relacionada con la salud (CVRS), soporte familiar, tiempo de tratamiento en meses** y puntajes de evaluaciones de **memoria a corto plazo**. También se registraron datos de **sexo (Mujer-Hombre)** y **edad**."
      ],
      "metadata": {
        "id": "AomVgAZptLvi"
      }
    },
    {
      "cell_type": "markdown",
      "source": [
        "## **Problema 1**"
      ],
      "metadata": {
        "id": "DekJ098AtaV8"
      }
    },
    {
      "cell_type": "markdown",
      "source": [
        "En el estudio se planteó que las/los participantes con mayores puntajes de CVRS y de soporte familiar reportarían su adherencia al tratamiento indicado por los profesionales de salud así como aquellas con menor edad **(10 puntos)**"
      ],
      "metadata": {
        "id": "zkUUWiGutjWd"
      }
    },
    {
      "cell_type": "code",
      "source": [
        "p1 = haven::read_sav(\"https://github.com/renatoparedes/EstadisticaYPsicologiaMatematica/raw/main/INEE/BaseReporte3.sav\")\n",
        "print(p1, n = 10)"
      ],
      "metadata": {
        "colab": {
          "base_uri": "https://localhost:8080/"
        },
        "id": "-O6InsfovF0Q",
        "outputId": "e73e2706-6cc0-4846-c936-e15d63f72c6a"
      },
      "execution_count": 1,
      "outputs": [
        {
          "output_type": "stream",
          "name": "stdout",
          "text": [
            "\u001b[90m# A tibble: 140 × 8\u001b[39m\n",
            "   Código Sexo        Edad Adherencia  CVRS SoporteFam TTratamiento MemCorto\n",
            "   \u001b[3m\u001b[90m<chr>\u001b[39m\u001b[23m  \u001b[3m\u001b[90m<dbl+lbl>\u001b[39m\u001b[23m  \u001b[3m\u001b[90m<dbl>\u001b[39m\u001b[23m \u001b[3m\u001b[90m<dbl+lbl>\u001b[39m\u001b[23m  \u001b[3m\u001b[90m<dbl>\u001b[39m\u001b[23m      \u001b[3m\u001b[90m<dbl>\u001b[39m\u001b[23m        \u001b[3m\u001b[90m<dbl>\u001b[39m\u001b[23m    \u001b[3m\u001b[90m<dbl>\u001b[39m\u001b[23m\n",
            "\u001b[90m 1\u001b[39m 001    1\u001b[90m [Hombre]\u001b[39m    59 0\u001b[90m [No]\u001b[39m      37         23.5           10       56\n",
            "\u001b[90m 2\u001b[39m 002    1\u001b[90m [Hombre]\u001b[39m    54 0\u001b[90m [No]\u001b[39m      38         22.5            3       43\n",
            "\u001b[90m 3\u001b[39m 003    1\u001b[90m [Hombre]\u001b[39m    60 0\u001b[90m [No]\u001b[39m      38.5       23.5            5       52\n",
            "\u001b[90m 4\u001b[39m 004    1\u001b[90m [Hombre]\u001b[39m    62 0\u001b[90m [No]\u001b[39m      38         22.2            7       55\n",
            "\u001b[90m 5\u001b[39m 005    1\u001b[90m [Hombre]\u001b[39m    55 0\u001b[90m [No]\u001b[39m      38         22.8            6       52\n",
            "\u001b[90m 6\u001b[39m 006    2\u001b[90m [Mujer]\u001b[39m     56 0\u001b[90m [No]\u001b[39m      38.5       22.5            6       51\n",
            "\u001b[90m 7\u001b[39m 007    2\u001b[90m [Mujer]\u001b[39m     51 0\u001b[90m [No]\u001b[39m      37         22.5            9       54\n",
            "\u001b[90m 8\u001b[39m 008    2\u001b[90m [Mujer]\u001b[39m     50 0\u001b[90m [No]\u001b[39m      38         22.8            7       57\n",
            "\u001b[90m 9\u001b[39m 009    1\u001b[90m [Hombre]\u001b[39m    45 0\u001b[90m [No]\u001b[39m      38         23.8            3       40\n",
            "\u001b[90m10\u001b[39m 010    1\u001b[90m [Hombre]\u001b[39m    46 0\u001b[90m [No]\u001b[39m      38         24.2            4       43\n",
            "\u001b[90m# ℹ 130 more rows\u001b[39m\n"
          ]
        }
      ]
    },
    {
      "cell_type": "markdown",
      "source": [
        "a. Plantea las hipótesis de trabajo, señala la ecuación del modelo e indica las hipótesis estadísticas correspondientes.\n"
      ],
      "metadata": {
        "id": "7ZRPzKchtqa8"
      }
    },
    {
      "cell_type": "markdown",
      "source": [
        "b. Evalúa el funcionamiento general del modelo: ajuste y capacidad predictiva."
      ],
      "metadata": {
        "id": "0kd8sBoEtuRR"
      }
    },
    {
      "cell_type": "markdown",
      "source": [
        "c. ¿Se cumplen las hipótesis planteadas? Lleva a cabo el análisis respectivo y redacta las conclusiones."
      ],
      "metadata": {
        "id": "KCS_dL4dtwXc"
      }
    },
    {
      "cell_type": "markdown",
      "source": [
        "d. ¿Cuál es la variable más importante para pronosticar que una persona se adhiera al tratamiento?"
      ],
      "metadata": {
        "id": "Rsileh7ctzBy"
      }
    },
    {
      "cell_type": "markdown",
      "source": [
        "## **Problema 2**"
      ],
      "metadata": {
        "id": "E-aoC8KAt2Y5"
      }
    },
    {
      "cell_type": "markdown",
      "source": [
        "Existe evidencia que sugiere que habría diferencia en la disposición de adherirse al tratamiento de la diabetes tipo II entre mujeres y hombres. Segmenta la base de datos según la variable ‘sexo de participante’ y evalúa si se observa alguna diferencia en el modelo de regresión analizado en el problema anterior.**(2 puntos)**"
      ],
      "metadata": {
        "id": "C8QZfyLnt6Rt"
      }
    },
    {
      "cell_type": "code",
      "source": [
        "p2 = haven::read_sav(\"https://github.com/renatoparedes/EstadisticaYPsicologiaMatematica/raw/main/INEE/BaseReporte3.sav\")\n",
        "print(p1, n = 10)"
      ],
      "metadata": {
        "colab": {
          "base_uri": "https://localhost:8080/"
        },
        "id": "8ibJvxe6vGnQ",
        "outputId": "347bc84b-1994-4e39-930b-891615c40390"
      },
      "execution_count": 2,
      "outputs": [
        {
          "output_type": "stream",
          "name": "stdout",
          "text": [
            "\u001b[90m# A tibble: 140 × 8\u001b[39m\n",
            "   Código Sexo        Edad Adherencia  CVRS SoporteFam TTratamiento MemCorto\n",
            "   \u001b[3m\u001b[90m<chr>\u001b[39m\u001b[23m  \u001b[3m\u001b[90m<dbl+lbl>\u001b[39m\u001b[23m  \u001b[3m\u001b[90m<dbl>\u001b[39m\u001b[23m \u001b[3m\u001b[90m<dbl+lbl>\u001b[39m\u001b[23m  \u001b[3m\u001b[90m<dbl>\u001b[39m\u001b[23m      \u001b[3m\u001b[90m<dbl>\u001b[39m\u001b[23m        \u001b[3m\u001b[90m<dbl>\u001b[39m\u001b[23m    \u001b[3m\u001b[90m<dbl>\u001b[39m\u001b[23m\n",
            "\u001b[90m 1\u001b[39m 001    1\u001b[90m [Hombre]\u001b[39m    59 0\u001b[90m [No]\u001b[39m      37         23.5           10       56\n",
            "\u001b[90m 2\u001b[39m 002    1\u001b[90m [Hombre]\u001b[39m    54 0\u001b[90m [No]\u001b[39m      38         22.5            3       43\n",
            "\u001b[90m 3\u001b[39m 003    1\u001b[90m [Hombre]\u001b[39m    60 0\u001b[90m [No]\u001b[39m      38.5       23.5            5       52\n",
            "\u001b[90m 4\u001b[39m 004    1\u001b[90m [Hombre]\u001b[39m    62 0\u001b[90m [No]\u001b[39m      38         22.2            7       55\n",
            "\u001b[90m 5\u001b[39m 005    1\u001b[90m [Hombre]\u001b[39m    55 0\u001b[90m [No]\u001b[39m      38         22.8            6       52\n",
            "\u001b[90m 6\u001b[39m 006    2\u001b[90m [Mujer]\u001b[39m     56 0\u001b[90m [No]\u001b[39m      38.5       22.5            6       51\n",
            "\u001b[90m 7\u001b[39m 007    2\u001b[90m [Mujer]\u001b[39m     51 0\u001b[90m [No]\u001b[39m      37         22.5            9       54\n",
            "\u001b[90m 8\u001b[39m 008    2\u001b[90m [Mujer]\u001b[39m     50 0\u001b[90m [No]\u001b[39m      38         22.8            7       57\n",
            "\u001b[90m 9\u001b[39m 009    1\u001b[90m [Hombre]\u001b[39m    45 0\u001b[90m [No]\u001b[39m      38         23.8            3       40\n",
            "\u001b[90m10\u001b[39m 010    1\u001b[90m [Hombre]\u001b[39m    46 0\u001b[90m [No]\u001b[39m      38         24.2            4       43\n",
            "\u001b[90m# ℹ 130 more rows\u001b[39m\n"
          ]
        }
      ]
    },
    {
      "cell_type": "markdown",
      "source": [
        "a. Evalúa y compara el funcionamiento general del modelo entre mujeres y hombres."
      ],
      "metadata": {
        "id": "R4syfimbuAfP"
      }
    },
    {
      "cell_type": "markdown",
      "source": [
        "b. ¿Qué se puede decir de la comparación de los resultados de los modelos? Redacta las conclusiones"
      ],
      "metadata": {
        "id": "hYZ0GmHDuC8N"
      }
    },
    {
      "cell_type": "markdown",
      "source": [
        "## **Problema 3**"
      ],
      "metadata": {
        "id": "nUn-2fMmuHQH"
      }
    },
    {
      "cell_type": "markdown",
      "source": [
        "La literatura sobre el desarrollo humano temprano indica que la autoeficacia parental y la insatisfacción marital constituyen factores que predicen el compromiso paterno en la crianza en la niñez. Un grupo de investigación llevó a cabo un estudio para conocer si ambos factores estiman el compromiso reportado por papás en la región Loreto. **(8 puntos)**"
      ],
      "metadata": {
        "id": "KqC0FAMquQPT"
      }
    },
    {
      "cell_type": "code",
      "source": [
        "p3 = haven::read_sav(\"https://github.com/renatoparedes/EstadisticaYPsicologiaMatematica/raw/main/INEE/BaseReporte2.sav\")\n",
        "print(p1, n = 10)"
      ],
      "metadata": {
        "colab": {
          "base_uri": "https://localhost:8080/"
        },
        "id": "Paqnnl9EvIUI",
        "outputId": "bbd5f995-96c2-4045-efa8-2b4b6704e3d4"
      },
      "execution_count": 3,
      "outputs": [
        {
          "output_type": "stream",
          "name": "stdout",
          "text": [
            "\u001b[90m# A tibble: 140 × 8\u001b[39m\n",
            "   Código Sexo        Edad Adherencia  CVRS SoporteFam TTratamiento MemCorto\n",
            "   \u001b[3m\u001b[90m<chr>\u001b[39m\u001b[23m  \u001b[3m\u001b[90m<dbl+lbl>\u001b[39m\u001b[23m  \u001b[3m\u001b[90m<dbl>\u001b[39m\u001b[23m \u001b[3m\u001b[90m<dbl+lbl>\u001b[39m\u001b[23m  \u001b[3m\u001b[90m<dbl>\u001b[39m\u001b[23m      \u001b[3m\u001b[90m<dbl>\u001b[39m\u001b[23m        \u001b[3m\u001b[90m<dbl>\u001b[39m\u001b[23m    \u001b[3m\u001b[90m<dbl>\u001b[39m\u001b[23m\n",
            "\u001b[90m 1\u001b[39m 001    1\u001b[90m [Hombre]\u001b[39m    59 0\u001b[90m [No]\u001b[39m      37         23.5           10       56\n",
            "\u001b[90m 2\u001b[39m 002    1\u001b[90m [Hombre]\u001b[39m    54 0\u001b[90m [No]\u001b[39m      38         22.5            3       43\n",
            "\u001b[90m 3\u001b[39m 003    1\u001b[90m [Hombre]\u001b[39m    60 0\u001b[90m [No]\u001b[39m      38.5       23.5            5       52\n",
            "\u001b[90m 4\u001b[39m 004    1\u001b[90m [Hombre]\u001b[39m    62 0\u001b[90m [No]\u001b[39m      38         22.2            7       55\n",
            "\u001b[90m 5\u001b[39m 005    1\u001b[90m [Hombre]\u001b[39m    55 0\u001b[90m [No]\u001b[39m      38         22.8            6       52\n",
            "\u001b[90m 6\u001b[39m 006    2\u001b[90m [Mujer]\u001b[39m     56 0\u001b[90m [No]\u001b[39m      38.5       22.5            6       51\n",
            "\u001b[90m 7\u001b[39m 007    2\u001b[90m [Mujer]\u001b[39m     51 0\u001b[90m [No]\u001b[39m      37         22.5            9       54\n",
            "\u001b[90m 8\u001b[39m 008    2\u001b[90m [Mujer]\u001b[39m     50 0\u001b[90m [No]\u001b[39m      38         22.8            7       57\n",
            "\u001b[90m 9\u001b[39m 009    1\u001b[90m [Hombre]\u001b[39m    45 0\u001b[90m [No]\u001b[39m      38         23.8            3       40\n",
            "\u001b[90m10\u001b[39m 010    1\u001b[90m [Hombre]\u001b[39m    46 0\u001b[90m [No]\u001b[39m      38         24.2            4       43\n",
            "\u001b[90m# ℹ 130 more rows\u001b[39m\n"
          ]
        }
      ]
    },
    {
      "cell_type": "markdown",
      "source": [
        "a. Escribe la hipótesis de trabajo (HT) así como las hipótesis estadísticas (H0 y H1) correspondientes a cada variable predictora del modelo a analizar.\n"
      ],
      "metadata": {
        "id": "RI6cQj8RuYcI"
      }
    },
    {
      "cell_type": "markdown",
      "source": [
        "b. Plantea la ecuación del modelo para la HT."
      ],
      "metadata": {
        "id": "Mkw5MKobucYn"
      }
    },
    {
      "cell_type": "markdown",
      "source": [
        "c. Evalúa los supuestos necesarios para continuar con el análisis de regresión.\n",
        "\n",
        "*   Linealidad\n",
        "*   Normalidad de residuos\n",
        "*   Multicolinealidad"
      ],
      "metadata": {
        "id": "ZHuj769Iuend"
      }
    },
    {
      "cell_type": "markdown",
      "source": [
        "c. Evalúa el ajuste del modelo planteado y presenta el coeficiente de determinación de acuerdo con la variabilidad explicada del compromiso paterno y a su magnitud.\n"
      ],
      "metadata": {
        "id": "Y8xTgH_cugl2"
      }
    },
    {
      "cell_type": "markdown",
      "source": [
        "e.  Indica si se cumplen las hipótesis para cada una de las variables consideradas por el grupo de investigación y redacta tu conclusión.\n"
      ],
      "metadata": {
        "id": "gI8V3EOxutJr"
      }
    },
    {
      "cell_type": "markdown",
      "source": [
        "f. Finalmente, identifica cuál es la variable más importante en el modelo, de ser pertinente."
      ],
      "metadata": {
        "id": "_waqakadu0KK"
      }
    }
  ]
}
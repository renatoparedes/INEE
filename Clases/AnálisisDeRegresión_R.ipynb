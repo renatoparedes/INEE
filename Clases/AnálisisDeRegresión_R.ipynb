{
  "nbformat": 4,
  "nbformat_minor": 0,
  "metadata": {
    "colab": {
      "provenance": []
    },
    "kernelspec": {
      "name": "ir",
      "display_name": "R"
    },
    "language_info": {
      "name": "R"
    }
  },
  "cells": [
    {
      "cell_type": "markdown",
      "source": [
        "# **Analisis de regresión lineal simple**"
      ],
      "metadata": {
        "id": "CE9jj8Upj9Rr"
      }
    },
    {
      "cell_type": "code",
      "source": [
        "# @title instala librerías\n",
        "\n",
        "install.packages(\"rstatix\")\n",
        "\n",
        "library(rstatix)\n",
        "library(tidyverse)"
      ],
      "metadata": {
        "id": "qToXOUf1k50Y",
        "outputId": "ec8b16b4-daf8-4dfe-eeb3-fa9eb2cf7674",
        "colab": {
          "base_uri": "https://localhost:8080/"
        }
      },
      "execution_count": null,
      "outputs": [
        {
          "output_type": "stream",
          "name": "stderr",
          "text": [
            "Installing package into ‘/usr/local/lib/R/site-library’\n",
            "(as ‘lib’ is unspecified)\n",
            "\n",
            "also installing the dependencies ‘numDeriv’, ‘SparseM’, ‘MatrixModels’, ‘minqa’, ‘nloptr’, ‘Rcpp’, ‘RcppEigen’, ‘carData’, ‘abind’, ‘pbkrtest’, ‘quantreg’, ‘lme4’, ‘corrplot’, ‘car’\n",
            "\n",
            "\n",
            "\n",
            "Attaching package: ‘rstatix’\n",
            "\n",
            "\n",
            "The following object is masked from ‘package:stats’:\n",
            "\n",
            "    filter\n",
            "\n",
            "\n"
          ]
        }
      ]
    },
    {
      "cell_type": "markdown",
      "source": [
        "# Visualización de datos"
      ],
      "metadata": {
        "id": "rYjNyw78p_OI"
      }
    },
    {
      "cell_type": "code",
      "source": [
        "data <- haven::read_sav(\"https://github.com/renatoparedes/EstadisticaYPsicologiaMatematica/raw/main/INEE/Clase9_BaseRegresionLinealSimpleYMultiple.sav\")\n",
        "data %>% print(n = 10)"
      ],
      "metadata": {
        "colab": {
          "base_uri": "https://localhost:8080/"
        },
        "id": "RUp4wBi_qBfS",
        "outputId": "bdc045fe-8bbc-413d-918d-6aa466e6640f"
      },
      "execution_count": null,
      "outputs": [
        {
          "output_type": "stream",
          "name": "stdout",
          "text": [
            "\u001b[90m# A tibble: 72 × 8\u001b[39m\n",
            "   Código Sexo       Relación HistVinc Afroproblema Afroemoción Estrés_académico\n",
            "   \u001b[3m\u001b[90m<chr>\u001b[39m\u001b[23m  \u001b[3m\u001b[90m<dbl+lbl>\u001b[39m\u001b[23m  \u001b[3m\u001b[90m<dbl+lb>\u001b[39m\u001b[23m    \u001b[3m\u001b[90m<dbl>\u001b[39m\u001b[23m        \u001b[3m\u001b[90m<dbl>\u001b[39m\u001b[23m       \u001b[3m\u001b[90m<dbl>\u001b[39m\u001b[23m            \u001b[3m\u001b[90m<dbl>\u001b[39m\u001b[23m\n",
            "\u001b[90m 1\u001b[39m 001    2\u001b[90m [Femeni\u001b[39m\u001b[90m…\u001b[39m 1\u001b[90m [Si]\u001b[39m          6         29.2          38               45\n",
            "\u001b[90m 2\u001b[39m 002    2\u001b[90m [Femeni\u001b[39m\u001b[90m…\u001b[39m 0\u001b[90m [No]\u001b[39m          7         23.8          45               45\n",
            "\u001b[90m 3\u001b[39m 003    2\u001b[90m [Femeni\u001b[39m\u001b[90m…\u001b[39m 0\u001b[90m [No]\u001b[39m          8         24.6          50               45\n",
            "\u001b[90m 4\u001b[39m 004    2\u001b[90m [Femeni\u001b[39m\u001b[90m…\u001b[39m 0\u001b[90m [No]\u001b[39m          5         21.5          45               45\n",
            "\u001b[90m 5\u001b[39m 005    2\u001b[90m [Femeni\u001b[39m\u001b[90m…\u001b[39m 1\u001b[90m [Si]\u001b[39m          8         30            49               44\n",
            "\u001b[90m 6\u001b[39m 006    2\u001b[90m [Femeni\u001b[39m\u001b[90m…\u001b[39m 1\u001b[90m [Si]\u001b[39m          6         33.1          48               44\n",
            "\u001b[90m 7\u001b[39m 007    1\u001b[90m [Mascul\u001b[39m\u001b[90m…\u001b[39m 0\u001b[90m [No]\u001b[39m          6         31.5          44               43\n",
            "\u001b[90m 8\u001b[39m 008    1\u001b[90m [Mascul\u001b[39m\u001b[90m…\u001b[39m 1\u001b[90m [Si]\u001b[39m         11         21.5          36               43\n",
            "\u001b[90m 9\u001b[39m 009    2\u001b[90m [Femeni\u001b[39m\u001b[90m…\u001b[39m 0\u001b[90m [No]\u001b[39m          8         22.3          35               43\n",
            "\u001b[90m10\u001b[39m 010    2\u001b[90m [Femeni\u001b[39m\u001b[90m…\u001b[39m 1\u001b[90m [Si]\u001b[39m          8         23.8          32               42\n",
            "\u001b[90m# ℹ 62 more rows\u001b[39m\n",
            "\u001b[90m# ℹ 1 more variable: ZRE_1 <dbl>\u001b[39m\n"
          ]
        }
      ]
    },
    {
      "cell_type": "code",
      "source": [
        "data %>%\n",
        "  ggplot(aes(x = Afroemoción, y = Estrés_académico)) +\n",
        "  geom_point() +\n",
        "  geom_smooth(method = lm) +\n",
        "  labs(x = \"Afrontamiento centrado en la emoción\",\n",
        "       y = \"Estrés Académico\")"
      ],
      "metadata": {
        "colab": {
          "base_uri": "https://localhost:8080/",
          "height": 454
        },
        "id": "gm9D3-e_qJ6-",
        "outputId": "26bfcab0-1ad3-4e29-aca9-04d76638d05a"
      },
      "execution_count": null,
      "outputs": [
        {
          "output_type": "stream",
          "name": "stderr",
          "text": [
            "\u001b[1m\u001b[22m`geom_smooth()` using formula = 'y ~ x'\n"
          ]
        },
        {
          "output_type": "display_data",
          "data": {
            "text/plain": [
              "plot without title"
            ],
            "image/png": "[encoded data removed]"
          },
          "metadata": {
            "image/png": {
              "width": 420,
              "height": 420
            }
          }
        }
      ]
    },
    {
      "cell_type": "markdown",
      "source": [
        "# Verifcación de supuestos"
      ],
      "metadata": {
        "id": "GsVkkeHjqMuD"
      }
    },
    {
      "cell_type": "markdown",
      "source": [
        "## Linealidad de la relación"
      ],
      "metadata": {
        "id": "p0VZyKDjqOsc"
      }
    },
    {
      "cell_type": "code",
      "source": [
        "data %>%\n",
        "  shapiro_test(Estrés_académico, Afroemoción)"
      ],
      "metadata": {
        "colab": {
          "base_uri": "https://localhost:8080/",
          "height": 161
        },
        "id": "ULujiQRYqQff",
        "outputId": "92865693-cade-4b1f-9331-82dc018b3117"
      },
      "execution_count": null,
      "outputs": [
        {
          "output_type": "display_data",
          "data": {
            "text/html": [
              "<table class=\"dataframe\">\n",
              "<caption>A tibble: 2 × 3</caption>\n",
              "<thead>\n",
              "\t<tr><th scope=col>variable</th><th scope=col>statistic</th><th scope=col>p</th></tr>\n",
              "\t<tr><th scope=col>&lt;chr&gt;</th><th scope=col>&lt;dbl&gt;</th><th scope=col>&lt;dbl&gt;</th></tr>\n",
              "</thead>\n",
              "<tbody>\n",
              "\t<tr><td>Afroemoción     </td><td>0.9712212</td><td>0.097620243</td></tr>\n",
              "\t<tr><td>Estrés_académico</td><td>0.9359159</td><td>0.001187091</td></tr>\n",
              "</tbody>\n",
              "</table>\n"
            ],
            "text/markdown": "\nA tibble: 2 × 3\n\n| variable &lt;chr&gt; | statistic &lt;dbl&gt; | p &lt;dbl&gt; |\n|---|---|---|\n| Afroemoción      | 0.9712212 | 0.097620243 |\n| Estrés_académico | 0.9359159 | 0.001187091 |\n\n",
            "text/latex": "A tibble: 2 × 3\n\\begin{tabular}{lll}\n variable & statistic & p\\\\\n <chr> & <dbl> & <dbl>\\\\\n\\hline\n\t Afroemoción      & 0.9712212 & 0.097620243\\\\\n\t Estrés\\_académico & 0.9359159 & 0.001187091\\\\\n\\end{tabular}\n",
            "text/plain": [
              "  variable         statistic p          \n",
              "1 Afroemoción      0.9712212 0.097620243\n",
              "2 Estrés_académico 0.9359159 0.001187091"
            ]
          },
          "metadata": {}
        }
      ]
    },
    {
      "cell_type": "code",
      "source": [
        "data %>%\n",
        "  cor_test(Estrés_académico, Afroemoción, method = \"spearman\")"
      ],
      "metadata": {
        "colab": {
          "base_uri": "https://localhost:8080/",
          "height": 129
        },
        "id": "AALH8QMaqWWl",
        "outputId": "dfaa8f60-42c8-4d8a-b071-449012397093"
      },
      "execution_count": null,
      "outputs": [
        {
          "output_type": "display_data",
          "data": {
            "text/html": [
              "<table class=\"dataframe\">\n",
              "<caption>A cor_test: 1 × 6</caption>\n",
              "<thead>\n",
              "\t<tr><th scope=col>var1</th><th scope=col>var2</th><th scope=col>cor</th><th scope=col>statistic</th><th scope=col>p</th><th scope=col>method</th></tr>\n",
              "\t<tr><th scope=col>&lt;chr&gt;</th><th scope=col>&lt;chr&gt;</th><th scope=col>&lt;dbl&gt;</th><th scope=col>&lt;dbl&gt;</th><th scope=col>&lt;dbl&gt;</th><th scope=col>&lt;chr&gt;</th></tr>\n",
              "</thead>\n",
              "<tbody>\n",
              "\t<tr><td>Estrés_académico</td><td>Afroemoción</td><td>0.94</td><td>3893.535</td><td>8.67e-34</td><td>Spearman</td></tr>\n",
              "</tbody>\n",
              "</table>\n"
            ],
            "text/markdown": "\nA cor_test: 1 × 6\n\n| var1 &lt;chr&gt; | var2 &lt;chr&gt; | cor &lt;dbl&gt; | statistic &lt;dbl&gt; | p &lt;dbl&gt; | method &lt;chr&gt; |\n|---|---|---|---|---|---|\n| Estrés_académico | Afroemoción | 0.94 | 3893.535 | 8.67e-34 | Spearman |\n\n",
            "text/latex": "A cor\\_test: 1 × 6\n\\begin{tabular}{llllll}\n var1 & var2 & cor & statistic & p & method\\\\\n <chr> & <chr> & <dbl> & <dbl> & <dbl> & <chr>\\\\\n\\hline\n\t Estrés\\_académico & Afroemoción & 0.94 & 3893.535 & 8.67e-34 & Spearman\\\\\n\\end{tabular}\n",
            "text/plain": [
              "  var1             var2        cor  statistic p        method  \n",
              "1 Estrés_académico Afroemoción 0.94 3893.535  8.67e-34 Spearman"
            ]
          },
          "metadata": {}
        }
      ]
    },
    {
      "cell_type": "markdown",
      "source": [
        "# Normalidad de residuos"
      ],
      "metadata": {
        "id": "zMUhxn1fqXnr"
      }
    },
    {
      "cell_type": "code",
      "source": [
        "data %>%\n",
        "  lm(\"Estrés_académico ~ Afroemoción\", data = .) -> model"
      ],
      "metadata": {
        "id": "_U2WN6h3qZRh"
      },
      "execution_count": null,
      "outputs": []
    },
    {
      "cell_type": "code",
      "source": [
        "model %>%\n",
        "  pluck(\"residuals\") %>%\n",
        "  shapiro_test()"
      ],
      "metadata": {
        "colab": {
          "base_uri": "https://localhost:8080/",
          "height": 129
        },
        "id": "1Q0HG8YXqpZv",
        "outputId": "690b4bc5-f5d7-45f5-be6e-5da8301006cc"
      },
      "execution_count": null,
      "outputs": [
        {
          "output_type": "display_data",
          "data": {
            "text/html": [
              "<table class=\"dataframe\">\n",
              "<caption>A tibble: 1 × 3</caption>\n",
              "<thead>\n",
              "\t<tr><th scope=col>variable</th><th scope=col>statistic</th><th scope=col>p.value</th></tr>\n",
              "\t<tr><th scope=col>&lt;chr&gt;</th><th scope=col>&lt;dbl&gt;</th><th scope=col>&lt;dbl&gt;</th></tr>\n",
              "</thead>\n",
              "<tbody>\n",
              "\t<tr><td>.</td><td>0.9766323</td><td>0.2000155</td></tr>\n",
              "</tbody>\n",
              "</table>\n"
            ],
            "text/markdown": "\nA tibble: 1 × 3\n\n| variable &lt;chr&gt; | statistic &lt;dbl&gt; | p.value &lt;dbl&gt; |\n|---|---|---|\n| . | 0.9766323 | 0.2000155 |\n\n",
            "text/latex": "A tibble: 1 × 3\n\\begin{tabular}{lll}\n variable & statistic & p.value\\\\\n <chr> & <dbl> & <dbl>\\\\\n\\hline\n\t . & 0.9766323 & 0.2000155\\\\\n\\end{tabular}\n",
            "text/plain": [
              "  variable statistic p.value  \n",
              "1 .        0.9766323 0.2000155"
            ]
          },
          "metadata": {}
        }
      ]
    },
    {
      "cell_type": "markdown",
      "source": [
        "# Evaluación del modelo de regresión"
      ],
      "metadata": {
        "id": "bsz0Dd8Oqqye"
      }
    },
    {
      "cell_type": "code",
      "source": [
        "model %>% broom::glance()"
      ],
      "metadata": {
        "colab": {
          "base_uri": "https://localhost:8080/",
          "height": 167
        },
        "id": "8a9_ptmGqtkI",
        "outputId": "e5f5cbab-67aa-4c8b-93a4-7bf7b4152df2"
      },
      "execution_count": null,
      "outputs": [
        {
          "output_type": "display_data",
          "data": {
            "text/html": [
              "<table class=\"dataframe\">\n",
              "<caption>A tibble: 1 × 12</caption>\n",
              "<thead>\n",
              "\t<tr><th scope=col>r.squared</th><th scope=col>adj.r.squared</th><th scope=col>sigma</th><th scope=col>statistic</th><th scope=col>p.value</th><th scope=col>df</th><th scope=col>logLik</th><th scope=col>AIC</th><th scope=col>BIC</th><th scope=col>deviance</th><th scope=col>df.residual</th><th scope=col>nobs</th></tr>\n",
              "\t<tr><th scope=col>&lt;dbl&gt;</th><th scope=col>&lt;dbl&gt;</th><th scope=col>&lt;dbl&gt;</th><th scope=col>&lt;dbl&gt;</th><th scope=col>&lt;dbl&gt;</th><th scope=col>&lt;dbl&gt;</th><th scope=col>&lt;dbl&gt;</th><th scope=col>&lt;dbl&gt;</th><th scope=col>&lt;dbl&gt;</th><th scope=col>&lt;dbl&gt;</th><th scope=col>&lt;int&gt;</th><th scope=col>&lt;int&gt;</th></tr>\n",
              "</thead>\n",
              "<tbody>\n",
              "\t<tr><td>0.7884659</td><td>0.785444</td><td>3.751251</td><td>260.9159</td><td>2.607112e-25</td><td>1</td><td>-196.3399</td><td>398.6797</td><td>405.5097</td><td>985.0321</td><td>70</td><td>72</td></tr>\n",
              "</tbody>\n",
              "</table>\n"
            ],
            "text/markdown": "\nA tibble: 1 × 12\n\n| r.squared &lt;dbl&gt; | adj.r.squared &lt;dbl&gt; | sigma &lt;dbl&gt; | statistic &lt;dbl&gt; | p.value &lt;dbl&gt; | df &lt;dbl&gt; | logLik &lt;dbl&gt; | AIC &lt;dbl&gt; | BIC &lt;dbl&gt; | deviance &lt;dbl&gt; | df.residual &lt;int&gt; | nobs &lt;int&gt; |\n|---|---|---|---|---|---|---|---|---|---|---|---|\n| 0.7884659 | 0.785444 | 3.751251 | 260.9159 | 2.607112e-25 | 1 | -196.3399 | 398.6797 | 405.5097 | 985.0321 | 70 | 72 |\n\n",
            "text/latex": "A tibble: 1 × 12\n\\begin{tabular}{llllllllllll}\n r.squared & adj.r.squared & sigma & statistic & p.value & df & logLik & AIC & BIC & deviance & df.residual & nobs\\\\\n <dbl> & <dbl> & <dbl> & <dbl> & <dbl> & <dbl> & <dbl> & <dbl> & <dbl> & <dbl> & <int> & <int>\\\\\n\\hline\n\t 0.7884659 & 0.785444 & 3.751251 & 260.9159 & 2.607112e-25 & 1 & -196.3399 & 398.6797 & 405.5097 & 985.0321 & 70 & 72\\\\\n\\end{tabular}\n",
            "text/plain": [
              "  r.squared adj.r.squared sigma    statistic p.value      df logLik    AIC     \n",
              "1 0.7884659 0.785444      3.751251 260.9159  2.607112e-25 1  -196.3399 398.6797\n",
              "  BIC      deviance df.residual nobs\n",
              "1 405.5097 985.0321 70          72  "
            ]
          },
          "metadata": {}
        }
      ]
    },
    {
      "cell_type": "code",
      "source": [
        "model %>% broom::tidy()"
      ],
      "metadata": {
        "id": "QWXjZFdPnGwl",
        "outputId": "3083aad0-30ef-4db2-bd7c-711a2e09e141",
        "colab": {
          "base_uri": "https://localhost:8080/",
          "height": 161
        }
      },
      "execution_count": null,
      "outputs": [
        {
          "output_type": "display_data",
          "data": {
            "text/html": [
              "<table class=\"dataframe\">\n",
              "<caption>A tibble: 2 × 5</caption>\n",
              "<thead>\n",
              "\t<tr><th scope=col>term</th><th scope=col>estimate</th><th scope=col>std.error</th><th scope=col>statistic</th><th scope=col>p.value</th></tr>\n",
              "\t<tr><th scope=col>&lt;chr&gt;</th><th scope=col>&lt;dbl&gt;</th><th scope=col>&lt;dbl&gt;</th><th scope=col>&lt;dbl&gt;</th><th scope=col>&lt;dbl&gt;</th></tr>\n",
              "</thead>\n",
              "<tbody>\n",
              "\t<tr><td>(Intercept)</td><td>16.1631126</td><td>1.19744827</td><td>13.49796</td><td>3.662741e-21</td></tr>\n",
              "\t<tr><td>Afroemoción</td><td> 0.6984651</td><td>0.04324087</td><td>16.15289</td><td>2.607112e-25</td></tr>\n",
              "</tbody>\n",
              "</table>\n"
            ],
            "text/markdown": "\nA tibble: 2 × 5\n\n| term &lt;chr&gt; | estimate &lt;dbl&gt; | std.error &lt;dbl&gt; | statistic &lt;dbl&gt; | p.value &lt;dbl&gt; |\n|---|---|---|---|---|\n| (Intercept) | 16.1631126 | 1.19744827 | 13.49796 | 3.662741e-21 |\n| Afroemoción |  0.6984651 | 0.04324087 | 16.15289 | 2.607112e-25 |\n\n",
            "text/latex": "A tibble: 2 × 5\n\\begin{tabular}{lllll}\n term & estimate & std.error & statistic & p.value\\\\\n <chr> & <dbl> & <dbl> & <dbl> & <dbl>\\\\\n\\hline\n\t (Intercept) & 16.1631126 & 1.19744827 & 13.49796 & 3.662741e-21\\\\\n\t Afroemoción &  0.6984651 & 0.04324087 & 16.15289 & 2.607112e-25\\\\\n\\end{tabular}\n",
            "text/plain": [
              "  term        estimate   std.error  statistic p.value     \n",
              "1 (Intercept) 16.1631126 1.19744827 13.49796  3.662741e-21\n",
              "2 Afroemoción  0.6984651 0.04324087 16.15289  2.607112e-25"
            ]
          },
          "metadata": {}
        }
      ]
    },
    {
      "cell_type": "markdown",
      "source": [
        "## Ejercicio 1\n",
        "\n",
        "Un grupo de investigadores plantea que el afrontamiento centrado en el problema predice un menor estrés académico percibido por los estudiantes. Para evaluar su hipótesis tomaron una muestra de 72 jóvenes a quienes aplicaron el Inventario de Estimación del Afrontamiento y la Escala de Estrés Académico.\n",
        "\n",
        "- Indica la hipótesis de estudio, la ecuación del modelo de regresión lineal simple y el signo que debiera tener beta (B) si la hipótesis de estudio fuera cierta.\n",
        "- Evalúa si habría evidencia a favor de una posible relación entre las variables con un diagrama de dispersión.\n",
        "- Evalúa la correlación entre las variables.\n",
        "- Estima los parámetros del modelo de regresión.\n",
        "- Indica la magnitud del coeficiente de determinación e interpreta su valor.\n",
        "- Realiza el contraste de hipótesis correspondiente y concluir en función a la hipótesis de estudio."
      ],
      "metadata": {
        "id": "5ltqoAPFqvfo"
      }
    },
    {
      "cell_type": "markdown",
      "source": [
        "1. Indicar la ecuación del modelo de regresión lineal simple indicando el signo que debiera tener beta (B) si la hipótesis de estudio fuera cierta."
      ],
      "metadata": {
        "id": "DCVewSesq1lW"
      }
    },
    {
      "cell_type": "markdown",
      "source": [
        "Hipótesis de estudio: El afrontamiento centrado en el problema predice un menor estrés académico percibido por los estudiantes.\n",
        "- Variable predictora (X): Afrontamiento centrado en el problema    \n",
        "- Variable de salida (Y): Estrés académico\n",
        "\n",
        "Ecuación del modelo de regresión lineal simple:\n",
        "- $EstrésAcadémico = α + β \\times AfrontamientoProblema \\pm \\epsilon $, con $B<0$"
      ],
      "metadata": {
        "id": "oxldVBBDq3RS"
      }
    },
    {
      "cell_type": "code",
      "source": [
        "data %>%\n",
        "  ggplot(aes(x = Afroproblema, y = Estrés_académico)) +\n",
        "  geom_point() +\n",
        "  geom_smooth(method = lm) +\n",
        "  labs(x = \"Afrontamiento centrado en el problema\",\n",
        "       y = \"Estrés Académico\")"
      ],
      "metadata": {
        "colab": {
          "base_uri": "https://localhost:8080/",
          "height": 454
        },
        "id": "ppUDuierq--s",
        "outputId": "94729bfa-0f86-4f1b-c252-d7cdfec8e757"
      },
      "execution_count": null,
      "outputs": [
        {
          "output_type": "stream",
          "name": "stderr",
          "text": [
            "\u001b[1m\u001b[22m`geom_smooth()` using formula = 'y ~ x'\n"
          ]
        },
        {
          "output_type": "display_data",
          "data": {
            "text/plain": [
              "plot without title"
            ],
            "image/png": "[encoded data removed]"
          },
          "metadata": {
            "image/png": {
              "width": 420,
              "height": 420
            }
          }
        }
      ]
    },
    {
      "cell_type": "markdown",
      "source": [
        "3. Evaluar la correlación entre las variables.  \n",
        "- H0: rxy = 0\n",
        "- H1: rxy < 0"
      ],
      "metadata": {
        "id": "VxGHXeyirBNd"
      }
    },
    {
      "cell_type": "markdown",
      "source": [
        "Prueba de normalidad para aplicar el coeficiente de correlación pertinente."
      ],
      "metadata": {
        "id": "T-TD52PRrDVH"
      }
    },
    {
      "cell_type": "code",
      "source": [
        "data %>%\n",
        "  shapiro_test(Estrés_académico, Afroproblema)"
      ],
      "metadata": {
        "colab": {
          "base_uri": "https://localhost:8080/",
          "height": 161
        },
        "id": "wqDq8-8IrFSN",
        "outputId": "e81d6299-5479-4467-aa73-ce68067781b3"
      },
      "execution_count": null,
      "outputs": [
        {
          "output_type": "display_data",
          "data": {
            "text/html": [
              "<table class=\"dataframe\">\n",
              "<caption>A tibble: 2 × 3</caption>\n",
              "<thead>\n",
              "\t<tr><th scope=col>variable</th><th scope=col>statistic</th><th scope=col>p</th></tr>\n",
              "\t<tr><th scope=col>&lt;chr&gt;</th><th scope=col>&lt;dbl&gt;</th><th scope=col>&lt;dbl&gt;</th></tr>\n",
              "</thead>\n",
              "<tbody>\n",
              "\t<tr><td>Afroproblema    </td><td>0.9741042</td><td>0.143365606</td></tr>\n",
              "\t<tr><td>Estrés_académico</td><td>0.9359159</td><td>0.001187091</td></tr>\n",
              "</tbody>\n",
              "</table>\n"
            ],
            "text/markdown": "\nA tibble: 2 × 3\n\n| variable &lt;chr&gt; | statistic &lt;dbl&gt; | p &lt;dbl&gt; |\n|---|---|---|\n| Afroproblema     | 0.9741042 | 0.143365606 |\n| Estrés_académico | 0.9359159 | 0.001187091 |\n\n",
            "text/latex": "A tibble: 2 × 3\n\\begin{tabular}{lll}\n variable & statistic & p\\\\\n <chr> & <dbl> & <dbl>\\\\\n\\hline\n\t Afroproblema     & 0.9741042 & 0.143365606\\\\\n\t Estrés\\_académico & 0.9359159 & 0.001187091\\\\\n\\end{tabular}\n",
            "text/plain": [
              "  variable         statistic p          \n",
              "1 Afroproblema     0.9741042 0.143365606\n",
              "2 Estrés_académico 0.9359159 0.001187091"
            ]
          },
          "metadata": {}
        }
      ]
    },
    {
      "cell_type": "code",
      "source": [
        "data %>%\n",
        "  cor_test(Afroproblema, Estrés_académico, method = \"spearman\")"
      ],
      "metadata": {
        "colab": {
          "base_uri": "https://localhost:8080/",
          "height": 129
        },
        "id": "f7ib1TUlrHL2",
        "outputId": "523ab59c-a546-4d1b-9a29-28fc2adce264"
      },
      "execution_count": null,
      "outputs": [
        {
          "output_type": "display_data",
          "data": {
            "text/html": [
              "<table class=\"dataframe\">\n",
              "<caption>A cor_test: 1 × 6</caption>\n",
              "<thead>\n",
              "\t<tr><th scope=col>var1</th><th scope=col>var2</th><th scope=col>cor</th><th scope=col>statistic</th><th scope=col>p</th><th scope=col>method</th></tr>\n",
              "\t<tr><th scope=col>&lt;chr&gt;</th><th scope=col>&lt;chr&gt;</th><th scope=col>&lt;dbl&gt;</th><th scope=col>&lt;dbl&gt;</th><th scope=col>&lt;dbl&gt;</th><th scope=col>&lt;chr&gt;</th></tr>\n",
              "</thead>\n",
              "<tbody>\n",
              "\t<tr><td>Afroproblema</td><td>Estrés_académico</td><td>-0.37</td><td>85007</td><td>0.00153</td><td>Spearman</td></tr>\n",
              "</tbody>\n",
              "</table>\n"
            ],
            "text/markdown": "\nA cor_test: 1 × 6\n\n| var1 &lt;chr&gt; | var2 &lt;chr&gt; | cor &lt;dbl&gt; | statistic &lt;dbl&gt; | p &lt;dbl&gt; | method &lt;chr&gt; |\n|---|---|---|---|---|---|\n| Afroproblema | Estrés_académico | -0.37 | 85007 | 0.00153 | Spearman |\n\n",
            "text/latex": "A cor\\_test: 1 × 6\n\\begin{tabular}{llllll}\n var1 & var2 & cor & statistic & p & method\\\\\n <chr> & <chr> & <dbl> & <dbl> & <dbl> & <chr>\\\\\n\\hline\n\t Afroproblema & Estrés\\_académico & -0.37 & 85007 & 0.00153 & Spearman\\\\\n\\end{tabular}\n",
            "text/plain": [
              "  var1         var2             cor   statistic p       method  \n",
              "1 Afroproblema Estrés_académico -0.37 85007     0.00153 Spearman"
            ]
          },
          "metadata": {}
        }
      ]
    },
    {
      "cell_type": "markdown",
      "source": [
        "Los resultados del análisis de correlación evidencian que existe una relación estadísticamente significativa, negativa y mediana, según el criterio de Cohen (1988), entre afrontamiento centrado en el problema y estrés académico, r(70) = -.37, p < .001 (unilateral)."
      ],
      "metadata": {
        "id": "Lj-cvQPUrK7O"
      }
    },
    {
      "cell_type": "markdown",
      "source": [
        "4. Estimar los parámetros del modelo de regresión."
      ],
      "metadata": {
        "id": "Hn7yB2EQrMvj"
      }
    },
    {
      "cell_type": "code",
      "source": [
        "data %>%\n",
        "  lm(\"Estrés_académico ~ Afroproblema\", data = .) -> model2"
      ],
      "metadata": {
        "id": "PBj_-5cVrNhY"
      },
      "execution_count": null,
      "outputs": []
    },
    {
      "cell_type": "code",
      "source": [
        "model2 %>% broom::glance()"
      ],
      "metadata": {
        "id": "3qC1vWokn4Lc",
        "outputId": "8ecccbfc-925c-4563-82d5-454f0df43b59",
        "colab": {
          "base_uri": "https://localhost:8080/",
          "height": 149
        }
      },
      "execution_count": null,
      "outputs": [
        {
          "output_type": "display_data",
          "data": {
            "text/html": [
              "<table class=\"dataframe\">\n",
              "<caption>A tibble: 1 × 12</caption>\n",
              "<thead>\n",
              "\t<tr><th scope=col>r.squared</th><th scope=col>adj.r.squared</th><th scope=col>sigma</th><th scope=col>statistic</th><th scope=col>p.value</th><th scope=col>df</th><th scope=col>logLik</th><th scope=col>AIC</th><th scope=col>BIC</th><th scope=col>deviance</th><th scope=col>df.residual</th><th scope=col>nobs</th></tr>\n",
              "\t<tr><th scope=col>&lt;dbl&gt;</th><th scope=col>&lt;dbl&gt;</th><th scope=col>&lt;dbl&gt;</th><th scope=col>&lt;dbl&gt;</th><th scope=col>&lt;dbl&gt;</th><th scope=col>&lt;dbl&gt;</th><th scope=col>&lt;dbl&gt;</th><th scope=col>&lt;dbl&gt;</th><th scope=col>&lt;dbl&gt;</th><th scope=col>&lt;dbl&gt;</th><th scope=col>&lt;int&gt;</th><th scope=col>&lt;int&gt;</th></tr>\n",
              "</thead>\n",
              "<tbody>\n",
              "\t<tr><td>0.1673226</td><td>0.1554272</td><td>7.442594</td><td>14.06617</td><td>0.0003602602</td><td>1</td><td>-245.6692</td><td>497.3385</td><td>504.1685</td><td>3877.455</td><td>70</td><td>72</td></tr>\n",
              "</tbody>\n",
              "</table>\n"
            ],
            "text/markdown": "\nA tibble: 1 × 12\n\n| r.squared &lt;dbl&gt; | adj.r.squared &lt;dbl&gt; | sigma &lt;dbl&gt; | statistic &lt;dbl&gt; | p.value &lt;dbl&gt; | df &lt;dbl&gt; | logLik &lt;dbl&gt; | AIC &lt;dbl&gt; | BIC &lt;dbl&gt; | deviance &lt;dbl&gt; | df.residual &lt;int&gt; | nobs &lt;int&gt; |\n|---|---|---|---|---|---|---|---|---|---|---|---|\n| 0.1673226 | 0.1554272 | 7.442594 | 14.06617 | 0.0003602602 | 1 | -245.6692 | 497.3385 | 504.1685 | 3877.455 | 70 | 72 |\n\n",
            "text/latex": "A tibble: 1 × 12\n\\begin{tabular}{llllllllllll}\n r.squared & adj.r.squared & sigma & statistic & p.value & df & logLik & AIC & BIC & deviance & df.residual & nobs\\\\\n <dbl> & <dbl> & <dbl> & <dbl> & <dbl> & <dbl> & <dbl> & <dbl> & <dbl> & <dbl> & <int> & <int>\\\\\n\\hline\n\t 0.1673226 & 0.1554272 & 7.442594 & 14.06617 & 0.0003602602 & 1 & -245.6692 & 497.3385 & 504.1685 & 3877.455 & 70 & 72\\\\\n\\end{tabular}\n",
            "text/plain": [
              "  r.squared adj.r.squared sigma    statistic p.value      df logLik    AIC     \n",
              "1 0.1673226 0.1554272     7.442594 14.06617  0.0003602602 1  -245.6692 497.3385\n",
              "  BIC      deviance df.residual nobs\n",
              "1 504.1685 3877.455 70          72  "
            ]
          },
          "metadata": {}
        }
      ]
    },
    {
      "cell_type": "code",
      "source": [
        "model2 %>% broom::tidy()"
      ],
      "metadata": {
        "id": "edOmMMk0n4wc",
        "outputId": "4bb522a8-4685-488d-d629-40860740099b",
        "colab": {
          "base_uri": "https://localhost:8080/",
          "height": 161
        }
      },
      "execution_count": null,
      "outputs": [
        {
          "output_type": "display_data",
          "data": {
            "text/html": [
              "<table class=\"dataframe\">\n",
              "<caption>A tibble: 2 × 5</caption>\n",
              "<thead>\n",
              "\t<tr><th scope=col>term</th><th scope=col>estimate</th><th scope=col>std.error</th><th scope=col>statistic</th><th scope=col>p.value</th></tr>\n",
              "\t<tr><th scope=col>&lt;chr&gt;</th><th scope=col>&lt;dbl&gt;</th><th scope=col>&lt;dbl&gt;</th><th scope=col>&lt;dbl&gt;</th><th scope=col>&lt;dbl&gt;</th></tr>\n",
              "</thead>\n",
              "<tbody>\n",
              "\t<tr><td>(Intercept) </td><td>46.9091849</td><td>3.5161263</td><td>13.341155</td><td>6.621773e-21</td></tr>\n",
              "\t<tr><td>Afroproblema</td><td>-0.5247145</td><td>0.1399056</td><td>-3.750489</td><td>3.602602e-04</td></tr>\n",
              "</tbody>\n",
              "</table>\n"
            ],
            "text/markdown": "\nA tibble: 2 × 5\n\n| term &lt;chr&gt; | estimate &lt;dbl&gt; | std.error &lt;dbl&gt; | statistic &lt;dbl&gt; | p.value &lt;dbl&gt; |\n|---|---|---|---|---|\n| (Intercept)  | 46.9091849 | 3.5161263 | 13.341155 | 6.621773e-21 |\n| Afroproblema | -0.5247145 | 0.1399056 | -3.750489 | 3.602602e-04 |\n\n",
            "text/latex": "A tibble: 2 × 5\n\\begin{tabular}{lllll}\n term & estimate & std.error & statistic & p.value\\\\\n <chr> & <dbl> & <dbl> & <dbl> & <dbl>\\\\\n\\hline\n\t (Intercept)  & 46.9091849 & 3.5161263 & 13.341155 & 6.621773e-21\\\\\n\t Afroproblema & -0.5247145 & 0.1399056 & -3.750489 & 3.602602e-04\\\\\n\\end{tabular}\n",
            "text/plain": [
              "  term         estimate   std.error statistic p.value     \n",
              "1 (Intercept)  46.9091849 3.5161263 13.341155 6.621773e-21\n",
              "2 Afroproblema -0.5247145 0.1399056 -3.750489 3.602602e-04"
            ]
          },
          "metadata": {}
        }
      ]
    },
    {
      "cell_type": "markdown",
      "source": [
        "$EstrésAcadémico = 46.909 + -0.525 \\times AfrontamientoProblema \\pm 7.443 $"
      ],
      "metadata": {
        "id": "797uROfTrSrh"
      }
    },
    {
      "cell_type": "markdown",
      "source": [
        "5. Indicar la magnitud del coeficiente de determinación e interpretar su valor."
      ],
      "metadata": {
        "id": "G1cdNvu9rWAN"
      }
    },
    {
      "cell_type": "markdown",
      "source": [
        "Según Cohen (1988) es un R2 “mediano”. Interpretación: Existe un 16.7% de diferencias en el estrés académico que estarían asociadas al afrontamiento centrado en el problema en los jóvenes estudiantes."
      ],
      "metadata": {
        "id": "ao0wmyylrXmC"
      }
    },
    {
      "cell_type": "markdown",
      "source": [
        "6. Realizar el contraste de hipótesis correspondiente y concluir en función a la hipótesis de estudio."
      ],
      "metadata": {
        "id": "p0-c4yVvrZ8L"
      }
    },
    {
      "cell_type": "markdown",
      "source": [
        "Hipótesis de estudio: El afrontamiento centrado en el problema predice un menor estrés académico percibido por los estudiantes.\n",
        "- $H_{0}$: $β = 0$      vs      $H_{1}$: $β < 0$\n",
        "\n",
        "Se rechaza $H_{0}$, ya que p (unilateral) $.000/2 = <.001$\n",
        "\n",
        "Luego, como $β = -0.525  < 0$, se  acepta $H_{1}$\n",
        "\n",
        "Conclusión:\n",
        "El afrontamiento centrado en el problema predice significativamente un menor estrés académico percibido por los estudiantes,  $β = -0.525$, $EE_{β} = 0$.14, $t(70) = -3.75$, $p <.001$, existiendo entre ambos una relación significativa con un tamaño de efecto mediano, $R^{2} = .167$, $F(1,70) = 14.07$, $p <.001$. Por tanto, se cumple la hipótesis de investigación."
      ],
      "metadata": {
        "id": "QBehFpydrbzL"
      }
    }
  ]
}
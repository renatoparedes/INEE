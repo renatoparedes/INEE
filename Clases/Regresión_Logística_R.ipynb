{
  "nbformat": 4,
  "nbformat_minor": 0,
  "metadata": {
    "colab": {
      "provenance": []
    },
    "kernelspec": {
      "name": "ir",
      "display_name": "R"
    },
    "language_info": {
      "name": "R"
    }
  },
  "cells": [
    {
      "cell_type": "markdown",
      "metadata": {
        "id": "EHSQpRnWioaq"
      },
      "source": [
        "# Análisis de regresión logística"
      ]
    },
    {
      "cell_type": "code",
      "source": [
        "install.packages(c(\"blorr\"))\n",
        "\n",
        "library(tidyverse)\n",
        "library(blorr)"
      ],
      "metadata": {
        "colab": {
          "base_uri": "https://localhost:8080/"
        },
        "id": "2BTotzbQmfHg",
        "outputId": "698954c6-bcae-43d5-aee3-dbaea8d03a63"
      },
      "execution_count": null,
      "outputs": [
        {
          "output_type": "stream",
          "name": "stderr",
          "text": [
            "Installing packages into ‘/usr/local/lib/R/site-library’\n",
            "(as ‘lib’ is unspecified)\n",
            "\n",
            "also installing the dependencies ‘shape’, ‘future.apply’, ‘numDeriv’, ‘progressr’, ‘SQUAREM’, ‘diagram’, ‘lava’, ‘listenv’, ‘parallelly’, ‘prodlim’, ‘future’, ‘warp’, ‘iterators’, ‘lhs’, ‘proxy’, ‘DiceDesign’, ‘patchwork’, ‘globals’, ‘clock’, ‘gower’, ‘ipred’, ‘timeDate’, ‘furrr’, ‘slider’, ‘foreach’, ‘GPfit’, ‘modelenv’, ‘rootSolve’, ‘e1071’, ‘lmom’, ‘dials’, ‘hardhat’, ‘infer’, ‘modeldata’, ‘parsnip’, ‘recipes’, ‘rsample’, ‘tune’, ‘workflows’, ‘workflowsets’, ‘yardstick’, ‘mvtnorm’, ‘expm’, ‘Rcpp’, ‘Exact’, ‘gld’, ‘BH’\n",
            "\n",
            "\n",
            "── \u001b[1mAttaching core tidyverse packages\u001b[22m ──────────────────────── tidyverse 2.0.0 ──\n",
            "\u001b[32m✔\u001b[39m \u001b[34mdplyr    \u001b[39m 1.1.3     \u001b[32m✔\u001b[39m \u001b[34mreadr    \u001b[39m 2.1.4\n",
            "\u001b[32m✔\u001b[39m \u001b[34mforcats  \u001b[39m 1.0.0     \u001b[32m✔\u001b[39m \u001b[34mstringr  \u001b[39m 1.5.0\n",
            "\u001b[32m✔\u001b[39m \u001b[34mggplot2  \u001b[39m 3.4.3     \u001b[32m✔\u001b[39m \u001b[34mtibble   \u001b[39m 3.2.1\n",
            "\u001b[32m✔\u001b[39m \u001b[34mlubridate\u001b[39m 1.9.3     \u001b[32m✔\u001b[39m \u001b[34mtidyr    \u001b[39m 1.3.0\n",
            "\u001b[32m✔\u001b[39m \u001b[34mpurrr    \u001b[39m 1.0.2     \n",
            "── \u001b[1mConflicts\u001b[22m ────────────────────────────────────────── tidyverse_conflicts() ──\n",
            "\u001b[31m✖\u001b[39m \u001b[34mdplyr\u001b[39m::\u001b[32mfilter()\u001b[39m masks \u001b[34mstats\u001b[39m::filter()\n",
            "\u001b[31m✖\u001b[39m \u001b[34mdplyr\u001b[39m::\u001b[32mlag()\u001b[39m    masks \u001b[34mstats\u001b[39m::lag()\n",
            "\u001b[36mℹ\u001b[39m Use the conflicted package (\u001b[3m\u001b[34m<http://conflicted.r-lib.org/>\u001b[39m\u001b[23m) to force all conflicts to become errors\n",
            "── \u001b[1mAttaching packages\u001b[22m ────────────────────────────────────── tidymodels 1.1.1 ──\n",
            "\n",
            "\u001b[32m✔\u001b[39m \u001b[34mbroom       \u001b[39m 1.0.5     \u001b[32m✔\u001b[39m \u001b[34mrsample     \u001b[39m 1.2.0\n",
            "\u001b[32m✔\u001b[39m \u001b[34mdials       \u001b[39m 1.2.0     \u001b[32m✔\u001b[39m \u001b[34mtune        \u001b[39m 1.1.2\n",
            "\u001b[32m✔\u001b[39m \u001b[34minfer       \u001b[39m 1.0.5     \u001b[32m✔\u001b[39m \u001b[34mworkflows   \u001b[39m 1.1.3\n",
            "\u001b[32m✔\u001b[39m \u001b[34mmodeldata   \u001b[39m 1.2.0     \u001b[32m✔\u001b[39m \u001b[34mworkflowsets\u001b[39m 1.0.1\n",
            "\u001b[32m✔\u001b[39m \u001b[34mparsnip     \u001b[39m 1.1.1     \u001b[32m✔\u001b[39m \u001b[34myardstick   \u001b[39m 1.2.0\n",
            "\u001b[32m✔\u001b[39m \u001b[34mrecipes     \u001b[39m 1.0.8     \n",
            "\n",
            "── \u001b[1mConflicts\u001b[22m ───────────────────────────────────────── tidymodels_conflicts() ──\n",
            "\u001b[31m✖\u001b[39m \u001b[34mscales\u001b[39m::\u001b[32mdiscard()\u001b[39m masks \u001b[34mpurrr\u001b[39m::discard()\n",
            "\u001b[31m✖\u001b[39m \u001b[34mdplyr\u001b[39m::\u001b[32mfilter()\u001b[39m   masks \u001b[34mstats\u001b[39m::filter()\n",
            "\u001b[31m✖\u001b[39m \u001b[34mrecipes\u001b[39m::\u001b[32mfixed()\u001b[39m  masks \u001b[34mstringr\u001b[39m::fixed()\n",
            "\u001b[31m✖\u001b[39m \u001b[34mdplyr\u001b[39m::\u001b[32mlag()\u001b[39m      masks \u001b[34mstats\u001b[39m::lag()\n",
            "\u001b[31m✖\u001b[39m \u001b[34myardstick\u001b[39m::\u001b[32mspec()\u001b[39m masks \u001b[34mreadr\u001b[39m::spec()\n",
            "\u001b[31m✖\u001b[39m \u001b[34mrecipes\u001b[39m::\u001b[32mstep()\u001b[39m   masks \u001b[34mstats\u001b[39m::step()\n",
            "\u001b[34m•\u001b[39m Dig deeper into tidy modeling with R at \u001b[32mhttps://www.tmwr.org\u001b[39m\n",
            "\n"
          ]
        }
      ]
    },
    {
      "cell_type": "markdown",
      "metadata": {
        "id": "J1KVl6MEioay"
      },
      "source": [
        "# Ejercicio"
      ]
    },
    {
      "cell_type": "markdown",
      "metadata": {
        "id": "Ys806xq5ioaz"
      },
      "source": [
        "Un grupo de investigadores e investigadoras esperan que el estrés la ansiedad y la sintomatología de depresión contribuyan positivamente en los problemas de sueño de trabajadores médicos hospitalarios."
      ]
    },
    {
      "cell_type": "markdown",
      "metadata": {
        "id": "36Z0Pdrdioa0"
      },
      "source": [
        "HT: El estrés, la ansiedad y depresión contribuyen a los problemas de sueño de las/los trabajadores médicos de hospital\n",
        "- $H_{0}$: $β_{estres} = β_{ansiedad} = β_{depresion} = 0$\n",
        "- $H_{1}$: $β_{estres} > β_{ansiedad} > β_{depresion} > 0$\n",
        "\n",
        "Ecuación del modelo de regresión logística:\n",
        "\n",
        "Logit (problemas de sueño) = $β_{0} - β_{estres} + β_{ansiedad} + β_{depresion}$"
      ]
    },
    {
      "cell_type": "markdown",
      "metadata": {
        "id": "TEI3wUaTioa1"
      },
      "source": [
        "## Carga de datos"
      ]
    },
    {
      "cell_type": "code",
      "source": [
        "df = haven::read_sav(\"https://github.com/renatoparedes/EstadisticaYPsicologiaMatematica/raw/main/INEE/Clase15_BaseRegresionLogistica.sav\")\n",
        "print(df, n = 10)"
      ],
      "metadata": {
        "colab": {
          "base_uri": "https://localhost:8080/"
        },
        "id": "uKj8782bi71Y",
        "outputId": "29595134-de1d-4f83-eee9-9a56dfeeb33b"
      },
      "execution_count": null,
      "outputs": [
        {
          "output_type": "stream",
          "name": "stdout",
          "text": [
            "\u001b[90m# A tibble: 100 × 7\u001b[39m\n",
            "   Código Sexo        Edad ProbSueño Estrés Ansiedad Depresión\n",
            "   \u001b[3m\u001b[90m<chr>\u001b[39m\u001b[23m  \u001b[3m\u001b[90m<dbl+lbl>\u001b[39m\u001b[23m  \u001b[3m\u001b[90m<dbl>\u001b[39m\u001b[23m \u001b[3m\u001b[90m<dbl+lbl>\u001b[39m\u001b[23m  \u001b[3m\u001b[90m<dbl>\u001b[39m\u001b[23m    \u001b[3m\u001b[90m<dbl>\u001b[39m\u001b[23m     \u001b[3m\u001b[90m<dbl>\u001b[39m\u001b[23m\n",
            "\u001b[90m 1\u001b[39m 001    0\u001b[90m [Mujer]\u001b[39m     40 1\u001b[90m [Sí]\u001b[39m         5        7         3\n",
            "\u001b[90m 2\u001b[39m 002    1\u001b[90m [Hombre]\u001b[39m    26 1\u001b[90m [Sí]\u001b[39m         8        6         1\n",
            "\u001b[90m 3\u001b[39m 003    1\u001b[90m [Hombre]\u001b[39m    19 0\u001b[90m [No]\u001b[39m         2        3         1\n",
            "\u001b[90m 4\u001b[39m 004    1\u001b[90m [Hombre]\u001b[39m    35 0\u001b[90m [No]\u001b[39m         2        1         2\n",
            "\u001b[90m 5\u001b[39m 005    1\u001b[90m [Hombre]\u001b[39m    35 0\u001b[90m [No]\u001b[39m         8        2         5\n",
            "\u001b[90m 6\u001b[39m 006    0\u001b[90m [Mujer]\u001b[39m     40 1\u001b[90m [Sí]\u001b[39m        10        4         7\n",
            "\u001b[90m 7\u001b[39m 007    0\u001b[90m [Mujer]\u001b[39m     58 0\u001b[90m [No]\u001b[39m         8        4         0\n",
            "\u001b[90m 8\u001b[39m 008    0\u001b[90m [Mujer]\u001b[39m     33 0\u001b[90m [No]\u001b[39m         2        9         2\n",
            "\u001b[90m 9\u001b[39m 009    1\u001b[90m [Hombre]\u001b[39m    32 1\u001b[90m [Sí]\u001b[39m         8        9         3\n",
            "\u001b[90m10\u001b[39m 010    0\u001b[90m [Mujer]\u001b[39m     53 1\u001b[90m [Sí]\u001b[39m         8       11         6\n",
            "\u001b[90m# ℹ 90 more rows\u001b[39m\n"
          ]
        }
      ]
    },
    {
      "cell_type": "markdown",
      "metadata": {
        "id": "HypdV0l-ioa4"
      },
      "source": [
        "## Análisis"
      ]
    },
    {
      "cell_type": "code",
      "source": [
        "df %>%\n",
        "  glm(ProbSueño ~ Estrés + Ansiedad + Depresión,\n",
        "      family = \"binomial\",\n",
        "      data = .) -> model1"
      ],
      "metadata": {
        "id": "YRLaD8xujsCO"
      },
      "execution_count": null,
      "outputs": []
    },
    {
      "cell_type": "code",
      "source": [
        "blorr::blr_model_fit_stats(model1) %>% unclass() %>% as_tibble()"
      ],
      "metadata": {
        "colab": {
          "base_uri": "https://localhost:8080/",
          "height": 129
        },
        "id": "L5nB8-tDdtlh",
        "outputId": "39d982dd-9453-4769-e0a2-bd8756d3f6b7"
      },
      "execution_count": null,
      "outputs": [
        {
          "output_type": "display_data",
          "data": {
            "text/html": [
              "<table class=\"dataframe\">\n",
              "<caption>A tibble: 1 × 17</caption>\n",
              "<thead>\n",
              "\t<tr><th scope=col>loglik_null</th><th scope=col>loglik_model</th><th scope=col>m_deviance</th><th scope=col>lr_ratio</th><th scope=col>lr_pval</th><th scope=col>mcfadden</th><th scope=col>dev_df</th><th scope=col>adj_mcfadden</th><th scope=col>m_aic</th><th scope=col>cox_snell</th><th scope=col>m_bic</th><th scope=col>mckelvey</th><th scope=col>lr_df</th><th scope=col>effron</th><th scope=col>nagelkerke</th><th scope=col>count_r2</th><th scope=col>count_adj</th></tr>\n",
              "\t<tr><th scope=col>&lt;dbl&gt;</th><th scope=col>&lt;dbl&gt;</th><th scope=col>&lt;dbl&gt;</th><th scope=col>&lt;dbl&gt;</th><th scope=col>&lt;dbl&gt;</th><th scope=col>&lt;dbl&gt;</th><th scope=col>&lt;int&gt;</th><th scope=col>&lt;dbl&gt;</th><th scope=col>&lt;dbl&gt;</th><th scope=col>&lt;dbl&gt;</th><th scope=col>&lt;dbl&gt;</th><th scope=col>&lt;dbl&gt;</th><th scope=col>&lt;dbl&gt;</th><th scope=col>&lt;dbl&gt;</th><th scope=col>&lt;dbl&gt;</th><th scope=col>&lt;dbl&gt;</th><th scope=col>&lt;dbl&gt;</th></tr>\n",
              "</thead>\n",
              "<tbody>\n",
              "\t<tr><td>-68.99438</td><td>-54.71188</td><td>109.4238</td><td>28.565</td><td>2.763898e-06</td><td>0.2070096</td><td>96</td><td>0.1490339</td><td>117.4238</td><td>0.2484744</td><td>127.8444</td><td>0.3436749</td><td>3</td><td>0.2541452</td><td>0.3320105</td><td>0.72</td><td>0.3913043</td></tr>\n",
              "</tbody>\n",
              "</table>\n"
            ],
            "text/markdown": "\nA tibble: 1 × 17\n\n| loglik_null &lt;dbl&gt; | loglik_model &lt;dbl&gt; | m_deviance &lt;dbl&gt; | lr_ratio &lt;dbl&gt; | lr_pval &lt;dbl&gt; | mcfadden &lt;dbl&gt; | dev_df &lt;int&gt; | adj_mcfadden &lt;dbl&gt; | m_aic &lt;dbl&gt; | cox_snell &lt;dbl&gt; | m_bic &lt;dbl&gt; | mckelvey &lt;dbl&gt; | lr_df &lt;dbl&gt; | effron &lt;dbl&gt; | nagelkerke &lt;dbl&gt; | count_r2 &lt;dbl&gt; | count_adj &lt;dbl&gt; |\n|---|---|---|---|---|---|---|---|---|---|---|---|---|---|---|---|---|\n| -68.99438 | -54.71188 | 109.4238 | 28.565 | 2.763898e-06 | 0.2070096 | 96 | 0.1490339 | 117.4238 | 0.2484744 | 127.8444 | 0.3436749 | 3 | 0.2541452 | 0.3320105 | 0.72 | 0.3913043 |\n\n",
            "text/latex": "A tibble: 1 × 17\n\\begin{tabular}{lllllllllllllllll}\n loglik\\_null & loglik\\_model & m\\_deviance & lr\\_ratio & lr\\_pval & mcfadden & dev\\_df & adj\\_mcfadden & m\\_aic & cox\\_snell & m\\_bic & mckelvey & lr\\_df & effron & nagelkerke & count\\_r2 & count\\_adj\\\\\n <dbl> & <dbl> & <dbl> & <dbl> & <dbl> & <dbl> & <int> & <dbl> & <dbl> & <dbl> & <dbl> & <dbl> & <dbl> & <dbl> & <dbl> & <dbl> & <dbl>\\\\\n\\hline\n\t -68.99438 & -54.71188 & 109.4238 & 28.565 & 2.763898e-06 & 0.2070096 & 96 & 0.1490339 & 117.4238 & 0.2484744 & 127.8444 & 0.3436749 & 3 & 0.2541452 & 0.3320105 & 0.72 & 0.3913043\\\\\n\\end{tabular}\n",
            "text/plain": [
              "  loglik_null loglik_model m_deviance lr_ratio lr_pval      mcfadden  dev_df\n",
              "1 -68.99438   -54.71188    109.4238   28.565   2.763898e-06 0.2070096 96    \n",
              "  adj_mcfadden m_aic    cox_snell m_bic    mckelvey  lr_df effron    nagelkerke\n",
              "1 0.1490339    117.4238 0.2484744 127.8444 0.3436749 3     0.2541452 0.3320105 \n",
              "  count_r2 count_adj\n",
              "1 0.72     0.3913043"
            ]
          },
          "metadata": {}
        }
      ]
    },
    {
      "cell_type": "code",
      "source": [
        "blorr::blr_test_hosmer_lemeshow(model1) -> hl\n",
        "hl[-1] %>% as_tibble()"
      ],
      "metadata": {
        "colab": {
          "base_uri": "https://localhost:8080/",
          "height": 129
        },
        "id": "WXcfSumQg1VV",
        "outputId": "c516d760-9aa2-4e07-9d2b-fc0c98a39d53"
      },
      "execution_count": null,
      "outputs": [
        {
          "output_type": "display_data",
          "data": {
            "text/html": [
              "<table class=\"dataframe\">\n",
              "<caption>A tibble: 1 × 3</caption>\n",
              "<thead>\n",
              "\t<tr><th scope=col>chisq_stat</th><th scope=col>df</th><th scope=col>pvalue</th></tr>\n",
              "\t<tr><th scope=col>&lt;dbl&gt;</th><th scope=col>&lt;dbl&gt;</th><th scope=col>&lt;dbl&gt;</th></tr>\n",
              "</thead>\n",
              "<tbody>\n",
              "\t<tr><td>1.720681</td><td>8</td><td>0.9884107</td></tr>\n",
              "</tbody>\n",
              "</table>\n"
            ],
            "text/markdown": "\nA tibble: 1 × 3\n\n| chisq_stat &lt;dbl&gt; | df &lt;dbl&gt; | pvalue &lt;dbl&gt; |\n|---|---|---|\n| 1.720681 | 8 | 0.9884107 |\n\n",
            "text/latex": "A tibble: 1 × 3\n\\begin{tabular}{lll}\n chisq\\_stat & df & pvalue\\\\\n <dbl> & <dbl> & <dbl>\\\\\n\\hline\n\t 1.720681 & 8 & 0.9884107\\\\\n\\end{tabular}\n",
            "text/plain": [
              "  chisq_stat df pvalue   \n",
              "1 1.720681   8  0.9884107"
            ]
          },
          "metadata": {}
        }
      ]
    },
    {
      "cell_type": "code",
      "source": [
        "blorr::blr_confusion_matrix(model1, cutoff = 0.5) -> mc\n",
        "mc$conf_matrix %>% as_tibble()"
      ],
      "metadata": {
        "colab": {
          "base_uri": "https://localhost:8080/",
          "height": 223
        },
        "id": "ws-xD3iVc-qb",
        "outputId": "f9176385-8a19-4acb-dfc2-6d8de9a51700"
      },
      "execution_count": null,
      "outputs": [
        {
          "output_type": "display_data",
          "data": {
            "text/html": [
              "<table class=\"dataframe\">\n",
              "<caption>A tibble: 4 × 3</caption>\n",
              "<thead>\n",
              "\t<tr><th scope=col>Prediction</th><th scope=col>Reference</th><th scope=col>n</th></tr>\n",
              "\t<tr><th scope=col>&lt;chr&gt;</th><th scope=col>&lt;chr&gt;</th><th scope=col>&lt;int&gt;</th></tr>\n",
              "</thead>\n",
              "<tbody>\n",
              "\t<tr><td>0</td><td>0</td><td>42</td></tr>\n",
              "\t<tr><td>1</td><td>0</td><td>12</td></tr>\n",
              "\t<tr><td>0</td><td>1</td><td>16</td></tr>\n",
              "\t<tr><td>1</td><td>1</td><td>30</td></tr>\n",
              "</tbody>\n",
              "</table>\n"
            ],
            "text/markdown": "\nA tibble: 4 × 3\n\n| Prediction &lt;chr&gt; | Reference &lt;chr&gt; | n &lt;int&gt; |\n|---|---|---|\n| 0 | 0 | 42 |\n| 1 | 0 | 12 |\n| 0 | 1 | 16 |\n| 1 | 1 | 30 |\n\n",
            "text/latex": "A tibble: 4 × 3\n\\begin{tabular}{lll}\n Prediction & Reference & n\\\\\n <chr> & <chr> & <int>\\\\\n\\hline\n\t 0 & 0 & 42\\\\\n\t 1 & 0 & 12\\\\\n\t 0 & 1 & 16\\\\\n\t 1 & 1 & 30\\\\\n\\end{tabular}\n",
            "text/plain": [
              "  Prediction Reference n \n",
              "1 0          0         42\n",
              "2 1          0         12\n",
              "3 0          1         16\n",
              "4 1          1         30"
            ]
          },
          "metadata": {}
        }
      ]
    },
    {
      "cell_type": "code",
      "source": [
        "mc[-3] %>% as_tibble() %>% select(accuracy, sensitivity, specificity)"
      ],
      "metadata": {
        "colab": {
          "base_uri": "https://localhost:8080/",
          "height": 129
        },
        "id": "ZPf-vr5Rhita",
        "outputId": "fc9d1f19-c18b-4a55-c868-81bf4a9987f7"
      },
      "execution_count": null,
      "outputs": [
        {
          "output_type": "display_data",
          "data": {
            "text/html": [
              "<table class=\"dataframe\">\n",
              "<caption>A tibble: 1 × 3</caption>\n",
              "<thead>\n",
              "\t<tr><th scope=col>accuracy</th><th scope=col>sensitivity</th><th scope=col>specificity</th></tr>\n",
              "\t<tr><th scope=col>&lt;dbl&gt;</th><th scope=col>&lt;dbl&gt;</th><th scope=col>&lt;dbl&gt;</th></tr>\n",
              "</thead>\n",
              "<tbody>\n",
              "\t<tr><td>0.72</td><td>0.6521739</td><td>0.7777778</td></tr>\n",
              "</tbody>\n",
              "</table>\n"
            ],
            "text/markdown": "\nA tibble: 1 × 3\n\n| accuracy &lt;dbl&gt; | sensitivity &lt;dbl&gt; | specificity &lt;dbl&gt; |\n|---|---|---|\n| 0.72 | 0.6521739 | 0.7777778 |\n\n",
            "text/latex": "A tibble: 1 × 3\n\\begin{tabular}{lll}\n accuracy & sensitivity & specificity\\\\\n <dbl> & <dbl> & <dbl>\\\\\n\\hline\n\t 0.72 & 0.6521739 & 0.7777778\\\\\n\\end{tabular}\n",
            "text/plain": [
              "  accuracy sensitivity specificity\n",
              "1 0.72     0.6521739   0.7777778  "
            ]
          },
          "metadata": {}
        }
      ]
    },
    {
      "cell_type": "code",
      "source": [
        "model %>% broom::tidy()"
      ],
      "metadata": {
        "colab": {
          "base_uri": "https://localhost:8080/",
          "height": 223
        },
        "id": "-0ZA-AXXiYCH",
        "outputId": "2c28f0aa-de84-4310-a4a6-0fb3ddad8a6b"
      },
      "execution_count": null,
      "outputs": [
        {
          "output_type": "display_data",
          "data": {
            "text/html": [
              "<table class=\"dataframe\">\n",
              "<caption>A tibble: 4 × 5</caption>\n",
              "<thead>\n",
              "\t<tr><th scope=col>term</th><th scope=col>estimate</th><th scope=col>std.error</th><th scope=col>statistic</th><th scope=col>p.value</th></tr>\n",
              "\t<tr><th scope=col>&lt;chr&gt;</th><th scope=col>&lt;dbl&gt;</th><th scope=col>&lt;dbl&gt;</th><th scope=col>&lt;dbl&gt;</th><th scope=col>&lt;dbl&gt;</th></tr>\n",
              "</thead>\n",
              "<tbody>\n",
              "\t<tr><td>(Intercept)</td><td>-2.88375669</td><td>0.70102692</td><td>-4.1136176</td><td>3.895064e-05</td></tr>\n",
              "\t<tr><td>Estrés     </td><td> 0.18067643</td><td>0.11390465</td><td> 1.5862076</td><td>1.126922e-01</td></tr>\n",
              "\t<tr><td>Ansiedad   </td><td> 0.22914056</td><td>0.09764158</td><td> 2.3467519</td><td>1.893786e-02</td></tr>\n",
              "\t<tr><td>Depresión  </td><td> 0.08139973</td><td>0.09883809</td><td> 0.8235664</td><td>4.101860e-01</td></tr>\n",
              "</tbody>\n",
              "</table>\n"
            ],
            "text/markdown": "\nA tibble: 4 × 5\n\n| term &lt;chr&gt; | estimate &lt;dbl&gt; | std.error &lt;dbl&gt; | statistic &lt;dbl&gt; | p.value &lt;dbl&gt; |\n|---|---|---|---|---|\n| (Intercept) | -2.88375669 | 0.70102692 | -4.1136176 | 3.895064e-05 |\n| Estrés      |  0.18067643 | 0.11390465 |  1.5862076 | 1.126922e-01 |\n| Ansiedad    |  0.22914056 | 0.09764158 |  2.3467519 | 1.893786e-02 |\n| Depresión   |  0.08139973 | 0.09883809 |  0.8235664 | 4.101860e-01 |\n\n",
            "text/latex": "A tibble: 4 × 5\n\\begin{tabular}{lllll}\n term & estimate & std.error & statistic & p.value\\\\\n <chr> & <dbl> & <dbl> & <dbl> & <dbl>\\\\\n\\hline\n\t (Intercept) & -2.88375669 & 0.70102692 & -4.1136176 & 3.895064e-05\\\\\n\t Estrés      &  0.18067643 & 0.11390465 &  1.5862076 & 1.126922e-01\\\\\n\t Ansiedad    &  0.22914056 & 0.09764158 &  2.3467519 & 1.893786e-02\\\\\n\t Depresión   &  0.08139973 & 0.09883809 &  0.8235664 & 4.101860e-01\\\\\n\\end{tabular}\n",
            "text/plain": [
              "  term        estimate    std.error  statistic  p.value     \n",
              "1 (Intercept) -2.88375669 0.70102692 -4.1136176 3.895064e-05\n",
              "2 Estrés       0.18067643 0.11390465  1.5862076 1.126922e-01\n",
              "3 Ansiedad     0.22914056 0.09764158  2.3467519 1.893786e-02\n",
              "4 Depresión    0.08139973 0.09883809  0.8235664 4.101860e-01"
            ]
          },
          "metadata": {}
        }
      ]
    },
    {
      "cell_type": "code",
      "source": [
        "model %>% broom::tidy(exponentiate = T, conf.int = TRUE)"
      ],
      "metadata": {
        "colab": {
          "base_uri": "https://localhost:8080/",
          "height": 223
        },
        "id": "p8dik_V6itTB",
        "outputId": "1a7959bc-eb71-4982-d3fc-a556109ae183"
      },
      "execution_count": null,
      "outputs": [
        {
          "output_type": "display_data",
          "data": {
            "text/html": [
              "<table class=\"dataframe\">\n",
              "<caption>A tibble: 4 × 5</caption>\n",
              "<thead>\n",
              "\t<tr><th scope=col>term</th><th scope=col>estimate</th><th scope=col>std.error</th><th scope=col>statistic</th><th scope=col>p.value</th></tr>\n",
              "\t<tr><th scope=col>&lt;chr&gt;</th><th scope=col>&lt;dbl&gt;</th><th scope=col>&lt;dbl&gt;</th><th scope=col>&lt;dbl&gt;</th><th scope=col>&lt;dbl&gt;</th></tr>\n",
              "</thead>\n",
              "<tbody>\n",
              "\t<tr><td>(Intercept)</td><td>0.05592428</td><td>0.70102692</td><td>-4.1136176</td><td>3.895064e-05</td></tr>\n",
              "\t<tr><td>Estrés     </td><td>1.19802747</td><td>0.11390465</td><td> 1.5862076</td><td>1.126922e-01</td></tr>\n",
              "\t<tr><td>Ansiedad   </td><td>1.25751879</td><td>0.09764158</td><td> 2.3467519</td><td>1.893786e-02</td></tr>\n",
              "\t<tr><td>Depresión  </td><td>1.08480444</td><td>0.09883809</td><td> 0.8235664</td><td>4.101860e-01</td></tr>\n",
              "</tbody>\n",
              "</table>\n"
            ],
            "text/markdown": "\nA tibble: 4 × 5\n\n| term &lt;chr&gt; | estimate &lt;dbl&gt; | std.error &lt;dbl&gt; | statistic &lt;dbl&gt; | p.value &lt;dbl&gt; |\n|---|---|---|---|---|\n| (Intercept) | 0.05592428 | 0.70102692 | -4.1136176 | 3.895064e-05 |\n| Estrés      | 1.19802747 | 0.11390465 |  1.5862076 | 1.126922e-01 |\n| Ansiedad    | 1.25751879 | 0.09764158 |  2.3467519 | 1.893786e-02 |\n| Depresión   | 1.08480444 | 0.09883809 |  0.8235664 | 4.101860e-01 |\n\n",
            "text/latex": "A tibble: 4 × 5\n\\begin{tabular}{lllll}\n term & estimate & std.error & statistic & p.value\\\\\n <chr> & <dbl> & <dbl> & <dbl> & <dbl>\\\\\n\\hline\n\t (Intercept) & 0.05592428 & 0.70102692 & -4.1136176 & 3.895064e-05\\\\\n\t Estrés      & 1.19802747 & 0.11390465 &  1.5862076 & 1.126922e-01\\\\\n\t Ansiedad    & 1.25751879 & 0.09764158 &  2.3467519 & 1.893786e-02\\\\\n\t Depresión   & 1.08480444 & 0.09883809 &  0.8235664 & 4.101860e-01\\\\\n\\end{tabular}\n",
            "text/plain": [
              "  term        estimate   std.error  statistic  p.value     \n",
              "1 (Intercept) 0.05592428 0.70102692 -4.1136176 3.895064e-05\n",
              "2 Estrés      1.19802747 0.11390465  1.5862076 1.126922e-01\n",
              "3 Ansiedad    1.25751879 0.09764158  2.3467519 1.893786e-02\n",
              "4 Depresión   1.08480444 0.09883809  0.8235664 4.101860e-01"
            ]
          },
          "metadata": {}
        }
      ]
    }
  ]
}
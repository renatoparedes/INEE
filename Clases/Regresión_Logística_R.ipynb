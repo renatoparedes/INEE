{
  "nbformat": 4,
  "nbformat_minor": 0,
  "metadata": {
    "colab": {
      "provenance": []
    },
    "kernelspec": {
      "name": "ir",
      "display_name": "R"
    },
    "language_info": {
      "name": "R"
    }
  },
  "cells": [
    {
      "cell_type": "markdown",
      "metadata": {
        "id": "EHSQpRnWioaq"
      },
      "source": [
        "# Análisis de regresión logística"
      ]
    },
    {
      "cell_type": "code",
      "source": [
        "# @title Instalar y cargar paquetes\n",
        "install.packages(c(\"blorr\"))\n",
        "library(tidyverse)\n",
        "library(blorr)"
      ],
      "metadata": {
        "colab": {
          "base_uri": "https://localhost:8080/"
        },
        "id": "2BTotzbQmfHg",
        "outputId": "45ddc796-fbef-4646-b326-ea7b6a5ae740",
        "cellView": "form"
      },
      "execution_count": null,
      "outputs": [
        {
          "output_type": "stream",
          "name": "stderr",
          "text": [
            "Installing package into ‘/usr/local/lib/R/site-library’\n",
            "(as ‘lib’ is unspecified)\n",
            "\n",
            "also installing the dependencies ‘numDeriv’, ‘SparseM’, ‘MatrixModels’, ‘minqa’, ‘nloptr’, ‘RcppEigen’, ‘carData’, ‘abind’, ‘pbkrtest’, ‘quantreg’, ‘lme4’, ‘car’, ‘gridExtra’, ‘lest’, ‘Rcpp’\n",
            "\n",
            "\n",
            "── \u001b[1mAttaching core tidyverse packages\u001b[22m ──────────────────────── tidyverse 2.0.0 ──\n",
            "\u001b[32m✔\u001b[39m \u001b[34mdplyr    \u001b[39m 1.1.3     \u001b[32m✔\u001b[39m \u001b[34mreadr    \u001b[39m 2.1.4\n",
            "\u001b[32m✔\u001b[39m \u001b[34mforcats  \u001b[39m 1.0.0     \u001b[32m✔\u001b[39m \u001b[34mstringr  \u001b[39m 1.5.0\n",
            "\u001b[32m✔\u001b[39m \u001b[34mggplot2  \u001b[39m 3.4.3     \u001b[32m✔\u001b[39m \u001b[34mtibble   \u001b[39m 3.2.1\n",
            "\u001b[32m✔\u001b[39m \u001b[34mlubridate\u001b[39m 1.9.3     \u001b[32m✔\u001b[39m \u001b[34mtidyr    \u001b[39m 1.3.0\n",
            "\u001b[32m✔\u001b[39m \u001b[34mpurrr    \u001b[39m 1.0.2     \n",
            "── \u001b[1mConflicts\u001b[22m ────────────────────────────────────────── tidyverse_conflicts() ──\n",
            "\u001b[31m✖\u001b[39m \u001b[34mdplyr\u001b[39m::\u001b[32mfilter()\u001b[39m masks \u001b[34mstats\u001b[39m::filter()\n",
            "\u001b[31m✖\u001b[39m \u001b[34mdplyr\u001b[39m::\u001b[32mlag()\u001b[39m    masks \u001b[34mstats\u001b[39m::lag()\n",
            "\u001b[36mℹ\u001b[39m Use the conflicted package (\u001b[3m\u001b[34m<http://conflicted.r-lib.org/>\u001b[39m\u001b[23m) to force all conflicts to become errors\n"
          ]
        }
      ]
    },
    {
      "cell_type": "markdown",
      "metadata": {
        "id": "J1KVl6MEioay"
      },
      "source": [
        "# Ejercicio"
      ]
    },
    {
      "cell_type": "markdown",
      "metadata": {
        "id": "Ys806xq5ioaz"
      },
      "source": [
        "Un grupo de investigadores e investigadoras esperan que el estrés la ansiedad y la sintomatología de depresión contribuyan positivamente en los problemas de sueño de trabajadores médicos hospitalarios."
      ]
    },
    {
      "cell_type": "markdown",
      "metadata": {
        "id": "36Z0Pdrdioa0"
      },
      "source": [
        "HT: El estrés, la ansiedad y depresión contribuyen a los problemas de sueño de las/los trabajadores médicos de hospital\n",
        "\n",
        "\n",
        "*   $y$: Problemas de sueño (PS) [Cualitativa ordinal; 0 = No, 1 = Sí]\n",
        "*   $x_1$: Estrés (E)\n",
        "*   $x_2$: Ansiedad (A)\n",
        "*   $x_3$: Depresión (D)\n",
        "\n",
        "$Estrés \\\\\n",
        "H_{0}: β_{E} = 0 \\\\\n",
        "H_{1}: β_{E} > 0 \\\\\n",
        "Ansiedad \\\\\n",
        "H_{0}: β_{A} = 0 \\\\\n",
        "H_{1}: β_{A} > 0 \\\\\n",
        "Depresión \\\\\n",
        "H_{0}: β_{D} = 0 \\\\\n",
        "H_{1}: β_{D} > 0$\n",
        "\n",
        "Ecuación del modelo de regresión logística:\n",
        "\n",
        "$Logit (PS) = β_{0} - β_{E}X_{E} + β_{A}X_{A} + β_{D}X_{D}$"
      ]
    },
    {
      "cell_type": "code",
      "source": [
        "# @title Cargar datos\n",
        "df = haven::read_sav(\"https://github.com/renatoparedes/EstadisticaYPsicologiaMatematica/raw/main/INEE/Clase15_BaseRegresionLogistica.sav\")\n",
        "print(df, n = 10)"
      ],
      "metadata": {
        "colab": {
          "base_uri": "https://localhost:8080/"
        },
        "id": "uKj8782bi71Y",
        "outputId": "c209d282-ad0a-4c76-a636-d8db78d84ab8"
      },
      "execution_count": null,
      "outputs": [
        {
          "output_type": "stream",
          "name": "stdout",
          "text": [
            "\u001b[90m# A tibble: 100 × 7\u001b[39m\n",
            "   Código Sexo        Edad ProbSueño Estrés Ansiedad Depresión\n",
            "   \u001b[3m\u001b[90m<chr>\u001b[39m\u001b[23m  \u001b[3m\u001b[90m<dbl+lbl>\u001b[39m\u001b[23m  \u001b[3m\u001b[90m<dbl>\u001b[39m\u001b[23m \u001b[3m\u001b[90m<dbl+lbl>\u001b[39m\u001b[23m  \u001b[3m\u001b[90m<dbl>\u001b[39m\u001b[23m    \u001b[3m\u001b[90m<dbl>\u001b[39m\u001b[23m     \u001b[3m\u001b[90m<dbl>\u001b[39m\u001b[23m\n",
            "\u001b[90m 1\u001b[39m 001    0\u001b[90m [Mujer]\u001b[39m     40 1\u001b[90m [Sí]\u001b[39m         5        7         3\n",
            "\u001b[90m 2\u001b[39m 002    1\u001b[90m [Hombre]\u001b[39m    26 1\u001b[90m [Sí]\u001b[39m         8        6         1\n",
            "\u001b[90m 3\u001b[39m 003    1\u001b[90m [Hombre]\u001b[39m    19 0\u001b[90m [No]\u001b[39m         2        3         1\n",
            "\u001b[90m 4\u001b[39m 004    1\u001b[90m [Hombre]\u001b[39m    35 0\u001b[90m [No]\u001b[39m         2        1         2\n",
            "\u001b[90m 5\u001b[39m 005    1\u001b[90m [Hombre]\u001b[39m    35 0\u001b[90m [No]\u001b[39m         8        2         5\n",
            "\u001b[90m 6\u001b[39m 006    0\u001b[90m [Mujer]\u001b[39m     40 1\u001b[90m [Sí]\u001b[39m        10        4         7\n",
            "\u001b[90m 7\u001b[39m 007    0\u001b[90m [Mujer]\u001b[39m     58 0\u001b[90m [No]\u001b[39m         8        4         0\n",
            "\u001b[90m 8\u001b[39m 008    0\u001b[90m [Mujer]\u001b[39m     33 0\u001b[90m [No]\u001b[39m         2        9         2\n",
            "\u001b[90m 9\u001b[39m 009    1\u001b[90m [Hombre]\u001b[39m    32 1\u001b[90m [Sí]\u001b[39m         8        9         3\n",
            "\u001b[90m10\u001b[39m 010    0\u001b[90m [Mujer]\u001b[39m     53 1\u001b[90m [Sí]\u001b[39m         8       11         6\n",
            "\u001b[90m# ℹ 90 more rows\u001b[39m\n"
          ]
        }
      ]
    },
    {
      "cell_type": "code",
      "source": [
        "# @title Estimar el modelo\n",
        "df %>%\n",
        "  glm(ProbSueño ~ Estrés + Ansiedad + Depresión,\n",
        "      family = \"binomial\",\n",
        "      data = .) -> model1"
      ],
      "metadata": {
        "id": "YRLaD8xujsCO"
      },
      "execution_count": null,
      "outputs": []
    },
    {
      "cell_type": "code",
      "source": [
        "# @title $Prueba\\ de\\ Ommnibus$\n",
        "blorr::blr_model_fit_stats(model1) %>% unclass() %>% as_tibble() -> ajuste\n",
        "ajuste %>% select(starts_with(\"lr_\"))"
      ],
      "metadata": {
        "colab": {
          "base_uri": "https://localhost:8080/",
          "height": 129
        },
        "id": "L5nB8-tDdtlh",
        "outputId": "fda09e85-935b-49ca-8d05-b61ef4d173fc"
      },
      "execution_count": null,
      "outputs": [
        {
          "output_type": "display_data",
          "data": {
            "text/html": [
              "<table class=\"dataframe\">\n",
              "<caption>A tibble: 1 × 3</caption>\n",
              "<thead>\n",
              "\t<tr><th scope=col>lr_ratio</th><th scope=col>lr_pval</th><th scope=col>lr_df</th></tr>\n",
              "\t<tr><th scope=col>&lt;dbl&gt;</th><th scope=col>&lt;dbl&gt;</th><th scope=col>&lt;dbl&gt;</th></tr>\n",
              "</thead>\n",
              "<tbody>\n",
              "\t<tr><td>28.565</td><td>2.763898e-06</td><td>3</td></tr>\n",
              "</tbody>\n",
              "</table>\n"
            ],
            "text/markdown": "\nA tibble: 1 × 3\n\n| lr_ratio &lt;dbl&gt; | lr_pval &lt;dbl&gt; | lr_df &lt;dbl&gt; |\n|---|---|---|\n| 28.565 | 2.763898e-06 | 3 |\n\n",
            "text/latex": "A tibble: 1 × 3\n\\begin{tabular}{lll}\n lr\\_ratio & lr\\_pval & lr\\_df\\\\\n <dbl> & <dbl> & <dbl>\\\\\n\\hline\n\t 28.565 & 2.763898e-06 & 3\\\\\n\\end{tabular}\n",
            "text/plain": [
              "  lr_ratio lr_pval      lr_df\n",
              "1 28.565   2.763898e-06 3    "
            ]
          },
          "metadata": {}
        }
      ]
    },
    {
      "cell_type": "markdown",
      "source": [
        "$H_{0}: \\beta_{E} = \\beta_{A} = \\beta_{D} = 0 \\\\\n",
        "H_{1}: Al\\ menos\\ una\\ \\beta\\ es\\ diferente\\ de\\ 0$\n",
        "\n",
        "A partir de la prueba Omnibus, se observa que al menos una beta es diferente de cero, por lo que el modelo es adecuado para ser interpretado, $\\chi^2_{(3)} = 28.565, p < .001$"
      ],
      "metadata": {
        "id": "ZzJx9BpRfLdW"
      }
    },
    {
      "cell_type": "code",
      "source": [
        "# @title $R^2\\ de\\ Nagelkerke$\n",
        "ajuste %>% select(nagelkerke)"
      ],
      "metadata": {
        "colab": {
          "base_uri": "https://localhost:8080/",
          "height": 129
        },
        "id": "xObROZEmc3zh",
        "outputId": "d97f071d-38c3-479f-e397-2d639221bd68"
      },
      "execution_count": null,
      "outputs": [
        {
          "output_type": "display_data",
          "data": {
            "text/html": [
              "<table class=\"dataframe\">\n",
              "<caption>A tibble: 1 × 1</caption>\n",
              "<thead>\n",
              "\t<tr><th scope=col>nagelkerke</th></tr>\n",
              "\t<tr><th scope=col>&lt;dbl&gt;</th></tr>\n",
              "</thead>\n",
              "<tbody>\n",
              "\t<tr><td>0.3320105</td></tr>\n",
              "</tbody>\n",
              "</table>\n"
            ],
            "text/markdown": "\nA tibble: 1 × 1\n\n| nagelkerke &lt;dbl&gt; |\n|---|\n| 0.3320105 |\n\n",
            "text/latex": "A tibble: 1 × 1\n\\begin{tabular}{l}\n nagelkerke\\\\\n <dbl>\\\\\n\\hline\n\t 0.3320105\\\\\n\\end{tabular}\n",
            "text/plain": [
              "  nagelkerke\n",
              "1 0.3320105 "
            ]
          },
          "metadata": {}
        }
      ]
    },
    {
      "cell_type": "markdown",
      "source": [
        "\n",
        "\n",
        "*   Magnitud: grande\n",
        "*   % de Verosimilitud: 33.2\n",
        "\n",
        "El pseudo $R^2$ de Nagelkerke es grande y explica el 33.2% de la verosimilitud de tener un problema de sueño,$R^2_{Nagelkerke} = .332$.\n",
        "\n"
      ],
      "metadata": {
        "id": "1vFo8pb3f-kN"
      }
    },
    {
      "cell_type": "code",
      "source": [
        "# @title $Prueba\\ de\\ Hosmer\\ y\\ Lemeshow$\n",
        "blorr::blr_test_hosmer_lemeshow(model1) -> hl\n",
        "hl[-1] %>% as_tibble()"
      ],
      "metadata": {
        "colab": {
          "base_uri": "https://localhost:8080/",
          "height": 129
        },
        "id": "WXcfSumQg1VV",
        "outputId": "c31e1b2d-682f-4b19-b9c4-2f05523ca48a"
      },
      "execution_count": null,
      "outputs": [
        {
          "output_type": "display_data",
          "data": {
            "text/html": [
              "<table class=\"dataframe\">\n",
              "<caption>A tibble: 1 × 3</caption>\n",
              "<thead>\n",
              "\t<tr><th scope=col>chisq_stat</th><th scope=col>df</th><th scope=col>pvalue</th></tr>\n",
              "\t<tr><th scope=col>&lt;dbl&gt;</th><th scope=col>&lt;dbl&gt;</th><th scope=col>&lt;dbl&gt;</th></tr>\n",
              "</thead>\n",
              "<tbody>\n",
              "\t<tr><td>1.720681</td><td>8</td><td>0.9884107</td></tr>\n",
              "</tbody>\n",
              "</table>\n"
            ],
            "text/markdown": "\nA tibble: 1 × 3\n\n| chisq_stat &lt;dbl&gt; | df &lt;dbl&gt; | pvalue &lt;dbl&gt; |\n|---|---|---|\n| 1.720681 | 8 | 0.9884107 |\n\n",
            "text/latex": "A tibble: 1 × 3\n\\begin{tabular}{lll}\n chisq\\_stat & df & pvalue\\\\\n <dbl> & <dbl> & <dbl>\\\\\n\\hline\n\t 1.720681 & 8 & 0.9884107\\\\\n\\end{tabular}\n",
            "text/plain": [
              "  chisq_stat df pvalue   \n",
              "1 1.720681   8  0.9884107"
            ]
          },
          "metadata": {}
        }
      ]
    },
    {
      "cell_type": "markdown",
      "source": [
        "$H_{0}: valores\\ observados = valores\\ pronosticados \\\\\n",
        "H_{1}: valores\\ observados \\neq valores\\ pronosticados$\n",
        "\n",
        "A partir de la prueba de Hosmer y Lemeshow, se observa que los valores observados y estimados son iguales, $\\chi^2_{(8)} = 1.721, p = .988$"
      ],
      "metadata": {
        "id": "ikU5FvYJggW8"
      }
    },
    {
      "cell_type": "code",
      "source": [
        "# @title $Tabla\\ de\\ clasificación (aka\\ Confusion\\ matrix)$\n",
        "blorr::blr_confusion_matrix(model1, cutoff = 0.5) -> mc\n",
        "mc$conf_matrix %>% as_tibble()"
      ],
      "metadata": {
        "colab": {
          "base_uri": "https://localhost:8080/",
          "height": 223
        },
        "id": "ws-xD3iVc-qb",
        "outputId": "e4771f6b-4a58-42af-fe5b-024dc545855e"
      },
      "execution_count": null,
      "outputs": [
        {
          "output_type": "display_data",
          "data": {
            "text/html": [
              "<table class=\"dataframe\">\n",
              "<caption>A tibble: 4 × 3</caption>\n",
              "<thead>\n",
              "\t<tr><th scope=col>Prediction</th><th scope=col>Reference</th><th scope=col>n</th></tr>\n",
              "\t<tr><th scope=col>&lt;chr&gt;</th><th scope=col>&lt;chr&gt;</th><th scope=col>&lt;int&gt;</th></tr>\n",
              "</thead>\n",
              "<tbody>\n",
              "\t<tr><td>0</td><td>0</td><td>42</td></tr>\n",
              "\t<tr><td>1</td><td>0</td><td>12</td></tr>\n",
              "\t<tr><td>0</td><td>1</td><td>16</td></tr>\n",
              "\t<tr><td>1</td><td>1</td><td>30</td></tr>\n",
              "</tbody>\n",
              "</table>\n"
            ],
            "text/markdown": "\nA tibble: 4 × 3\n\n| Prediction &lt;chr&gt; | Reference &lt;chr&gt; | n &lt;int&gt; |\n|---|---|---|\n| 0 | 0 | 42 |\n| 1 | 0 | 12 |\n| 0 | 1 | 16 |\n| 1 | 1 | 30 |\n\n",
            "text/latex": "A tibble: 4 × 3\n\\begin{tabular}{lll}\n Prediction & Reference & n\\\\\n <chr> & <chr> & <int>\\\\\n\\hline\n\t 0 & 0 & 42\\\\\n\t 1 & 0 & 12\\\\\n\t 0 & 1 & 16\\\\\n\t 1 & 1 & 30\\\\\n\\end{tabular}\n",
            "text/plain": [
              "  Prediction Reference n \n",
              "1 0          0         42\n",
              "2 1          0         12\n",
              "3 0          1         16\n",
              "4 1          1         30"
            ]
          },
          "metadata": {}
        }
      ]
    },
    {
      "cell_type": "markdown",
      "source": [
        "\n",
        "*   La cantidad de aciertos cuando $y = 0 (No)$ es 42.\n",
        "*   La cantidad de fracasos cuando $y = 0 (No)$ es 12.\n",
        "*   La cantidad de fracasos cuando $y = 1 (Sí)$ es 16.\n",
        "*   La cantidad de aciertos cuando $y = 1 (Sí)$ es 30.\n",
        "\n",
        "\n"
      ],
      "metadata": {
        "id": "zjoJeubVmo78"
      }
    },
    {
      "cell_type": "code",
      "source": [
        "# @title $Especificidad, Sensitividad\\ y\\ Accuracy\\ (Porcentaje\\ Global)$\n",
        "mc[-3] %>% as_tibble() %>% select(accuracy, sensitivity, specificity)"
      ],
      "metadata": {
        "colab": {
          "base_uri": "https://localhost:8080/",
          "height": 129
        },
        "id": "ZPf-vr5Rhita",
        "outputId": "fc9d1f19-c18b-4a55-c868-81bf4a9987f7"
      },
      "execution_count": null,
      "outputs": [
        {
          "output_type": "display_data",
          "data": {
            "text/html": [
              "<table class=\"dataframe\">\n",
              "<caption>A tibble: 1 × 3</caption>\n",
              "<thead>\n",
              "\t<tr><th scope=col>accuracy</th><th scope=col>sensitivity</th><th scope=col>specificity</th></tr>\n",
              "\t<tr><th scope=col>&lt;dbl&gt;</th><th scope=col>&lt;dbl&gt;</th><th scope=col>&lt;dbl&gt;</th></tr>\n",
              "</thead>\n",
              "<tbody>\n",
              "\t<tr><td>0.72</td><td>0.6521739</td><td>0.7777778</td></tr>\n",
              "</tbody>\n",
              "</table>\n"
            ],
            "text/markdown": "\nA tibble: 1 × 3\n\n| accuracy &lt;dbl&gt; | sensitivity &lt;dbl&gt; | specificity &lt;dbl&gt; |\n|---|---|---|\n| 0.72 | 0.6521739 | 0.7777778 |\n\n",
            "text/latex": "A tibble: 1 × 3\n\\begin{tabular}{lll}\n accuracy & sensitivity & specificity\\\\\n <dbl> & <dbl> & <dbl>\\\\\n\\hline\n\t 0.72 & 0.6521739 & 0.7777778\\\\\n\\end{tabular}\n",
            "text/plain": [
              "  accuracy sensitivity specificity\n",
              "1 0.72     0.6521739   0.7777778  "
            ]
          },
          "metadata": {}
        }
      ]
    },
    {
      "cell_type": "markdown",
      "source": [
        "A nivel global, el modelo es adecuado para estimar los problemas de sueño ($Accuracy\\ o\\ Porcentaje\\ global = 72\\% > 65\\%$). No obstante, el modelo es mejor estimando la ausencia ($Especificidad = 77.8\\% > 65\\%$) que la presencia ($Sensitividad = 65.2\\% > .65\\%$) de un problema de sueño."
      ],
      "metadata": {
        "id": "panfHRNihCFj"
      }
    },
    {
      "cell_type": "code",
      "source": [
        "# @title $Coeficientes$\n",
        "model1 %>% broom::tidy() %>% mutate(p.unilateral = p.value/2)"
      ],
      "metadata": {
        "colab": {
          "base_uri": "https://localhost:8080/",
          "height": 223
        },
        "id": "-0ZA-AXXiYCH",
        "outputId": "137a7eb8-d754-4ab7-95e2-94db6f68ab0a"
      },
      "execution_count": null,
      "outputs": [
        {
          "output_type": "display_data",
          "data": {
            "text/html": [
              "<table class=\"dataframe\">\n",
              "<caption>A tibble: 4 × 6</caption>\n",
              "<thead>\n",
              "\t<tr><th scope=col>term</th><th scope=col>estimate</th><th scope=col>std.error</th><th scope=col>statistic</th><th scope=col>p.value</th><th scope=col>p.unilateral</th></tr>\n",
              "\t<tr><th scope=col>&lt;chr&gt;</th><th scope=col>&lt;dbl&gt;</th><th scope=col>&lt;dbl&gt;</th><th scope=col>&lt;dbl&gt;</th><th scope=col>&lt;dbl&gt;</th><th scope=col>&lt;dbl&gt;</th></tr>\n",
              "</thead>\n",
              "<tbody>\n",
              "\t<tr><td>(Intercept)</td><td>-2.88375669</td><td>0.70102692</td><td>-4.1136176</td><td>3.895064e-05</td><td>1.947532e-05</td></tr>\n",
              "\t<tr><td>Estrés     </td><td> 0.18067643</td><td>0.11390465</td><td> 1.5862076</td><td>1.126922e-01</td><td>5.634611e-02</td></tr>\n",
              "\t<tr><td>Ansiedad   </td><td> 0.22914056</td><td>0.09764158</td><td> 2.3467519</td><td>1.893786e-02</td><td>9.468931e-03</td></tr>\n",
              "\t<tr><td>Depresión  </td><td> 0.08139973</td><td>0.09883809</td><td> 0.8235664</td><td>4.101860e-01</td><td>2.050930e-01</td></tr>\n",
              "</tbody>\n",
              "</table>\n"
            ],
            "text/markdown": "\nA tibble: 4 × 6\n\n| term &lt;chr&gt; | estimate &lt;dbl&gt; | std.error &lt;dbl&gt; | statistic &lt;dbl&gt; | p.value &lt;dbl&gt; | p.unilateral &lt;dbl&gt; |\n|---|---|---|---|---|---|\n| (Intercept) | -2.88375669 | 0.70102692 | -4.1136176 | 3.895064e-05 | 1.947532e-05 |\n| Estrés      |  0.18067643 | 0.11390465 |  1.5862076 | 1.126922e-01 | 5.634611e-02 |\n| Ansiedad    |  0.22914056 | 0.09764158 |  2.3467519 | 1.893786e-02 | 9.468931e-03 |\n| Depresión   |  0.08139973 | 0.09883809 |  0.8235664 | 4.101860e-01 | 2.050930e-01 |\n\n",
            "text/latex": "A tibble: 4 × 6\n\\begin{tabular}{llllll}\n term & estimate & std.error & statistic & p.value & p.unilateral\\\\\n <chr> & <dbl> & <dbl> & <dbl> & <dbl> & <dbl>\\\\\n\\hline\n\t (Intercept) & -2.88375669 & 0.70102692 & -4.1136176 & 3.895064e-05 & 1.947532e-05\\\\\n\t Estrés      &  0.18067643 & 0.11390465 &  1.5862076 & 1.126922e-01 & 5.634611e-02\\\\\n\t Ansiedad    &  0.22914056 & 0.09764158 &  2.3467519 & 1.893786e-02 & 9.468931e-03\\\\\n\t Depresión   &  0.08139973 & 0.09883809 &  0.8235664 & 4.101860e-01 & 2.050930e-01\\\\\n\\end{tabular}\n",
            "text/plain": [
              "  term        estimate    std.error  statistic  p.value      p.unilateral\n",
              "1 (Intercept) -2.88375669 0.70102692 -4.1136176 3.895064e-05 1.947532e-05\n",
              "2 Estrés       0.18067643 0.11390465  1.5862076 1.126922e-01 5.634611e-02\n",
              "3 Ansiedad     0.22914056 0.09764158  2.3467519 1.893786e-02 9.468931e-03\n",
              "4 Depresión    0.08139973 0.09883809  0.8235664 4.101860e-01 2.050930e-01"
            ]
          },
          "metadata": {}
        }
      ]
    },
    {
      "cell_type": "markdown",
      "source": [
        "Ten en cuena que, dado que son hipótesis unilaterales, se ha creado una columna mas con los valores p unilaterales ($p.unilateral$ en la tabla de arriba). Con esta información, podemos pasar a analizar el resultado.\n",
        "\n",
        "|-|Estrés|Ansiedad|Depresión|\n",
        "|-|-|-|-|\n",
        "|Sig|.056 > .05|.01 < .05|.205 > .05|\n",
        "|Sentido|Positivo|Positivo|Positivo|\n",
        "\n",
        "Ecuación del modelo\n",
        "\n",
        "$logit(PS) = -2.88 + .18(E) + .23(A) + .08(D)$\n",
        "\n",
        "A partir del análisis de regresión logística, se observa que existe un modelo adecuado con un tamaño del efecto grande que explica el 33.2% de la verosimilitud de tener un problema de sueño, $R^2_{Nagelkerke} = .332, \\chi^2_{(3)} = 28.565, p < .001$. Específicamente, se encontró que, si bien la ansiedad, $B = .23, EE_{B} = .10, W_{(1)} = 2.35, p = .01$, resultó ser un predictor estadísticamente significativo y positivo de la ocurrencia de un problema de sueño, el estrés, $B = .18, EE_{B} = .11, W_{(1)} = 1.59, p = .056$, y la depresión, $B = .08, EE_{B} = .10, W_{(1)} = .82, p = .205$, no resultaron predictores estadísticamente significativos."
      ],
      "metadata": {
        "id": "wZsLMcHahnFg"
      }
    },
    {
      "cell_type": "code",
      "source": [
        "# @title $Odd\\ Ratio$\n",
        "model1 %>% broom::tidy(exponentiate = T, conf.int = T)"
      ],
      "metadata": {
        "colab": {
          "base_uri": "https://localhost:8080/",
          "height": 223
        },
        "id": "p8dik_V6itTB",
        "outputId": "1a7959bc-eb71-4982-d3fc-a556109ae183"
      },
      "execution_count": null,
      "outputs": [
        {
          "output_type": "display_data",
          "data": {
            "text/html": [
              "<table class=\"dataframe\">\n",
              "<caption>A tibble: 4 × 5</caption>\n",
              "<thead>\n",
              "\t<tr><th scope=col>term</th><th scope=col>estimate</th><th scope=col>std.error</th><th scope=col>statistic</th><th scope=col>p.value</th></tr>\n",
              "\t<tr><th scope=col>&lt;chr&gt;</th><th scope=col>&lt;dbl&gt;</th><th scope=col>&lt;dbl&gt;</th><th scope=col>&lt;dbl&gt;</th><th scope=col>&lt;dbl&gt;</th></tr>\n",
              "</thead>\n",
              "<tbody>\n",
              "\t<tr><td>(Intercept)</td><td>0.05592428</td><td>0.70102692</td><td>-4.1136176</td><td>3.895064e-05</td></tr>\n",
              "\t<tr><td>Estrés     </td><td>1.19802747</td><td>0.11390465</td><td> 1.5862076</td><td>1.126922e-01</td></tr>\n",
              "\t<tr><td>Ansiedad   </td><td>1.25751879</td><td>0.09764158</td><td> 2.3467519</td><td>1.893786e-02</td></tr>\n",
              "\t<tr><td>Depresión  </td><td>1.08480444</td><td>0.09883809</td><td> 0.8235664</td><td>4.101860e-01</td></tr>\n",
              "</tbody>\n",
              "</table>\n"
            ],
            "text/markdown": "\nA tibble: 4 × 5\n\n| term &lt;chr&gt; | estimate &lt;dbl&gt; | std.error &lt;dbl&gt; | statistic &lt;dbl&gt; | p.value &lt;dbl&gt; |\n|---|---|---|---|---|\n| (Intercept) | 0.05592428 | 0.70102692 | -4.1136176 | 3.895064e-05 |\n| Estrés      | 1.19802747 | 0.11390465 |  1.5862076 | 1.126922e-01 |\n| Ansiedad    | 1.25751879 | 0.09764158 |  2.3467519 | 1.893786e-02 |\n| Depresión   | 1.08480444 | 0.09883809 |  0.8235664 | 4.101860e-01 |\n\n",
            "text/latex": "A tibble: 4 × 5\n\\begin{tabular}{lllll}\n term & estimate & std.error & statistic & p.value\\\\\n <chr> & <dbl> & <dbl> & <dbl> & <dbl>\\\\\n\\hline\n\t (Intercept) & 0.05592428 & 0.70102692 & -4.1136176 & 3.895064e-05\\\\\n\t Estrés      & 1.19802747 & 0.11390465 &  1.5862076 & 1.126922e-01\\\\\n\t Ansiedad    & 1.25751879 & 0.09764158 &  2.3467519 & 1.893786e-02\\\\\n\t Depresión   & 1.08480444 & 0.09883809 &  0.8235664 & 4.101860e-01\\\\\n\\end{tabular}\n",
            "text/plain": [
              "  term        estimate   std.error  statistic  p.value     \n",
              "1 (Intercept) 0.05592428 0.70102692 -4.1136176 3.895064e-05\n",
              "2 Estrés      1.19802747 0.11390465  1.5862076 1.126922e-01\n",
              "3 Ansiedad    1.25751879 0.09764158  2.3467519 1.893786e-02\n",
              "4 Depresión   1.08480444 0.09883809  0.8235664 4.101860e-01"
            ]
          },
          "metadata": {}
        }
      ]
    },
    {
      "cell_type": "markdown",
      "source": [
        "Al colocar en la función $exponentiate = T, conf.int = T$ modificamos la columna de $estimate$ de modo que ahora nos indica el valor de $Odd\\ Ratio$. Esto se debe a que los odds simplemente son el resultado de la función exponencial de los betas.\n",
        "\n",
        "El coeficiente mas importante es el de la ansiedad, dado que tiene el odd ratio de mayor nivel, $Odd\\ ratio = 1.26$. Así, por cada punto adicional en ansiedad, hay 1.26 veces mas posibilidades de desarrollar un problema de sueño que a no desarrollarlo.\n",
        "\n",
        "De igual forma, se puede aplicar la siguiente fórmula: $(Odd\\ ratio - 1) * 100$\n",
        "\n",
        "Con el propósito de obtener el porcentaje de contribución de cada variable independiente."
      ],
      "metadata": {
        "id": "YpwOjcWnkO1O"
      }
    },
    {
      "cell_type": "code",
      "source": [
        "model1 %>% broom::tidy(exponentiate = T, conf.int = T) %>% mutate(perc = (estimate - 1) * 100)"
      ],
      "metadata": {
        "colab": {
          "base_uri": "https://localhost:8080/",
          "height": 223
        },
        "id": "CBBN1M_jk8P9",
        "outputId": "bd16eba5-196c-4010-9489-231242804769"
      },
      "execution_count": null,
      "outputs": [
        {
          "output_type": "display_data",
          "data": {
            "text/html": [
              "<table class=\"dataframe\">\n",
              "<caption>A tibble: 4 × 8</caption>\n",
              "<thead>\n",
              "\t<tr><th scope=col>term</th><th scope=col>estimate</th><th scope=col>std.error</th><th scope=col>statistic</th><th scope=col>p.value</th><th scope=col>conf.low</th><th scope=col>conf.high</th><th scope=col>perc</th></tr>\n",
              "\t<tr><th scope=col>&lt;chr&gt;</th><th scope=col>&lt;dbl&gt;</th><th scope=col>&lt;dbl&gt;</th><th scope=col>&lt;dbl&gt;</th><th scope=col>&lt;dbl&gt;</th><th scope=col>&lt;dbl&gt;</th><th scope=col>&lt;dbl&gt;</th><th scope=col>&lt;dbl&gt;</th></tr>\n",
              "</thead>\n",
              "<tbody>\n",
              "\t<tr><td>(Intercept)</td><td>0.05592428</td><td>0.70102692</td><td>-4.1136176</td><td>3.895064e-05</td><td>0.01261783</td><td>0.2017084</td><td>-94.407572</td></tr>\n",
              "\t<tr><td>Estrés     </td><td>1.19802747</td><td>0.11390465</td><td> 1.5862076</td><td>1.126922e-01</td><td>0.96019363</td><td>1.5066779</td><td> 19.802747</td></tr>\n",
              "\t<tr><td>Ansiedad   </td><td>1.25751879</td><td>0.09764158</td><td> 2.3467519</td><td>1.893786e-02</td><td>1.04974118</td><td>1.5450318</td><td> 25.751879</td></tr>\n",
              "\t<tr><td>Depresión  </td><td>1.08480444</td><td>0.09883809</td><td> 0.8235664</td><td>4.101860e-01</td><td>0.89309702</td><td>1.3213390</td><td>  8.480444</td></tr>\n",
              "</tbody>\n",
              "</table>\n"
            ],
            "text/markdown": "\nA tibble: 4 × 8\n\n| term &lt;chr&gt; | estimate &lt;dbl&gt; | std.error &lt;dbl&gt; | statistic &lt;dbl&gt; | p.value &lt;dbl&gt; | conf.low &lt;dbl&gt; | conf.high &lt;dbl&gt; | perc &lt;dbl&gt; |\n|---|---|---|---|---|---|---|---|\n| (Intercept) | 0.05592428 | 0.70102692 | -4.1136176 | 3.895064e-05 | 0.01261783 | 0.2017084 | -94.407572 |\n| Estrés      | 1.19802747 | 0.11390465 |  1.5862076 | 1.126922e-01 | 0.96019363 | 1.5066779 |  19.802747 |\n| Ansiedad    | 1.25751879 | 0.09764158 |  2.3467519 | 1.893786e-02 | 1.04974118 | 1.5450318 |  25.751879 |\n| Depresión   | 1.08480444 | 0.09883809 |  0.8235664 | 4.101860e-01 | 0.89309702 | 1.3213390 |   8.480444 |\n\n",
            "text/latex": "A tibble: 4 × 8\n\\begin{tabular}{llllllll}\n term & estimate & std.error & statistic & p.value & conf.low & conf.high & perc\\\\\n <chr> & <dbl> & <dbl> & <dbl> & <dbl> & <dbl> & <dbl> & <dbl>\\\\\n\\hline\n\t (Intercept) & 0.05592428 & 0.70102692 & -4.1136176 & 3.895064e-05 & 0.01261783 & 0.2017084 & -94.407572\\\\\n\t Estrés      & 1.19802747 & 0.11390465 &  1.5862076 & 1.126922e-01 & 0.96019363 & 1.5066779 &  19.802747\\\\\n\t Ansiedad    & 1.25751879 & 0.09764158 &  2.3467519 & 1.893786e-02 & 1.04974118 & 1.5450318 &  25.751879\\\\\n\t Depresión   & 1.08480444 & 0.09883809 &  0.8235664 & 4.101860e-01 & 0.89309702 & 1.3213390 &   8.480444\\\\\n\\end{tabular}\n",
            "text/plain": [
              "  term        estimate   std.error  statistic  p.value      conf.low  \n",
              "1 (Intercept) 0.05592428 0.70102692 -4.1136176 3.895064e-05 0.01261783\n",
              "2 Estrés      1.19802747 0.11390465  1.5862076 1.126922e-01 0.96019363\n",
              "3 Ansiedad    1.25751879 0.09764158  2.3467519 1.893786e-02 1.04974118\n",
              "4 Depresión   1.08480444 0.09883809  0.8235664 4.101860e-01 0.89309702\n",
              "  conf.high perc      \n",
              "1 0.2017084 -94.407572\n",
              "2 1.5066779  19.802747\n",
              "3 1.5450318  25.751879\n",
              "4 1.3213390   8.480444"
            ]
          },
          "metadata": {}
        }
      ]
    },
    {
      "cell_type": "markdown",
      "source": [
        "El resultado de la fórmula anterior se encuentra en la última columna denominada $perc$.\n",
        "\n",
        "Este análisis muestra que la ansiedad contribuye en un 25.8% a la ocurrencia de un problema de sueño."
      ],
      "metadata": {
        "id": "N1bcYeX2lGNs"
      }
    }
  ]
}
